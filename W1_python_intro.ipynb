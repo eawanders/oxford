{
  "nbformat": 4,
  "nbformat_minor": 0,
  "metadata": {
    "colab": {
      "provenance": [],
      "include_colab_link": true
    },
    "kernelspec": {
      "name": "python3",
      "display_name": "Python 3"
    },
    "language_info": {
      "name": "python"
    }
  },
  "cells": [
    {
      "cell_type": "markdown",
      "metadata": {
        "id": "view-in-github",
        "colab_type": "text"
      },
      "source": [
        "<a href=\"https://colab.research.google.com/github/electiondev/oxford/blob/main/W1_python_intro.ipynb\" target=\"_parent\"><img src=\"https://colab.research.google.com/assets/colab-badge.svg\" alt=\"Open In Colab\"/></a>"
      ]
    },
    {
      "cell_type": "markdown",
      "source": [
        "\n",
        "<img src=\"https://cdn.githubraw.com/antndlcrx/Intro-to-Python-DPIR/main/images/logo_dpir.png?raw=true:,  width=35\" alt=\"My Image\" width=175>\n",
        "\n",
        "# **Learning Python**\n",
        "\n",
        "\n",
        "In this weeks' class, we will look at basic Python concepts and operations. For that, we will do a fun expample of coding a mini turtle race 🐢\n",
        "\n",
        "This is an introductiory level notebook. It gives you a very basic overview and complements it with more in-depth tutorials and documentation that you are free to consult at your own time.\n",
        "\n",
        "## **Outcomes**\n",
        "\n",
        "You will get a basic introduction to the main Python concepts:\n",
        "- Classes and Methods\n",
        "- Variables\n",
        "- Functions\n",
        "- Data Types and Data Structures\n",
        "- Conditional Statements\n",
        "- For and While loops\n",
        "- Turtle Graphics module\n",
        "\n",
        "\n",
        "\n",
        "# **What is Python?**\n",
        "\n",
        "Python is a versatile, high-level programming language that supports multiple programming paradigms, including object-oriented, procedural, and functional programming. This flexibility makes Python suitable for a wide range of applications, from web development and data analysis to artificial intelligence and automation.\n",
        "\n",
        "\n",
        "## **Object-oriented programming (OOP)**\n",
        "\n",
        "**OOP** is a method of structuring a program by bundling related properties and behaviors into individual **objects**.\n",
        "\n",
        "In other programming paradigms, such as procedural programming, data and functions are typically separate. In OOP, objects encapsulate both data and behaviors.\n",
        "\n",
        "\n",
        "\n",
        "## **In Python, everything is an object**\n",
        "\n",
        "Every number, string, data structure, function, class, module, and more exist as objects with their own properties and behaviours. This uniform approach allows you to interact with all elements in a consistent way, using methods and attributes to manipulate them. For example, numbers, strings, and lists are all objects that come with built-in functions you can use directly.\n",
        "\n",
        "\n",
        " Each object has an associated type (e.g., integer, string, function) and internal data. This design makes Python highly flexible, allowing even functions and classes to be treated like any other object—meaning they can be passed around, modified, and used dynamically within the program.\n",
        "\n",
        "**Key concepts for OOP** (we will talk about those later in this course).\n",
        "\n",
        "- Classes: Blueprints for creating objects.\n",
        "- Instances: Individual objects created from classes.\n",
        "- Attributes: Data stored within objects.\n",
        "- Methods: Functions associated with objects that define behaviors.\n",
        "- Inheritance: Mechanism for creating new classes based on existing ones.\n",
        "- Encapsulation: Bundling data and methods within classes.\n",
        "- Polymorphism: Allowing objects to be treated as instances of their parent class."
      ],
      "metadata": {
        "id": "8UIYOJxRe24M"
      }
    },
    {
      "cell_type": "markdown",
      "source": [
        "# Learn Python with CollabTurtlePlus 🐢\n",
        "\n",
        "[ColabTurtlePlus](https://github.com/mathriddle/ColabTurtlePlus) is a *Pyhton module* that offers a graphical syntax for creating animations and drawings. It's an excellent tool to help you grasp the fundamentals of Python coding while having fun designing engaging graphics!\n",
        "\n",
        "CollabTurtlePlus is a Google Collab-based friend of the [turtle graphics](https://docs.python.org/3/library/turtle.html) python module. While both modules share similar syntax and core functionalities, CollabTurtlePlus introduces enhancements and differences in certain methods, such as screen handling and interactivity features. You can explore a detailed comparison in the [ColabTurtlePlus GitHub Repository](https://github.com/mathriddle/ColabTurtlePlus).\n",
        "\n",
        "\n",
        "For comprehensive information on the methods and functions, see the [Documentation for CollabTurtlePlus](https://larryriddle.agnesscott.org/ColabTurtlePlus/documentation2.html)."
      ],
      "metadata": {
        "id": "tUzbVGXBpCpt"
      }
    },
    {
      "cell_type": "code",
      "source": [
        "!pip install ColabTurtlePlus"
      ],
      "metadata": {
        "colab": {
          "base_uri": "https://localhost:8080/",
          "height": 0
        },
        "id": "yw4o3QcUno8j",
        "outputId": "9b92bb49-c1c7-4c89-fb50-aefed8c15668"
      },
      "execution_count": 1,
      "outputs": [
        {
          "output_type": "stream",
          "name": "stdout",
          "text": [
            "Collecting ColabTurtlePlus\n",
            "  Downloading ColabTurtlePlus-2.0.1-py3-none-any.whl.metadata (10 kB)\n",
            "Downloading ColabTurtlePlus-2.0.1-py3-none-any.whl (31 kB)\n",
            "Installing collected packages: ColabTurtlePlus\n",
            "Successfully installed ColabTurtlePlus-2.0.1\n"
          ]
        }
      ]
    },
    {
      "cell_type": "markdown",
      "source": [
        "In this tutorial, we will do a project \"Turtle Race\": making a set of digital turtles to race against each other and determine the winner. You can interact with the final version of this project below. Do not worry if the code looks daunting, it is certainly much simpler than it might look, and we will cover all the necessary steps one-by-one."
      ],
      "metadata": {
        "id": "U6oZqdac5JQK"
      }
    },
    {
      "cell_type": "code",
      "source": [
        "#@title Turtle Race\n",
        "import ColabTurtlePlus.Turtle as ct\n",
        "import random\n",
        "\n",
        "WIDTH, HEIGHT = 500, 500 # constants\n",
        "COLORS = ['green', 'blue', 'orange', 'yellow', 'red', 'pink', 'black', 'cyan','brown', 'purple']\n",
        "\n",
        "def get_number_of_turtles():\n",
        "    turtles = 0\n",
        "    while True:\n",
        "        turtles = input('Enter the number of racing turtles (2-10): ')\n",
        "        if turtles.isdigit():\n",
        "            turtles = int(turtles)\n",
        "        else:\n",
        "            print('Please input a numeric value!')\n",
        "            continue\n",
        "\n",
        "        if 2 <= turtles <=10:\n",
        "            return turtles\n",
        "        else:\n",
        "            print(f'{turtles} not in range [2-10]. Try again!')\n",
        "            continue\n",
        "\n",
        "\n",
        "def init_turtle():\n",
        "    ct.clearscreen()\n",
        "    ct.initializeTurtle((WIDTH, HEIGHT))\n",
        "\n",
        "\n",
        "\n",
        "def create_turtles(colors):\n",
        "    turtles = []\n",
        "    spacingx = WIDTH // (len(colors) + 1)\n",
        "    for i, color in enumerate(colors):\n",
        "        racer = ct.Turtle()\n",
        "        racer.color(color)\n",
        "        racer.speed(6)\n",
        "        racer.shape('turtle2')\n",
        "        racer.left(90)\n",
        "        racer.penup()\n",
        "        racer.goto(-WIDTH//2 + (i+1) * spacingx,\n",
        "                   -HEIGHT//2 + 20) # setpos(x,y) | setposition(x,y)\n",
        "        racer.pendown()\n",
        "        turtles.append(racer)\n",
        "    return turtles\n",
        "\n",
        "\n",
        "def race(colors):\n",
        "    turtles = create_turtles(colors)\n",
        "\n",
        "    while True:\n",
        "        for racer in turtles:\n",
        "            distance = random.randrange(1, 20)\n",
        "            racer.forward(distance)\n",
        "\n",
        "            x, y = racer.position()\n",
        "            if y >= HEIGHT // 2 - 10:\n",
        "                return colors[turtles.index(racer)]\n",
        "\n",
        "\n",
        "\n",
        "racers = get_number_of_turtles()\n",
        "init_turtle()\n",
        "random.shuffle(COLORS)\n",
        "colors = COLORS[:racers]\n",
        "# create_turtles(colors)\n",
        "winner = race(colors)\n",
        "print(f'{winner.capitalize()} turtle is the winner 🎉🎉🎉')"
      ],
      "metadata": {
        "id": "tLY4R-xzWgHN",
        "cellView": "form"
      },
      "execution_count": null,
      "outputs": []
    },
    {
      "cell_type": "markdown",
      "source": [
        "Credit: [Tech With Tim](https://www.youtube.com/watch?v=gQP0geNsO4A)."
      ],
      "metadata": {
        "id": "C4OhRR_bvs98"
      }
    },
    {
      "cell_type": "markdown",
      "source": [
        "## Set Up"
      ],
      "metadata": {
        "id": "mQwMOvKu06F9"
      }
    },
    {
      "cell_type": "markdown",
      "source": [
        "## Python Modules\n",
        "\n",
        "In Python, a module is a file containing Python definitions and statements. The file name serves as the module name with the suffix `.py` added. Modules allow you to organize your Python code logically, making it easier to understand and maintain by grouping related functions, classes, and variables together.\n",
        "\n",
        "### Why Use Modules?\n",
        "\n",
        "- **Reusability**: Modules enable you to reuse code across different parts of your project or even in different projects.\n",
        "- **Organisation**: They help in structuring your codebase, making it more manageable and scalable.   \n",
        "- **Namespace Management**: Modules provide a separate namespace, reducing the risk of name conflicts.\n",
        "\n",
        "### Importing Modules\n",
        "\n",
        "The `import` statement in Python is used to bring functions, classes, or variables from other modules into your current namespace. This allows you to access and utilize functionality defined in different files.\n",
        "\n",
        "\n",
        "\n",
        "```\n",
        "import math\n",
        "\n",
        "result = math.sqrt(16)\n",
        "print(result)  # Outputs: 4.0\n",
        "\n",
        "```\n",
        "\n",
        "When you use the `from` keyword with `import`, you can import specific attributes or functions from a module, directly into your current namespace. This means you won't need to prefix your calls to these functions or classes with the module name.\n",
        "\n",
        "```\n",
        "from math import sqrt, pi\n",
        "print(pi)  # Outputs: 3.141592653589793\n",
        "```\n",
        "\n",
        "The asterisk (`*`) is used in Python to import all objects from a module. It's a **wildcard** that says \"*import everything*\".\n",
        "\n",
        "⚠️ Warning: Using the asterisk (*) to import all objects from a module is generally discouraged, especially in larger projects. It can lead to:\n",
        "\n",
        "- **Name Conflicts**: Different modules might have functions or variables with the same name, causing unexpected behavior.\n",
        "- **Reduced Readability**: It's harder to determine which module a particular function or variable comes from, making the code less clear.\n",
        "\n",
        "\n",
        "```\n",
        "from math import *\n",
        "result = sqrt(16)\n",
        "print(pi)\n",
        "```\n",
        "\n",
        "### Best Practices\n",
        "- Avoid Wildcard Imports (`*`)\n",
        "- Import What You Need\n",
        "    - Specify the exact functions, classes, or variables you intend to use.\n",
        "    - This enhances code clarity.\n",
        "- Use Aliases for Long Module Names\n",
        "- Organise Imports\n",
        "    - Place all import statements at the beginning of your Python file.\n",
        "    - Group standard library imports, third-party imports, and local application imports separately.\n",
        "\n"
      ],
      "metadata": {
        "id": "l3zDfDxyhG4x"
      }
    },
    {
      "cell_type": "code",
      "source": [
        "import ColabTurtlePlus.Turtle as ct"
      ],
      "metadata": {
        "id": "_ORPR09-9NSk",
        "colab": {
          "base_uri": "https://localhost:8080/",
          "height": 0
        },
        "outputId": "c0fe402a-817f-4751-fb1d-7759d182be19"
      },
      "execution_count": 4,
      "outputs": [
        {
          "output_type": "stream",
          "name": "stdout",
          "text": [
            "Put clearscreen() as the first line in a cell (after the import command) to re-run turtle commands in the cell\n"
          ]
        }
      ]
    },
    {
      "cell_type": "markdown",
      "source": [
        "## Python Variables 🧮\n",
        "\n",
        "**Variables** in Python are symbolic names that reference data stored in your computer's memory. Think of them as labels attached to boxes, where each box can hold a value. This analogy helps illustrate how variables point to data without containing the data themselves.\n",
        "\n",
        "### Understanding Variables\n",
        "\n",
        "Variables allow you to store and manipulate data in your programs. The data they reference can be of various types, such as:\n",
        "\n",
        "- Integers (`int`): Whole numbers, e.g., `5`, `-3`\n",
        "- Floating-point numbers (`float`): Numbers with decimals, e.g., `3.14`, `-0.001`\n",
        "- Strings (`str`): Text, e.g., `\"Hello, World!\"`\n",
        "- Lists (`list`): Ordered collections, e.g., `[1, 2, 3]`\n",
        "- Dictionaries (`dict`): Key-value pairs, e.g., `{'name': 'Alice', 'age': 25}`\n",
        "- Others: Tuples, sets, custom objects, and more\n",
        "\n",
        "### Dynamic Typing in Python\n",
        "\n",
        "Python is dynamically typed, meaning you don't need to declare a variable's type explicitly. The Python interpreter automatically determines the type based on the value you assign to the variable.\n",
        "\n",
        "\n",
        "\n",
        "```\n",
        "# Example of dynamic typing\n",
        "x = 10          # x is an integer\n",
        "print(x)        # Outputs: 10\n",
        "\n",
        "x = \"Hello\"     # Now, x is a string\n",
        "print(x)        # Outputs: Hello\n",
        "\n",
        "x = [1, 2, 3]   # Now, x is a list\n",
        "print(x)        # Outputs: [1, 2, 3]\n",
        "```\n",
        "\n",
        "### Assigning Values to Variables\n",
        "\n",
        "You can create or modify a variable by assigning a value to it using the equals sign (`=`).\n",
        "\n",
        "\n",
        "\n",
        "```\n",
        "a = 5\n",
        "b = 3.14\n",
        "c = \"Python\"\n",
        "d = [1, 2, 3]\n",
        "e = {'key': 'value'}\n",
        "```\n",
        "\n",
        "In Python, variables don't contain the actual data but rather **references to objects in memory**. Assigning the same object to multiple variables doesn't create copies; instead, all variables point to the same object.\n"
      ],
      "metadata": {
        "id": "R7uqxikoPr3r"
      }
    },
    {
      "cell_type": "code",
      "source": [
        "a = [1, 2, 3]\n",
        "b = a # references the same object as \"a\"!\n",
        "b"
      ],
      "metadata": {
        "id": "ERyhqsyhBc3Y",
        "outputId": "4106f43b-707b-4d42-8539-b5759585fd66",
        "colab": {
          "base_uri": "https://localhost:8080/"
        }
      },
      "execution_count": null,
      "outputs": [
        {
          "output_type": "execute_result",
          "data": {
            "text/plain": [
              "[1, 2, 3]"
            ]
          },
          "metadata": {},
          "execution_count": 4
        }
      ]
    },
    {
      "cell_type": "code",
      "source": [
        "a.append(4)\n",
        "b"
      ],
      "metadata": {
        "id": "JdlGRsWTBqhZ",
        "outputId": "7db21d1e-a636-4f81-cddf-d15a1998ff12",
        "colab": {
          "base_uri": "https://localhost:8080/"
        }
      },
      "execution_count": null,
      "outputs": [
        {
          "output_type": "execute_result",
          "data": {
            "text/plain": [
              "[1, 2, 3, 4]"
            ]
          },
          "metadata": {},
          "execution_count": 5
        }
      ]
    },
    {
      "cell_type": "markdown",
      "source": [
        "### Variable Naming\n",
        "\n",
        "- **Descriptive Names**: Choose meaningful names that describe the variable's purpose, e.g., `age`, `total_score`.\n",
        "- **Case Sensitivity**: Python is case-sensitive. `Variable`, `variable`, and `VARIABLE` are distinct.\n",
        "- **Allowed Characters**: Use letters, numbers, and underscores. Variable names cannot start with a number.\n",
        "\n",
        "\n",
        "### Scope of Variables\n",
        "Variables have different scopes depending on where they are defined:\n",
        "\n",
        "- **Global Variables**: Defined outside functions and accessible throughout the entire program.\n",
        "- **Local Variables**: Defined within functions and accessible only within those functions."
      ],
      "metadata": {
        "id": "J4DFueD3CLCm"
      }
    },
    {
      "cell_type": "code",
      "source": [
        "WIDTH, HEIGHT = 500, 500 # Capital letters for constants\n",
        "\n",
        "\n",
        "ct.clearscreen()\n",
        "ct.initializeTurtle((WIDTH, HEIGHT))\n",
        "\n",
        "\n",
        "bob = ct.Turtle()\n",
        "bob.shape('turtle')"
      ],
      "metadata": {
        "colab": {
          "base_uri": "https://localhost:8080/",
          "height": 521
        },
        "id": "ncvqzlCmwRSH",
        "outputId": "9a9ccd98-b422-4131-f0f9-a53f2ab729f2"
      },
      "execution_count": 5,
      "outputs": [
        {
          "output_type": "display_data",
          "data": {
            "text/plain": [
              "<IPython.core.display.HTML object>"
            ],
            "text/html": [
              "\n",
              "      <svg width=\"500\" height=\"500\">  \n",
              "        <rect width=\"100%\" height=\"100%\" style=\"fill:white;stroke:;stroke-width:1\"/>\n",
              "        \n",
              "        \n",
              "        \n",
              "        \n",
              "        \n",
              "        <g id=\"turtle\" visibility=\"visible\" transform=\"rotate(90,250.0,250.0) translate(250.0, 250.0)\">\n",
              "<path style=\"stroke:black;fill-rule:evenodd;fill:black;fill-opacity:1;\" transform=\"skewX(0) scale(1,1)\" d=\"m 1.1536693,-18.56101 c -2.105469,1.167969 -3.203125,3.441407 -3.140625,6.5 l 0.011719,0.519532 -0.300782,-0.15625 c -1.308594,-0.671875 -2.828125,-0.824219 -4.378906,-0.429688 -1.9375,0.484375 -3.8906253,2.089844 -6.0117193,4.9257825 -1.332031,1.785156 -1.714843,2.644531 -1.351562,3.035156 l 0.113281,0.125 h 0.363281 c 0.71875,0 1.308594,-0.265625 4.6679693,-2.113282 1.199219,-0.660156 2.183594,-1.199218 2.191406,-1.199218 0.00781,0 -0.023437,0.089844 -0.074218,0.195312 -0.472657,1.058594 -1.046876,2.785156 -1.335938,4.042969 -1.054688,4.574219 -0.351562,8.453125 2.101562,11.582031 0.28125,0.355469 0.292969,0.253906 -0.097656,0.722656 -2.046875,2.4609375 -3.027344,4.8984375 -2.734375,6.8046875 0.050781,0.339844 0.042969,0.335938 0.679688,0.335938 2.023437,0 4.15625,-1.316407 6.21875,-3.835938 0.222656,-0.269531 0.191406,-0.261719 0.425781,-0.113281 0.730469,0.46875 2.460938,1.390625 2.613281,1.390625 0.160157,0 1.765625,-0.753906 2.652344,-1.246094 0.167969,-0.09375 0.308594,-0.164062 0.308594,-0.160156 0.066406,0.105468 0.761719,0.855468 1.085937,1.171875 1.613282,1.570312 3.339844,2.402343 5.3593747,2.570312 0.324219,0.02734 0.355469,0.0078 0.425781,-0.316406 0.375,-1.742187 -0.382812,-4.058594 -2.1445307,-6.5585935 l -0.320312,-0.457031 0.15625,-0.183594 c 3.2460927,-3.824218 3.4335927,-9.08593704 0.558593,-15.816406 l -0.050781,-0.125 1.7382807,0.859375 c 3.585938,1.773437 4.371094,2.097656 5.085938,2.097656 0.945312,0 0.75,-0.863281 -0.558594,-2.507812 C 11.458356,-11.838353 8.3333563,-13.268041 4.8607003,-11.721166 l -0.363281,0.164063 0.019531,-0.09375 c 0.121094,-0.550781 0.183594,-1.800781 0.121094,-2.378907 -0.203125,-1.867187 -1.035157,-3.199218 -2.695313,-4.308593 -0.523437,-0.351563 -0.546875,-0.355469 -0.789062,-0.222657\" />\n",
              "</g>\n",
              "      </svg>\n",
              "    "
            ]
          },
          "metadata": {}
        }
      ]
    },
    {
      "cell_type": "markdown",
      "source": [
        "## Initialising the Turtle Environment 🐢\n",
        "\n",
        "\n",
        "Use `initializeTurtle()` command to initialise the screen and the turtle objects. `initializeTurtle()` has two *optional arguments*, namley `window` which is a *tuple* storing screen width and screen height parameters, and `mode` parameter which determines behaviour of Turtle objects (sich as coordinate system). **We do not have to worry about any of these and will settle with default parameters**.\n",
        "\n",
        "If you want, you can adjust the screen size by specifying `initializeTurtle(window=(700, 500))` to your personal preference. Or, change background color with `bgcolor('black')`.\n",
        "\n",
        "*Note*: Because variables preserve their values in Colab and Jupyter cells until the runtime is restarted, it is recommended to include `clearscreen()` as the first line in any Colab or Jupyter cell that is expected to be re-run more than once to clear all turtles before the next execution.\n",
        "\n",
        "Check [documentation](https://larryriddle.agnesscott.org/ColabTurtlePlus/documentation2.html) for more comands and options."
      ],
      "metadata": {
        "id": "ofPHDGNvvazl"
      }
    },
    {
      "cell_type": "markdown",
      "source": [
        "## A Note on Python Classes\n",
        "\n",
        "The `Turtle()` part of the statement above calls the constructor of the Turtle class to create a new instance of this class.\n",
        "\n",
        "In turtle graphics, a **Turtle** represents a cursor or a \"turtle\" that can move around the screen, drawing lines, shapes, and patterns. The `Turtle` class contains methods that allow this cursor to move forward, backward, turn, and lift or drop the pen, among other actions to draw.\n",
        "\n",
        "The `bob =` part of the statement assigns the newly created Turtle instance to a variable named `bob`. This variable acts as a reference to the turtle object, and you can use it to call methods associated with the Turtle class. For example, `bob.forward(100)` makes the turtle move forward by 100 pixels on the screen, drawing a line if the pen is down.\n",
        "\n",
        "\n",
        "### Classes\n",
        "A **class** is a blueprint for creating objects. It provides initial values for attributes and implementations of methods (behavior). **Classes define the kind of data an object will hold and what operations can be performed on that data**.\n",
        "\n",
        "\n",
        "\n",
        "```\n",
        "# This code defines Turtle class\n",
        "class Turtle:\n",
        "    def __init__(self, color):\n",
        "        self.color = color\n",
        "    \n",
        "    def forward(self, distance):\n",
        "        ...\n",
        "```\n",
        "\n",
        "\n",
        "### Methods\n",
        "A **method** is a function that is associated with an object. In Python, methods are defined within a class and are meant to be called on instances of that class (objects). Methods implicitly take the object they are called on as their first argument, traditionally named `self`.\n",
        "\n",
        "\n",
        "```\n",
        "class Turtle:\n",
        "    def forward(self, distance):\n",
        "        print(f\"Moving forward by {distance} pixels\")\n",
        "        \n",
        "bob = Turtle()\n",
        "bob.forward(100)  \n",
        "```\n",
        "\n",
        "\n",
        "\n",
        "### Functions\n",
        "A **function** is a block of code that performs a specific task and can be reused. Functions can take inputs, process them, and return outputs. In Python, functions are not necessarily part of a class and can exist *independently*.\n",
        "\n",
        "```\n",
        "def greet(name):\n",
        "    return f\"Hello, {name}!\"\n",
        "\n",
        "print(greet(\"Alice\"))  # Outputs: Hello, Alice!\n",
        "\n",
        "```\n",
        "\n"
      ],
      "metadata": {
        "id": "y_rMEAYpk4mT"
      }
    },
    {
      "cell_type": "markdown",
      "source": [
        "## Your turtle's First steps\n",
        "\n",
        "\n",
        "| Command | Alias(es) | Description |\n",
        "|---------|-----------|-------------|\n",
        "| forward(units) | fd(units) | Moves the turtle in the direction it is facing, by units pixels |\n",
        "| backward(units) | bk(units), back(units) | Moves the turtle in the opposite of the direction it is facing, by units pixels |\n",
        "| right(degrees) | rt(degrees) | Turns the turtle to right by the given degrees |\n",
        "| left(degrees) | lt(degrees) | Turns the turtle to left by the given degrees |\n",
        "\n",
        "These commands govern how a turtle would move on the canvas. The canvas (or screen) is a coordinate system, with the center (where the turtle starts by default) is at (0, 0).\n",
        "\n",
        "Canvas boundaries are determined by the width and height parameters we set up. If height is 500, the upper boundary of the canvas will be 250, lower boundary - 250.  "
      ],
      "metadata": {
        "id": "kJFOcOUp3UDV"
      }
    },
    {
      "cell_type": "markdown",
      "source": [
        "## Ask Bob to draw a Square!"
      ],
      "metadata": {
        "id": "lHgas3cI66JI"
      }
    },
    {
      "cell_type": "code",
      "source": [
        "ct.clearscreen()\n",
        "ct.initializeTurtle((WIDTH, HEIGHT))\n",
        "\n",
        "bob = ct.Turtle()\n",
        "bob.shape('turtle')\n",
        "\n",
        "# your code #\n",
        "\n",
        "bob.forward(100)\n",
        "bob.right(90)\n",
        "bob.forward(100)\n",
        "bob.right(90)\n",
        "bob.forward(100)\n",
        "bob.right(90)"
      ],
      "metadata": {
        "id": "7g2EMo3Dw5Od",
        "outputId": "91db0e3a-02cb-458a-bfc2-397e83c2aa51",
        "colab": {
          "base_uri": "https://localhost:8080/",
          "height": 521
        }
      },
      "execution_count": 10,
      "outputs": [
        {
          "output_type": "display_data",
          "data": {
            "text/plain": [
              "<IPython.core.display.HTML object>"
            ],
            "text/html": [
              "\n",
              "      <svg width=\"500\" height=\"500\">  \n",
              "        <rect width=\"100%\" height=\"100%\" style=\"fill:white;stroke:;stroke-width:1\"/>\n",
              "        \n",
              "        \n",
              "        <line x1=\"250.0\" y1=\"250.0\" x2=\"350.0\" y2=\"250.0\" stroke-linecap=\"round\" style=\"stroke:black;stroke-width:1\" /><line x1=\"350.0\" y1=\"250.0\" x2=\"350.0\" y2=\"350.0\" stroke-linecap=\"round\" style=\"stroke:black;stroke-width:1\" /><line x1=\"350.0\" y1=\"350.0\" x2=\"350.0\" y2=\"450.0\" stroke-linecap=\"round\" style=\"stroke:black;stroke-width:1\" /><line x1=\"350.0\" y1=\"450.0\" x2=\"250.0\" y2=\"450.0\" stroke-linecap=\"round\" style=\"stroke:black;stroke-width:1\" />\n",
              "        \n",
              "        \n",
              "        <g id=\"turtle\" visibility=\"visible\" transform=\"rotate(270,250.0,450.0) translate(250.0, 450.0)\">\n",
              "<path style=\"stroke:black;fill-rule:evenodd;fill:black;fill-opacity:1;\" transform=\"skewX(0) scale(1,1)\" d=\"m 1.1536693,-18.56101 c -2.105469,1.167969 -3.203125,3.441407 -3.140625,6.5 l 0.011719,0.519532 -0.300782,-0.15625 c -1.308594,-0.671875 -2.828125,-0.824219 -4.378906,-0.429688 -1.9375,0.484375 -3.8906253,2.089844 -6.0117193,4.9257825 -1.332031,1.785156 -1.714843,2.644531 -1.351562,3.035156 l 0.113281,0.125 h 0.363281 c 0.71875,0 1.308594,-0.265625 4.6679693,-2.113282 1.199219,-0.660156 2.183594,-1.199218 2.191406,-1.199218 0.00781,0 -0.023437,0.089844 -0.074218,0.195312 -0.472657,1.058594 -1.046876,2.785156 -1.335938,4.042969 -1.054688,4.574219 -0.351562,8.453125 2.101562,11.582031 0.28125,0.355469 0.292969,0.253906 -0.097656,0.722656 -2.046875,2.4609375 -3.027344,4.8984375 -2.734375,6.8046875 0.050781,0.339844 0.042969,0.335938 0.679688,0.335938 2.023437,0 4.15625,-1.316407 6.21875,-3.835938 0.222656,-0.269531 0.191406,-0.261719 0.425781,-0.113281 0.730469,0.46875 2.460938,1.390625 2.613281,1.390625 0.160157,0 1.765625,-0.753906 2.652344,-1.246094 0.167969,-0.09375 0.308594,-0.164062 0.308594,-0.160156 0.066406,0.105468 0.761719,0.855468 1.085937,1.171875 1.613282,1.570312 3.339844,2.402343 5.3593747,2.570312 0.324219,0.02734 0.355469,0.0078 0.425781,-0.316406 0.375,-1.742187 -0.382812,-4.058594 -2.1445307,-6.5585935 l -0.320312,-0.457031 0.15625,-0.183594 c 3.2460927,-3.824218 3.4335927,-9.08593704 0.558593,-15.816406 l -0.050781,-0.125 1.7382807,0.859375 c 3.585938,1.773437 4.371094,2.097656 5.085938,2.097656 0.945312,0 0.75,-0.863281 -0.558594,-2.507812 C 11.458356,-11.838353 8.3333563,-13.268041 4.8607003,-11.721166 l -0.363281,0.164063 0.019531,-0.09375 c 0.121094,-0.550781 0.183594,-1.800781 0.121094,-2.378907 -0.203125,-1.867187 -1.035157,-3.199218 -2.695313,-4.308593 -0.523437,-0.351563 -0.546875,-0.355469 -0.789062,-0.222657\" />\n",
              "<animateTransform id = \"one\" attributeName=\"transform\" \n",
              "                      type=\"scale\"\n",
              "                      from=\"1 1\" to=\"1 1\"\n",
              "                      begin=\"0s\" dur=\"0.01s\"\n",
              "                      repeatCount=\"1\"\n",
              "                      additive=\"sum\"\n",
              "                      fill=\"freeze\"\n",
              "                /><animateTransform attributeName=\"transform\"\n",
              "                    type=\"rotate\"\n",
              "                    from=\"0 0 0\" to =\"90 0 0\"\n",
              "                    begin=\"one.end\" dur=\"0.25s\"\n",
              "                    repeatCount=\"1\"\n",
              "                    additive=\"sum\"\n",
              "                    fill=\"freeze\"\n",
              "                /></g>\n",
              "      </svg>\n",
              "    "
            ]
          },
          "metadata": {}
        }
      ]
    },
    {
      "cell_type": "code",
      "source": [
        "# how about a triangle?\n",
        "\n",
        "ct.clearscreen()\n",
        "ct.initializeTurtle((WIDTH, HEIGHT))\n",
        "\n",
        "bob = ct.Turtle()\n",
        "bob.shape('turtle')\n",
        "\n",
        "# your code #\n"
      ],
      "metadata": {
        "id": "-2jkiEntzRBn"
      },
      "execution_count": null,
      "outputs": []
    },
    {
      "cell_type": "markdown",
      "source": [
        "## A note on For and While Loops\n",
        "\n",
        "**Iteration** means executing the same block of code over and over, potentially many times. A programming structure that implements iteration is called a **loop**.\n",
        "\n",
        "- With indefinite iteration, the number of times the loop is executed isn’t specified explicitly in advance. Rather, the designated block is executed repeatedly as long as some condition is met.\n",
        "\n",
        "- With definite iteration, the number of times the designated block will be executed is specified explicitly at the time the loop starts.\n",
        "\n",
        "for more, see:\n",
        "- [tutorial on while loop](https://realpython.com/python-while-loop/)\n",
        "- [tutorial on for loop](https://realpython.com/python-for-loop/)"
      ],
      "metadata": {
        "id": "Cl2XBMMwNPQG"
      }
    },
    {
      "cell_type": "code",
      "source": [
        "ct.clearscreen()\n",
        "ct.initializeTurtle((WIDTH, HEIGHT))\n",
        "\n",
        "bob = ct.Turtle()\n",
        "bob.shape('turtle')\n",
        "\n",
        "# remember indentation!\n",
        "for i in range(4): # euqivalent to \"for i in (0, 1, 2, 3)\"\n",
        "  bob.forward(25)\n",
        "  bob.right(90)\n",
        ""
      ],
      "metadata": {
        "colab": {
          "base_uri": "https://localhost:8080/",
          "height": 521
        },
        "id": "KeFk8VPnOh0f",
        "outputId": "8477862c-7621-437e-a903-468c6ad5c971"
      },
      "execution_count": 15,
      "outputs": [
        {
          "output_type": "display_data",
          "data": {
            "text/plain": [
              "<IPython.core.display.HTML object>"
            ],
            "text/html": [
              "\n",
              "      <svg width=\"500\" height=\"500\">  \n",
              "        <rect width=\"100%\" height=\"100%\" style=\"fill:white;stroke:;stroke-width:1\"/>\n",
              "        \n",
              "        \n",
              "        <line x1=\"250.0\" y1=\"250.0\" x2=\"275.0\" y2=\"250.0\" stroke-linecap=\"round\" style=\"stroke:black;stroke-width:1\" /><line x1=\"275.0\" y1=\"250.0\" x2=\"275.0\" y2=\"300.0\" stroke-linecap=\"round\" style=\"stroke:black;stroke-width:1\" /><line x1=\"275.0\" y1=\"300.0\" x2=\"250.0\" y2=\"300.0\" stroke-linecap=\"round\" style=\"stroke:black;stroke-width:1\" /><line x1=\"250.0\" y1=\"300.0\" x2=\"250.0\" y2=\"250.0\" stroke-linecap=\"round\" style=\"stroke:black;stroke-width:1\" /><line x1=\"250.0\" y1=\"250.0\" x2=\"275.0\" y2=\"250.0\" stroke-linecap=\"round\" style=\"stroke:black;stroke-width:1\" /><line x1=\"275.0\" y1=\"250.0\" x2=\"275.0\" y2=\"300.0\" stroke-linecap=\"round\" style=\"stroke:black;stroke-width:1\" /><line x1=\"275.0\" y1=\"300.0\" x2=\"250.0\" y2=\"300.0\" stroke-linecap=\"round\" style=\"stroke:black;stroke-width:1\" /><line x1=\"250.0\" y1=\"300.0\" x2=\"250.0\" y2=\"250.0\" stroke-linecap=\"round\" style=\"stroke:black;stroke-width:1\" />\n",
              "        \n",
              "        \n",
              "        <g id=\"turtle\" visibility=\"visible\" transform=\"rotate(360,250.0,250.0) translate(250.0, 250.0)\">\n",
              "<path style=\"stroke:black;fill-rule:evenodd;fill:black;fill-opacity:1;\" transform=\"skewX(0) scale(1,1)\" d=\"m 1.1536693,-18.56101 c -2.105469,1.167969 -3.203125,3.441407 -3.140625,6.5 l 0.011719,0.519532 -0.300782,-0.15625 c -1.308594,-0.671875 -2.828125,-0.824219 -4.378906,-0.429688 -1.9375,0.484375 -3.8906253,2.089844 -6.0117193,4.9257825 -1.332031,1.785156 -1.714843,2.644531 -1.351562,3.035156 l 0.113281,0.125 h 0.363281 c 0.71875,0 1.308594,-0.265625 4.6679693,-2.113282 1.199219,-0.660156 2.183594,-1.199218 2.191406,-1.199218 0.00781,0 -0.023437,0.089844 -0.074218,0.195312 -0.472657,1.058594 -1.046876,2.785156 -1.335938,4.042969 -1.054688,4.574219 -0.351562,8.453125 2.101562,11.582031 0.28125,0.355469 0.292969,0.253906 -0.097656,0.722656 -2.046875,2.4609375 -3.027344,4.8984375 -2.734375,6.8046875 0.050781,0.339844 0.042969,0.335938 0.679688,0.335938 2.023437,0 4.15625,-1.316407 6.21875,-3.835938 0.222656,-0.269531 0.191406,-0.261719 0.425781,-0.113281 0.730469,0.46875 2.460938,1.390625 2.613281,1.390625 0.160157,0 1.765625,-0.753906 2.652344,-1.246094 0.167969,-0.09375 0.308594,-0.164062 0.308594,-0.160156 0.066406,0.105468 0.761719,0.855468 1.085937,1.171875 1.613282,1.570312 3.339844,2.402343 5.3593747,2.570312 0.324219,0.02734 0.355469,0.0078 0.425781,-0.316406 0.375,-1.742187 -0.382812,-4.058594 -2.1445307,-6.5585935 l -0.320312,-0.457031 0.15625,-0.183594 c 3.2460927,-3.824218 3.4335927,-9.08593704 0.558593,-15.816406 l -0.050781,-0.125 1.7382807,0.859375 c 3.585938,1.773437 4.371094,2.097656 5.085938,2.097656 0.945312,0 0.75,-0.863281 -0.558594,-2.507812 C 11.458356,-11.838353 8.3333563,-13.268041 4.8607003,-11.721166 l -0.363281,0.164063 0.019531,-0.09375 c 0.121094,-0.550781 0.183594,-1.800781 0.121094,-2.378907 -0.203125,-1.867187 -1.035157,-3.199218 -2.695313,-4.308593 -0.523437,-0.351563 -0.546875,-0.355469 -0.789062,-0.222657\" />\n",
              "<animateTransform id = \"one\" attributeName=\"transform\" \n",
              "                      type=\"scale\"\n",
              "                      from=\"1 1\" to=\"1 1\"\n",
              "                      begin=\"0s\" dur=\"0.01s\"\n",
              "                      repeatCount=\"1\"\n",
              "                      additive=\"sum\"\n",
              "                      fill=\"freeze\"\n",
              "                /><animateTransform attributeName=\"transform\"\n",
              "                    type=\"rotate\"\n",
              "                    from=\"0 0 0\" to =\"90 0 0\"\n",
              "                    begin=\"one.end\" dur=\"0.25s\"\n",
              "                    repeatCount=\"1\"\n",
              "                    additive=\"sum\"\n",
              "                    fill=\"freeze\"\n",
              "                /></g>\n",
              "      </svg>\n",
              "    "
            ]
          },
          "metadata": {}
        }
      ]
    },
    {
      "cell_type": "markdown",
      "source": [
        "## Ask Bob to draw a Circle:\n",
        "\n",
        "**Hint**: as with a square, to draw a circle you need to move forward and turn at an angle a given number of times.\n",
        "\n",
        "**Hint**: use a `for loop`\n",
        "\n",
        "**Hint**: The length of the boundary of the circle (Circumference ) $C$ is given by: $C = 2\\pi r$, where\n",
        "\n",
        "- $\\pi$ is a mathematical constant approximately equal to 3.14159.\n",
        "- $r$ is a radius of the circle, the distance from the center of the circle to any point on its edge.\n",
        "\n"
      ],
      "metadata": {
        "id": "qkwfwNe86ejO"
      }
    },
    {
      "cell_type": "code",
      "source": [
        "ct.clearscreen()\n",
        "ct.initializeTurtle((WIDTH, HEIGHT))\n",
        "\n",
        "bob = ct.Turtle()\n",
        "bob.shape('turtle')\n",
        "\n",
        "\n",
        "## your code ##\n",
        "\n",
        "for i in range(180):\n",
        "  bob.forward(3)\n",
        "  bob.right(2)\n",
        "\n",
        "## circle of circles\n",
        "\n",
        "circle_radius = 100\n",
        "number_of_sides = 36  # arbitrary. The higher the number the smoother the circle\n",
        "side_length = 2 * 3.14 * circle_radius / number_of_sides\n",
        "angle = 360 / number_of_sides\n",
        "\n",
        "for _ in range(number_of_sides):\n",
        "    bob.forward(side_length)\n",
        "    bob.left(angle)\n"
      ],
      "metadata": {
        "id": "Q-uOCtSD7EL2",
        "outputId": "5e46674b-9fec-442e-c2b0-e1daf6b4a392",
        "colab": {
          "base_uri": "https://localhost:8080/",
          "height": 521
        }
      },
      "execution_count": 20,
      "outputs": [
        {
          "output_type": "display_data",
          "data": {
            "text/plain": [
              "<IPython.core.display.HTML object>"
            ],
            "text/html": [
              "\n",
              "      <svg width=\"500\" height=\"500\">  \n",
              "        <rect width=\"100%\" height=\"100%\" style=\"fill:white;stroke:;stroke-width:1\"/>\n",
              "        \n",
              "        \n",
              "        <line x1=\"250.0\" y1=\"250.0\" x2=\"253.0\" y2=\"250.0\" stroke-linecap=\"round\" style=\"stroke:black;stroke-width:1\" /><line x1=\"253.0\" y1=\"250.0\" x2=\"255.998\" y2=\"250.105\" stroke-linecap=\"round\" style=\"stroke:black;stroke-width:1\" /><line x1=\"255.998\" y1=\"250.105\" x2=\"258.991\" y2=\"250.314\" stroke-linecap=\"round\" style=\"stroke:black;stroke-width:1\" /><line x1=\"258.991\" y1=\"250.314\" x2=\"261.975\" y2=\"250.628\" stroke-linecap=\"round\" style=\"stroke:black;stroke-width:1\" /><line x1=\"261.975\" y1=\"250.628\" x2=\"264.946\" y2=\"251.046\" stroke-linecap=\"round\" style=\"stroke:black;stroke-width:1\" /><line x1=\"264.946\" y1=\"251.046\" x2=\"267.9\" y2=\"251.567\" stroke-linecap=\"round\" style=\"stroke:black;stroke-width:1\" /><line x1=\"267.9\" y1=\"251.567\" x2=\"270.834\" y2=\"252.191\" stroke-linecap=\"round\" style=\"stroke:black;stroke-width:1\" /><line x1=\"270.834\" y1=\"252.191\" x2=\"273.745\" y2=\"252.917\" stroke-linecap=\"round\" style=\"stroke:black;stroke-width:1\" /><line x1=\"273.745\" y1=\"252.917\" x2=\"276.629\" y2=\"253.744\" stroke-linecap=\"round\" style=\"stroke:black;stroke-width:1\" /><line x1=\"276.629\" y1=\"253.744\" x2=\"279.482\" y2=\"254.671\" stroke-linecap=\"round\" style=\"stroke:black;stroke-width:1\" /><line x1=\"279.482\" y1=\"254.671\" x2=\"282.301\" y2=\"255.697\" stroke-linecap=\"round\" style=\"stroke:black;stroke-width:1\" /><line x1=\"282.301\" y1=\"255.697\" x2=\"285.083\" y2=\"256.821\" stroke-linecap=\"round\" style=\"stroke:black;stroke-width:1\" /><line x1=\"285.083\" y1=\"256.821\" x2=\"287.824\" y2=\"258.041\" stroke-linecap=\"round\" style=\"stroke:black;stroke-width:1\" /><line x1=\"287.824\" y1=\"258.041\" x2=\"290.52\" y2=\"259.356\" stroke-linecap=\"round\" style=\"stroke:black;stroke-width:1\" /><line x1=\"290.52\" y1=\"259.356\" x2=\"293.169\" y2=\"260.764\" stroke-linecap=\"round\" style=\"stroke:black;stroke-width:1\" /><line x1=\"293.169\" y1=\"260.764\" x2=\"295.767\" y2=\"262.264\" stroke-linecap=\"round\" style=\"stroke:black;stroke-width:1\" /><line x1=\"295.767\" y1=\"262.264\" x2=\"298.311\" y2=\"263.854\" stroke-linecap=\"round\" style=\"stroke:black;stroke-width:1\" /><line x1=\"298.311\" y1=\"263.854\" x2=\"300.798\" y2=\"265.532\" stroke-linecap=\"round\" style=\"stroke:black;stroke-width:1\" /><line x1=\"300.798\" y1=\"265.532\" x2=\"303.225\" y2=\"267.295\" stroke-linecap=\"round\" style=\"stroke:black;stroke-width:1\" /><line x1=\"303.225\" y1=\"267.295\" x2=\"305.589\" y2=\"269.142\" stroke-linecap=\"round\" style=\"stroke:black;stroke-width:1\" /><line x1=\"305.589\" y1=\"269.142\" x2=\"307.887\" y2=\"271.07\" stroke-linecap=\"round\" style=\"stroke:black;stroke-width:1\" /><line x1=\"307.887\" y1=\"271.07\" x2=\"310.116\" y2=\"273.077\" stroke-linecap=\"round\" style=\"stroke:black;stroke-width:1\" /><line x1=\"310.116\" y1=\"273.077\" x2=\"312.274\" y2=\"275.161\" stroke-linecap=\"round\" style=\"stroke:black;stroke-width:1\" /><line x1=\"312.274\" y1=\"275.161\" x2=\"314.358\" y2=\"277.319\" stroke-linecap=\"round\" style=\"stroke:black;stroke-width:1\" /><line x1=\"314.358\" y1=\"277.319\" x2=\"316.365\" y2=\"279.548\" stroke-linecap=\"round\" style=\"stroke:black;stroke-width:1\" /><line x1=\"316.365\" y1=\"279.548\" x2=\"318.293\" y2=\"281.846\" stroke-linecap=\"round\" style=\"stroke:black;stroke-width:1\" /><line x1=\"318.293\" y1=\"281.846\" x2=\"320.14\" y2=\"284.21\" stroke-linecap=\"round\" style=\"stroke:black;stroke-width:1\" /><line x1=\"320.14\" y1=\"284.21\" x2=\"321.903\" y2=\"286.637\" stroke-linecap=\"round\" style=\"stroke:black;stroke-width:1\" /><line x1=\"321.903\" y1=\"286.637\" x2=\"323.581\" y2=\"289.124\" stroke-linecap=\"round\" style=\"stroke:black;stroke-width:1\" /><line x1=\"323.581\" y1=\"289.124\" x2=\"325.171\" y2=\"291.668\" stroke-linecap=\"round\" style=\"stroke:black;stroke-width:1\" /><line x1=\"325.171\" y1=\"291.668\" x2=\"326.671\" y2=\"294.266\" stroke-linecap=\"round\" style=\"stroke:black;stroke-width:1\" /><line x1=\"326.671\" y1=\"294.266\" x2=\"328.079\" y2=\"296.915\" stroke-linecap=\"round\" style=\"stroke:black;stroke-width:1\" /><line x1=\"328.079\" y1=\"296.915\" x2=\"329.394\" y2=\"299.611\" stroke-linecap=\"round\" style=\"stroke:black;stroke-width:1\" /><line x1=\"329.394\" y1=\"299.611\" x2=\"330.614\" y2=\"302.352\" stroke-linecap=\"round\" style=\"stroke:black;stroke-width:1\" /><line x1=\"330.614\" y1=\"302.352\" x2=\"331.738\" y2=\"305.134\" stroke-linecap=\"round\" style=\"stroke:black;stroke-width:1\" /><line x1=\"331.738\" y1=\"305.134\" x2=\"332.764\" y2=\"307.953\" stroke-linecap=\"round\" style=\"stroke:black;stroke-width:1\" /><line x1=\"332.764\" y1=\"307.953\" x2=\"333.691\" y2=\"310.806\" stroke-linecap=\"round\" style=\"stroke:black;stroke-width:1\" /><line x1=\"333.691\" y1=\"310.806\" x2=\"334.518\" y2=\"313.69\" stroke-linecap=\"round\" style=\"stroke:black;stroke-width:1\" /><line x1=\"334.518\" y1=\"313.69\" x2=\"335.244\" y2=\"316.601\" stroke-linecap=\"round\" style=\"stroke:black;stroke-width:1\" /><line x1=\"335.244\" y1=\"316.601\" x2=\"335.868\" y2=\"319.535\" stroke-linecap=\"round\" style=\"stroke:black;stroke-width:1\" /><line x1=\"335.868\" y1=\"319.535\" x2=\"336.389\" y2=\"322.489\" stroke-linecap=\"round\" style=\"stroke:black;stroke-width:1\" /><line x1=\"336.389\" y1=\"322.489\" x2=\"336.807\" y2=\"325.46\" stroke-linecap=\"round\" style=\"stroke:black;stroke-width:1\" /><line x1=\"336.807\" y1=\"325.46\" x2=\"337.121\" y2=\"328.444\" stroke-linecap=\"round\" style=\"stroke:black;stroke-width:1\" /><line x1=\"337.121\" y1=\"328.444\" x2=\"337.33\" y2=\"331.437\" stroke-linecap=\"round\" style=\"stroke:black;stroke-width:1\" /><line x1=\"337.33\" y1=\"331.437\" x2=\"337.435\" y2=\"334.435\" stroke-linecap=\"round\" style=\"stroke:black;stroke-width:1\" /><line x1=\"337.435\" y1=\"334.435\" x2=\"337.435\" y2=\"337.435\" stroke-linecap=\"round\" style=\"stroke:black;stroke-width:1\" /><line x1=\"337.435\" y1=\"337.435\" x2=\"337.33\" y2=\"340.433\" stroke-linecap=\"round\" style=\"stroke:black;stroke-width:1\" /><line x1=\"337.33\" y1=\"340.433\" x2=\"337.121\" y2=\"343.426\" stroke-linecap=\"round\" style=\"stroke:black;stroke-width:1\" /><line x1=\"337.121\" y1=\"343.426\" x2=\"336.807\" y2=\"346.41\" stroke-linecap=\"round\" style=\"stroke:black;stroke-width:1\" /><line x1=\"336.807\" y1=\"346.41\" x2=\"336.389\" y2=\"349.381\" stroke-linecap=\"round\" style=\"stroke:black;stroke-width:1\" /><line x1=\"336.389\" y1=\"349.381\" x2=\"335.868\" y2=\"352.335\" stroke-linecap=\"round\" style=\"stroke:black;stroke-width:1\" /><line x1=\"335.868\" y1=\"352.335\" x2=\"335.244\" y2=\"355.269\" stroke-linecap=\"round\" style=\"stroke:black;stroke-width:1\" /><line x1=\"335.244\" y1=\"355.269\" x2=\"334.518\" y2=\"358.18\" stroke-linecap=\"round\" style=\"stroke:black;stroke-width:1\" /><line x1=\"334.518\" y1=\"358.18\" x2=\"333.691\" y2=\"361.064\" stroke-linecap=\"round\" style=\"stroke:black;stroke-width:1\" /><line x1=\"333.691\" y1=\"361.064\" x2=\"332.764\" y2=\"363.917\" stroke-linecap=\"round\" style=\"stroke:black;stroke-width:1\" /><line x1=\"332.764\" y1=\"363.917\" x2=\"331.738\" y2=\"366.736\" stroke-linecap=\"round\" style=\"stroke:black;stroke-width:1\" /><line x1=\"331.738\" y1=\"366.736\" x2=\"330.614\" y2=\"369.518\" stroke-linecap=\"round\" style=\"stroke:black;stroke-width:1\" /><line x1=\"330.614\" y1=\"369.518\" x2=\"329.394\" y2=\"372.259\" stroke-linecap=\"round\" style=\"stroke:black;stroke-width:1\" /><line x1=\"329.394\" y1=\"372.259\" x2=\"328.079\" y2=\"374.955\" stroke-linecap=\"round\" style=\"stroke:black;stroke-width:1\" /><line x1=\"328.079\" y1=\"374.955\" x2=\"326.671\" y2=\"377.604\" stroke-linecap=\"round\" style=\"stroke:black;stroke-width:1\" /><line x1=\"326.671\" y1=\"377.604\" x2=\"325.171\" y2=\"380.202\" stroke-linecap=\"round\" style=\"stroke:black;stroke-width:1\" /><line x1=\"325.171\" y1=\"380.202\" x2=\"323.581\" y2=\"382.746\" stroke-linecap=\"round\" style=\"stroke:black;stroke-width:1\" /><line x1=\"323.581\" y1=\"382.746\" x2=\"321.903\" y2=\"385.233\" stroke-linecap=\"round\" style=\"stroke:black;stroke-width:1\" /><line x1=\"321.903\" y1=\"385.233\" x2=\"320.14\" y2=\"387.66\" stroke-linecap=\"round\" style=\"stroke:black;stroke-width:1\" /><line x1=\"320.14\" y1=\"387.66\" x2=\"318.293\" y2=\"390.024\" stroke-linecap=\"round\" style=\"stroke:black;stroke-width:1\" /><line x1=\"318.293\" y1=\"390.024\" x2=\"316.365\" y2=\"392.322\" stroke-linecap=\"round\" style=\"stroke:black;stroke-width:1\" /><line x1=\"316.365\" y1=\"392.322\" x2=\"314.358\" y2=\"394.551\" stroke-linecap=\"round\" style=\"stroke:black;stroke-width:1\" /><line x1=\"314.358\" y1=\"394.551\" x2=\"312.274\" y2=\"396.709\" stroke-linecap=\"round\" style=\"stroke:black;stroke-width:1\" /><line x1=\"312.274\" y1=\"396.709\" x2=\"310.116\" y2=\"398.793\" stroke-linecap=\"round\" style=\"stroke:black;stroke-width:1\" /><line x1=\"310.116\" y1=\"398.793\" x2=\"307.887\" y2=\"400.8\" stroke-linecap=\"round\" style=\"stroke:black;stroke-width:1\" /><line x1=\"307.887\" y1=\"400.8\" x2=\"305.589\" y2=\"402.728\" stroke-linecap=\"round\" style=\"stroke:black;stroke-width:1\" /><line x1=\"305.589\" y1=\"402.728\" x2=\"303.225\" y2=\"404.575\" stroke-linecap=\"round\" style=\"stroke:black;stroke-width:1\" /><line x1=\"303.225\" y1=\"404.575\" x2=\"300.798\" y2=\"406.338\" stroke-linecap=\"round\" style=\"stroke:black;stroke-width:1\" /><line x1=\"300.798\" y1=\"406.338\" x2=\"298.311\" y2=\"408.016\" stroke-linecap=\"round\" style=\"stroke:black;stroke-width:1\" /><line x1=\"298.311\" y1=\"408.016\" x2=\"295.767\" y2=\"409.606\" stroke-linecap=\"round\" style=\"stroke:black;stroke-width:1\" /><line x1=\"295.767\" y1=\"409.606\" x2=\"293.169\" y2=\"411.106\" stroke-linecap=\"round\" style=\"stroke:black;stroke-width:1\" /><line x1=\"293.169\" y1=\"411.106\" x2=\"290.52\" y2=\"412.514\" stroke-linecap=\"round\" style=\"stroke:black;stroke-width:1\" /><line x1=\"290.52\" y1=\"412.514\" x2=\"287.824\" y2=\"413.829\" stroke-linecap=\"round\" style=\"stroke:black;stroke-width:1\" /><line x1=\"287.824\" y1=\"413.829\" x2=\"285.083\" y2=\"415.049\" stroke-linecap=\"round\" style=\"stroke:black;stroke-width:1\" /><line x1=\"285.083\" y1=\"415.049\" x2=\"282.301\" y2=\"416.173\" stroke-linecap=\"round\" style=\"stroke:black;stroke-width:1\" /><line x1=\"282.301\" y1=\"416.173\" x2=\"279.482\" y2=\"417.199\" stroke-linecap=\"round\" style=\"stroke:black;stroke-width:1\" /><line x1=\"279.482\" y1=\"417.199\" x2=\"276.629\" y2=\"418.126\" stroke-linecap=\"round\" style=\"stroke:black;stroke-width:1\" /><line x1=\"276.629\" y1=\"418.126\" x2=\"273.745\" y2=\"418.953\" stroke-linecap=\"round\" style=\"stroke:black;stroke-width:1\" /><line x1=\"273.745\" y1=\"418.953\" x2=\"270.834\" y2=\"419.679\" stroke-linecap=\"round\" style=\"stroke:black;stroke-width:1\" /><line x1=\"270.834\" y1=\"419.679\" x2=\"267.9\" y2=\"420.303\" stroke-linecap=\"round\" style=\"stroke:black;stroke-width:1\" /><line x1=\"267.9\" y1=\"420.303\" x2=\"264.946\" y2=\"420.824\" stroke-linecap=\"round\" style=\"stroke:black;stroke-width:1\" /><line x1=\"264.946\" y1=\"420.824\" x2=\"261.975\" y2=\"421.242\" stroke-linecap=\"round\" style=\"stroke:black;stroke-width:1\" /><line x1=\"261.975\" y1=\"421.242\" x2=\"258.991\" y2=\"421.556\" stroke-linecap=\"round\" style=\"stroke:black;stroke-width:1\" /><line x1=\"258.991\" y1=\"421.556\" x2=\"255.998\" y2=\"421.765\" stroke-linecap=\"round\" style=\"stroke:black;stroke-width:1\" /><line x1=\"255.998\" y1=\"421.765\" x2=\"253.0\" y2=\"421.87\" stroke-linecap=\"round\" style=\"stroke:black;stroke-width:1\" /><line x1=\"253.0\" y1=\"421.87\" x2=\"250.0\" y2=\"421.87\" stroke-linecap=\"round\" style=\"stroke:black;stroke-width:1\" /><line x1=\"250.0\" y1=\"421.87\" x2=\"247.002\" y2=\"421.765\" stroke-linecap=\"round\" style=\"stroke:black;stroke-width:1\" /><line x1=\"247.002\" y1=\"421.765\" x2=\"244.009\" y2=\"421.556\" stroke-linecap=\"round\" style=\"stroke:black;stroke-width:1\" /><line x1=\"244.009\" y1=\"421.556\" x2=\"241.025\" y2=\"421.242\" stroke-linecap=\"round\" style=\"stroke:black;stroke-width:1\" /><line x1=\"241.025\" y1=\"421.242\" x2=\"238.054\" y2=\"420.824\" stroke-linecap=\"round\" style=\"stroke:black;stroke-width:1\" /><line x1=\"238.054\" y1=\"420.824\" x2=\"235.1\" y2=\"420.303\" stroke-linecap=\"round\" style=\"stroke:black;stroke-width:1\" /><line x1=\"235.1\" y1=\"420.303\" x2=\"232.166\" y2=\"419.679\" stroke-linecap=\"round\" style=\"stroke:black;stroke-width:1\" /><line x1=\"232.166\" y1=\"419.679\" x2=\"229.255\" y2=\"418.953\" stroke-linecap=\"round\" style=\"stroke:black;stroke-width:1\" /><line x1=\"229.255\" y1=\"418.953\" x2=\"226.371\" y2=\"418.126\" stroke-linecap=\"round\" style=\"stroke:black;stroke-width:1\" /><line x1=\"226.371\" y1=\"418.126\" x2=\"223.518\" y2=\"417.199\" stroke-linecap=\"round\" style=\"stroke:black;stroke-width:1\" /><line x1=\"223.518\" y1=\"417.199\" x2=\"220.699\" y2=\"416.173\" stroke-linecap=\"round\" style=\"stroke:black;stroke-width:1\" /><line x1=\"220.699\" y1=\"416.173\" x2=\"217.917\" y2=\"415.049\" stroke-linecap=\"round\" style=\"stroke:black;stroke-width:1\" /><line x1=\"217.917\" y1=\"415.049\" x2=\"215.176\" y2=\"413.829\" stroke-linecap=\"round\" style=\"stroke:black;stroke-width:1\" /><line x1=\"215.176\" y1=\"413.829\" x2=\"212.48\" y2=\"412.514\" stroke-linecap=\"round\" style=\"stroke:black;stroke-width:1\" /><line x1=\"212.48\" y1=\"412.514\" x2=\"209.831\" y2=\"411.106\" stroke-linecap=\"round\" style=\"stroke:black;stroke-width:1\" /><line x1=\"209.831\" y1=\"411.106\" x2=\"207.233\" y2=\"409.606\" stroke-linecap=\"round\" style=\"stroke:black;stroke-width:1\" /><line x1=\"207.233\" y1=\"409.606\" x2=\"204.689\" y2=\"408.016\" stroke-linecap=\"round\" style=\"stroke:black;stroke-width:1\" /><line x1=\"204.689\" y1=\"408.016\" x2=\"202.202\" y2=\"406.338\" stroke-linecap=\"round\" style=\"stroke:black;stroke-width:1\" /><line x1=\"202.202\" y1=\"406.338\" x2=\"199.775\" y2=\"404.575\" stroke-linecap=\"round\" style=\"stroke:black;stroke-width:1\" /><line x1=\"199.775\" y1=\"404.575\" x2=\"197.411\" y2=\"402.728\" stroke-linecap=\"round\" style=\"stroke:black;stroke-width:1\" /><line x1=\"197.411\" y1=\"402.728\" x2=\"195.113\" y2=\"400.8\" stroke-linecap=\"round\" style=\"stroke:black;stroke-width:1\" /><line x1=\"195.113\" y1=\"400.8\" x2=\"192.884\" y2=\"398.793\" stroke-linecap=\"round\" style=\"stroke:black;stroke-width:1\" /><line x1=\"192.884\" y1=\"398.793\" x2=\"190.726\" y2=\"396.709\" stroke-linecap=\"round\" style=\"stroke:black;stroke-width:1\" /><line x1=\"190.726\" y1=\"396.709\" x2=\"188.642\" y2=\"394.551\" stroke-linecap=\"round\" style=\"stroke:black;stroke-width:1\" /><line x1=\"188.642\" y1=\"394.551\" x2=\"186.635\" y2=\"392.322\" stroke-linecap=\"round\" style=\"stroke:black;stroke-width:1\" /><line x1=\"186.635\" y1=\"392.322\" x2=\"184.707\" y2=\"390.024\" stroke-linecap=\"round\" style=\"stroke:black;stroke-width:1\" /><line x1=\"184.707\" y1=\"390.024\" x2=\"182.86\" y2=\"387.66\" stroke-linecap=\"round\" style=\"stroke:black;stroke-width:1\" /><line x1=\"182.86\" y1=\"387.66\" x2=\"181.097\" y2=\"385.233\" stroke-linecap=\"round\" style=\"stroke:black;stroke-width:1\" /><line x1=\"181.097\" y1=\"385.233\" x2=\"179.419\" y2=\"382.746\" stroke-linecap=\"round\" style=\"stroke:black;stroke-width:1\" /><line x1=\"179.419\" y1=\"382.746\" x2=\"177.829\" y2=\"380.202\" stroke-linecap=\"round\" style=\"stroke:black;stroke-width:1\" /><line x1=\"177.829\" y1=\"380.202\" x2=\"176.329\" y2=\"377.604\" stroke-linecap=\"round\" style=\"stroke:black;stroke-width:1\" /><line x1=\"176.329\" y1=\"377.604\" x2=\"174.921\" y2=\"374.955\" stroke-linecap=\"round\" style=\"stroke:black;stroke-width:1\" /><line x1=\"174.921\" y1=\"374.955\" x2=\"173.606\" y2=\"372.259\" stroke-linecap=\"round\" style=\"stroke:black;stroke-width:1\" /><line x1=\"173.606\" y1=\"372.259\" x2=\"172.386\" y2=\"369.518\" stroke-linecap=\"round\" style=\"stroke:black;stroke-width:1\" /><line x1=\"172.386\" y1=\"369.518\" x2=\"171.262\" y2=\"366.736\" stroke-linecap=\"round\" style=\"stroke:black;stroke-width:1\" /><line x1=\"171.262\" y1=\"366.736\" x2=\"170.236\" y2=\"363.917\" stroke-linecap=\"round\" style=\"stroke:black;stroke-width:1\" /><line x1=\"170.236\" y1=\"363.917\" x2=\"169.309\" y2=\"361.064\" stroke-linecap=\"round\" style=\"stroke:black;stroke-width:1\" /><line x1=\"169.309\" y1=\"361.064\" x2=\"168.482\" y2=\"358.18\" stroke-linecap=\"round\" style=\"stroke:black;stroke-width:1\" /><line x1=\"168.482\" y1=\"358.18\" x2=\"167.756\" y2=\"355.269\" stroke-linecap=\"round\" style=\"stroke:black;stroke-width:1\" /><line x1=\"167.756\" y1=\"355.269\" x2=\"167.132\" y2=\"352.335\" stroke-linecap=\"round\" style=\"stroke:black;stroke-width:1\" /><line x1=\"167.132\" y1=\"352.335\" x2=\"166.611\" y2=\"349.381\" stroke-linecap=\"round\" style=\"stroke:black;stroke-width:1\" /><line x1=\"166.611\" y1=\"349.381\" x2=\"166.193\" y2=\"346.41\" stroke-linecap=\"round\" style=\"stroke:black;stroke-width:1\" /><line x1=\"166.193\" y1=\"346.41\" x2=\"165.879\" y2=\"343.426\" stroke-linecap=\"round\" style=\"stroke:black;stroke-width:1\" /><line x1=\"165.879\" y1=\"343.426\" x2=\"165.67\" y2=\"340.433\" stroke-linecap=\"round\" style=\"stroke:black;stroke-width:1\" /><line x1=\"165.67\" y1=\"340.433\" x2=\"165.565\" y2=\"337.435\" stroke-linecap=\"round\" style=\"stroke:black;stroke-width:1\" /><line x1=\"165.565\" y1=\"337.435\" x2=\"165.565\" y2=\"334.435\" stroke-linecap=\"round\" style=\"stroke:black;stroke-width:1\" /><line x1=\"165.565\" y1=\"334.435\" x2=\"165.67\" y2=\"331.437\" stroke-linecap=\"round\" style=\"stroke:black;stroke-width:1\" /><line x1=\"165.67\" y1=\"331.437\" x2=\"165.879\" y2=\"328.444\" stroke-linecap=\"round\" style=\"stroke:black;stroke-width:1\" /><line x1=\"165.879\" y1=\"328.444\" x2=\"166.193\" y2=\"325.46\" stroke-linecap=\"round\" style=\"stroke:black;stroke-width:1\" /><line x1=\"166.193\" y1=\"325.46\" x2=\"166.611\" y2=\"322.489\" stroke-linecap=\"round\" style=\"stroke:black;stroke-width:1\" /><line x1=\"166.611\" y1=\"322.489\" x2=\"167.132\" y2=\"319.535\" stroke-linecap=\"round\" style=\"stroke:black;stroke-width:1\" /><line x1=\"167.132\" y1=\"319.535\" x2=\"167.756\" y2=\"316.601\" stroke-linecap=\"round\" style=\"stroke:black;stroke-width:1\" /><line x1=\"167.756\" y1=\"316.601\" x2=\"168.482\" y2=\"313.69\" stroke-linecap=\"round\" style=\"stroke:black;stroke-width:1\" /><line x1=\"168.482\" y1=\"313.69\" x2=\"169.309\" y2=\"310.806\" stroke-linecap=\"round\" style=\"stroke:black;stroke-width:1\" /><line x1=\"169.309\" y1=\"310.806\" x2=\"170.236\" y2=\"307.953\" stroke-linecap=\"round\" style=\"stroke:black;stroke-width:1\" /><line x1=\"170.236\" y1=\"307.953\" x2=\"171.262\" y2=\"305.134\" stroke-linecap=\"round\" style=\"stroke:black;stroke-width:1\" /><line x1=\"171.262\" y1=\"305.134\" x2=\"172.386\" y2=\"302.352\" stroke-linecap=\"round\" style=\"stroke:black;stroke-width:1\" /><line x1=\"172.386\" y1=\"302.352\" x2=\"173.606\" y2=\"299.611\" stroke-linecap=\"round\" style=\"stroke:black;stroke-width:1\" /><line x1=\"173.606\" y1=\"299.611\" x2=\"174.921\" y2=\"296.915\" stroke-linecap=\"round\" style=\"stroke:black;stroke-width:1\" /><line x1=\"174.921\" y1=\"296.915\" x2=\"176.329\" y2=\"294.266\" stroke-linecap=\"round\" style=\"stroke:black;stroke-width:1\" /><line x1=\"176.329\" y1=\"294.266\" x2=\"177.829\" y2=\"291.668\" stroke-linecap=\"round\" style=\"stroke:black;stroke-width:1\" /><line x1=\"177.829\" y1=\"291.668\" x2=\"179.419\" y2=\"289.124\" stroke-linecap=\"round\" style=\"stroke:black;stroke-width:1\" /><line x1=\"179.419\" y1=\"289.124\" x2=\"181.097\" y2=\"286.637\" stroke-linecap=\"round\" style=\"stroke:black;stroke-width:1\" /><line x1=\"181.097\" y1=\"286.637\" x2=\"182.86\" y2=\"284.21\" stroke-linecap=\"round\" style=\"stroke:black;stroke-width:1\" /><line x1=\"182.86\" y1=\"284.21\" x2=\"184.707\" y2=\"281.846\" stroke-linecap=\"round\" style=\"stroke:black;stroke-width:1\" /><line x1=\"184.707\" y1=\"281.846\" x2=\"186.635\" y2=\"279.548\" stroke-linecap=\"round\" style=\"stroke:black;stroke-width:1\" /><line x1=\"186.635\" y1=\"279.548\" x2=\"188.642\" y2=\"277.319\" stroke-linecap=\"round\" style=\"stroke:black;stroke-width:1\" /><line x1=\"188.642\" y1=\"277.319\" x2=\"190.726\" y2=\"275.161\" stroke-linecap=\"round\" style=\"stroke:black;stroke-width:1\" /><line x1=\"190.726\" y1=\"275.161\" x2=\"192.884\" y2=\"273.077\" stroke-linecap=\"round\" style=\"stroke:black;stroke-width:1\" /><line x1=\"192.884\" y1=\"273.077\" x2=\"195.113\" y2=\"271.07\" stroke-linecap=\"round\" style=\"stroke:black;stroke-width:1\" /><line x1=\"195.113\" y1=\"271.07\" x2=\"197.411\" y2=\"269.142\" stroke-linecap=\"round\" style=\"stroke:black;stroke-width:1\" /><line x1=\"197.411\" y1=\"269.142\" x2=\"199.775\" y2=\"267.295\" stroke-linecap=\"round\" style=\"stroke:black;stroke-width:1\" /><line x1=\"199.775\" y1=\"267.295\" x2=\"202.202\" y2=\"265.532\" stroke-linecap=\"round\" style=\"stroke:black;stroke-width:1\" /><line x1=\"202.202\" y1=\"265.532\" x2=\"204.689\" y2=\"263.854\" stroke-linecap=\"round\" style=\"stroke:black;stroke-width:1\" /><line x1=\"204.689\" y1=\"263.854\" x2=\"207.233\" y2=\"262.264\" stroke-linecap=\"round\" style=\"stroke:black;stroke-width:1\" /><line x1=\"207.233\" y1=\"262.264\" x2=\"209.831\" y2=\"260.764\" stroke-linecap=\"round\" style=\"stroke:black;stroke-width:1\" /><line x1=\"209.831\" y1=\"260.764\" x2=\"212.48\" y2=\"259.356\" stroke-linecap=\"round\" style=\"stroke:black;stroke-width:1\" /><line x1=\"212.48\" y1=\"259.356\" x2=\"215.176\" y2=\"258.041\" stroke-linecap=\"round\" style=\"stroke:black;stroke-width:1\" /><line x1=\"215.176\" y1=\"258.041\" x2=\"217.917\" y2=\"256.821\" stroke-linecap=\"round\" style=\"stroke:black;stroke-width:1\" /><line x1=\"217.917\" y1=\"256.821\" x2=\"220.699\" y2=\"255.697\" stroke-linecap=\"round\" style=\"stroke:black;stroke-width:1\" /><line x1=\"220.699\" y1=\"255.697\" x2=\"223.518\" y2=\"254.671\" stroke-linecap=\"round\" style=\"stroke:black;stroke-width:1\" /><line x1=\"223.518\" y1=\"254.671\" x2=\"226.371\" y2=\"253.744\" stroke-linecap=\"round\" style=\"stroke:black;stroke-width:1\" /><line x1=\"226.371\" y1=\"253.744\" x2=\"229.255\" y2=\"252.917\" stroke-linecap=\"round\" style=\"stroke:black;stroke-width:1\" /><line x1=\"229.255\" y1=\"252.917\" x2=\"232.166\" y2=\"252.191\" stroke-linecap=\"round\" style=\"stroke:black;stroke-width:1\" /><line x1=\"232.166\" y1=\"252.191\" x2=\"235.1\" y2=\"251.567\" stroke-linecap=\"round\" style=\"stroke:black;stroke-width:1\" /><line x1=\"235.1\" y1=\"251.567\" x2=\"238.054\" y2=\"251.046\" stroke-linecap=\"round\" style=\"stroke:black;stroke-width:1\" /><line x1=\"238.054\" y1=\"251.046\" x2=\"241.025\" y2=\"250.628\" stroke-linecap=\"round\" style=\"stroke:black;stroke-width:1\" /><line x1=\"241.025\" y1=\"250.628\" x2=\"244.009\" y2=\"250.314\" stroke-linecap=\"round\" style=\"stroke:black;stroke-width:1\" /><line x1=\"244.009\" y1=\"250.314\" x2=\"247.002\" y2=\"250.105\" stroke-linecap=\"round\" style=\"stroke:black;stroke-width:1\" /><line x1=\"247.002\" y1=\"250.105\" x2=\"250.0\" y2=\"250.0\" stroke-linecap=\"round\" style=\"stroke:black;stroke-width:1\" /><line x1=\"250.0\" y1=\"250.0\" x2=\"267.444\" y2=\"250.0\" stroke-linecap=\"round\" style=\"stroke:black;stroke-width:1\" /><line x1=\"267.444\" y1=\"250.0\" x2=\"284.888\" y2=\"250.0\" stroke-linecap=\"round\" style=\"stroke:black;stroke-width:1\" /><line x1=\"284.888\" y1=\"250.0\" x2=\"302.067\" y2=\"246.971\" stroke-linecap=\"round\" style=\"stroke:black;stroke-width:1\" /><line x1=\"302.067\" y1=\"246.971\" x2=\"318.459\" y2=\"241.005\" stroke-linecap=\"round\" style=\"stroke:black;stroke-width:1\" /><line x1=\"318.459\" y1=\"241.005\" x2=\"333.566\" y2=\"232.283\" stroke-linecap=\"round\" style=\"stroke:black;stroke-width:1\" /><line x1=\"333.566\" y1=\"232.283\" x2=\"346.929\" y2=\"221.07\" stroke-linecap=\"round\" style=\"stroke:black;stroke-width:1\" /><line x1=\"346.929\" y1=\"221.07\" x2=\"358.142\" y2=\"207.707\" stroke-linecap=\"round\" style=\"stroke:black;stroke-width:1\" /><line x1=\"358.142\" y1=\"207.707\" x2=\"366.864\" y2=\"192.6\" stroke-linecap=\"round\" style=\"stroke:black;stroke-width:1\" /><line x1=\"366.864\" y1=\"192.6\" x2=\"372.83\" y2=\"176.208\" stroke-linecap=\"round\" style=\"stroke:black;stroke-width:1\" /><line x1=\"372.83\" y1=\"176.208\" x2=\"375.859\" y2=\"159.029\" stroke-linecap=\"round\" style=\"stroke:black;stroke-width:1\" /><line x1=\"375.859\" y1=\"159.029\" x2=\"375.859\" y2=\"141.585\" stroke-linecap=\"round\" style=\"stroke:black;stroke-width:1\" /><line x1=\"375.859\" y1=\"141.585\" x2=\"372.83\" y2=\"124.406\" stroke-linecap=\"round\" style=\"stroke:black;stroke-width:1\" /><line x1=\"372.83\" y1=\"124.406\" x2=\"366.864\" y2=\"108.014\" stroke-linecap=\"round\" style=\"stroke:black;stroke-width:1\" /><line x1=\"366.864\" y1=\"108.014\" x2=\"358.142\" y2=\"92.907\" stroke-linecap=\"round\" style=\"stroke:black;stroke-width:1\" /><line x1=\"358.142\" y1=\"92.907\" x2=\"346.929\" y2=\"79.544\" stroke-linecap=\"round\" style=\"stroke:black;stroke-width:1\" /><line x1=\"346.929\" y1=\"79.544\" x2=\"333.566\" y2=\"68.331\" stroke-linecap=\"round\" style=\"stroke:black;stroke-width:1\" /><line x1=\"333.566\" y1=\"68.331\" x2=\"318.459\" y2=\"59.609\" stroke-linecap=\"round\" style=\"stroke:black;stroke-width:1\" /><line x1=\"318.459\" y1=\"59.609\" x2=\"302.067\" y2=\"53.643\" stroke-linecap=\"round\" style=\"stroke:black;stroke-width:1\" /><line x1=\"302.067\" y1=\"53.643\" x2=\"284.888\" y2=\"50.614\" stroke-linecap=\"round\" style=\"stroke:black;stroke-width:1\" /><line x1=\"284.888\" y1=\"50.614\" x2=\"267.444\" y2=\"50.614\" stroke-linecap=\"round\" style=\"stroke:black;stroke-width:1\" /><line x1=\"267.444\" y1=\"50.614\" x2=\"250.265\" y2=\"53.643\" stroke-linecap=\"round\" style=\"stroke:black;stroke-width:1\" /><line x1=\"250.265\" y1=\"53.643\" x2=\"233.873\" y2=\"59.609\" stroke-linecap=\"round\" style=\"stroke:black;stroke-width:1\" /><line x1=\"233.873\" y1=\"59.609\" x2=\"218.766\" y2=\"68.331\" stroke-linecap=\"round\" style=\"stroke:black;stroke-width:1\" /><line x1=\"218.766\" y1=\"68.331\" x2=\"205.403\" y2=\"79.544\" stroke-linecap=\"round\" style=\"stroke:black;stroke-width:1\" /><line x1=\"205.403\" y1=\"79.544\" x2=\"194.19\" y2=\"92.907\" stroke-linecap=\"round\" style=\"stroke:black;stroke-width:1\" /><line x1=\"194.19\" y1=\"92.907\" x2=\"185.468\" y2=\"108.014\" stroke-linecap=\"round\" style=\"stroke:black;stroke-width:1\" /><line x1=\"185.468\" y1=\"108.014\" x2=\"179.502\" y2=\"124.406\" stroke-linecap=\"round\" style=\"stroke:black;stroke-width:1\" /><line x1=\"179.502\" y1=\"124.406\" x2=\"176.473\" y2=\"141.585\" stroke-linecap=\"round\" style=\"stroke:black;stroke-width:1\" /><line x1=\"176.473\" y1=\"141.585\" x2=\"176.473\" y2=\"159.029\" stroke-linecap=\"round\" style=\"stroke:black;stroke-width:1\" /><line x1=\"176.473\" y1=\"159.029\" x2=\"179.502\" y2=\"176.208\" stroke-linecap=\"round\" style=\"stroke:black;stroke-width:1\" /><line x1=\"179.502\" y1=\"176.208\" x2=\"185.468\" y2=\"192.6\" stroke-linecap=\"round\" style=\"stroke:black;stroke-width:1\" /><line x1=\"185.468\" y1=\"192.6\" x2=\"194.19\" y2=\"207.707\" stroke-linecap=\"round\" style=\"stroke:black;stroke-width:1\" /><line x1=\"194.19\" y1=\"207.707\" x2=\"205.403\" y2=\"221.07\" stroke-linecap=\"round\" style=\"stroke:black;stroke-width:1\" /><line x1=\"205.403\" y1=\"221.07\" x2=\"218.766\" y2=\"232.283\" stroke-linecap=\"round\" style=\"stroke:black;stroke-width:1\" /><line x1=\"218.766\" y1=\"232.283\" x2=\"233.873\" y2=\"241.005\" stroke-linecap=\"round\" style=\"stroke:black;stroke-width:1\" /><line x1=\"233.873\" y1=\"241.005\" x2=\"250.265\" y2=\"246.971\" stroke-linecap=\"round\" style=\"stroke:black;stroke-width:1\" /><line x1=\"250.265\" y1=\"246.971\" x2=\"267.444\" y2=\"250.0\" stroke-linecap=\"round\" style=\"stroke:black;stroke-width:1\" /><line x1=\"267.444\" y1=\"250.0\" x2=\"284.623\" y2=\"246.971\" stroke-linecap=\"round\" style=\"stroke:black;stroke-width:1\" /><line x1=\"284.623\" y1=\"246.971\" x2=\"301.802\" y2=\"243.942\" stroke-linecap=\"round\" style=\"stroke:black;stroke-width:1\" /><line x1=\"301.802\" y1=\"243.942\" x2=\"318.194\" y2=\"237.976\" stroke-linecap=\"round\" style=\"stroke:black;stroke-width:1\" /><line x1=\"318.194\" y1=\"237.976\" x2=\"333.301\" y2=\"229.254\" stroke-linecap=\"round\" style=\"stroke:black;stroke-width:1\" /><line x1=\"333.301\" y1=\"229.254\" x2=\"346.664\" y2=\"218.041\" stroke-linecap=\"round\" style=\"stroke:black;stroke-width:1\" /><line x1=\"346.664\" y1=\"218.041\" x2=\"357.877\" y2=\"204.678\" stroke-linecap=\"round\" style=\"stroke:black;stroke-width:1\" /><line x1=\"357.877\" y1=\"204.678\" x2=\"366.599\" y2=\"189.571\" stroke-linecap=\"round\" style=\"stroke:black;stroke-width:1\" /><line x1=\"366.599\" y1=\"189.571\" x2=\"372.565\" y2=\"173.179\" stroke-linecap=\"round\" style=\"stroke:black;stroke-width:1\" /><line x1=\"372.565\" y1=\"173.179\" x2=\"375.594\" y2=\"156.0\" stroke-linecap=\"round\" style=\"stroke:black;stroke-width:1\" /><line x1=\"375.594\" y1=\"156.0\" x2=\"375.594\" y2=\"138.556\" stroke-linecap=\"round\" style=\"stroke:black;stroke-width:1\" /><line x1=\"375.594\" y1=\"138.556\" x2=\"372.565\" y2=\"121.377\" stroke-linecap=\"round\" style=\"stroke:black;stroke-width:1\" /><line x1=\"372.565\" y1=\"121.377\" x2=\"366.599\" y2=\"104.985\" stroke-linecap=\"round\" style=\"stroke:black;stroke-width:1\" /><line x1=\"366.599\" y1=\"104.985\" x2=\"357.877\" y2=\"89.878\" stroke-linecap=\"round\" style=\"stroke:black;stroke-width:1\" /><line x1=\"357.877\" y1=\"89.878\" x2=\"346.664\" y2=\"76.515\" stroke-linecap=\"round\" style=\"stroke:black;stroke-width:1\" /><line x1=\"346.664\" y1=\"76.515\" x2=\"333.301\" y2=\"65.302\" stroke-linecap=\"round\" style=\"stroke:black;stroke-width:1\" /><line x1=\"333.301\" y1=\"65.302\" x2=\"318.194\" y2=\"56.58\" stroke-linecap=\"round\" style=\"stroke:black;stroke-width:1\" /><line x1=\"318.194\" y1=\"56.58\" x2=\"301.802\" y2=\"50.614\" stroke-linecap=\"round\" style=\"stroke:black;stroke-width:1\" /><line x1=\"301.802\" y1=\"50.614\" x2=\"284.623\" y2=\"47.585\" stroke-linecap=\"round\" style=\"stroke:black;stroke-width:1\" /><line x1=\"284.623\" y1=\"47.585\" x2=\"267.179\" y2=\"47.585\" stroke-linecap=\"round\" style=\"stroke:black;stroke-width:1\" /><line x1=\"267.179\" y1=\"47.585\" x2=\"250.0\" y2=\"50.614\" stroke-linecap=\"round\" style=\"stroke:black;stroke-width:1\" /><line x1=\"250.0\" y1=\"50.614\" x2=\"233.608\" y2=\"56.58\" stroke-linecap=\"round\" style=\"stroke:black;stroke-width:1\" /><line x1=\"233.608\" y1=\"56.58\" x2=\"218.501\" y2=\"65.302\" stroke-linecap=\"round\" style=\"stroke:black;stroke-width:1\" /><line x1=\"218.501\" y1=\"65.302\" x2=\"205.138\" y2=\"76.515\" stroke-linecap=\"round\" style=\"stroke:black;stroke-width:1\" /><line x1=\"205.138\" y1=\"76.515\" x2=\"193.925\" y2=\"89.878\" stroke-linecap=\"round\" style=\"stroke:black;stroke-width:1\" /><line x1=\"193.925\" y1=\"89.878\" x2=\"185.203\" y2=\"104.985\" stroke-linecap=\"round\" style=\"stroke:black;stroke-width:1\" /><line x1=\"185.203\" y1=\"104.985\" x2=\"179.237\" y2=\"121.377\" stroke-linecap=\"round\" style=\"stroke:black;stroke-width:1\" /><line x1=\"179.237\" y1=\"121.377\" x2=\"176.208\" y2=\"138.556\" stroke-linecap=\"round\" style=\"stroke:black;stroke-width:1\" /><line x1=\"176.208\" y1=\"138.556\" x2=\"176.208\" y2=\"156.0\" stroke-linecap=\"round\" style=\"stroke:black;stroke-width:1\" /><line x1=\"176.208\" y1=\"156.0\" x2=\"179.237\" y2=\"173.179\" stroke-linecap=\"round\" style=\"stroke:black;stroke-width:1\" /><line x1=\"179.237\" y1=\"173.179\" x2=\"185.203\" y2=\"189.571\" stroke-linecap=\"round\" style=\"stroke:black;stroke-width:1\" /><line x1=\"185.203\" y1=\"189.571\" x2=\"193.925\" y2=\"204.678\" stroke-linecap=\"round\" style=\"stroke:black;stroke-width:1\" /><line x1=\"193.925\" y1=\"204.678\" x2=\"205.138\" y2=\"218.041\" stroke-linecap=\"round\" style=\"stroke:black;stroke-width:1\" /><line x1=\"205.138\" y1=\"218.041\" x2=\"218.501\" y2=\"229.254\" stroke-linecap=\"round\" style=\"stroke:black;stroke-width:1\" /><line x1=\"218.501\" y1=\"229.254\" x2=\"233.608\" y2=\"237.976\" stroke-linecap=\"round\" style=\"stroke:black;stroke-width:1\" /><line x1=\"233.608\" y1=\"237.976\" x2=\"250.0\" y2=\"243.942\" stroke-linecap=\"round\" style=\"stroke:black;stroke-width:1\" /><line x1=\"250.0\" y1=\"243.942\" x2=\"267.179\" y2=\"246.971\" stroke-linecap=\"round\" style=\"stroke:black;stroke-width:1\" /><line x1=\"267.179\" y1=\"246.971\" x2=\"284.623\" y2=\"246.971\" stroke-linecap=\"round\" style=\"stroke:black;stroke-width:1\" /><line x1=\"284.623\" y1=\"246.971\" x2=\"301.015\" y2=\"241.005\" stroke-linecap=\"round\" style=\"stroke:black;stroke-width:1\" /><line x1=\"301.015\" y1=\"241.005\" x2=\"317.407\" y2=\"235.039\" stroke-linecap=\"round\" style=\"stroke:black;stroke-width:1\" /><line x1=\"317.407\" y1=\"235.039\" x2=\"332.514\" y2=\"226.317\" stroke-linecap=\"round\" style=\"stroke:black;stroke-width:1\" /><line x1=\"332.514\" y1=\"226.317\" x2=\"345.877\" y2=\"215.104\" stroke-linecap=\"round\" style=\"stroke:black;stroke-width:1\" /><line x1=\"345.877\" y1=\"215.104\" x2=\"357.09\" y2=\"201.741\" stroke-linecap=\"round\" style=\"stroke:black;stroke-width:1\" /><line x1=\"357.09\" y1=\"201.741\" x2=\"365.812\" y2=\"186.634\" stroke-linecap=\"round\" style=\"stroke:black;stroke-width:1\" /><line x1=\"365.812\" y1=\"186.634\" x2=\"371.778\" y2=\"170.242\" stroke-linecap=\"round\" style=\"stroke:black;stroke-width:1\" /><line x1=\"371.778\" y1=\"170.242\" x2=\"374.807\" y2=\"153.063\" stroke-linecap=\"round\" style=\"stroke:black;stroke-width:1\" /><line x1=\"374.807\" y1=\"153.063\" x2=\"374.807\" y2=\"135.619\" stroke-linecap=\"round\" style=\"stroke:black;stroke-width:1\" /><line x1=\"374.807\" y1=\"135.619\" x2=\"371.778\" y2=\"118.44\" stroke-linecap=\"round\" style=\"stroke:black;stroke-width:1\" /><line x1=\"371.778\" y1=\"118.44\" x2=\"365.812\" y2=\"102.048\" stroke-linecap=\"round\" style=\"stroke:black;stroke-width:1\" /><line x1=\"365.812\" y1=\"102.048\" x2=\"357.09\" y2=\"86.941\" stroke-linecap=\"round\" style=\"stroke:black;stroke-width:1\" /><line x1=\"357.09\" y1=\"86.941\" x2=\"345.877\" y2=\"73.578\" stroke-linecap=\"round\" style=\"stroke:black;stroke-width:1\" /><line x1=\"345.877\" y1=\"73.578\" x2=\"332.514\" y2=\"62.365\" stroke-linecap=\"round\" style=\"stroke:black;stroke-width:1\" /><line x1=\"332.514\" y1=\"62.365\" x2=\"317.407\" y2=\"53.643\" stroke-linecap=\"round\" style=\"stroke:black;stroke-width:1\" /><line x1=\"317.407\" y1=\"53.643\" x2=\"301.015\" y2=\"47.677\" stroke-linecap=\"round\" style=\"stroke:black;stroke-width:1\" /><line x1=\"301.015\" y1=\"47.677\" x2=\"283.836\" y2=\"44.648\" stroke-linecap=\"round\" style=\"stroke:black;stroke-width:1\" /><line x1=\"283.836\" y1=\"44.648\" x2=\"266.392\" y2=\"44.648\" stroke-linecap=\"round\" style=\"stroke:black;stroke-width:1\" /><line x1=\"266.392\" y1=\"44.648\" x2=\"249.213\" y2=\"47.677\" stroke-linecap=\"round\" style=\"stroke:black;stroke-width:1\" /><line x1=\"249.213\" y1=\"47.677\" x2=\"232.821\" y2=\"53.643\" stroke-linecap=\"round\" style=\"stroke:black;stroke-width:1\" /><line x1=\"232.821\" y1=\"53.643\" x2=\"217.714\" y2=\"62.365\" stroke-linecap=\"round\" style=\"stroke:black;stroke-width:1\" /><line x1=\"217.714\" y1=\"62.365\" x2=\"204.351\" y2=\"73.578\" stroke-linecap=\"round\" style=\"stroke:black;stroke-width:1\" /><line x1=\"204.351\" y1=\"73.578\" x2=\"193.138\" y2=\"86.941\" stroke-linecap=\"round\" style=\"stroke:black;stroke-width:1\" /><line x1=\"193.138\" y1=\"86.941\" x2=\"184.416\" y2=\"102.048\" stroke-linecap=\"round\" style=\"stroke:black;stroke-width:1\" /><line x1=\"184.416\" y1=\"102.048\" x2=\"178.45\" y2=\"118.44\" stroke-linecap=\"round\" style=\"stroke:black;stroke-width:1\" /><line x1=\"178.45\" y1=\"118.44\" x2=\"175.421\" y2=\"135.619\" stroke-linecap=\"round\" style=\"stroke:black;stroke-width:1\" /><line x1=\"175.421\" y1=\"135.619\" x2=\"175.421\" y2=\"153.063\" stroke-linecap=\"round\" style=\"stroke:black;stroke-width:1\" /><line x1=\"175.421\" y1=\"153.063\" x2=\"178.45\" y2=\"170.242\" stroke-linecap=\"round\" style=\"stroke:black;stroke-width:1\" /><line x1=\"178.45\" y1=\"170.242\" x2=\"184.416\" y2=\"186.634\" stroke-linecap=\"round\" style=\"stroke:black;stroke-width:1\" /><line x1=\"184.416\" y1=\"186.634\" x2=\"193.138\" y2=\"201.741\" stroke-linecap=\"round\" style=\"stroke:black;stroke-width:1\" /><line x1=\"193.138\" y1=\"201.741\" x2=\"204.351\" y2=\"215.104\" stroke-linecap=\"round\" style=\"stroke:black;stroke-width:1\" /><line x1=\"204.351\" y1=\"215.104\" x2=\"217.714\" y2=\"226.317\" stroke-linecap=\"round\" style=\"stroke:black;stroke-width:1\" /><line x1=\"217.714\" y1=\"226.317\" x2=\"232.821\" y2=\"235.039\" stroke-linecap=\"round\" style=\"stroke:black;stroke-width:1\" /><line x1=\"232.821\" y1=\"235.039\" x2=\"249.213\" y2=\"241.005\" stroke-linecap=\"round\" style=\"stroke:black;stroke-width:1\" /><line x1=\"249.213\" y1=\"241.005\" x2=\"266.392\" y2=\"244.034\" stroke-linecap=\"round\" style=\"stroke:black;stroke-width:1\" /><line x1=\"266.392\" y1=\"244.034\" x2=\"283.836\" y2=\"244.034\" stroke-linecap=\"round\" style=\"stroke:black;stroke-width:1\" /><line x1=\"283.836\" y1=\"244.034\" x2=\"301.015\" y2=\"241.005\" stroke-linecap=\"round\" style=\"stroke:black;stroke-width:1\" /><line x1=\"301.015\" y1=\"241.005\" x2=\"316.122\" y2=\"232.283\" stroke-linecap=\"round\" style=\"stroke:black;stroke-width:1\" /><line x1=\"316.122\" y1=\"232.283\" x2=\"331.229\" y2=\"223.561\" stroke-linecap=\"round\" style=\"stroke:black;stroke-width:1\" /><line x1=\"331.229\" y1=\"223.561\" x2=\"344.592\" y2=\"212.348\" stroke-linecap=\"round\" style=\"stroke:black;stroke-width:1\" /><line x1=\"344.592\" y1=\"212.348\" x2=\"355.805\" y2=\"198.985\" stroke-linecap=\"round\" style=\"stroke:black;stroke-width:1\" /><line x1=\"355.805\" y1=\"198.985\" x2=\"364.527\" y2=\"183.878\" stroke-linecap=\"round\" style=\"stroke:black;stroke-width:1\" /><line x1=\"364.527\" y1=\"183.878\" x2=\"370.493\" y2=\"167.486\" stroke-linecap=\"round\" style=\"stroke:black;stroke-width:1\" /><line x1=\"370.493\" y1=\"167.486\" x2=\"373.522\" y2=\"150.307\" stroke-linecap=\"round\" style=\"stroke:black;stroke-width:1\" /><line x1=\"373.522\" y1=\"150.307\" x2=\"373.522\" y2=\"132.863\" stroke-linecap=\"round\" style=\"stroke:black;stroke-width:1\" /><line x1=\"373.522\" y1=\"132.863\" x2=\"370.493\" y2=\"115.684\" stroke-linecap=\"round\" style=\"stroke:black;stroke-width:1\" /><line x1=\"370.493\" y1=\"115.684\" x2=\"364.527\" y2=\"99.292\" stroke-linecap=\"round\" style=\"stroke:black;stroke-width:1\" /><line x1=\"364.527\" y1=\"99.292\" x2=\"355.805\" y2=\"84.185\" stroke-linecap=\"round\" style=\"stroke:black;stroke-width:1\" /><line x1=\"355.805\" y1=\"84.185\" x2=\"344.592\" y2=\"70.822\" stroke-linecap=\"round\" style=\"stroke:black;stroke-width:1\" /><line x1=\"344.592\" y1=\"70.822\" x2=\"331.229\" y2=\"59.609\" stroke-linecap=\"round\" style=\"stroke:black;stroke-width:1\" /><line x1=\"331.229\" y1=\"59.609\" x2=\"316.122\" y2=\"50.887\" stroke-linecap=\"round\" style=\"stroke:black;stroke-width:1\" /><line x1=\"316.122\" y1=\"50.887\" x2=\"299.73\" y2=\"44.921\" stroke-linecap=\"round\" style=\"stroke:black;stroke-width:1\" /><line x1=\"299.73\" y1=\"44.921\" x2=\"282.551\" y2=\"41.892\" stroke-linecap=\"round\" style=\"stroke:black;stroke-width:1\" /><line x1=\"282.551\" y1=\"41.892\" x2=\"265.107\" y2=\"41.892\" stroke-linecap=\"round\" style=\"stroke:black;stroke-width:1\" /><line x1=\"265.107\" y1=\"41.892\" x2=\"247.928\" y2=\"44.921\" stroke-linecap=\"round\" style=\"stroke:black;stroke-width:1\" /><line x1=\"247.928\" y1=\"44.921\" x2=\"231.536\" y2=\"50.887\" stroke-linecap=\"round\" style=\"stroke:black;stroke-width:1\" /><line x1=\"231.536\" y1=\"50.887\" x2=\"216.429\" y2=\"59.609\" stroke-linecap=\"round\" style=\"stroke:black;stroke-width:1\" /><line x1=\"216.429\" y1=\"59.609\" x2=\"203.066\" y2=\"70.822\" stroke-linecap=\"round\" style=\"stroke:black;stroke-width:1\" /><line x1=\"203.066\" y1=\"70.822\" x2=\"191.853\" y2=\"84.185\" stroke-linecap=\"round\" style=\"stroke:black;stroke-width:1\" /><line x1=\"191.853\" y1=\"84.185\" x2=\"183.131\" y2=\"99.292\" stroke-linecap=\"round\" style=\"stroke:black;stroke-width:1\" /><line x1=\"183.131\" y1=\"99.292\" x2=\"177.165\" y2=\"115.684\" stroke-linecap=\"round\" style=\"stroke:black;stroke-width:1\" /><line x1=\"177.165\" y1=\"115.684\" x2=\"174.136\" y2=\"132.863\" stroke-linecap=\"round\" style=\"stroke:black;stroke-width:1\" /><line x1=\"174.136\" y1=\"132.863\" x2=\"174.136\" y2=\"150.307\" stroke-linecap=\"round\" style=\"stroke:black;stroke-width:1\" /><line x1=\"174.136\" y1=\"150.307\" x2=\"177.165\" y2=\"167.486\" stroke-linecap=\"round\" style=\"stroke:black;stroke-width:1\" /><line x1=\"177.165\" y1=\"167.486\" x2=\"183.131\" y2=\"183.878\" stroke-linecap=\"round\" style=\"stroke:black;stroke-width:1\" /><line x1=\"183.131\" y1=\"183.878\" x2=\"191.853\" y2=\"198.985\" stroke-linecap=\"round\" style=\"stroke:black;stroke-width:1\" /><line x1=\"191.853\" y1=\"198.985\" x2=\"203.066\" y2=\"212.348\" stroke-linecap=\"round\" style=\"stroke:black;stroke-width:1\" /><line x1=\"203.066\" y1=\"212.348\" x2=\"216.429\" y2=\"223.561\" stroke-linecap=\"round\" style=\"stroke:black;stroke-width:1\" /><line x1=\"216.429\" y1=\"223.561\" x2=\"231.536\" y2=\"232.283\" stroke-linecap=\"round\" style=\"stroke:black;stroke-width:1\" /><line x1=\"231.536\" y1=\"232.283\" x2=\"247.928\" y2=\"238.249\" stroke-linecap=\"round\" style=\"stroke:black;stroke-width:1\" /><line x1=\"247.928\" y1=\"238.249\" x2=\"265.107\" y2=\"241.278\" stroke-linecap=\"round\" style=\"stroke:black;stroke-width:1\" /><line x1=\"265.107\" y1=\"241.278\" x2=\"282.551\" y2=\"241.278\" stroke-linecap=\"round\" style=\"stroke:black;stroke-width:1\" /><line x1=\"282.551\" y1=\"241.278\" x2=\"299.73\" y2=\"238.249\" stroke-linecap=\"round\" style=\"stroke:black;stroke-width:1\" /><line x1=\"299.73\" y1=\"238.249\" x2=\"316.122\" y2=\"232.283\" stroke-linecap=\"round\" style=\"stroke:black;stroke-width:1\" /><line x1=\"316.122\" y1=\"232.283\" x2=\"329.485\" y2=\"221.07\" stroke-linecap=\"round\" style=\"stroke:black;stroke-width:1\" /><line x1=\"329.485\" y1=\"221.07\" x2=\"342.848\" y2=\"209.857\" stroke-linecap=\"round\" style=\"stroke:black;stroke-width:1\" /><line x1=\"342.848\" y1=\"209.857\" x2=\"354.061\" y2=\"196.494\" stroke-linecap=\"round\" style=\"stroke:black;stroke-width:1\" /><line x1=\"354.061\" y1=\"196.494\" x2=\"362.783\" y2=\"181.387\" stroke-linecap=\"round\" style=\"stroke:black;stroke-width:1\" /><line x1=\"362.783\" y1=\"181.387\" x2=\"368.749\" y2=\"164.995\" stroke-linecap=\"round\" style=\"stroke:black;stroke-width:1\" /><line x1=\"368.749\" y1=\"164.995\" x2=\"371.778\" y2=\"147.816\" stroke-linecap=\"round\" style=\"stroke:black;stroke-width:1\" /><line x1=\"371.778\" y1=\"147.816\" x2=\"371.778\" y2=\"130.372\" stroke-linecap=\"round\" style=\"stroke:black;stroke-width:1\" /><line x1=\"371.778\" y1=\"130.372\" x2=\"368.749\" y2=\"113.193\" stroke-linecap=\"round\" style=\"stroke:black;stroke-width:1\" /><line x1=\"368.749\" y1=\"113.193\" x2=\"362.783\" y2=\"96.801\" stroke-linecap=\"round\" style=\"stroke:black;stroke-width:1\" /><line x1=\"362.783\" y1=\"96.801\" x2=\"354.061\" y2=\"81.694\" stroke-linecap=\"round\" style=\"stroke:black;stroke-width:1\" /><line x1=\"354.061\" y1=\"81.694\" x2=\"342.848\" y2=\"68.331\" stroke-linecap=\"round\" style=\"stroke:black;stroke-width:1\" /><line x1=\"342.848\" y1=\"68.331\" x2=\"329.485\" y2=\"57.118\" stroke-linecap=\"round\" style=\"stroke:black;stroke-width:1\" /><line x1=\"329.485\" y1=\"57.118\" x2=\"314.378\" y2=\"48.396\" stroke-linecap=\"round\" style=\"stroke:black;stroke-width:1\" /><line x1=\"314.378\" y1=\"48.396\" x2=\"297.986\" y2=\"42.43\" stroke-linecap=\"round\" style=\"stroke:black;stroke-width:1\" /><line x1=\"297.986\" y1=\"42.43\" x2=\"280.807\" y2=\"39.401\" stroke-linecap=\"round\" style=\"stroke:black;stroke-width:1\" /><line x1=\"280.807\" y1=\"39.401\" x2=\"263.363\" y2=\"39.401\" stroke-linecap=\"round\" style=\"stroke:black;stroke-width:1\" /><line x1=\"263.363\" y1=\"39.401\" x2=\"246.184\" y2=\"42.43\" stroke-linecap=\"round\" style=\"stroke:black;stroke-width:1\" /><line x1=\"246.184\" y1=\"42.43\" x2=\"229.792\" y2=\"48.396\" stroke-linecap=\"round\" style=\"stroke:black;stroke-width:1\" /><line x1=\"229.792\" y1=\"48.396\" x2=\"214.685\" y2=\"57.118\" stroke-linecap=\"round\" style=\"stroke:black;stroke-width:1\" /><line x1=\"214.685\" y1=\"57.118\" x2=\"201.322\" y2=\"68.331\" stroke-linecap=\"round\" style=\"stroke:black;stroke-width:1\" /><line x1=\"201.322\" y1=\"68.331\" x2=\"190.109\" y2=\"81.694\" stroke-linecap=\"round\" style=\"stroke:black;stroke-width:1\" /><line x1=\"190.109\" y1=\"81.694\" x2=\"181.387\" y2=\"96.801\" stroke-linecap=\"round\" style=\"stroke:black;stroke-width:1\" /><line x1=\"181.387\" y1=\"96.801\" x2=\"175.421\" y2=\"113.193\" stroke-linecap=\"round\" style=\"stroke:black;stroke-width:1\" /><line x1=\"175.421\" y1=\"113.193\" x2=\"172.392\" y2=\"130.372\" stroke-linecap=\"round\" style=\"stroke:black;stroke-width:1\" /><line x1=\"172.392\" y1=\"130.372\" x2=\"172.392\" y2=\"147.816\" stroke-linecap=\"round\" style=\"stroke:black;stroke-width:1\" /><line x1=\"172.392\" y1=\"147.816\" x2=\"175.421\" y2=\"164.995\" stroke-linecap=\"round\" style=\"stroke:black;stroke-width:1\" /><line x1=\"175.421\" y1=\"164.995\" x2=\"181.387\" y2=\"181.387\" stroke-linecap=\"round\" style=\"stroke:black;stroke-width:1\" /><line x1=\"181.387\" y1=\"181.387\" x2=\"190.109\" y2=\"196.494\" stroke-linecap=\"round\" style=\"stroke:black;stroke-width:1\" /><line x1=\"190.109\" y1=\"196.494\" x2=\"201.322\" y2=\"209.857\" stroke-linecap=\"round\" style=\"stroke:black;stroke-width:1\" /><line x1=\"201.322\" y1=\"209.857\" x2=\"214.685\" y2=\"221.07\" stroke-linecap=\"round\" style=\"stroke:black;stroke-width:1\" /><line x1=\"214.685\" y1=\"221.07\" x2=\"229.792\" y2=\"229.792\" stroke-linecap=\"round\" style=\"stroke:black;stroke-width:1\" /><line x1=\"229.792\" y1=\"229.792\" x2=\"246.184\" y2=\"235.758\" stroke-linecap=\"round\" style=\"stroke:black;stroke-width:1\" /><line x1=\"246.184\" y1=\"235.758\" x2=\"263.363\" y2=\"238.787\" stroke-linecap=\"round\" style=\"stroke:black;stroke-width:1\" /><line x1=\"263.363\" y1=\"238.787\" x2=\"280.807\" y2=\"238.787\" stroke-linecap=\"round\" style=\"stroke:black;stroke-width:1\" /><line x1=\"280.807\" y1=\"238.787\" x2=\"297.986\" y2=\"235.758\" stroke-linecap=\"round\" style=\"stroke:black;stroke-width:1\" /><line x1=\"297.986\" y1=\"235.758\" x2=\"314.378\" y2=\"229.792\" stroke-linecap=\"round\" style=\"stroke:black;stroke-width:1\" /><line x1=\"314.378\" y1=\"229.792\" x2=\"329.485\" y2=\"221.07\" stroke-linecap=\"round\" style=\"stroke:black;stroke-width:1\" /><line x1=\"329.485\" y1=\"221.07\" x2=\"340.698\" y2=\"207.707\" stroke-linecap=\"round\" style=\"stroke:black;stroke-width:1\" /><line x1=\"340.698\" y1=\"207.707\" x2=\"351.911\" y2=\"194.344\" stroke-linecap=\"round\" style=\"stroke:black;stroke-width:1\" /><line x1=\"351.911\" y1=\"194.344\" x2=\"360.633\" y2=\"179.237\" stroke-linecap=\"round\" style=\"stroke:black;stroke-width:1\" /><line x1=\"360.633\" y1=\"179.237\" x2=\"366.599\" y2=\"162.845\" stroke-linecap=\"round\" style=\"stroke:black;stroke-width:1\" /><line x1=\"366.599\" y1=\"162.845\" x2=\"369.628\" y2=\"145.666\" stroke-linecap=\"round\" style=\"stroke:black;stroke-width:1\" /><line x1=\"369.628\" y1=\"145.666\" x2=\"369.628\" y2=\"128.222\" stroke-linecap=\"round\" style=\"stroke:black;stroke-width:1\" /><line x1=\"369.628\" y1=\"128.222\" x2=\"366.599\" y2=\"111.043\" stroke-linecap=\"round\" style=\"stroke:black;stroke-width:1\" /><line x1=\"366.599\" y1=\"111.043\" x2=\"360.633\" y2=\"94.651\" stroke-linecap=\"round\" style=\"stroke:black;stroke-width:1\" /><line x1=\"360.633\" y1=\"94.651\" x2=\"351.911\" y2=\"79.544\" stroke-linecap=\"round\" style=\"stroke:black;stroke-width:1\" /><line x1=\"351.911\" y1=\"79.544\" x2=\"340.698\" y2=\"66.181\" stroke-linecap=\"round\" style=\"stroke:black;stroke-width:1\" /><line x1=\"340.698\" y1=\"66.181\" x2=\"327.335\" y2=\"54.968\" stroke-linecap=\"round\" style=\"stroke:black;stroke-width:1\" /><line x1=\"327.335\" y1=\"54.968\" x2=\"312.228\" y2=\"46.246\" stroke-linecap=\"round\" style=\"stroke:black;stroke-width:1\" /><line x1=\"312.228\" y1=\"46.246\" x2=\"295.836\" y2=\"40.28\" stroke-linecap=\"round\" style=\"stroke:black;stroke-width:1\" /><line x1=\"295.836\" y1=\"40.28\" x2=\"278.657\" y2=\"37.251\" stroke-linecap=\"round\" style=\"stroke:black;stroke-width:1\" /><line x1=\"278.657\" y1=\"37.251\" x2=\"261.213\" y2=\"37.251\" stroke-linecap=\"round\" style=\"stroke:black;stroke-width:1\" /><line x1=\"261.213\" y1=\"37.251\" x2=\"244.034\" y2=\"40.28\" stroke-linecap=\"round\" style=\"stroke:black;stroke-width:1\" /><line x1=\"244.034\" y1=\"40.28\" x2=\"227.642\" y2=\"46.246\" stroke-linecap=\"round\" style=\"stroke:black;stroke-width:1\" /><line x1=\"227.642\" y1=\"46.246\" x2=\"212.535\" y2=\"54.968\" stroke-linecap=\"round\" style=\"stroke:black;stroke-width:1\" /><line x1=\"212.535\" y1=\"54.968\" x2=\"199.172\" y2=\"66.181\" stroke-linecap=\"round\" style=\"stroke:black;stroke-width:1\" /><line x1=\"199.172\" y1=\"66.181\" x2=\"187.959\" y2=\"79.544\" stroke-linecap=\"round\" style=\"stroke:black;stroke-width:1\" /><line x1=\"187.959\" y1=\"79.544\" x2=\"179.237\" y2=\"94.651\" stroke-linecap=\"round\" style=\"stroke:black;stroke-width:1\" /><line x1=\"179.237\" y1=\"94.651\" x2=\"173.271\" y2=\"111.043\" stroke-linecap=\"round\" style=\"stroke:black;stroke-width:1\" /><line x1=\"173.271\" y1=\"111.043\" x2=\"170.242\" y2=\"128.222\" stroke-linecap=\"round\" style=\"stroke:black;stroke-width:1\" /><line x1=\"170.242\" y1=\"128.222\" x2=\"170.242\" y2=\"145.666\" stroke-linecap=\"round\" style=\"stroke:black;stroke-width:1\" /><line x1=\"170.242\" y1=\"145.666\" x2=\"173.271\" y2=\"162.845\" stroke-linecap=\"round\" style=\"stroke:black;stroke-width:1\" /><line x1=\"173.271\" y1=\"162.845\" x2=\"179.237\" y2=\"179.237\" stroke-linecap=\"round\" style=\"stroke:black;stroke-width:1\" /><line x1=\"179.237\" y1=\"179.237\" x2=\"187.959\" y2=\"194.344\" stroke-linecap=\"round\" style=\"stroke:black;stroke-width:1\" /><line x1=\"187.959\" y1=\"194.344\" x2=\"199.172\" y2=\"207.707\" stroke-linecap=\"round\" style=\"stroke:black;stroke-width:1\" /><line x1=\"199.172\" y1=\"207.707\" x2=\"212.535\" y2=\"218.92\" stroke-linecap=\"round\" style=\"stroke:black;stroke-width:1\" /><line x1=\"212.535\" y1=\"218.92\" x2=\"227.642\" y2=\"227.642\" stroke-linecap=\"round\" style=\"stroke:black;stroke-width:1\" /><line x1=\"227.642\" y1=\"227.642\" x2=\"244.034\" y2=\"233.608\" stroke-linecap=\"round\" style=\"stroke:black;stroke-width:1\" /><line x1=\"244.034\" y1=\"233.608\" x2=\"261.213\" y2=\"236.637\" stroke-linecap=\"round\" style=\"stroke:black;stroke-width:1\" /><line x1=\"261.213\" y1=\"236.637\" x2=\"278.657\" y2=\"236.637\" stroke-linecap=\"round\" style=\"stroke:black;stroke-width:1\" /><line x1=\"278.657\" y1=\"236.637\" x2=\"295.836\" y2=\"233.608\" stroke-linecap=\"round\" style=\"stroke:black;stroke-width:1\" /><line x1=\"295.836\" y1=\"233.608\" x2=\"312.228\" y2=\"227.642\" stroke-linecap=\"round\" style=\"stroke:black;stroke-width:1\" /><line x1=\"312.228\" y1=\"227.642\" x2=\"327.335\" y2=\"218.92\" stroke-linecap=\"round\" style=\"stroke:black;stroke-width:1\" /><line x1=\"327.335\" y1=\"218.92\" x2=\"340.698\" y2=\"207.707\" stroke-linecap=\"round\" style=\"stroke:black;stroke-width:1\" /><line x1=\"340.698\" y1=\"207.707\" x2=\"349.42\" y2=\"192.6\" stroke-linecap=\"round\" style=\"stroke:black;stroke-width:1\" /><line x1=\"349.42\" y1=\"192.6\" x2=\"358.142\" y2=\"177.493\" stroke-linecap=\"round\" style=\"stroke:black;stroke-width:1\" /><line x1=\"358.142\" y1=\"177.493\" x2=\"364.108\" y2=\"161.101\" stroke-linecap=\"round\" style=\"stroke:black;stroke-width:1\" /><line x1=\"364.108\" y1=\"161.101\" x2=\"367.137\" y2=\"143.922\" stroke-linecap=\"round\" style=\"stroke:black;stroke-width:1\" /><line x1=\"367.137\" y1=\"143.922\" x2=\"367.137\" y2=\"126.478\" stroke-linecap=\"round\" style=\"stroke:black;stroke-width:1\" /><line x1=\"367.137\" y1=\"126.478\" x2=\"364.108\" y2=\"109.299\" stroke-linecap=\"round\" style=\"stroke:black;stroke-width:1\" /><line x1=\"364.108\" y1=\"109.299\" x2=\"358.142\" y2=\"92.907\" stroke-linecap=\"round\" style=\"stroke:black;stroke-width:1\" /><line x1=\"358.142\" y1=\"92.907\" x2=\"349.42\" y2=\"77.8\" stroke-linecap=\"round\" style=\"stroke:black;stroke-width:1\" /><line x1=\"349.42\" y1=\"77.8\" x2=\"338.207\" y2=\"64.437\" stroke-linecap=\"round\" style=\"stroke:black;stroke-width:1\" /><line x1=\"338.207\" y1=\"64.437\" x2=\"324.844\" y2=\"53.224\" stroke-linecap=\"round\" style=\"stroke:black;stroke-width:1\" /><line x1=\"324.844\" y1=\"53.224\" x2=\"309.737\" y2=\"44.502\" stroke-linecap=\"round\" style=\"stroke:black;stroke-width:1\" /><line x1=\"309.737\" y1=\"44.502\" x2=\"293.345\" y2=\"38.536\" stroke-linecap=\"round\" style=\"stroke:black;stroke-width:1\" /><line x1=\"293.345\" y1=\"38.536\" x2=\"276.166\" y2=\"35.507\" stroke-linecap=\"round\" style=\"stroke:black;stroke-width:1\" /><line x1=\"276.166\" y1=\"35.507\" x2=\"258.722\" y2=\"35.507\" stroke-linecap=\"round\" style=\"stroke:black;stroke-width:1\" /><line x1=\"258.722\" y1=\"35.507\" x2=\"241.543\" y2=\"38.536\" stroke-linecap=\"round\" style=\"stroke:black;stroke-width:1\" /><line x1=\"241.543\" y1=\"38.536\" x2=\"225.151\" y2=\"44.502\" stroke-linecap=\"round\" style=\"stroke:black;stroke-width:1\" /><line x1=\"225.151\" y1=\"44.502\" x2=\"210.044\" y2=\"53.224\" stroke-linecap=\"round\" style=\"stroke:black;stroke-width:1\" /><line x1=\"210.044\" y1=\"53.224\" x2=\"196.681\" y2=\"64.437\" stroke-linecap=\"round\" style=\"stroke:black;stroke-width:1\" /><line x1=\"196.681\" y1=\"64.437\" x2=\"185.468\" y2=\"77.8\" stroke-linecap=\"round\" style=\"stroke:black;stroke-width:1\" /><line x1=\"185.468\" y1=\"77.8\" x2=\"176.746\" y2=\"92.907\" stroke-linecap=\"round\" style=\"stroke:black;stroke-width:1\" /><line x1=\"176.746\" y1=\"92.907\" x2=\"170.78\" y2=\"109.299\" stroke-linecap=\"round\" style=\"stroke:black;stroke-width:1\" /><line x1=\"170.78\" y1=\"109.299\" x2=\"167.751\" y2=\"126.478\" stroke-linecap=\"round\" style=\"stroke:black;stroke-width:1\" /><line x1=\"167.751\" y1=\"126.478\" x2=\"167.751\" y2=\"143.922\" stroke-linecap=\"round\" style=\"stroke:black;stroke-width:1\" /><line x1=\"167.751\" y1=\"143.922\" x2=\"170.78\" y2=\"161.101\" stroke-linecap=\"round\" style=\"stroke:black;stroke-width:1\" /><line x1=\"170.78\" y1=\"161.101\" x2=\"176.746\" y2=\"177.493\" stroke-linecap=\"round\" style=\"stroke:black;stroke-width:1\" /><line x1=\"176.746\" y1=\"177.493\" x2=\"185.468\" y2=\"192.6\" stroke-linecap=\"round\" style=\"stroke:black;stroke-width:1\" /><line x1=\"185.468\" y1=\"192.6\" x2=\"196.681\" y2=\"205.963\" stroke-linecap=\"round\" style=\"stroke:black;stroke-width:1\" /><line x1=\"196.681\" y1=\"205.963\" x2=\"210.044\" y2=\"217.176\" stroke-linecap=\"round\" style=\"stroke:black;stroke-width:1\" /><line x1=\"210.044\" y1=\"217.176\" x2=\"225.151\" y2=\"225.898\" stroke-linecap=\"round\" style=\"stroke:black;stroke-width:1\" /><line x1=\"225.151\" y1=\"225.898\" x2=\"241.543\" y2=\"231.864\" stroke-linecap=\"round\" style=\"stroke:black;stroke-width:1\" /><line x1=\"241.543\" y1=\"231.864\" x2=\"258.722\" y2=\"234.893\" stroke-linecap=\"round\" style=\"stroke:black;stroke-width:1\" /><line x1=\"258.722\" y1=\"234.893\" x2=\"276.166\" y2=\"234.893\" stroke-linecap=\"round\" style=\"stroke:black;stroke-width:1\" /><line x1=\"276.166\" y1=\"234.893\" x2=\"293.345\" y2=\"231.864\" stroke-linecap=\"round\" style=\"stroke:black;stroke-width:1\" /><line x1=\"293.345\" y1=\"231.864\" x2=\"309.737\" y2=\"225.898\" stroke-linecap=\"round\" style=\"stroke:black;stroke-width:1\" /><line x1=\"309.737\" y1=\"225.898\" x2=\"324.844\" y2=\"217.176\" stroke-linecap=\"round\" style=\"stroke:black;stroke-width:1\" /><line x1=\"324.844\" y1=\"217.176\" x2=\"338.207\" y2=\"205.963\" stroke-linecap=\"round\" style=\"stroke:black;stroke-width:1\" /><line x1=\"338.207\" y1=\"205.963\" x2=\"349.42\" y2=\"192.6\" stroke-linecap=\"round\" style=\"stroke:black;stroke-width:1\" /><line x1=\"349.42\" y1=\"192.6\" x2=\"355.386\" y2=\"176.208\" stroke-linecap=\"round\" style=\"stroke:black;stroke-width:1\" /><line x1=\"355.386\" y1=\"176.208\" x2=\"361.352\" y2=\"159.816\" stroke-linecap=\"round\" style=\"stroke:black;stroke-width:1\" /><line x1=\"361.352\" y1=\"159.816\" x2=\"364.381\" y2=\"142.637\" stroke-linecap=\"round\" style=\"stroke:black;stroke-width:1\" /><line x1=\"364.381\" y1=\"142.637\" x2=\"364.381\" y2=\"125.193\" stroke-linecap=\"round\" style=\"stroke:black;stroke-width:1\" /><line x1=\"364.381\" y1=\"125.193\" x2=\"361.352\" y2=\"108.014\" stroke-linecap=\"round\" style=\"stroke:black;stroke-width:1\" /><line x1=\"361.352\" y1=\"108.014\" x2=\"355.386\" y2=\"91.622\" stroke-linecap=\"round\" style=\"stroke:black;stroke-width:1\" /><line x1=\"355.386\" y1=\"91.622\" x2=\"346.664\" y2=\"76.515\" stroke-linecap=\"round\" style=\"stroke:black;stroke-width:1\" /><line x1=\"346.664\" y1=\"76.515\" x2=\"335.451\" y2=\"63.152\" stroke-linecap=\"round\" style=\"stroke:black;stroke-width:1\" /><line x1=\"335.451\" y1=\"63.152\" x2=\"322.088\" y2=\"51.939\" stroke-linecap=\"round\" style=\"stroke:black;stroke-width:1\" /><line x1=\"322.088\" y1=\"51.939\" x2=\"306.981\" y2=\"43.217\" stroke-linecap=\"round\" style=\"stroke:black;stroke-width:1\" /><line x1=\"306.981\" y1=\"43.217\" x2=\"290.589\" y2=\"37.251\" stroke-linecap=\"round\" style=\"stroke:black;stroke-width:1\" /><line x1=\"290.589\" y1=\"37.251\" x2=\"273.41\" y2=\"34.222\" stroke-linecap=\"round\" style=\"stroke:black;stroke-width:1\" /><line x1=\"273.41\" y1=\"34.222\" x2=\"255.966\" y2=\"34.222\" stroke-linecap=\"round\" style=\"stroke:black;stroke-width:1\" /><line x1=\"255.966\" y1=\"34.222\" x2=\"238.787\" y2=\"37.251\" stroke-linecap=\"round\" style=\"stroke:black;stroke-width:1\" /><line x1=\"238.787\" y1=\"37.251\" x2=\"222.395\" y2=\"43.217\" stroke-linecap=\"round\" style=\"stroke:black;stroke-width:1\" /><line x1=\"222.395\" y1=\"43.217\" x2=\"207.288\" y2=\"51.939\" stroke-linecap=\"round\" style=\"stroke:black;stroke-width:1\" /><line x1=\"207.288\" y1=\"51.939\" x2=\"193.925\" y2=\"63.152\" stroke-linecap=\"round\" style=\"stroke:black;stroke-width:1\" /><line x1=\"193.925\" y1=\"63.152\" x2=\"182.712\" y2=\"76.515\" stroke-linecap=\"round\" style=\"stroke:black;stroke-width:1\" /><line x1=\"182.712\" y1=\"76.515\" x2=\"173.99\" y2=\"91.622\" stroke-linecap=\"round\" style=\"stroke:black;stroke-width:1\" /><line x1=\"173.99\" y1=\"91.622\" x2=\"168.024\" y2=\"108.014\" stroke-linecap=\"round\" style=\"stroke:black;stroke-width:1\" /><line x1=\"168.024\" y1=\"108.014\" x2=\"164.995\" y2=\"125.193\" stroke-linecap=\"round\" style=\"stroke:black;stroke-width:1\" /><line x1=\"164.995\" y1=\"125.193\" x2=\"164.995\" y2=\"142.637\" stroke-linecap=\"round\" style=\"stroke:black;stroke-width:1\" /><line x1=\"164.995\" y1=\"142.637\" x2=\"168.024\" y2=\"159.816\" stroke-linecap=\"round\" style=\"stroke:black;stroke-width:1\" /><line x1=\"168.024\" y1=\"159.816\" x2=\"173.99\" y2=\"176.208\" stroke-linecap=\"round\" style=\"stroke:black;stroke-width:1\" /><line x1=\"173.99\" y1=\"176.208\" x2=\"182.712\" y2=\"191.315\" stroke-linecap=\"round\" style=\"stroke:black;stroke-width:1\" /><line x1=\"182.712\" y1=\"191.315\" x2=\"193.925\" y2=\"204.678\" stroke-linecap=\"round\" style=\"stroke:black;stroke-width:1\" /><line x1=\"193.925\" y1=\"204.678\" x2=\"207.288\" y2=\"215.891\" stroke-linecap=\"round\" style=\"stroke:black;stroke-width:1\" /><line x1=\"207.288\" y1=\"215.891\" x2=\"222.395\" y2=\"224.613\" stroke-linecap=\"round\" style=\"stroke:black;stroke-width:1\" /><line x1=\"222.395\" y1=\"224.613\" x2=\"238.787\" y2=\"230.579\" stroke-linecap=\"round\" style=\"stroke:black;stroke-width:1\" /><line x1=\"238.787\" y1=\"230.579\" x2=\"255.966\" y2=\"233.608\" stroke-linecap=\"round\" style=\"stroke:black;stroke-width:1\" /><line x1=\"255.966\" y1=\"233.608\" x2=\"273.41\" y2=\"233.608\" stroke-linecap=\"round\" style=\"stroke:black;stroke-width:1\" /><line x1=\"273.41\" y1=\"233.608\" x2=\"290.589\" y2=\"230.579\" stroke-linecap=\"round\" style=\"stroke:black;stroke-width:1\" /><line x1=\"290.589\" y1=\"230.579\" x2=\"306.981\" y2=\"224.613\" stroke-linecap=\"round\" style=\"stroke:black;stroke-width:1\" /><line x1=\"306.981\" y1=\"224.613\" x2=\"322.088\" y2=\"215.891\" stroke-linecap=\"round\" style=\"stroke:black;stroke-width:1\" /><line x1=\"322.088\" y1=\"215.891\" x2=\"335.451\" y2=\"204.678\" stroke-linecap=\"round\" style=\"stroke:black;stroke-width:1\" /><line x1=\"335.451\" y1=\"204.678\" x2=\"346.664\" y2=\"191.315\" stroke-linecap=\"round\" style=\"stroke:black;stroke-width:1\" /><line x1=\"346.664\" y1=\"191.315\" x2=\"355.386\" y2=\"176.208\" stroke-linecap=\"round\" style=\"stroke:black;stroke-width:1\" /><line x1=\"355.386\" y1=\"176.208\" x2=\"358.415\" y2=\"159.029\" stroke-linecap=\"round\" style=\"stroke:black;stroke-width:1\" /><line x1=\"358.415\" y1=\"159.029\" x2=\"361.444\" y2=\"141.85\" stroke-linecap=\"round\" style=\"stroke:black;stroke-width:1\" /><line x1=\"361.444\" y1=\"141.85\" x2=\"361.444\" y2=\"124.406\" stroke-linecap=\"round\" style=\"stroke:black;stroke-width:1\" /><line x1=\"361.444\" y1=\"124.406\" x2=\"358.415\" y2=\"107.227\" stroke-linecap=\"round\" style=\"stroke:black;stroke-width:1\" /><line x1=\"358.415\" y1=\"107.227\" x2=\"352.449\" y2=\"90.835\" stroke-linecap=\"round\" style=\"stroke:black;stroke-width:1\" /><line x1=\"352.449\" y1=\"90.835\" x2=\"343.727\" y2=\"75.728\" stroke-linecap=\"round\" style=\"stroke:black;stroke-width:1\" /><line x1=\"343.727\" y1=\"75.728\" x2=\"332.514\" y2=\"62.365\" stroke-linecap=\"round\" style=\"stroke:black;stroke-width:1\" /><line x1=\"332.514\" y1=\"62.365\" x2=\"319.151\" y2=\"51.152\" stroke-linecap=\"round\" style=\"stroke:black;stroke-width:1\" /><line x1=\"319.151\" y1=\"51.152\" x2=\"304.044\" y2=\"42.43\" stroke-linecap=\"round\" style=\"stroke:black;stroke-width:1\" /><line x1=\"304.044\" y1=\"42.43\" x2=\"287.652\" y2=\"36.464\" stroke-linecap=\"round\" style=\"stroke:black;stroke-width:1\" /><line x1=\"287.652\" y1=\"36.464\" x2=\"270.473\" y2=\"33.435\" stroke-linecap=\"round\" style=\"stroke:black;stroke-width:1\" /><line x1=\"270.473\" y1=\"33.435\" x2=\"253.029\" y2=\"33.435\" stroke-linecap=\"round\" style=\"stroke:black;stroke-width:1\" /><line x1=\"253.029\" y1=\"33.435\" x2=\"235.85\" y2=\"36.464\" stroke-linecap=\"round\" style=\"stroke:black;stroke-width:1\" /><line x1=\"235.85\" y1=\"36.464\" x2=\"219.458\" y2=\"42.43\" stroke-linecap=\"round\" style=\"stroke:black;stroke-width:1\" /><line x1=\"219.458\" y1=\"42.43\" x2=\"204.351\" y2=\"51.152\" stroke-linecap=\"round\" style=\"stroke:black;stroke-width:1\" /><line x1=\"204.351\" y1=\"51.152\" x2=\"190.988\" y2=\"62.365\" stroke-linecap=\"round\" style=\"stroke:black;stroke-width:1\" /><line x1=\"190.988\" y1=\"62.365\" x2=\"179.775\" y2=\"75.728\" stroke-linecap=\"round\" style=\"stroke:black;stroke-width:1\" /><line x1=\"179.775\" y1=\"75.728\" x2=\"171.053\" y2=\"90.835\" stroke-linecap=\"round\" style=\"stroke:black;stroke-width:1\" /><line x1=\"171.053\" y1=\"90.835\" x2=\"165.087\" y2=\"107.227\" stroke-linecap=\"round\" style=\"stroke:black;stroke-width:1\" /><line x1=\"165.087\" y1=\"107.227\" x2=\"162.058\" y2=\"124.406\" stroke-linecap=\"round\" style=\"stroke:black;stroke-width:1\" /><line x1=\"162.058\" y1=\"124.406\" x2=\"162.058\" y2=\"141.85\" stroke-linecap=\"round\" style=\"stroke:black;stroke-width:1\" /><line x1=\"162.058\" y1=\"141.85\" x2=\"165.087\" y2=\"159.029\" stroke-linecap=\"round\" style=\"stroke:black;stroke-width:1\" /><line x1=\"165.087\" y1=\"159.029\" x2=\"171.053\" y2=\"175.421\" stroke-linecap=\"round\" style=\"stroke:black;stroke-width:1\" /><line x1=\"171.053\" y1=\"175.421\" x2=\"179.775\" y2=\"190.528\" stroke-linecap=\"round\" style=\"stroke:black;stroke-width:1\" /><line x1=\"179.775\" y1=\"190.528\" x2=\"190.988\" y2=\"203.891\" stroke-linecap=\"round\" style=\"stroke:black;stroke-width:1\" /><line x1=\"190.988\" y1=\"203.891\" x2=\"204.351\" y2=\"215.104\" stroke-linecap=\"round\" style=\"stroke:black;stroke-width:1\" /><line x1=\"204.351\" y1=\"215.104\" x2=\"219.458\" y2=\"223.826\" stroke-linecap=\"round\" style=\"stroke:black;stroke-width:1\" /><line x1=\"219.458\" y1=\"223.826\" x2=\"235.85\" y2=\"229.792\" stroke-linecap=\"round\" style=\"stroke:black;stroke-width:1\" /><line x1=\"235.85\" y1=\"229.792\" x2=\"253.029\" y2=\"232.821\" stroke-linecap=\"round\" style=\"stroke:black;stroke-width:1\" /><line x1=\"253.029\" y1=\"232.821\" x2=\"270.473\" y2=\"232.821\" stroke-linecap=\"round\" style=\"stroke:black;stroke-width:1\" /><line x1=\"270.473\" y1=\"232.821\" x2=\"287.652\" y2=\"229.792\" stroke-linecap=\"round\" style=\"stroke:black;stroke-width:1\" /><line x1=\"287.652\" y1=\"229.792\" x2=\"304.044\" y2=\"223.826\" stroke-linecap=\"round\" style=\"stroke:black;stroke-width:1\" /><line x1=\"304.044\" y1=\"223.826\" x2=\"319.151\" y2=\"215.104\" stroke-linecap=\"round\" style=\"stroke:black;stroke-width:1\" /><line x1=\"319.151\" y1=\"215.104\" x2=\"332.514\" y2=\"203.891\" stroke-linecap=\"round\" style=\"stroke:black;stroke-width:1\" /><line x1=\"332.514\" y1=\"203.891\" x2=\"343.727\" y2=\"190.528\" stroke-linecap=\"round\" style=\"stroke:black;stroke-width:1\" /><line x1=\"343.727\" y1=\"190.528\" x2=\"352.449\" y2=\"175.421\" stroke-linecap=\"round\" style=\"stroke:black;stroke-width:1\" /><line x1=\"352.449\" y1=\"175.421\" x2=\"358.415\" y2=\"159.029\" stroke-linecap=\"round\" style=\"stroke:black;stroke-width:1\" /><line x1=\"358.415\" y1=\"159.029\" x2=\"358.415\" y2=\"141.585\" stroke-linecap=\"round\" style=\"stroke:black;stroke-width:1\" /><line x1=\"358.415\" y1=\"141.585\" x2=\"358.415\" y2=\"124.141\" stroke-linecap=\"round\" style=\"stroke:black;stroke-width:1\" /><line x1=\"358.415\" y1=\"124.141\" x2=\"355.386\" y2=\"106.962\" stroke-linecap=\"round\" style=\"stroke:black;stroke-width:1\" /><line x1=\"355.386\" y1=\"106.962\" x2=\"349.42\" y2=\"90.57\" stroke-linecap=\"round\" style=\"stroke:black;stroke-width:1\" /><line x1=\"349.42\" y1=\"90.57\" x2=\"340.698\" y2=\"75.463\" stroke-linecap=\"round\" style=\"stroke:black;stroke-width:1\" /><line x1=\"340.698\" y1=\"75.463\" x2=\"329.485\" y2=\"62.1\" stroke-linecap=\"round\" style=\"stroke:black;stroke-width:1\" /><line x1=\"329.485\" y1=\"62.1\" x2=\"316.122\" y2=\"50.887\" stroke-linecap=\"round\" style=\"stroke:black;stroke-width:1\" /><line x1=\"316.122\" y1=\"50.887\" x2=\"301.015\" y2=\"42.165\" stroke-linecap=\"round\" style=\"stroke:black;stroke-width:1\" /><line x1=\"301.015\" y1=\"42.165\" x2=\"284.623\" y2=\"36.199\" stroke-linecap=\"round\" style=\"stroke:black;stroke-width:1\" /><line x1=\"284.623\" y1=\"36.199\" x2=\"267.444\" y2=\"33.17\" stroke-linecap=\"round\" style=\"stroke:black;stroke-width:1\" /><line x1=\"267.444\" y1=\"33.17\" x2=\"250.0\" y2=\"33.17\" stroke-linecap=\"round\" style=\"stroke:black;stroke-width:1\" /><line x1=\"250.0\" y1=\"33.17\" x2=\"232.821\" y2=\"36.199\" stroke-linecap=\"round\" style=\"stroke:black;stroke-width:1\" /><line x1=\"232.821\" y1=\"36.199\" x2=\"216.429\" y2=\"42.165\" stroke-linecap=\"round\" style=\"stroke:black;stroke-width:1\" /><line x1=\"216.429\" y1=\"42.165\" x2=\"201.322\" y2=\"50.887\" stroke-linecap=\"round\" style=\"stroke:black;stroke-width:1\" /><line x1=\"201.322\" y1=\"50.887\" x2=\"187.959\" y2=\"62.1\" stroke-linecap=\"round\" style=\"stroke:black;stroke-width:1\" /><line x1=\"187.959\" y1=\"62.1\" x2=\"176.746\" y2=\"75.463\" stroke-linecap=\"round\" style=\"stroke:black;stroke-width:1\" /><line x1=\"176.746\" y1=\"75.463\" x2=\"168.024\" y2=\"90.57\" stroke-linecap=\"round\" style=\"stroke:black;stroke-width:1\" /><line x1=\"168.024\" y1=\"90.57\" x2=\"162.058\" y2=\"106.962\" stroke-linecap=\"round\" style=\"stroke:black;stroke-width:1\" /><line x1=\"162.058\" y1=\"106.962\" x2=\"159.029\" y2=\"124.141\" stroke-linecap=\"round\" style=\"stroke:black;stroke-width:1\" /><line x1=\"159.029\" y1=\"124.141\" x2=\"159.029\" y2=\"141.585\" stroke-linecap=\"round\" style=\"stroke:black;stroke-width:1\" /><line x1=\"159.029\" y1=\"141.585\" x2=\"162.058\" y2=\"158.764\" stroke-linecap=\"round\" style=\"stroke:black;stroke-width:1\" /><line x1=\"162.058\" y1=\"158.764\" x2=\"168.024\" y2=\"175.156\" stroke-linecap=\"round\" style=\"stroke:black;stroke-width:1\" /><line x1=\"168.024\" y1=\"175.156\" x2=\"176.746\" y2=\"190.263\" stroke-linecap=\"round\" style=\"stroke:black;stroke-width:1\" /><line x1=\"176.746\" y1=\"190.263\" x2=\"187.959\" y2=\"203.626\" stroke-linecap=\"round\" style=\"stroke:black;stroke-width:1\" /><line x1=\"187.959\" y1=\"203.626\" x2=\"201.322\" y2=\"214.839\" stroke-linecap=\"round\" style=\"stroke:black;stroke-width:1\" /><line x1=\"201.322\" y1=\"214.839\" x2=\"216.429\" y2=\"223.561\" stroke-linecap=\"round\" style=\"stroke:black;stroke-width:1\" /><line x1=\"216.429\" y1=\"223.561\" x2=\"232.821\" y2=\"229.527\" stroke-linecap=\"round\" style=\"stroke:black;stroke-width:1\" /><line x1=\"232.821\" y1=\"229.527\" x2=\"250.0\" y2=\"232.556\" stroke-linecap=\"round\" style=\"stroke:black;stroke-width:1\" /><line x1=\"250.0\" y1=\"232.556\" x2=\"267.444\" y2=\"232.556\" stroke-linecap=\"round\" style=\"stroke:black;stroke-width:1\" /><line x1=\"267.444\" y1=\"232.556\" x2=\"284.623\" y2=\"229.527\" stroke-linecap=\"round\" style=\"stroke:black;stroke-width:1\" /><line x1=\"284.623\" y1=\"229.527\" x2=\"301.015\" y2=\"223.561\" stroke-linecap=\"round\" style=\"stroke:black;stroke-width:1\" /><line x1=\"301.015\" y1=\"223.561\" x2=\"316.122\" y2=\"214.839\" stroke-linecap=\"round\" style=\"stroke:black;stroke-width:1\" /><line x1=\"316.122\" y1=\"214.839\" x2=\"329.485\" y2=\"203.626\" stroke-linecap=\"round\" style=\"stroke:black;stroke-width:1\" /><line x1=\"329.485\" y1=\"203.626\" x2=\"340.698\" y2=\"190.263\" stroke-linecap=\"round\" style=\"stroke:black;stroke-width:1\" /><line x1=\"340.698\" y1=\"190.263\" x2=\"349.42\" y2=\"175.156\" stroke-linecap=\"round\" style=\"stroke:black;stroke-width:1\" /><line x1=\"349.42\" y1=\"175.156\" x2=\"355.386\" y2=\"158.764\" stroke-linecap=\"round\" style=\"stroke:black;stroke-width:1\" /><line x1=\"355.386\" y1=\"158.764\" x2=\"358.415\" y2=\"141.585\" stroke-linecap=\"round\" style=\"stroke:black;stroke-width:1\" /><line x1=\"358.415\" y1=\"141.585\" x2=\"355.386\" y2=\"124.406\" stroke-linecap=\"round\" style=\"stroke:black;stroke-width:1\" /><line x1=\"355.386\" y1=\"124.406\" x2=\"352.357\" y2=\"107.227\" stroke-linecap=\"round\" style=\"stroke:black;stroke-width:1\" /><line x1=\"352.357\" y1=\"107.227\" x2=\"346.391\" y2=\"90.835\" stroke-linecap=\"round\" style=\"stroke:black;stroke-width:1\" /><line x1=\"346.391\" y1=\"90.835\" x2=\"337.669\" y2=\"75.728\" stroke-linecap=\"round\" style=\"stroke:black;stroke-width:1\" /><line x1=\"337.669\" y1=\"75.728\" x2=\"326.456\" y2=\"62.365\" stroke-linecap=\"round\" style=\"stroke:black;stroke-width:1\" /><line x1=\"326.456\" y1=\"62.365\" x2=\"313.093\" y2=\"51.152\" stroke-linecap=\"round\" style=\"stroke:black;stroke-width:1\" /><line x1=\"313.093\" y1=\"51.152\" x2=\"297.986\" y2=\"42.43\" stroke-linecap=\"round\" style=\"stroke:black;stroke-width:1\" /><line x1=\"297.986\" y1=\"42.43\" x2=\"281.594\" y2=\"36.464\" stroke-linecap=\"round\" style=\"stroke:black;stroke-width:1\" /><line x1=\"281.594\" y1=\"36.464\" x2=\"264.415\" y2=\"33.435\" stroke-linecap=\"round\" style=\"stroke:black;stroke-width:1\" /><line x1=\"264.415\" y1=\"33.435\" x2=\"246.971\" y2=\"33.435\" stroke-linecap=\"round\" style=\"stroke:black;stroke-width:1\" /><line x1=\"246.971\" y1=\"33.435\" x2=\"229.792\" y2=\"36.464\" stroke-linecap=\"round\" style=\"stroke:black;stroke-width:1\" /><line x1=\"229.792\" y1=\"36.464\" x2=\"213.4\" y2=\"42.43\" stroke-linecap=\"round\" style=\"stroke:black;stroke-width:1\" /><line x1=\"213.4\" y1=\"42.43\" x2=\"198.293\" y2=\"51.152\" stroke-linecap=\"round\" style=\"stroke:black;stroke-width:1\" /><line x1=\"198.293\" y1=\"51.152\" x2=\"184.93\" y2=\"62.365\" stroke-linecap=\"round\" style=\"stroke:black;stroke-width:1\" /><line x1=\"184.93\" y1=\"62.365\" x2=\"173.717\" y2=\"75.728\" stroke-linecap=\"round\" style=\"stroke:black;stroke-width:1\" /><line x1=\"173.717\" y1=\"75.728\" x2=\"164.995\" y2=\"90.835\" stroke-linecap=\"round\" style=\"stroke:black;stroke-width:1\" /><line x1=\"164.995\" y1=\"90.835\" x2=\"159.029\" y2=\"107.227\" stroke-linecap=\"round\" style=\"stroke:black;stroke-width:1\" /><line x1=\"159.029\" y1=\"107.227\" x2=\"156.0\" y2=\"124.406\" stroke-linecap=\"round\" style=\"stroke:black;stroke-width:1\" /><line x1=\"156.0\" y1=\"124.406\" x2=\"156.0\" y2=\"141.85\" stroke-linecap=\"round\" style=\"stroke:black;stroke-width:1\" /><line x1=\"156.0\" y1=\"141.85\" x2=\"159.029\" y2=\"159.029\" stroke-linecap=\"round\" style=\"stroke:black;stroke-width:1\" /><line x1=\"159.029\" y1=\"159.029\" x2=\"164.995\" y2=\"175.421\" stroke-linecap=\"round\" style=\"stroke:black;stroke-width:1\" /><line x1=\"164.995\" y1=\"175.421\" x2=\"173.717\" y2=\"190.528\" stroke-linecap=\"round\" style=\"stroke:black;stroke-width:1\" /><line x1=\"173.717\" y1=\"190.528\" x2=\"184.93\" y2=\"203.891\" stroke-linecap=\"round\" style=\"stroke:black;stroke-width:1\" /><line x1=\"184.93\" y1=\"203.891\" x2=\"198.293\" y2=\"215.104\" stroke-linecap=\"round\" style=\"stroke:black;stroke-width:1\" /><line x1=\"198.293\" y1=\"215.104\" x2=\"213.4\" y2=\"223.826\" stroke-linecap=\"round\" style=\"stroke:black;stroke-width:1\" /><line x1=\"213.4\" y1=\"223.826\" x2=\"229.792\" y2=\"229.792\" stroke-linecap=\"round\" style=\"stroke:black;stroke-width:1\" /><line x1=\"229.792\" y1=\"229.792\" x2=\"246.971\" y2=\"232.821\" stroke-linecap=\"round\" style=\"stroke:black;stroke-width:1\" /><line x1=\"246.971\" y1=\"232.821\" x2=\"264.415\" y2=\"232.821\" stroke-linecap=\"round\" style=\"stroke:black;stroke-width:1\" /><line x1=\"264.415\" y1=\"232.821\" x2=\"281.594\" y2=\"229.792\" stroke-linecap=\"round\" style=\"stroke:black;stroke-width:1\" /><line x1=\"281.594\" y1=\"229.792\" x2=\"297.986\" y2=\"223.826\" stroke-linecap=\"round\" style=\"stroke:black;stroke-width:1\" /><line x1=\"297.986\" y1=\"223.826\" x2=\"313.093\" y2=\"215.104\" stroke-linecap=\"round\" style=\"stroke:black;stroke-width:1\" /><line x1=\"313.093\" y1=\"215.104\" x2=\"326.456\" y2=\"203.891\" stroke-linecap=\"round\" style=\"stroke:black;stroke-width:1\" /><line x1=\"326.456\" y1=\"203.891\" x2=\"337.669\" y2=\"190.528\" stroke-linecap=\"round\" style=\"stroke:black;stroke-width:1\" /><line x1=\"337.669\" y1=\"190.528\" x2=\"346.391\" y2=\"175.421\" stroke-linecap=\"round\" style=\"stroke:black;stroke-width:1\" /><line x1=\"346.391\" y1=\"175.421\" x2=\"352.357\" y2=\"159.029\" stroke-linecap=\"round\" style=\"stroke:black;stroke-width:1\" /><line x1=\"352.357\" y1=\"159.029\" x2=\"355.386\" y2=\"141.85\" stroke-linecap=\"round\" style=\"stroke:black;stroke-width:1\" /><line x1=\"355.386\" y1=\"141.85\" x2=\"355.386\" y2=\"124.406\" stroke-linecap=\"round\" style=\"stroke:black;stroke-width:1\" /><line x1=\"355.386\" y1=\"124.406\" x2=\"349.42\" y2=\"108.014\" stroke-linecap=\"round\" style=\"stroke:black;stroke-width:1\" /><line x1=\"349.42\" y1=\"108.014\" x2=\"343.454\" y2=\"91.622\" stroke-linecap=\"round\" style=\"stroke:black;stroke-width:1\" /><line x1=\"343.454\" y1=\"91.622\" x2=\"334.732\" y2=\"76.515\" stroke-linecap=\"round\" style=\"stroke:black;stroke-width:1\" /><line x1=\"334.732\" y1=\"76.515\" x2=\"323.519\" y2=\"63.152\" stroke-linecap=\"round\" style=\"stroke:black;stroke-width:1\" /><line x1=\"323.519\" y1=\"63.152\" x2=\"310.156\" y2=\"51.939\" stroke-linecap=\"round\" style=\"stroke:black;stroke-width:1\" /><line x1=\"310.156\" y1=\"51.939\" x2=\"295.049\" y2=\"43.217\" stroke-linecap=\"round\" style=\"stroke:black;stroke-width:1\" /><line x1=\"295.049\" y1=\"43.217\" x2=\"278.657\" y2=\"37.251\" stroke-linecap=\"round\" style=\"stroke:black;stroke-width:1\" /><line x1=\"278.657\" y1=\"37.251\" x2=\"261.478\" y2=\"34.222\" stroke-linecap=\"round\" style=\"stroke:black;stroke-width:1\" /><line x1=\"261.478\" y1=\"34.222\" x2=\"244.034\" y2=\"34.222\" stroke-linecap=\"round\" style=\"stroke:black;stroke-width:1\" /><line x1=\"244.034\" y1=\"34.222\" x2=\"226.855\" y2=\"37.251\" stroke-linecap=\"round\" style=\"stroke:black;stroke-width:1\" /><line x1=\"226.855\" y1=\"37.251\" x2=\"210.463\" y2=\"43.217\" stroke-linecap=\"round\" style=\"stroke:black;stroke-width:1\" /><line x1=\"210.463\" y1=\"43.217\" x2=\"195.356\" y2=\"51.939\" stroke-linecap=\"round\" style=\"stroke:black;stroke-width:1\" /><line x1=\"195.356\" y1=\"51.939\" x2=\"181.993\" y2=\"63.152\" stroke-linecap=\"round\" style=\"stroke:black;stroke-width:1\" /><line x1=\"181.993\" y1=\"63.152\" x2=\"170.78\" y2=\"76.515\" stroke-linecap=\"round\" style=\"stroke:black;stroke-width:1\" /><line x1=\"170.78\" y1=\"76.515\" x2=\"162.058\" y2=\"91.622\" stroke-linecap=\"round\" style=\"stroke:black;stroke-width:1\" /><line x1=\"162.058\" y1=\"91.622\" x2=\"156.092\" y2=\"108.014\" stroke-linecap=\"round\" style=\"stroke:black;stroke-width:1\" /><line x1=\"156.092\" y1=\"108.014\" x2=\"153.063\" y2=\"125.193\" stroke-linecap=\"round\" style=\"stroke:black;stroke-width:1\" /><line x1=\"153.063\" y1=\"125.193\" x2=\"153.063\" y2=\"142.637\" stroke-linecap=\"round\" style=\"stroke:black;stroke-width:1\" /><line x1=\"153.063\" y1=\"142.637\" x2=\"156.092\" y2=\"159.816\" stroke-linecap=\"round\" style=\"stroke:black;stroke-width:1\" /><line x1=\"156.092\" y1=\"159.816\" x2=\"162.058\" y2=\"176.208\" stroke-linecap=\"round\" style=\"stroke:black;stroke-width:1\" /><line x1=\"162.058\" y1=\"176.208\" x2=\"170.78\" y2=\"191.315\" stroke-linecap=\"round\" style=\"stroke:black;stroke-width:1\" /><line x1=\"170.78\" y1=\"191.315\" x2=\"181.993\" y2=\"204.678\" stroke-linecap=\"round\" style=\"stroke:black;stroke-width:1\" /><line x1=\"181.993\" y1=\"204.678\" x2=\"195.356\" y2=\"215.891\" stroke-linecap=\"round\" style=\"stroke:black;stroke-width:1\" /><line x1=\"195.356\" y1=\"215.891\" x2=\"210.463\" y2=\"224.613\" stroke-linecap=\"round\" style=\"stroke:black;stroke-width:1\" /><line x1=\"210.463\" y1=\"224.613\" x2=\"226.855\" y2=\"230.579\" stroke-linecap=\"round\" style=\"stroke:black;stroke-width:1\" /><line x1=\"226.855\" y1=\"230.579\" x2=\"244.034\" y2=\"233.608\" stroke-linecap=\"round\" style=\"stroke:black;stroke-width:1\" /><line x1=\"244.034\" y1=\"233.608\" x2=\"261.478\" y2=\"233.608\" stroke-linecap=\"round\" style=\"stroke:black;stroke-width:1\" /><line x1=\"261.478\" y1=\"233.608\" x2=\"278.657\" y2=\"230.579\" stroke-linecap=\"round\" style=\"stroke:black;stroke-width:1\" /><line x1=\"278.657\" y1=\"230.579\" x2=\"295.049\" y2=\"224.613\" stroke-linecap=\"round\" style=\"stroke:black;stroke-width:1\" /><line x1=\"295.049\" y1=\"224.613\" x2=\"310.156\" y2=\"215.891\" stroke-linecap=\"round\" style=\"stroke:black;stroke-width:1\" /><line x1=\"310.156\" y1=\"215.891\" x2=\"323.519\" y2=\"204.678\" stroke-linecap=\"round\" style=\"stroke:black;stroke-width:1\" /><line x1=\"323.519\" y1=\"204.678\" x2=\"334.732\" y2=\"191.315\" stroke-linecap=\"round\" style=\"stroke:black;stroke-width:1\" /><line x1=\"334.732\" y1=\"191.315\" x2=\"343.454\" y2=\"176.208\" stroke-linecap=\"round\" style=\"stroke:black;stroke-width:1\" /><line x1=\"343.454\" y1=\"176.208\" x2=\"349.42\" y2=\"159.816\" stroke-linecap=\"round\" style=\"stroke:black;stroke-width:1\" /><line x1=\"349.42\" y1=\"159.816\" x2=\"352.449\" y2=\"142.637\" stroke-linecap=\"round\" style=\"stroke:black;stroke-width:1\" /><line x1=\"352.449\" y1=\"142.637\" x2=\"352.449\" y2=\"125.193\" stroke-linecap=\"round\" style=\"stroke:black;stroke-width:1\" /><line x1=\"352.449\" y1=\"125.193\" x2=\"349.42\" y2=\"108.014\" stroke-linecap=\"round\" style=\"stroke:black;stroke-width:1\" /><line x1=\"349.42\" y1=\"108.014\" x2=\"340.698\" y2=\"92.907\" stroke-linecap=\"round\" style=\"stroke:black;stroke-width:1\" /><line x1=\"340.698\" y1=\"92.907\" x2=\"331.976\" y2=\"77.8\" stroke-linecap=\"round\" style=\"stroke:black;stroke-width:1\" /><line x1=\"331.976\" y1=\"77.8\" x2=\"320.763\" y2=\"64.437\" stroke-linecap=\"round\" style=\"stroke:black;stroke-width:1\" /><line x1=\"320.763\" y1=\"64.437\" x2=\"307.4\" y2=\"53.224\" stroke-linecap=\"round\" style=\"stroke:black;stroke-width:1\" /><line x1=\"307.4\" y1=\"53.224\" x2=\"292.293\" y2=\"44.502\" stroke-linecap=\"round\" style=\"stroke:black;stroke-width:1\" /><line x1=\"292.293\" y1=\"44.502\" x2=\"275.901\" y2=\"38.536\" stroke-linecap=\"round\" style=\"stroke:black;stroke-width:1\" /><line x1=\"275.901\" y1=\"38.536\" x2=\"258.722\" y2=\"35.507\" stroke-linecap=\"round\" style=\"stroke:black;stroke-width:1\" /><line x1=\"258.722\" y1=\"35.507\" x2=\"241.278\" y2=\"35.507\" stroke-linecap=\"round\" style=\"stroke:black;stroke-width:1\" /><line x1=\"241.278\" y1=\"35.507\" x2=\"224.099\" y2=\"38.536\" stroke-linecap=\"round\" style=\"stroke:black;stroke-width:1\" /><line x1=\"224.099\" y1=\"38.536\" x2=\"207.707\" y2=\"44.502\" stroke-linecap=\"round\" style=\"stroke:black;stroke-width:1\" /><line x1=\"207.707\" y1=\"44.502\" x2=\"192.6\" y2=\"53.224\" stroke-linecap=\"round\" style=\"stroke:black;stroke-width:1\" /><line x1=\"192.6\" y1=\"53.224\" x2=\"179.237\" y2=\"64.437\" stroke-linecap=\"round\" style=\"stroke:black;stroke-width:1\" /><line x1=\"179.237\" y1=\"64.437\" x2=\"168.024\" y2=\"77.8\" stroke-linecap=\"round\" style=\"stroke:black;stroke-width:1\" /><line x1=\"168.024\" y1=\"77.8\" x2=\"159.302\" y2=\"92.907\" stroke-linecap=\"round\" style=\"stroke:black;stroke-width:1\" /><line x1=\"159.302\" y1=\"92.907\" x2=\"153.336\" y2=\"109.299\" stroke-linecap=\"round\" style=\"stroke:black;stroke-width:1\" /><line x1=\"153.336\" y1=\"109.299\" x2=\"150.307\" y2=\"126.478\" stroke-linecap=\"round\" style=\"stroke:black;stroke-width:1\" /><line x1=\"150.307\" y1=\"126.478\" x2=\"150.307\" y2=\"143.922\" stroke-linecap=\"round\" style=\"stroke:black;stroke-width:1\" /><line x1=\"150.307\" y1=\"143.922\" x2=\"153.336\" y2=\"161.101\" stroke-linecap=\"round\" style=\"stroke:black;stroke-width:1\" /><line x1=\"153.336\" y1=\"161.101\" x2=\"159.302\" y2=\"177.493\" stroke-linecap=\"round\" style=\"stroke:black;stroke-width:1\" /><line x1=\"159.302\" y1=\"177.493\" x2=\"168.024\" y2=\"192.6\" stroke-linecap=\"round\" style=\"stroke:black;stroke-width:1\" /><line x1=\"168.024\" y1=\"192.6\" x2=\"179.237\" y2=\"205.963\" stroke-linecap=\"round\" style=\"stroke:black;stroke-width:1\" /><line x1=\"179.237\" y1=\"205.963\" x2=\"192.6\" y2=\"217.176\" stroke-linecap=\"round\" style=\"stroke:black;stroke-width:1\" /><line x1=\"192.6\" y1=\"217.176\" x2=\"207.707\" y2=\"225.898\" stroke-linecap=\"round\" style=\"stroke:black;stroke-width:1\" /><line x1=\"207.707\" y1=\"225.898\" x2=\"224.099\" y2=\"231.864\" stroke-linecap=\"round\" style=\"stroke:black;stroke-width:1\" /><line x1=\"224.099\" y1=\"231.864\" x2=\"241.278\" y2=\"234.893\" stroke-linecap=\"round\" style=\"stroke:black;stroke-width:1\" /><line x1=\"241.278\" y1=\"234.893\" x2=\"258.722\" y2=\"234.893\" stroke-linecap=\"round\" style=\"stroke:black;stroke-width:1\" /><line x1=\"258.722\" y1=\"234.893\" x2=\"275.901\" y2=\"231.864\" stroke-linecap=\"round\" style=\"stroke:black;stroke-width:1\" /><line x1=\"275.901\" y1=\"231.864\" x2=\"292.293\" y2=\"225.898\" stroke-linecap=\"round\" style=\"stroke:black;stroke-width:1\" /><line x1=\"292.293\" y1=\"225.898\" x2=\"307.4\" y2=\"217.176\" stroke-linecap=\"round\" style=\"stroke:black;stroke-width:1\" /><line x1=\"307.4\" y1=\"217.176\" x2=\"320.763\" y2=\"205.963\" stroke-linecap=\"round\" style=\"stroke:black;stroke-width:1\" /><line x1=\"320.763\" y1=\"205.963\" x2=\"331.976\" y2=\"192.6\" stroke-linecap=\"round\" style=\"stroke:black;stroke-width:1\" /><line x1=\"331.976\" y1=\"192.6\" x2=\"340.698\" y2=\"177.493\" stroke-linecap=\"round\" style=\"stroke:black;stroke-width:1\" /><line x1=\"340.698\" y1=\"177.493\" x2=\"346.664\" y2=\"161.101\" stroke-linecap=\"round\" style=\"stroke:black;stroke-width:1\" /><line x1=\"346.664\" y1=\"161.101\" x2=\"349.693\" y2=\"143.922\" stroke-linecap=\"round\" style=\"stroke:black;stroke-width:1\" /><line x1=\"349.693\" y1=\"143.922\" x2=\"349.693\" y2=\"126.478\" stroke-linecap=\"round\" style=\"stroke:black;stroke-width:1\" /><line x1=\"349.693\" y1=\"126.478\" x2=\"346.664\" y2=\"109.299\" stroke-linecap=\"round\" style=\"stroke:black;stroke-width:1\" /><line x1=\"346.664\" y1=\"109.299\" x2=\"340.698\" y2=\"92.907\" stroke-linecap=\"round\" style=\"stroke:black;stroke-width:1\" /><line x1=\"340.698\" y1=\"92.907\" x2=\"329.485\" y2=\"79.544\" stroke-linecap=\"round\" style=\"stroke:black;stroke-width:1\" /><line x1=\"329.485\" y1=\"79.544\" x2=\"318.272\" y2=\"66.181\" stroke-linecap=\"round\" style=\"stroke:black;stroke-width:1\" /><line x1=\"318.272\" y1=\"66.181\" x2=\"304.909\" y2=\"54.968\" stroke-linecap=\"round\" style=\"stroke:black;stroke-width:1\" /><line x1=\"304.909\" y1=\"54.968\" x2=\"289.802\" y2=\"46.246\" stroke-linecap=\"round\" style=\"stroke:black;stroke-width:1\" /><line x1=\"289.802\" y1=\"46.246\" x2=\"273.41\" y2=\"40.28\" stroke-linecap=\"round\" style=\"stroke:black;stroke-width:1\" /><line x1=\"273.41\" y1=\"40.28\" x2=\"256.231\" y2=\"37.251\" stroke-linecap=\"round\" style=\"stroke:black;stroke-width:1\" /><line x1=\"256.231\" y1=\"37.251\" x2=\"238.787\" y2=\"37.251\" stroke-linecap=\"round\" style=\"stroke:black;stroke-width:1\" /><line x1=\"238.787\" y1=\"37.251\" x2=\"221.608\" y2=\"40.28\" stroke-linecap=\"round\" style=\"stroke:black;stroke-width:1\" /><line x1=\"221.608\" y1=\"40.28\" x2=\"205.216\" y2=\"46.246\" stroke-linecap=\"round\" style=\"stroke:black;stroke-width:1\" /><line x1=\"205.216\" y1=\"46.246\" x2=\"190.109\" y2=\"54.968\" stroke-linecap=\"round\" style=\"stroke:black;stroke-width:1\" /><line x1=\"190.109\" y1=\"54.968\" x2=\"176.746\" y2=\"66.181\" stroke-linecap=\"round\" style=\"stroke:black;stroke-width:1\" /><line x1=\"176.746\" y1=\"66.181\" x2=\"165.533\" y2=\"79.544\" stroke-linecap=\"round\" style=\"stroke:black;stroke-width:1\" /><line x1=\"165.533\" y1=\"79.544\" x2=\"156.811\" y2=\"94.651\" stroke-linecap=\"round\" style=\"stroke:black;stroke-width:1\" /><line x1=\"156.811\" y1=\"94.651\" x2=\"150.845\" y2=\"111.043\" stroke-linecap=\"round\" style=\"stroke:black;stroke-width:1\" /><line x1=\"150.845\" y1=\"111.043\" x2=\"147.816\" y2=\"128.222\" stroke-linecap=\"round\" style=\"stroke:black;stroke-width:1\" /><line x1=\"147.816\" y1=\"128.222\" x2=\"147.816\" y2=\"145.666\" stroke-linecap=\"round\" style=\"stroke:black;stroke-width:1\" /><line x1=\"147.816\" y1=\"145.666\" x2=\"150.845\" y2=\"162.845\" stroke-linecap=\"round\" style=\"stroke:black;stroke-width:1\" /><line x1=\"150.845\" y1=\"162.845\" x2=\"156.811\" y2=\"179.237\" stroke-linecap=\"round\" style=\"stroke:black;stroke-width:1\" /><line x1=\"156.811\" y1=\"179.237\" x2=\"165.533\" y2=\"194.344\" stroke-linecap=\"round\" style=\"stroke:black;stroke-width:1\" /><line x1=\"165.533\" y1=\"194.344\" x2=\"176.746\" y2=\"207.707\" stroke-linecap=\"round\" style=\"stroke:black;stroke-width:1\" /><line x1=\"176.746\" y1=\"207.707\" x2=\"190.109\" y2=\"218.92\" stroke-linecap=\"round\" style=\"stroke:black;stroke-width:1\" /><line x1=\"190.109\" y1=\"218.92\" x2=\"205.216\" y2=\"227.642\" stroke-linecap=\"round\" style=\"stroke:black;stroke-width:1\" /><line x1=\"205.216\" y1=\"227.642\" x2=\"221.608\" y2=\"233.608\" stroke-linecap=\"round\" style=\"stroke:black;stroke-width:1\" /><line x1=\"221.608\" y1=\"233.608\" x2=\"238.787\" y2=\"236.637\" stroke-linecap=\"round\" style=\"stroke:black;stroke-width:1\" /><line x1=\"238.787\" y1=\"236.637\" x2=\"256.231\" y2=\"236.637\" stroke-linecap=\"round\" style=\"stroke:black;stroke-width:1\" /><line x1=\"256.231\" y1=\"236.637\" x2=\"273.41\" y2=\"233.608\" stroke-linecap=\"round\" style=\"stroke:black;stroke-width:1\" /><line x1=\"273.41\" y1=\"233.608\" x2=\"289.802\" y2=\"227.642\" stroke-linecap=\"round\" style=\"stroke:black;stroke-width:1\" /><line x1=\"289.802\" y1=\"227.642\" x2=\"304.909\" y2=\"218.92\" stroke-linecap=\"round\" style=\"stroke:black;stroke-width:1\" /><line x1=\"304.909\" y1=\"218.92\" x2=\"318.272\" y2=\"207.707\" stroke-linecap=\"round\" style=\"stroke:black;stroke-width:1\" /><line x1=\"318.272\" y1=\"207.707\" x2=\"329.485\" y2=\"194.344\" stroke-linecap=\"round\" style=\"stroke:black;stroke-width:1\" /><line x1=\"329.485\" y1=\"194.344\" x2=\"338.207\" y2=\"179.237\" stroke-linecap=\"round\" style=\"stroke:black;stroke-width:1\" /><line x1=\"338.207\" y1=\"179.237\" x2=\"344.173\" y2=\"162.845\" stroke-linecap=\"round\" style=\"stroke:black;stroke-width:1\" /><line x1=\"344.173\" y1=\"162.845\" x2=\"347.202\" y2=\"145.666\" stroke-linecap=\"round\" style=\"stroke:black;stroke-width:1\" /><line x1=\"347.202\" y1=\"145.666\" x2=\"347.202\" y2=\"128.222\" stroke-linecap=\"round\" style=\"stroke:black;stroke-width:1\" /><line x1=\"347.202\" y1=\"128.222\" x2=\"344.173\" y2=\"111.043\" stroke-linecap=\"round\" style=\"stroke:black;stroke-width:1\" /><line x1=\"344.173\" y1=\"111.043\" x2=\"338.207\" y2=\"94.651\" stroke-linecap=\"round\" style=\"stroke:black;stroke-width:1\" /><line x1=\"338.207\" y1=\"94.651\" x2=\"329.485\" y2=\"79.544\" stroke-linecap=\"round\" style=\"stroke:black;stroke-width:1\" /><line x1=\"329.485\" y1=\"79.544\" x2=\"316.122\" y2=\"68.331\" stroke-linecap=\"round\" style=\"stroke:black;stroke-width:1\" /><line x1=\"316.122\" y1=\"68.331\" x2=\"302.759\" y2=\"57.118\" stroke-linecap=\"round\" style=\"stroke:black;stroke-width:1\" /><line x1=\"302.759\" y1=\"57.118\" x2=\"287.652\" y2=\"48.396\" stroke-linecap=\"round\" style=\"stroke:black;stroke-width:1\" /><line x1=\"287.652\" y1=\"48.396\" x2=\"271.26\" y2=\"42.43\" stroke-linecap=\"round\" style=\"stroke:black;stroke-width:1\" /><line x1=\"271.26\" y1=\"42.43\" x2=\"254.081\" y2=\"39.401\" stroke-linecap=\"round\" style=\"stroke:black;stroke-width:1\" /><line x1=\"254.081\" y1=\"39.401\" x2=\"236.637\" y2=\"39.401\" stroke-linecap=\"round\" style=\"stroke:black;stroke-width:1\" /><line x1=\"236.637\" y1=\"39.401\" x2=\"219.458\" y2=\"42.43\" stroke-linecap=\"round\" style=\"stroke:black;stroke-width:1\" /><line x1=\"219.458\" y1=\"42.43\" x2=\"203.066\" y2=\"48.396\" stroke-linecap=\"round\" style=\"stroke:black;stroke-width:1\" /><line x1=\"203.066\" y1=\"48.396\" x2=\"187.959\" y2=\"57.118\" stroke-linecap=\"round\" style=\"stroke:black;stroke-width:1\" /><line x1=\"187.959\" y1=\"57.118\" x2=\"174.596\" y2=\"68.331\" stroke-linecap=\"round\" style=\"stroke:black;stroke-width:1\" /><line x1=\"174.596\" y1=\"68.331\" x2=\"163.383\" y2=\"81.694\" stroke-linecap=\"round\" style=\"stroke:black;stroke-width:1\" /><line x1=\"163.383\" y1=\"81.694\" x2=\"154.661\" y2=\"96.801\" stroke-linecap=\"round\" style=\"stroke:black;stroke-width:1\" /><line x1=\"154.661\" y1=\"96.801\" x2=\"148.695\" y2=\"113.193\" stroke-linecap=\"round\" style=\"stroke:black;stroke-width:1\" /><line x1=\"148.695\" y1=\"113.193\" x2=\"145.666\" y2=\"130.372\" stroke-linecap=\"round\" style=\"stroke:black;stroke-width:1\" /><line x1=\"145.666\" y1=\"130.372\" x2=\"145.666\" y2=\"147.816\" stroke-linecap=\"round\" style=\"stroke:black;stroke-width:1\" /><line x1=\"145.666\" y1=\"147.816\" x2=\"148.695\" y2=\"164.995\" stroke-linecap=\"round\" style=\"stroke:black;stroke-width:1\" /><line x1=\"148.695\" y1=\"164.995\" x2=\"154.661\" y2=\"181.387\" stroke-linecap=\"round\" style=\"stroke:black;stroke-width:1\" /><line x1=\"154.661\" y1=\"181.387\" x2=\"163.383\" y2=\"196.494\" stroke-linecap=\"round\" style=\"stroke:black;stroke-width:1\" /><line x1=\"163.383\" y1=\"196.494\" x2=\"174.596\" y2=\"209.857\" stroke-linecap=\"round\" style=\"stroke:black;stroke-width:1\" /><line x1=\"174.596\" y1=\"209.857\" x2=\"187.959\" y2=\"221.07\" stroke-linecap=\"round\" style=\"stroke:black;stroke-width:1\" /><line x1=\"187.959\" y1=\"221.07\" x2=\"203.066\" y2=\"229.792\" stroke-linecap=\"round\" style=\"stroke:black;stroke-width:1\" /><line x1=\"203.066\" y1=\"229.792\" x2=\"219.458\" y2=\"235.758\" stroke-linecap=\"round\" style=\"stroke:black;stroke-width:1\" /><line x1=\"219.458\" y1=\"235.758\" x2=\"236.637\" y2=\"238.787\" stroke-linecap=\"round\" style=\"stroke:black;stroke-width:1\" /><line x1=\"236.637\" y1=\"238.787\" x2=\"254.081\" y2=\"238.787\" stroke-linecap=\"round\" style=\"stroke:black;stroke-width:1\" /><line x1=\"254.081\" y1=\"238.787\" x2=\"271.26\" y2=\"235.758\" stroke-linecap=\"round\" style=\"stroke:black;stroke-width:1\" /><line x1=\"271.26\" y1=\"235.758\" x2=\"287.652\" y2=\"229.792\" stroke-linecap=\"round\" style=\"stroke:black;stroke-width:1\" /><line x1=\"287.652\" y1=\"229.792\" x2=\"302.759\" y2=\"221.07\" stroke-linecap=\"round\" style=\"stroke:black;stroke-width:1\" /><line x1=\"302.759\" y1=\"221.07\" x2=\"316.122\" y2=\"209.857\" stroke-linecap=\"round\" style=\"stroke:black;stroke-width:1\" /><line x1=\"316.122\" y1=\"209.857\" x2=\"327.335\" y2=\"196.494\" stroke-linecap=\"round\" style=\"stroke:black;stroke-width:1\" /><line x1=\"327.335\" y1=\"196.494\" x2=\"336.057\" y2=\"181.387\" stroke-linecap=\"round\" style=\"stroke:black;stroke-width:1\" /><line x1=\"336.057\" y1=\"181.387\" x2=\"342.023\" y2=\"164.995\" stroke-linecap=\"round\" style=\"stroke:black;stroke-width:1\" /><line x1=\"342.023\" y1=\"164.995\" x2=\"345.052\" y2=\"147.816\" stroke-linecap=\"round\" style=\"stroke:black;stroke-width:1\" /><line x1=\"345.052\" y1=\"147.816\" x2=\"345.052\" y2=\"130.372\" stroke-linecap=\"round\" style=\"stroke:black;stroke-width:1\" /><line x1=\"345.052\" y1=\"130.372\" x2=\"342.023\" y2=\"113.193\" stroke-linecap=\"round\" style=\"stroke:black;stroke-width:1\" /><line x1=\"342.023\" y1=\"113.193\" x2=\"336.057\" y2=\"96.801\" stroke-linecap=\"round\" style=\"stroke:black;stroke-width:1\" /><line x1=\"336.057\" y1=\"96.801\" x2=\"327.335\" y2=\"81.694\" stroke-linecap=\"round\" style=\"stroke:black;stroke-width:1\" /><line x1=\"327.335\" y1=\"81.694\" x2=\"316.122\" y2=\"68.331\" stroke-linecap=\"round\" style=\"stroke:black;stroke-width:1\" /><line x1=\"316.122\" y1=\"68.331\" x2=\"301.015\" y2=\"59.609\" stroke-linecap=\"round\" style=\"stroke:black;stroke-width:1\" /><line x1=\"301.015\" y1=\"59.609\" x2=\"285.908\" y2=\"50.887\" stroke-linecap=\"round\" style=\"stroke:black;stroke-width:1\" /><line x1=\"285.908\" y1=\"50.887\" x2=\"269.516\" y2=\"44.921\" stroke-linecap=\"round\" style=\"stroke:black;stroke-width:1\" /><line x1=\"269.516\" y1=\"44.921\" x2=\"252.337\" y2=\"41.892\" stroke-linecap=\"round\" style=\"stroke:black;stroke-width:1\" /><line x1=\"252.337\" y1=\"41.892\" x2=\"234.893\" y2=\"41.892\" stroke-linecap=\"round\" style=\"stroke:black;stroke-width:1\" /><line x1=\"234.893\" y1=\"41.892\" x2=\"217.714\" y2=\"44.921\" stroke-linecap=\"round\" style=\"stroke:black;stroke-width:1\" /><line x1=\"217.714\" y1=\"44.921\" x2=\"201.322\" y2=\"50.887\" stroke-linecap=\"round\" style=\"stroke:black;stroke-width:1\" /><line x1=\"201.322\" y1=\"50.887\" x2=\"186.215\" y2=\"59.609\" stroke-linecap=\"round\" style=\"stroke:black;stroke-width:1\" /><line x1=\"186.215\" y1=\"59.609\" x2=\"172.852\" y2=\"70.822\" stroke-linecap=\"round\" style=\"stroke:black;stroke-width:1\" /><line x1=\"172.852\" y1=\"70.822\" x2=\"161.639\" y2=\"84.185\" stroke-linecap=\"round\" style=\"stroke:black;stroke-width:1\" /><line x1=\"161.639\" y1=\"84.185\" x2=\"152.917\" y2=\"99.292\" stroke-linecap=\"round\" style=\"stroke:black;stroke-width:1\" /><line x1=\"152.917\" y1=\"99.292\" x2=\"146.951\" y2=\"115.684\" stroke-linecap=\"round\" style=\"stroke:black;stroke-width:1\" /><line x1=\"146.951\" y1=\"115.684\" x2=\"143.922\" y2=\"132.863\" stroke-linecap=\"round\" style=\"stroke:black;stroke-width:1\" /><line x1=\"143.922\" y1=\"132.863\" x2=\"143.922\" y2=\"150.307\" stroke-linecap=\"round\" style=\"stroke:black;stroke-width:1\" /><line x1=\"143.922\" y1=\"150.307\" x2=\"146.951\" y2=\"167.486\" stroke-linecap=\"round\" style=\"stroke:black;stroke-width:1\" /><line x1=\"146.951\" y1=\"167.486\" x2=\"152.917\" y2=\"183.878\" stroke-linecap=\"round\" style=\"stroke:black;stroke-width:1\" /><line x1=\"152.917\" y1=\"183.878\" x2=\"161.639\" y2=\"198.985\" stroke-linecap=\"round\" style=\"stroke:black;stroke-width:1\" /><line x1=\"161.639\" y1=\"198.985\" x2=\"172.852\" y2=\"212.348\" stroke-linecap=\"round\" style=\"stroke:black;stroke-width:1\" /><line x1=\"172.852\" y1=\"212.348\" x2=\"186.215\" y2=\"223.561\" stroke-linecap=\"round\" style=\"stroke:black;stroke-width:1\" /><line x1=\"186.215\" y1=\"223.561\" x2=\"201.322\" y2=\"232.283\" stroke-linecap=\"round\" style=\"stroke:black;stroke-width:1\" /><line x1=\"201.322\" y1=\"232.283\" x2=\"217.714\" y2=\"238.249\" stroke-linecap=\"round\" style=\"stroke:black;stroke-width:1\" /><line x1=\"217.714\" y1=\"238.249\" x2=\"234.893\" y2=\"241.278\" stroke-linecap=\"round\" style=\"stroke:black;stroke-width:1\" /><line x1=\"234.893\" y1=\"241.278\" x2=\"252.337\" y2=\"241.278\" stroke-linecap=\"round\" style=\"stroke:black;stroke-width:1\" /><line x1=\"252.337\" y1=\"241.278\" x2=\"269.516\" y2=\"238.249\" stroke-linecap=\"round\" style=\"stroke:black;stroke-width:1\" /><line x1=\"269.516\" y1=\"238.249\" x2=\"285.908\" y2=\"232.283\" stroke-linecap=\"round\" style=\"stroke:black;stroke-width:1\" /><line x1=\"285.908\" y1=\"232.283\" x2=\"301.015\" y2=\"223.561\" stroke-linecap=\"round\" style=\"stroke:black;stroke-width:1\" /><line x1=\"301.015\" y1=\"223.561\" x2=\"314.378\" y2=\"212.348\" stroke-linecap=\"round\" style=\"stroke:black;stroke-width:1\" /><line x1=\"314.378\" y1=\"212.348\" x2=\"325.591\" y2=\"198.985\" stroke-linecap=\"round\" style=\"stroke:black;stroke-width:1\" /><line x1=\"325.591\" y1=\"198.985\" x2=\"334.313\" y2=\"183.878\" stroke-linecap=\"round\" style=\"stroke:black;stroke-width:1\" /><line x1=\"334.313\" y1=\"183.878\" x2=\"340.279\" y2=\"167.486\" stroke-linecap=\"round\" style=\"stroke:black;stroke-width:1\" /><line x1=\"340.279\" y1=\"167.486\" x2=\"343.308\" y2=\"150.307\" stroke-linecap=\"round\" style=\"stroke:black;stroke-width:1\" /><line x1=\"343.308\" y1=\"150.307\" x2=\"343.308\" y2=\"132.863\" stroke-linecap=\"round\" style=\"stroke:black;stroke-width:1\" /><line x1=\"343.308\" y1=\"132.863\" x2=\"340.279\" y2=\"115.684\" stroke-linecap=\"round\" style=\"stroke:black;stroke-width:1\" /><line x1=\"340.279\" y1=\"115.684\" x2=\"334.313\" y2=\"99.292\" stroke-linecap=\"round\" style=\"stroke:black;stroke-width:1\" /><line x1=\"334.313\" y1=\"99.292\" x2=\"325.591\" y2=\"84.185\" stroke-linecap=\"round\" style=\"stroke:black;stroke-width:1\" /><line x1=\"325.591\" y1=\"84.185\" x2=\"314.378\" y2=\"70.822\" stroke-linecap=\"round\" style=\"stroke:black;stroke-width:1\" /><line x1=\"314.378\" y1=\"70.822\" x2=\"301.015\" y2=\"59.609\" stroke-linecap=\"round\" style=\"stroke:black;stroke-width:1\" /><line x1=\"301.015\" y1=\"59.609\" x2=\"284.623\" y2=\"53.643\" stroke-linecap=\"round\" style=\"stroke:black;stroke-width:1\" /><line x1=\"284.623\" y1=\"53.643\" x2=\"268.231\" y2=\"47.677\" stroke-linecap=\"round\" style=\"stroke:black;stroke-width:1\" /><line x1=\"268.231\" y1=\"47.677\" x2=\"251.052\" y2=\"44.648\" stroke-linecap=\"round\" style=\"stroke:black;stroke-width:1\" /><line x1=\"251.052\" y1=\"44.648\" x2=\"233.608\" y2=\"44.648\" stroke-linecap=\"round\" style=\"stroke:black;stroke-width:1\" /><line x1=\"233.608\" y1=\"44.648\" x2=\"216.429\" y2=\"47.677\" stroke-linecap=\"round\" style=\"stroke:black;stroke-width:1\" /><line x1=\"216.429\" y1=\"47.677\" x2=\"200.037\" y2=\"53.643\" stroke-linecap=\"round\" style=\"stroke:black;stroke-width:1\" /><line x1=\"200.037\" y1=\"53.643\" x2=\"184.93\" y2=\"62.365\" stroke-linecap=\"round\" style=\"stroke:black;stroke-width:1\" /><line x1=\"184.93\" y1=\"62.365\" x2=\"171.567\" y2=\"73.578\" stroke-linecap=\"round\" style=\"stroke:black;stroke-width:1\" /><line x1=\"171.567\" y1=\"73.578\" x2=\"160.354\" y2=\"86.941\" stroke-linecap=\"round\" style=\"stroke:black;stroke-width:1\" /><line x1=\"160.354\" y1=\"86.941\" x2=\"151.632\" y2=\"102.048\" stroke-linecap=\"round\" style=\"stroke:black;stroke-width:1\" /><line x1=\"151.632\" y1=\"102.048\" x2=\"145.666\" y2=\"118.44\" stroke-linecap=\"round\" style=\"stroke:black;stroke-width:1\" /><line x1=\"145.666\" y1=\"118.44\" x2=\"142.637\" y2=\"135.619\" stroke-linecap=\"round\" style=\"stroke:black;stroke-width:1\" /><line x1=\"142.637\" y1=\"135.619\" x2=\"142.637\" y2=\"153.063\" stroke-linecap=\"round\" style=\"stroke:black;stroke-width:1\" /><line x1=\"142.637\" y1=\"153.063\" x2=\"145.666\" y2=\"170.242\" stroke-linecap=\"round\" style=\"stroke:black;stroke-width:1\" /><line x1=\"145.666\" y1=\"170.242\" x2=\"151.632\" y2=\"186.634\" stroke-linecap=\"round\" style=\"stroke:black;stroke-width:1\" /><line x1=\"151.632\" y1=\"186.634\" x2=\"160.354\" y2=\"201.741\" stroke-linecap=\"round\" style=\"stroke:black;stroke-width:1\" /><line x1=\"160.354\" y1=\"201.741\" x2=\"171.567\" y2=\"215.104\" stroke-linecap=\"round\" style=\"stroke:black;stroke-width:1\" /><line x1=\"171.567\" y1=\"215.104\" x2=\"184.93\" y2=\"226.317\" stroke-linecap=\"round\" style=\"stroke:black;stroke-width:1\" /><line x1=\"184.93\" y1=\"226.317\" x2=\"200.037\" y2=\"235.039\" stroke-linecap=\"round\" style=\"stroke:black;stroke-width:1\" /><line x1=\"200.037\" y1=\"235.039\" x2=\"216.429\" y2=\"241.005\" stroke-linecap=\"round\" style=\"stroke:black;stroke-width:1\" /><line x1=\"216.429\" y1=\"241.005\" x2=\"233.608\" y2=\"244.034\" stroke-linecap=\"round\" style=\"stroke:black;stroke-width:1\" /><line x1=\"233.608\" y1=\"244.034\" x2=\"251.052\" y2=\"244.034\" stroke-linecap=\"round\" style=\"stroke:black;stroke-width:1\" /><line x1=\"251.052\" y1=\"244.034\" x2=\"268.231\" y2=\"241.005\" stroke-linecap=\"round\" style=\"stroke:black;stroke-width:1\" /><line x1=\"268.231\" y1=\"241.005\" x2=\"284.623\" y2=\"235.039\" stroke-linecap=\"round\" style=\"stroke:black;stroke-width:1\" /><line x1=\"284.623\" y1=\"235.039\" x2=\"299.73\" y2=\"226.317\" stroke-linecap=\"round\" style=\"stroke:black;stroke-width:1\" /><line x1=\"299.73\" y1=\"226.317\" x2=\"313.093\" y2=\"215.104\" stroke-linecap=\"round\" style=\"stroke:black;stroke-width:1\" /><line x1=\"313.093\" y1=\"215.104\" x2=\"324.306\" y2=\"201.741\" stroke-linecap=\"round\" style=\"stroke:black;stroke-width:1\" /><line x1=\"324.306\" y1=\"201.741\" x2=\"333.028\" y2=\"186.634\" stroke-linecap=\"round\" style=\"stroke:black;stroke-width:1\" /><line x1=\"333.028\" y1=\"186.634\" x2=\"338.994\" y2=\"170.242\" stroke-linecap=\"round\" style=\"stroke:black;stroke-width:1\" /><line x1=\"338.994\" y1=\"170.242\" x2=\"342.023\" y2=\"153.063\" stroke-linecap=\"round\" style=\"stroke:black;stroke-width:1\" /><line x1=\"342.023\" y1=\"153.063\" x2=\"342.023\" y2=\"135.619\" stroke-linecap=\"round\" style=\"stroke:black;stroke-width:1\" /><line x1=\"342.023\" y1=\"135.619\" x2=\"338.994\" y2=\"118.44\" stroke-linecap=\"round\" style=\"stroke:black;stroke-width:1\" /><line x1=\"338.994\" y1=\"118.44\" x2=\"333.028\" y2=\"102.048\" stroke-linecap=\"round\" style=\"stroke:black;stroke-width:1\" /><line x1=\"333.028\" y1=\"102.048\" x2=\"324.306\" y2=\"86.941\" stroke-linecap=\"round\" style=\"stroke:black;stroke-width:1\" /><line x1=\"324.306\" y1=\"86.941\" x2=\"313.093\" y2=\"73.578\" stroke-linecap=\"round\" style=\"stroke:black;stroke-width:1\" /><line x1=\"313.093\" y1=\"73.578\" x2=\"299.73\" y2=\"62.365\" stroke-linecap=\"round\" style=\"stroke:black;stroke-width:1\" /><line x1=\"299.73\" y1=\"62.365\" x2=\"284.623\" y2=\"53.643\" stroke-linecap=\"round\" style=\"stroke:black;stroke-width:1\" /><line x1=\"284.623\" y1=\"53.643\" x2=\"267.444\" y2=\"50.614\" stroke-linecap=\"round\" style=\"stroke:black;stroke-width:1\" /><line x1=\"267.444\" y1=\"50.614\" x2=\"250.265\" y2=\"47.585\" stroke-linecap=\"round\" style=\"stroke:black;stroke-width:1\" /><line x1=\"250.265\" y1=\"47.585\" x2=\"232.821\" y2=\"47.585\" stroke-linecap=\"round\" style=\"stroke:black;stroke-width:1\" /><line x1=\"232.821\" y1=\"47.585\" x2=\"215.642\" y2=\"50.614\" stroke-linecap=\"round\" style=\"stroke:black;stroke-width:1\" /><line x1=\"215.642\" y1=\"50.614\" x2=\"199.25\" y2=\"56.58\" stroke-linecap=\"round\" style=\"stroke:black;stroke-width:1\" /><line x1=\"199.25\" y1=\"56.58\" x2=\"184.143\" y2=\"65.302\" stroke-linecap=\"round\" style=\"stroke:black;stroke-width:1\" /><line x1=\"184.143\" y1=\"65.302\" x2=\"170.78\" y2=\"76.515\" stroke-linecap=\"round\" style=\"stroke:black;stroke-width:1\" /><line x1=\"170.78\" y1=\"76.515\" x2=\"159.567\" y2=\"89.878\" stroke-linecap=\"round\" style=\"stroke:black;stroke-width:1\" /><line x1=\"159.567\" y1=\"89.878\" x2=\"150.845\" y2=\"104.985\" stroke-linecap=\"round\" style=\"stroke:black;stroke-width:1\" /><line x1=\"150.845\" y1=\"104.985\" x2=\"144.879\" y2=\"121.377\" stroke-linecap=\"round\" style=\"stroke:black;stroke-width:1\" /><line x1=\"144.879\" y1=\"121.377\" x2=\"141.85\" y2=\"138.556\" stroke-linecap=\"round\" style=\"stroke:black;stroke-width:1\" /><line x1=\"141.85\" y1=\"138.556\" x2=\"141.85\" y2=\"156.0\" stroke-linecap=\"round\" style=\"stroke:black;stroke-width:1\" /><line x1=\"141.85\" y1=\"156.0\" x2=\"144.879\" y2=\"173.179\" stroke-linecap=\"round\" style=\"stroke:black;stroke-width:1\" /><line x1=\"144.879\" y1=\"173.179\" x2=\"150.845\" y2=\"189.571\" stroke-linecap=\"round\" style=\"stroke:black;stroke-width:1\" /><line x1=\"150.845\" y1=\"189.571\" x2=\"159.567\" y2=\"204.678\" stroke-linecap=\"round\" style=\"stroke:black;stroke-width:1\" /><line x1=\"159.567\" y1=\"204.678\" x2=\"170.78\" y2=\"218.041\" stroke-linecap=\"round\" style=\"stroke:black;stroke-width:1\" /><line x1=\"170.78\" y1=\"218.041\" x2=\"184.143\" y2=\"229.254\" stroke-linecap=\"round\" style=\"stroke:black;stroke-width:1\" /><line x1=\"184.143\" y1=\"229.254\" x2=\"199.25\" y2=\"237.976\" stroke-linecap=\"round\" style=\"stroke:black;stroke-width:1\" /><line x1=\"199.25\" y1=\"237.976\" x2=\"215.642\" y2=\"243.942\" stroke-linecap=\"round\" style=\"stroke:black;stroke-width:1\" /><line x1=\"215.642\" y1=\"243.942\" x2=\"232.821\" y2=\"246.971\" stroke-linecap=\"round\" style=\"stroke:black;stroke-width:1\" /><line x1=\"232.821\" y1=\"246.971\" x2=\"250.265\" y2=\"246.971\" stroke-linecap=\"round\" style=\"stroke:black;stroke-width:1\" /><line x1=\"250.265\" y1=\"246.971\" x2=\"267.444\" y2=\"243.942\" stroke-linecap=\"round\" style=\"stroke:black;stroke-width:1\" /><line x1=\"267.444\" y1=\"243.942\" x2=\"283.836\" y2=\"237.976\" stroke-linecap=\"round\" style=\"stroke:black;stroke-width:1\" /><line x1=\"283.836\" y1=\"237.976\" x2=\"298.943\" y2=\"229.254\" stroke-linecap=\"round\" style=\"stroke:black;stroke-width:1\" /><line x1=\"298.943\" y1=\"229.254\" x2=\"312.306\" y2=\"218.041\" stroke-linecap=\"round\" style=\"stroke:black;stroke-width:1\" /><line x1=\"312.306\" y1=\"218.041\" x2=\"323.519\" y2=\"204.678\" stroke-linecap=\"round\" style=\"stroke:black;stroke-width:1\" /><line x1=\"323.519\" y1=\"204.678\" x2=\"332.241\" y2=\"189.571\" stroke-linecap=\"round\" style=\"stroke:black;stroke-width:1\" /><line x1=\"332.241\" y1=\"189.571\" x2=\"338.207\" y2=\"173.179\" stroke-linecap=\"round\" style=\"stroke:black;stroke-width:1\" /><line x1=\"338.207\" y1=\"173.179\" x2=\"341.236\" y2=\"156.0\" stroke-linecap=\"round\" style=\"stroke:black;stroke-width:1\" /><line x1=\"341.236\" y1=\"156.0\" x2=\"341.236\" y2=\"138.556\" stroke-linecap=\"round\" style=\"stroke:black;stroke-width:1\" /><line x1=\"341.236\" y1=\"138.556\" x2=\"338.207\" y2=\"121.377\" stroke-linecap=\"round\" style=\"stroke:black;stroke-width:1\" /><line x1=\"338.207\" y1=\"121.377\" x2=\"332.241\" y2=\"104.985\" stroke-linecap=\"round\" style=\"stroke:black;stroke-width:1\" /><line x1=\"332.241\" y1=\"104.985\" x2=\"323.519\" y2=\"89.878\" stroke-linecap=\"round\" style=\"stroke:black;stroke-width:1\" /><line x1=\"323.519\" y1=\"89.878\" x2=\"312.306\" y2=\"76.515\" stroke-linecap=\"round\" style=\"stroke:black;stroke-width:1\" /><line x1=\"312.306\" y1=\"76.515\" x2=\"298.943\" y2=\"65.302\" stroke-linecap=\"round\" style=\"stroke:black;stroke-width:1\" /><line x1=\"298.943\" y1=\"65.302\" x2=\"283.836\" y2=\"56.58\" stroke-linecap=\"round\" style=\"stroke:black;stroke-width:1\" /><line x1=\"283.836\" y1=\"56.58\" x2=\"267.444\" y2=\"50.614\" stroke-linecap=\"round\" style=\"stroke:black;stroke-width:1\" /><line x1=\"267.444\" y1=\"50.614\" x2=\"250.0\" y2=\"50.614\" stroke-linecap=\"round\" style=\"stroke:black;stroke-width:1\" /><line x1=\"250.0\" y1=\"50.614\" x2=\"232.556\" y2=\"50.614\" stroke-linecap=\"round\" style=\"stroke:black;stroke-width:1\" /><line x1=\"232.556\" y1=\"50.614\" x2=\"215.377\" y2=\"53.643\" stroke-linecap=\"round\" style=\"stroke:black;stroke-width:1\" /><line x1=\"215.377\" y1=\"53.643\" x2=\"198.985\" y2=\"59.609\" stroke-linecap=\"round\" style=\"stroke:black;stroke-width:1\" /><line x1=\"198.985\" y1=\"59.609\" x2=\"183.878\" y2=\"68.331\" stroke-linecap=\"round\" style=\"stroke:black;stroke-width:1\" /><line x1=\"183.878\" y1=\"68.331\" x2=\"170.515\" y2=\"79.544\" stroke-linecap=\"round\" style=\"stroke:black;stroke-width:1\" /><line x1=\"170.515\" y1=\"79.544\" x2=\"159.302\" y2=\"92.907\" stroke-linecap=\"round\" style=\"stroke:black;stroke-width:1\" /><line x1=\"159.302\" y1=\"92.907\" x2=\"150.58\" y2=\"108.014\" stroke-linecap=\"round\" style=\"stroke:black;stroke-width:1\" /><line x1=\"150.58\" y1=\"108.014\" x2=\"144.614\" y2=\"124.406\" stroke-linecap=\"round\" style=\"stroke:black;stroke-width:1\" /><line x1=\"144.614\" y1=\"124.406\" x2=\"141.585\" y2=\"141.585\" stroke-linecap=\"round\" style=\"stroke:black;stroke-width:1\" /><line x1=\"141.585\" y1=\"141.585\" x2=\"141.585\" y2=\"159.029\" stroke-linecap=\"round\" style=\"stroke:black;stroke-width:1\" /><line x1=\"141.585\" y1=\"159.029\" x2=\"144.614\" y2=\"176.208\" stroke-linecap=\"round\" style=\"stroke:black;stroke-width:1\" /><line x1=\"144.614\" y1=\"176.208\" x2=\"150.58\" y2=\"192.6\" stroke-linecap=\"round\" style=\"stroke:black;stroke-width:1\" /><line x1=\"150.58\" y1=\"192.6\" x2=\"159.302\" y2=\"207.707\" stroke-linecap=\"round\" style=\"stroke:black;stroke-width:1\" /><line x1=\"159.302\" y1=\"207.707\" x2=\"170.515\" y2=\"221.07\" stroke-linecap=\"round\" style=\"stroke:black;stroke-width:1\" /><line x1=\"170.515\" y1=\"221.07\" x2=\"183.878\" y2=\"232.283\" stroke-linecap=\"round\" style=\"stroke:black;stroke-width:1\" /><line x1=\"183.878\" y1=\"232.283\" x2=\"198.985\" y2=\"241.005\" stroke-linecap=\"round\" style=\"stroke:black;stroke-width:1\" /><line x1=\"198.985\" y1=\"241.005\" x2=\"215.377\" y2=\"246.971\" stroke-linecap=\"round\" style=\"stroke:black;stroke-width:1\" /><line x1=\"215.377\" y1=\"246.971\" x2=\"232.556\" y2=\"250.0\" stroke-linecap=\"round\" style=\"stroke:black;stroke-width:1\" /><line x1=\"232.556\" y1=\"250.0\" x2=\"250.0\" y2=\"250.0\" stroke-linecap=\"round\" style=\"stroke:black;stroke-width:1\" /><line x1=\"250.0\" y1=\"250.0\" x2=\"267.179\" y2=\"246.971\" stroke-linecap=\"round\" style=\"stroke:black;stroke-width:1\" /><line x1=\"267.179\" y1=\"246.971\" x2=\"283.571\" y2=\"241.005\" stroke-linecap=\"round\" style=\"stroke:black;stroke-width:1\" /><line x1=\"283.571\" y1=\"241.005\" x2=\"298.678\" y2=\"232.283\" stroke-linecap=\"round\" style=\"stroke:black;stroke-width:1\" /><line x1=\"298.678\" y1=\"232.283\" x2=\"312.041\" y2=\"221.07\" stroke-linecap=\"round\" style=\"stroke:black;stroke-width:1\" /><line x1=\"312.041\" y1=\"221.07\" x2=\"323.254\" y2=\"207.707\" stroke-linecap=\"round\" style=\"stroke:black;stroke-width:1\" /><line x1=\"323.254\" y1=\"207.707\" x2=\"331.976\" y2=\"192.6\" stroke-linecap=\"round\" style=\"stroke:black;stroke-width:1\" /><line x1=\"331.976\" y1=\"192.6\" x2=\"337.942\" y2=\"176.208\" stroke-linecap=\"round\" style=\"stroke:black;stroke-width:1\" /><line x1=\"337.942\" y1=\"176.208\" x2=\"340.971\" y2=\"159.029\" stroke-linecap=\"round\" style=\"stroke:black;stroke-width:1\" /><line x1=\"340.971\" y1=\"159.029\" x2=\"340.971\" y2=\"141.585\" stroke-linecap=\"round\" style=\"stroke:black;stroke-width:1\" /><line x1=\"340.971\" y1=\"141.585\" x2=\"337.942\" y2=\"124.406\" stroke-linecap=\"round\" style=\"stroke:black;stroke-width:1\" /><line x1=\"337.942\" y1=\"124.406\" x2=\"331.976\" y2=\"108.014\" stroke-linecap=\"round\" style=\"stroke:black;stroke-width:1\" /><line x1=\"331.976\" y1=\"108.014\" x2=\"323.254\" y2=\"92.907\" stroke-linecap=\"round\" style=\"stroke:black;stroke-width:1\" /><line x1=\"323.254\" y1=\"92.907\" x2=\"312.041\" y2=\"79.544\" stroke-linecap=\"round\" style=\"stroke:black;stroke-width:1\" /><line x1=\"312.041\" y1=\"79.544\" x2=\"298.678\" y2=\"68.331\" stroke-linecap=\"round\" style=\"stroke:black;stroke-width:1\" /><line x1=\"298.678\" y1=\"68.331\" x2=\"283.571\" y2=\"59.609\" stroke-linecap=\"round\" style=\"stroke:black;stroke-width:1\" /><line x1=\"283.571\" y1=\"59.609\" x2=\"267.179\" y2=\"53.643\" stroke-linecap=\"round\" style=\"stroke:black;stroke-width:1\" /><line x1=\"267.179\" y1=\"53.643\" x2=\"250.0\" y2=\"50.614\" stroke-linecap=\"round\" style=\"stroke:black;stroke-width:1\" /><line x1=\"250.0\" y1=\"50.614\" x2=\"232.821\" y2=\"53.643\" stroke-linecap=\"round\" style=\"stroke:black;stroke-width:1\" /><line x1=\"232.821\" y1=\"53.643\" x2=\"215.642\" y2=\"56.672\" stroke-linecap=\"round\" style=\"stroke:black;stroke-width:1\" /><line x1=\"215.642\" y1=\"56.672\" x2=\"199.25\" y2=\"62.638\" stroke-linecap=\"round\" style=\"stroke:black;stroke-width:1\" /><line x1=\"199.25\" y1=\"62.638\" x2=\"184.143\" y2=\"71.36\" stroke-linecap=\"round\" style=\"stroke:black;stroke-width:1\" /><line x1=\"184.143\" y1=\"71.36\" x2=\"170.78\" y2=\"82.573\" stroke-linecap=\"round\" style=\"stroke:black;stroke-width:1\" /><line x1=\"170.78\" y1=\"82.573\" x2=\"159.567\" y2=\"95.936\" stroke-linecap=\"round\" style=\"stroke:black;stroke-width:1\" /><line x1=\"159.567\" y1=\"95.936\" x2=\"150.845\" y2=\"111.043\" stroke-linecap=\"round\" style=\"stroke:black;stroke-width:1\" /><line x1=\"150.845\" y1=\"111.043\" x2=\"144.879\" y2=\"127.435\" stroke-linecap=\"round\" style=\"stroke:black;stroke-width:1\" /><line x1=\"144.879\" y1=\"127.435\" x2=\"141.85\" y2=\"144.614\" stroke-linecap=\"round\" style=\"stroke:black;stroke-width:1\" /><line x1=\"141.85\" y1=\"144.614\" x2=\"141.85\" y2=\"162.058\" stroke-linecap=\"round\" style=\"stroke:black;stroke-width:1\" /><line x1=\"141.85\" y1=\"162.058\" x2=\"144.879\" y2=\"179.237\" stroke-linecap=\"round\" style=\"stroke:black;stroke-width:1\" /><line x1=\"144.879\" y1=\"179.237\" x2=\"150.845\" y2=\"195.629\" stroke-linecap=\"round\" style=\"stroke:black;stroke-width:1\" /><line x1=\"150.845\" y1=\"195.629\" x2=\"159.567\" y2=\"210.736\" stroke-linecap=\"round\" style=\"stroke:black;stroke-width:1\" /><line x1=\"159.567\" y1=\"210.736\" x2=\"170.78\" y2=\"224.099\" stroke-linecap=\"round\" style=\"stroke:black;stroke-width:1\" /><line x1=\"170.78\" y1=\"224.099\" x2=\"184.143\" y2=\"235.312\" stroke-linecap=\"round\" style=\"stroke:black;stroke-width:1\" /><line x1=\"184.143\" y1=\"235.312\" x2=\"199.25\" y2=\"244.034\" stroke-linecap=\"round\" style=\"stroke:black;stroke-width:1\" /><line x1=\"199.25\" y1=\"244.034\" x2=\"215.642\" y2=\"250.0\" stroke-linecap=\"round\" style=\"stroke:black;stroke-width:1\" /><line x1=\"215.642\" y1=\"250.0\" x2=\"232.821\" y2=\"253.029\" stroke-linecap=\"round\" style=\"stroke:black;stroke-width:1\" /><line x1=\"232.821\" y1=\"253.029\" x2=\"250.265\" y2=\"253.029\" stroke-linecap=\"round\" style=\"stroke:black;stroke-width:1\" /><line x1=\"250.265\" y1=\"253.029\" x2=\"267.444\" y2=\"250.0\" stroke-linecap=\"round\" style=\"stroke:black;stroke-width:1\" /><line x1=\"267.444\" y1=\"250.0\" x2=\"283.836\" y2=\"244.034\" stroke-linecap=\"round\" style=\"stroke:black;stroke-width:1\" /><line x1=\"283.836\" y1=\"244.034\" x2=\"298.943\" y2=\"235.312\" stroke-linecap=\"round\" style=\"stroke:black;stroke-width:1\" /><line x1=\"298.943\" y1=\"235.312\" x2=\"312.306\" y2=\"224.099\" stroke-linecap=\"round\" style=\"stroke:black;stroke-width:1\" /><line x1=\"312.306\" y1=\"224.099\" x2=\"323.519\" y2=\"210.736\" stroke-linecap=\"round\" style=\"stroke:black;stroke-width:1\" /><line x1=\"323.519\" y1=\"210.736\" x2=\"332.241\" y2=\"195.629\" stroke-linecap=\"round\" style=\"stroke:black;stroke-width:1\" /><line x1=\"332.241\" y1=\"195.629\" x2=\"338.207\" y2=\"179.237\" stroke-linecap=\"round\" style=\"stroke:black;stroke-width:1\" /><line x1=\"338.207\" y1=\"179.237\" x2=\"341.236\" y2=\"162.058\" stroke-linecap=\"round\" style=\"stroke:black;stroke-width:1\" /><line x1=\"341.236\" y1=\"162.058\" x2=\"341.236\" y2=\"144.614\" stroke-linecap=\"round\" style=\"stroke:black;stroke-width:1\" /><line x1=\"341.236\" y1=\"144.614\" x2=\"338.207\" y2=\"127.435\" stroke-linecap=\"round\" style=\"stroke:black;stroke-width:1\" /><line x1=\"338.207\" y1=\"127.435\" x2=\"332.241\" y2=\"111.043\" stroke-linecap=\"round\" style=\"stroke:black;stroke-width:1\" /><line x1=\"332.241\" y1=\"111.043\" x2=\"323.519\" y2=\"95.936\" stroke-linecap=\"round\" style=\"stroke:black;stroke-width:1\" /><line x1=\"323.519\" y1=\"95.936\" x2=\"312.306\" y2=\"82.573\" stroke-linecap=\"round\" style=\"stroke:black;stroke-width:1\" /><line x1=\"312.306\" y1=\"82.573\" x2=\"298.943\" y2=\"71.36\" stroke-linecap=\"round\" style=\"stroke:black;stroke-width:1\" /><line x1=\"298.943\" y1=\"71.36\" x2=\"283.836\" y2=\"62.638\" stroke-linecap=\"round\" style=\"stroke:black;stroke-width:1\" /><line x1=\"283.836\" y1=\"62.638\" x2=\"267.444\" y2=\"56.672\" stroke-linecap=\"round\" style=\"stroke:black;stroke-width:1\" /><line x1=\"267.444\" y1=\"56.672\" x2=\"250.265\" y2=\"53.643\" stroke-linecap=\"round\" style=\"stroke:black;stroke-width:1\" /><line x1=\"250.265\" y1=\"53.643\" x2=\"232.821\" y2=\"53.643\" stroke-linecap=\"round\" style=\"stroke:black;stroke-width:1\" /><line x1=\"232.821\" y1=\"53.643\" x2=\"216.429\" y2=\"59.609\" stroke-linecap=\"round\" style=\"stroke:black;stroke-width:1\" /><line x1=\"216.429\" y1=\"59.609\" x2=\"200.037\" y2=\"65.575\" stroke-linecap=\"round\" style=\"stroke:black;stroke-width:1\" /><line x1=\"200.037\" y1=\"65.575\" x2=\"184.93\" y2=\"74.297\" stroke-linecap=\"round\" style=\"stroke:black;stroke-width:1\" /><line x1=\"184.93\" y1=\"74.297\" x2=\"171.567\" y2=\"85.51\" stroke-linecap=\"round\" style=\"stroke:black;stroke-width:1\" /><line x1=\"171.567\" y1=\"85.51\" x2=\"160.354\" y2=\"98.873\" stroke-linecap=\"round\" style=\"stroke:black;stroke-width:1\" /><line x1=\"160.354\" y1=\"98.873\" x2=\"151.632\" y2=\"113.98\" stroke-linecap=\"round\" style=\"stroke:black;stroke-width:1\" /><line x1=\"151.632\" y1=\"113.98\" x2=\"145.666\" y2=\"130.372\" stroke-linecap=\"round\" style=\"stroke:black;stroke-width:1\" /><line x1=\"145.666\" y1=\"130.372\" x2=\"142.637\" y2=\"147.551\" stroke-linecap=\"round\" style=\"stroke:black;stroke-width:1\" /><line x1=\"142.637\" y1=\"147.551\" x2=\"142.637\" y2=\"164.995\" stroke-linecap=\"round\" style=\"stroke:black;stroke-width:1\" /><line x1=\"142.637\" y1=\"164.995\" x2=\"145.666\" y2=\"182.174\" stroke-linecap=\"round\" style=\"stroke:black;stroke-width:1\" /><line x1=\"145.666\" y1=\"182.174\" x2=\"151.632\" y2=\"198.566\" stroke-linecap=\"round\" style=\"stroke:black;stroke-width:1\" /><line x1=\"151.632\" y1=\"198.566\" x2=\"160.354\" y2=\"213.673\" stroke-linecap=\"round\" style=\"stroke:black;stroke-width:1\" /><line x1=\"160.354\" y1=\"213.673\" x2=\"171.567\" y2=\"227.036\" stroke-linecap=\"round\" style=\"stroke:black;stroke-width:1\" /><line x1=\"171.567\" y1=\"227.036\" x2=\"184.93\" y2=\"238.249\" stroke-linecap=\"round\" style=\"stroke:black;stroke-width:1\" /><line x1=\"184.93\" y1=\"238.249\" x2=\"200.037\" y2=\"246.971\" stroke-linecap=\"round\" style=\"stroke:black;stroke-width:1\" /><line x1=\"200.037\" y1=\"246.971\" x2=\"216.429\" y2=\"252.937\" stroke-linecap=\"round\" style=\"stroke:black;stroke-width:1\" /><line x1=\"216.429\" y1=\"252.937\" x2=\"233.608\" y2=\"255.966\" stroke-linecap=\"round\" style=\"stroke:black;stroke-width:1\" /><line x1=\"233.608\" y1=\"255.966\" x2=\"251.052\" y2=\"255.966\" stroke-linecap=\"round\" style=\"stroke:black;stroke-width:1\" /><line x1=\"251.052\" y1=\"255.966\" x2=\"268.231\" y2=\"252.937\" stroke-linecap=\"round\" style=\"stroke:black;stroke-width:1\" /><line x1=\"268.231\" y1=\"252.937\" x2=\"284.623\" y2=\"246.971\" stroke-linecap=\"round\" style=\"stroke:black;stroke-width:1\" /><line x1=\"284.623\" y1=\"246.971\" x2=\"299.73\" y2=\"238.249\" stroke-linecap=\"round\" style=\"stroke:black;stroke-width:1\" /><line x1=\"299.73\" y1=\"238.249\" x2=\"313.093\" y2=\"227.036\" stroke-linecap=\"round\" style=\"stroke:black;stroke-width:1\" /><line x1=\"313.093\" y1=\"227.036\" x2=\"324.306\" y2=\"213.673\" stroke-linecap=\"round\" style=\"stroke:black;stroke-width:1\" /><line x1=\"324.306\" y1=\"213.673\" x2=\"333.028\" y2=\"198.566\" stroke-linecap=\"round\" style=\"stroke:black;stroke-width:1\" /><line x1=\"333.028\" y1=\"198.566\" x2=\"338.994\" y2=\"182.174\" stroke-linecap=\"round\" style=\"stroke:black;stroke-width:1\" /><line x1=\"338.994\" y1=\"182.174\" x2=\"342.023\" y2=\"164.995\" stroke-linecap=\"round\" style=\"stroke:black;stroke-width:1\" /><line x1=\"342.023\" y1=\"164.995\" x2=\"342.023\" y2=\"147.551\" stroke-linecap=\"round\" style=\"stroke:black;stroke-width:1\" /><line x1=\"342.023\" y1=\"147.551\" x2=\"338.994\" y2=\"130.372\" stroke-linecap=\"round\" style=\"stroke:black;stroke-width:1\" /><line x1=\"338.994\" y1=\"130.372\" x2=\"333.028\" y2=\"113.98\" stroke-linecap=\"round\" style=\"stroke:black;stroke-width:1\" /><line x1=\"333.028\" y1=\"113.98\" x2=\"324.306\" y2=\"98.873\" stroke-linecap=\"round\" style=\"stroke:black;stroke-width:1\" /><line x1=\"324.306\" y1=\"98.873\" x2=\"313.093\" y2=\"85.51\" stroke-linecap=\"round\" style=\"stroke:black;stroke-width:1\" /><line x1=\"313.093\" y1=\"85.51\" x2=\"299.73\" y2=\"74.297\" stroke-linecap=\"round\" style=\"stroke:black;stroke-width:1\" /><line x1=\"299.73\" y1=\"74.297\" x2=\"284.623\" y2=\"65.575\" stroke-linecap=\"round\" style=\"stroke:black;stroke-width:1\" /><line x1=\"284.623\" y1=\"65.575\" x2=\"268.231\" y2=\"59.609\" stroke-linecap=\"round\" style=\"stroke:black;stroke-width:1\" /><line x1=\"268.231\" y1=\"59.609\" x2=\"251.052\" y2=\"56.58\" stroke-linecap=\"round\" style=\"stroke:black;stroke-width:1\" /><line x1=\"251.052\" y1=\"56.58\" x2=\"233.608\" y2=\"56.58\" stroke-linecap=\"round\" style=\"stroke:black;stroke-width:1\" /><line x1=\"233.608\" y1=\"56.58\" x2=\"216.429\" y2=\"59.609\" stroke-linecap=\"round\" style=\"stroke:black;stroke-width:1\" /><line x1=\"216.429\" y1=\"59.609\" x2=\"201.322\" y2=\"68.331\" stroke-linecap=\"round\" style=\"stroke:black;stroke-width:1\" /><line x1=\"201.322\" y1=\"68.331\" x2=\"186.215\" y2=\"77.053\" stroke-linecap=\"round\" style=\"stroke:black;stroke-width:1\" /><line x1=\"186.215\" y1=\"77.053\" x2=\"172.852\" y2=\"88.266\" stroke-linecap=\"round\" style=\"stroke:black;stroke-width:1\" /><line x1=\"172.852\" y1=\"88.266\" x2=\"161.639\" y2=\"101.629\" stroke-linecap=\"round\" style=\"stroke:black;stroke-width:1\" /><line x1=\"161.639\" y1=\"101.629\" x2=\"152.917\" y2=\"116.736\" stroke-linecap=\"round\" style=\"stroke:black;stroke-width:1\" /><line x1=\"152.917\" y1=\"116.736\" x2=\"146.951\" y2=\"133.128\" stroke-linecap=\"round\" style=\"stroke:black;stroke-width:1\" /><line x1=\"146.951\" y1=\"133.128\" x2=\"143.922\" y2=\"150.307\" stroke-linecap=\"round\" style=\"stroke:black;stroke-width:1\" /><line x1=\"143.922\" y1=\"150.307\" x2=\"143.922\" y2=\"167.751\" stroke-linecap=\"round\" style=\"stroke:black;stroke-width:1\" /><line x1=\"143.922\" y1=\"167.751\" x2=\"146.951\" y2=\"184.93\" stroke-linecap=\"round\" style=\"stroke:black;stroke-width:1\" /><line x1=\"146.951\" y1=\"184.93\" x2=\"152.917\" y2=\"201.322\" stroke-linecap=\"round\" style=\"stroke:black;stroke-width:1\" /><line x1=\"152.917\" y1=\"201.322\" x2=\"161.639\" y2=\"216.429\" stroke-linecap=\"round\" style=\"stroke:black;stroke-width:1\" /><line x1=\"161.639\" y1=\"216.429\" x2=\"172.852\" y2=\"229.792\" stroke-linecap=\"round\" style=\"stroke:black;stroke-width:1\" /><line x1=\"172.852\" y1=\"229.792\" x2=\"186.215\" y2=\"241.005\" stroke-linecap=\"round\" style=\"stroke:black;stroke-width:1\" /><line x1=\"186.215\" y1=\"241.005\" x2=\"201.322\" y2=\"249.727\" stroke-linecap=\"round\" style=\"stroke:black;stroke-width:1\" /><line x1=\"201.322\" y1=\"249.727\" x2=\"217.714\" y2=\"255.693\" stroke-linecap=\"round\" style=\"stroke:black;stroke-width:1\" /><line x1=\"217.714\" y1=\"255.693\" x2=\"234.893\" y2=\"258.722\" stroke-linecap=\"round\" style=\"stroke:black;stroke-width:1\" /><line x1=\"234.893\" y1=\"258.722\" x2=\"252.337\" y2=\"258.722\" stroke-linecap=\"round\" style=\"stroke:black;stroke-width:1\" /><line x1=\"252.337\" y1=\"258.722\" x2=\"269.516\" y2=\"255.693\" stroke-linecap=\"round\" style=\"stroke:black;stroke-width:1\" /><line x1=\"269.516\" y1=\"255.693\" x2=\"285.908\" y2=\"249.727\" stroke-linecap=\"round\" style=\"stroke:black;stroke-width:1\" /><line x1=\"285.908\" y1=\"249.727\" x2=\"301.015\" y2=\"241.005\" stroke-linecap=\"round\" style=\"stroke:black;stroke-width:1\" /><line x1=\"301.015\" y1=\"241.005\" x2=\"314.378\" y2=\"229.792\" stroke-linecap=\"round\" style=\"stroke:black;stroke-width:1\" /><line x1=\"314.378\" y1=\"229.792\" x2=\"325.591\" y2=\"216.429\" stroke-linecap=\"round\" style=\"stroke:black;stroke-width:1\" /><line x1=\"325.591\" y1=\"216.429\" x2=\"334.313\" y2=\"201.322\" stroke-linecap=\"round\" style=\"stroke:black;stroke-width:1\" /><line x1=\"334.313\" y1=\"201.322\" x2=\"340.279\" y2=\"184.93\" stroke-linecap=\"round\" style=\"stroke:black;stroke-width:1\" /><line x1=\"340.279\" y1=\"184.93\" x2=\"343.308\" y2=\"167.751\" stroke-linecap=\"round\" style=\"stroke:black;stroke-width:1\" /><line x1=\"343.308\" y1=\"167.751\" x2=\"343.308\" y2=\"150.307\" stroke-linecap=\"round\" style=\"stroke:black;stroke-width:1\" /><line x1=\"343.308\" y1=\"150.307\" x2=\"340.279\" y2=\"133.128\" stroke-linecap=\"round\" style=\"stroke:black;stroke-width:1\" /><line x1=\"340.279\" y1=\"133.128\" x2=\"334.313\" y2=\"116.736\" stroke-linecap=\"round\" style=\"stroke:black;stroke-width:1\" /><line x1=\"334.313\" y1=\"116.736\" x2=\"325.591\" y2=\"101.629\" stroke-linecap=\"round\" style=\"stroke:black;stroke-width:1\" /><line x1=\"325.591\" y1=\"101.629\" x2=\"314.378\" y2=\"88.266\" stroke-linecap=\"round\" style=\"stroke:black;stroke-width:1\" /><line x1=\"314.378\" y1=\"88.266\" x2=\"301.015\" y2=\"77.053\" stroke-linecap=\"round\" style=\"stroke:black;stroke-width:1\" /><line x1=\"301.015\" y1=\"77.053\" x2=\"285.908\" y2=\"68.331\" stroke-linecap=\"round\" style=\"stroke:black;stroke-width:1\" /><line x1=\"285.908\" y1=\"68.331\" x2=\"269.516\" y2=\"62.365\" stroke-linecap=\"round\" style=\"stroke:black;stroke-width:1\" /><line x1=\"269.516\" y1=\"62.365\" x2=\"252.337\" y2=\"59.336\" stroke-linecap=\"round\" style=\"stroke:black;stroke-width:1\" /><line x1=\"252.337\" y1=\"59.336\" x2=\"234.893\" y2=\"59.336\" stroke-linecap=\"round\" style=\"stroke:black;stroke-width:1\" /><line x1=\"234.893\" y1=\"59.336\" x2=\"217.714\" y2=\"62.365\" stroke-linecap=\"round\" style=\"stroke:black;stroke-width:1\" /><line x1=\"217.714\" y1=\"62.365\" x2=\"201.322\" y2=\"68.331\" stroke-linecap=\"round\" style=\"stroke:black;stroke-width:1\" /><line x1=\"201.322\" y1=\"68.331\" x2=\"187.959\" y2=\"79.544\" stroke-linecap=\"round\" style=\"stroke:black;stroke-width:1\" /><line x1=\"187.959\" y1=\"79.544\" x2=\"174.596\" y2=\"90.757\" stroke-linecap=\"round\" style=\"stroke:black;stroke-width:1\" /><line x1=\"174.596\" y1=\"90.757\" x2=\"163.383\" y2=\"104.12\" stroke-linecap=\"round\" style=\"stroke:black;stroke-width:1\" /><line x1=\"163.383\" y1=\"104.12\" x2=\"154.661\" y2=\"119.227\" stroke-linecap=\"round\" style=\"stroke:black;stroke-width:1\" /><line x1=\"154.661\" y1=\"119.227\" x2=\"148.695\" y2=\"135.619\" stroke-linecap=\"round\" style=\"stroke:black;stroke-width:1\" /><line x1=\"148.695\" y1=\"135.619\" x2=\"145.666\" y2=\"152.798\" stroke-linecap=\"round\" style=\"stroke:black;stroke-width:1\" /><line x1=\"145.666\" y1=\"152.798\" x2=\"145.666\" y2=\"170.242\" stroke-linecap=\"round\" style=\"stroke:black;stroke-width:1\" /><line x1=\"145.666\" y1=\"170.242\" x2=\"148.695\" y2=\"187.421\" stroke-linecap=\"round\" style=\"stroke:black;stroke-width:1\" /><line x1=\"148.695\" y1=\"187.421\" x2=\"154.661\" y2=\"203.813\" stroke-linecap=\"round\" style=\"stroke:black;stroke-width:1\" /><line x1=\"154.661\" y1=\"203.813\" x2=\"163.383\" y2=\"218.92\" stroke-linecap=\"round\" style=\"stroke:black;stroke-width:1\" /><line x1=\"163.383\" y1=\"218.92\" x2=\"174.596\" y2=\"232.283\" stroke-linecap=\"round\" style=\"stroke:black;stroke-width:1\" /><line x1=\"174.596\" y1=\"232.283\" x2=\"187.959\" y2=\"243.496\" stroke-linecap=\"round\" style=\"stroke:black;stroke-width:1\" /><line x1=\"187.959\" y1=\"243.496\" x2=\"203.066\" y2=\"252.218\" stroke-linecap=\"round\" style=\"stroke:black;stroke-width:1\" /><line x1=\"203.066\" y1=\"252.218\" x2=\"219.458\" y2=\"258.184\" stroke-linecap=\"round\" style=\"stroke:black;stroke-width:1\" /><line x1=\"219.458\" y1=\"258.184\" x2=\"236.637\" y2=\"261.213\" stroke-linecap=\"round\" style=\"stroke:black;stroke-width:1\" /><line x1=\"236.637\" y1=\"261.213\" x2=\"254.081\" y2=\"261.213\" stroke-linecap=\"round\" style=\"stroke:black;stroke-width:1\" /><line x1=\"254.081\" y1=\"261.213\" x2=\"271.26\" y2=\"258.184\" stroke-linecap=\"round\" style=\"stroke:black;stroke-width:1\" /><line x1=\"271.26\" y1=\"258.184\" x2=\"287.652\" y2=\"252.218\" stroke-linecap=\"round\" style=\"stroke:black;stroke-width:1\" /><line x1=\"287.652\" y1=\"252.218\" x2=\"302.759\" y2=\"243.496\" stroke-linecap=\"round\" style=\"stroke:black;stroke-width:1\" /><line x1=\"302.759\" y1=\"243.496\" x2=\"316.122\" y2=\"232.283\" stroke-linecap=\"round\" style=\"stroke:black;stroke-width:1\" /><line x1=\"316.122\" y1=\"232.283\" x2=\"327.335\" y2=\"218.92\" stroke-linecap=\"round\" style=\"stroke:black;stroke-width:1\" /><line x1=\"327.335\" y1=\"218.92\" x2=\"336.057\" y2=\"203.813\" stroke-linecap=\"round\" style=\"stroke:black;stroke-width:1\" /><line x1=\"336.057\" y1=\"203.813\" x2=\"342.023\" y2=\"187.421\" stroke-linecap=\"round\" style=\"stroke:black;stroke-width:1\" /><line x1=\"342.023\" y1=\"187.421\" x2=\"345.052\" y2=\"170.242\" stroke-linecap=\"round\" style=\"stroke:black;stroke-width:1\" /><line x1=\"345.052\" y1=\"170.242\" x2=\"345.052\" y2=\"152.798\" stroke-linecap=\"round\" style=\"stroke:black;stroke-width:1\" /><line x1=\"345.052\" y1=\"152.798\" x2=\"342.023\" y2=\"135.619\" stroke-linecap=\"round\" style=\"stroke:black;stroke-width:1\" /><line x1=\"342.023\" y1=\"135.619\" x2=\"336.057\" y2=\"119.227\" stroke-linecap=\"round\" style=\"stroke:black;stroke-width:1\" /><line x1=\"336.057\" y1=\"119.227\" x2=\"327.335\" y2=\"104.12\" stroke-linecap=\"round\" style=\"stroke:black;stroke-width:1\" /><line x1=\"327.335\" y1=\"104.12\" x2=\"316.122\" y2=\"90.757\" stroke-linecap=\"round\" style=\"stroke:black;stroke-width:1\" /><line x1=\"316.122\" y1=\"90.757\" x2=\"302.759\" y2=\"79.544\" stroke-linecap=\"round\" style=\"stroke:black;stroke-width:1\" /><line x1=\"302.759\" y1=\"79.544\" x2=\"287.652\" y2=\"70.822\" stroke-linecap=\"round\" style=\"stroke:black;stroke-width:1\" /><line x1=\"287.652\" y1=\"70.822\" x2=\"271.26\" y2=\"64.856\" stroke-linecap=\"round\" style=\"stroke:black;stroke-width:1\" /><line x1=\"271.26\" y1=\"64.856\" x2=\"254.081\" y2=\"61.827\" stroke-linecap=\"round\" style=\"stroke:black;stroke-width:1\" /><line x1=\"254.081\" y1=\"61.827\" x2=\"236.637\" y2=\"61.827\" stroke-linecap=\"round\" style=\"stroke:black;stroke-width:1\" /><line x1=\"236.637\" y1=\"61.827\" x2=\"219.458\" y2=\"64.856\" stroke-linecap=\"round\" style=\"stroke:black;stroke-width:1\" /><line x1=\"219.458\" y1=\"64.856\" x2=\"203.066\" y2=\"70.822\" stroke-linecap=\"round\" style=\"stroke:black;stroke-width:1\" /><line x1=\"203.066\" y1=\"70.822\" x2=\"187.959\" y2=\"79.544\" stroke-linecap=\"round\" style=\"stroke:black;stroke-width:1\" /><line x1=\"187.959\" y1=\"79.544\" x2=\"176.746\" y2=\"92.907\" stroke-linecap=\"round\" style=\"stroke:black;stroke-width:1\" /><line x1=\"176.746\" y1=\"92.907\" x2=\"165.533\" y2=\"106.27\" stroke-linecap=\"round\" style=\"stroke:black;stroke-width:1\" /><line x1=\"165.533\" y1=\"106.27\" x2=\"156.811\" y2=\"121.377\" stroke-linecap=\"round\" style=\"stroke:black;stroke-width:1\" /><line x1=\"156.811\" y1=\"121.377\" x2=\"150.845\" y2=\"137.769\" stroke-linecap=\"round\" style=\"stroke:black;stroke-width:1\" /><line x1=\"150.845\" y1=\"137.769\" x2=\"147.816\" y2=\"154.948\" stroke-linecap=\"round\" style=\"stroke:black;stroke-width:1\" /><line x1=\"147.816\" y1=\"154.948\" x2=\"147.816\" y2=\"172.392\" stroke-linecap=\"round\" style=\"stroke:black;stroke-width:1\" /><line x1=\"147.816\" y1=\"172.392\" x2=\"150.845\" y2=\"189.571\" stroke-linecap=\"round\" style=\"stroke:black;stroke-width:1\" /><line x1=\"150.845\" y1=\"189.571\" x2=\"156.811\" y2=\"205.963\" stroke-linecap=\"round\" style=\"stroke:black;stroke-width:1\" /><line x1=\"156.811\" y1=\"205.963\" x2=\"165.533\" y2=\"221.07\" stroke-linecap=\"round\" style=\"stroke:black;stroke-width:1\" /><line x1=\"165.533\" y1=\"221.07\" x2=\"176.746\" y2=\"234.433\" stroke-linecap=\"round\" style=\"stroke:black;stroke-width:1\" /><line x1=\"176.746\" y1=\"234.433\" x2=\"190.109\" y2=\"245.646\" stroke-linecap=\"round\" style=\"stroke:black;stroke-width:1\" /><line x1=\"190.109\" y1=\"245.646\" x2=\"205.216\" y2=\"254.368\" stroke-linecap=\"round\" style=\"stroke:black;stroke-width:1\" /><line x1=\"205.216\" y1=\"254.368\" x2=\"221.608\" y2=\"260.334\" stroke-linecap=\"round\" style=\"stroke:black;stroke-width:1\" /><line x1=\"221.608\" y1=\"260.334\" x2=\"238.787\" y2=\"263.363\" stroke-linecap=\"round\" style=\"stroke:black;stroke-width:1\" /><line x1=\"238.787\" y1=\"263.363\" x2=\"256.231\" y2=\"263.363\" stroke-linecap=\"round\" style=\"stroke:black;stroke-width:1\" /><line x1=\"256.231\" y1=\"263.363\" x2=\"273.41\" y2=\"260.334\" stroke-linecap=\"round\" style=\"stroke:black;stroke-width:1\" /><line x1=\"273.41\" y1=\"260.334\" x2=\"289.802\" y2=\"254.368\" stroke-linecap=\"round\" style=\"stroke:black;stroke-width:1\" /><line x1=\"289.802\" y1=\"254.368\" x2=\"304.909\" y2=\"245.646\" stroke-linecap=\"round\" style=\"stroke:black;stroke-width:1\" /><line x1=\"304.909\" y1=\"245.646\" x2=\"318.272\" y2=\"234.433\" stroke-linecap=\"round\" style=\"stroke:black;stroke-width:1\" /><line x1=\"318.272\" y1=\"234.433\" x2=\"329.485\" y2=\"221.07\" stroke-linecap=\"round\" style=\"stroke:black;stroke-width:1\" /><line x1=\"329.485\" y1=\"221.07\" x2=\"338.207\" y2=\"205.963\" stroke-linecap=\"round\" style=\"stroke:black;stroke-width:1\" /><line x1=\"338.207\" y1=\"205.963\" x2=\"344.173\" y2=\"189.571\" stroke-linecap=\"round\" style=\"stroke:black;stroke-width:1\" /><line x1=\"344.173\" y1=\"189.571\" x2=\"347.202\" y2=\"172.392\" stroke-linecap=\"round\" style=\"stroke:black;stroke-width:1\" /><line x1=\"347.202\" y1=\"172.392\" x2=\"347.202\" y2=\"154.948\" stroke-linecap=\"round\" style=\"stroke:black;stroke-width:1\" /><line x1=\"347.202\" y1=\"154.948\" x2=\"344.173\" y2=\"137.769\" stroke-linecap=\"round\" style=\"stroke:black;stroke-width:1\" /><line x1=\"344.173\" y1=\"137.769\" x2=\"338.207\" y2=\"121.377\" stroke-linecap=\"round\" style=\"stroke:black;stroke-width:1\" /><line x1=\"338.207\" y1=\"121.377\" x2=\"329.485\" y2=\"106.27\" stroke-linecap=\"round\" style=\"stroke:black;stroke-width:1\" /><line x1=\"329.485\" y1=\"106.27\" x2=\"318.272\" y2=\"92.907\" stroke-linecap=\"round\" style=\"stroke:black;stroke-width:1\" /><line x1=\"318.272\" y1=\"92.907\" x2=\"304.909\" y2=\"81.694\" stroke-linecap=\"round\" style=\"stroke:black;stroke-width:1\" /><line x1=\"304.909\" y1=\"81.694\" x2=\"289.802\" y2=\"72.972\" stroke-linecap=\"round\" style=\"stroke:black;stroke-width:1\" /><line x1=\"289.802\" y1=\"72.972\" x2=\"273.41\" y2=\"67.006\" stroke-linecap=\"round\" style=\"stroke:black;stroke-width:1\" /><line x1=\"273.41\" y1=\"67.006\" x2=\"256.231\" y2=\"63.977\" stroke-linecap=\"round\" style=\"stroke:black;stroke-width:1\" /><line x1=\"256.231\" y1=\"63.977\" x2=\"238.787\" y2=\"63.977\" stroke-linecap=\"round\" style=\"stroke:black;stroke-width:1\" /><line x1=\"238.787\" y1=\"63.977\" x2=\"221.608\" y2=\"67.006\" stroke-linecap=\"round\" style=\"stroke:black;stroke-width:1\" /><line x1=\"221.608\" y1=\"67.006\" x2=\"205.216\" y2=\"72.972\" stroke-linecap=\"round\" style=\"stroke:black;stroke-width:1\" /><line x1=\"205.216\" y1=\"72.972\" x2=\"190.109\" y2=\"81.694\" stroke-linecap=\"round\" style=\"stroke:black;stroke-width:1\" /><line x1=\"190.109\" y1=\"81.694\" x2=\"176.746\" y2=\"92.907\" stroke-linecap=\"round\" style=\"stroke:black;stroke-width:1\" /><line x1=\"176.746\" y1=\"92.907\" x2=\"168.024\" y2=\"108.014\" stroke-linecap=\"round\" style=\"stroke:black;stroke-width:1\" /><line x1=\"168.024\" y1=\"108.014\" x2=\"159.302\" y2=\"123.121\" stroke-linecap=\"round\" style=\"stroke:black;stroke-width:1\" /><line x1=\"159.302\" y1=\"123.121\" x2=\"153.336\" y2=\"139.513\" stroke-linecap=\"round\" style=\"stroke:black;stroke-width:1\" /><line x1=\"153.336\" y1=\"139.513\" x2=\"150.307\" y2=\"156.692\" stroke-linecap=\"round\" style=\"stroke:black;stroke-width:1\" /><line x1=\"150.307\" y1=\"156.692\" x2=\"150.307\" y2=\"174.136\" stroke-linecap=\"round\" style=\"stroke:black;stroke-width:1\" /><line x1=\"150.307\" y1=\"174.136\" x2=\"153.336\" y2=\"191.315\" stroke-linecap=\"round\" style=\"stroke:black;stroke-width:1\" /><line x1=\"153.336\" y1=\"191.315\" x2=\"159.302\" y2=\"207.707\" stroke-linecap=\"round\" style=\"stroke:black;stroke-width:1\" /><line x1=\"159.302\" y1=\"207.707\" x2=\"168.024\" y2=\"222.814\" stroke-linecap=\"round\" style=\"stroke:black;stroke-width:1\" /><line x1=\"168.024\" y1=\"222.814\" x2=\"179.237\" y2=\"236.177\" stroke-linecap=\"round\" style=\"stroke:black;stroke-width:1\" /><line x1=\"179.237\" y1=\"236.177\" x2=\"192.6\" y2=\"247.39\" stroke-linecap=\"round\" style=\"stroke:black;stroke-width:1\" /><line x1=\"192.6\" y1=\"247.39\" x2=\"207.707\" y2=\"256.112\" stroke-linecap=\"round\" style=\"stroke:black;stroke-width:1\" /><line x1=\"207.707\" y1=\"256.112\" x2=\"224.099\" y2=\"262.078\" stroke-linecap=\"round\" style=\"stroke:black;stroke-width:1\" /><line x1=\"224.099\" y1=\"262.078\" x2=\"241.278\" y2=\"265.107\" stroke-linecap=\"round\" style=\"stroke:black;stroke-width:1\" /><line x1=\"241.278\" y1=\"265.107\" x2=\"258.722\" y2=\"265.107\" stroke-linecap=\"round\" style=\"stroke:black;stroke-width:1\" /><line x1=\"258.722\" y1=\"265.107\" x2=\"275.901\" y2=\"262.078\" stroke-linecap=\"round\" style=\"stroke:black;stroke-width:1\" /><line x1=\"275.901\" y1=\"262.078\" x2=\"292.293\" y2=\"256.112\" stroke-linecap=\"round\" style=\"stroke:black;stroke-width:1\" /><line x1=\"292.293\" y1=\"256.112\" x2=\"307.4\" y2=\"247.39\" stroke-linecap=\"round\" style=\"stroke:black;stroke-width:1\" /><line x1=\"307.4\" y1=\"247.39\" x2=\"320.763\" y2=\"236.177\" stroke-linecap=\"round\" style=\"stroke:black;stroke-width:1\" /><line x1=\"320.763\" y1=\"236.177\" x2=\"331.976\" y2=\"222.814\" stroke-linecap=\"round\" style=\"stroke:black;stroke-width:1\" /><line x1=\"331.976\" y1=\"222.814\" x2=\"340.698\" y2=\"207.707\" stroke-linecap=\"round\" style=\"stroke:black;stroke-width:1\" /><line x1=\"340.698\" y1=\"207.707\" x2=\"346.664\" y2=\"191.315\" stroke-linecap=\"round\" style=\"stroke:black;stroke-width:1\" /><line x1=\"346.664\" y1=\"191.315\" x2=\"349.693\" y2=\"174.136\" stroke-linecap=\"round\" style=\"stroke:black;stroke-width:1\" /><line x1=\"349.693\" y1=\"174.136\" x2=\"349.693\" y2=\"156.692\" stroke-linecap=\"round\" style=\"stroke:black;stroke-width:1\" /><line x1=\"349.693\" y1=\"156.692\" x2=\"346.664\" y2=\"139.513\" stroke-linecap=\"round\" style=\"stroke:black;stroke-width:1\" /><line x1=\"346.664\" y1=\"139.513\" x2=\"340.698\" y2=\"123.121\" stroke-linecap=\"round\" style=\"stroke:black;stroke-width:1\" /><line x1=\"340.698\" y1=\"123.121\" x2=\"331.976\" y2=\"108.014\" stroke-linecap=\"round\" style=\"stroke:black;stroke-width:1\" /><line x1=\"331.976\" y1=\"108.014\" x2=\"320.763\" y2=\"94.651\" stroke-linecap=\"round\" style=\"stroke:black;stroke-width:1\" /><line x1=\"320.763\" y1=\"94.651\" x2=\"307.4\" y2=\"83.438\" stroke-linecap=\"round\" style=\"stroke:black;stroke-width:1\" /><line x1=\"307.4\" y1=\"83.438\" x2=\"292.293\" y2=\"74.716\" stroke-linecap=\"round\" style=\"stroke:black;stroke-width:1\" /><line x1=\"292.293\" y1=\"74.716\" x2=\"275.901\" y2=\"68.75\" stroke-linecap=\"round\" style=\"stroke:black;stroke-width:1\" /><line x1=\"275.901\" y1=\"68.75\" x2=\"258.722\" y2=\"65.721\" stroke-linecap=\"round\" style=\"stroke:black;stroke-width:1\" /><line x1=\"258.722\" y1=\"65.721\" x2=\"241.278\" y2=\"65.721\" stroke-linecap=\"round\" style=\"stroke:black;stroke-width:1\" /><line x1=\"241.278\" y1=\"65.721\" x2=\"224.099\" y2=\"68.75\" stroke-linecap=\"round\" style=\"stroke:black;stroke-width:1\" /><line x1=\"224.099\" y1=\"68.75\" x2=\"207.707\" y2=\"74.716\" stroke-linecap=\"round\" style=\"stroke:black;stroke-width:1\" /><line x1=\"207.707\" y1=\"74.716\" x2=\"192.6\" y2=\"83.438\" stroke-linecap=\"round\" style=\"stroke:black;stroke-width:1\" /><line x1=\"192.6\" y1=\"83.438\" x2=\"179.237\" y2=\"94.651\" stroke-linecap=\"round\" style=\"stroke:black;stroke-width:1\" /><line x1=\"179.237\" y1=\"94.651\" x2=\"168.024\" y2=\"108.014\" stroke-linecap=\"round\" style=\"stroke:black;stroke-width:1\" /><line x1=\"168.024\" y1=\"108.014\" x2=\"162.058\" y2=\"124.406\" stroke-linecap=\"round\" style=\"stroke:black;stroke-width:1\" /><line x1=\"162.058\" y1=\"124.406\" x2=\"156.092\" y2=\"140.798\" stroke-linecap=\"round\" style=\"stroke:black;stroke-width:1\" /><line x1=\"156.092\" y1=\"140.798\" x2=\"153.063\" y2=\"157.977\" stroke-linecap=\"round\" style=\"stroke:black;stroke-width:1\" /><line x1=\"153.063\" y1=\"157.977\" x2=\"153.063\" y2=\"175.421\" stroke-linecap=\"round\" style=\"stroke:black;stroke-width:1\" /><line x1=\"153.063\" y1=\"175.421\" x2=\"156.092\" y2=\"192.6\" stroke-linecap=\"round\" style=\"stroke:black;stroke-width:1\" /><line x1=\"156.092\" y1=\"192.6\" x2=\"162.058\" y2=\"208.992\" stroke-linecap=\"round\" style=\"stroke:black;stroke-width:1\" /><line x1=\"162.058\" y1=\"208.992\" x2=\"170.78\" y2=\"224.099\" stroke-linecap=\"round\" style=\"stroke:black;stroke-width:1\" /><line x1=\"170.78\" y1=\"224.099\" x2=\"181.993\" y2=\"237.462\" stroke-linecap=\"round\" style=\"stroke:black;stroke-width:1\" /><line x1=\"181.993\" y1=\"237.462\" x2=\"195.356\" y2=\"248.675\" stroke-linecap=\"round\" style=\"stroke:black;stroke-width:1\" /><line x1=\"195.356\" y1=\"248.675\" x2=\"210.463\" y2=\"257.397\" stroke-linecap=\"round\" style=\"stroke:black;stroke-width:1\" /><line x1=\"210.463\" y1=\"257.397\" x2=\"226.855\" y2=\"263.363\" stroke-linecap=\"round\" style=\"stroke:black;stroke-width:1\" /><line x1=\"226.855\" y1=\"263.363\" x2=\"244.034\" y2=\"266.392\" stroke-linecap=\"round\" style=\"stroke:black;stroke-width:1\" /><line x1=\"244.034\" y1=\"266.392\" x2=\"261.478\" y2=\"266.392\" stroke-linecap=\"round\" style=\"stroke:black;stroke-width:1\" /><line x1=\"261.478\" y1=\"266.392\" x2=\"278.657\" y2=\"263.363\" stroke-linecap=\"round\" style=\"stroke:black;stroke-width:1\" /><line x1=\"278.657\" y1=\"263.363\" x2=\"295.049\" y2=\"257.397\" stroke-linecap=\"round\" style=\"stroke:black;stroke-width:1\" /><line x1=\"295.049\" y1=\"257.397\" x2=\"310.156\" y2=\"248.675\" stroke-linecap=\"round\" style=\"stroke:black;stroke-width:1\" /><line x1=\"310.156\" y1=\"248.675\" x2=\"323.519\" y2=\"237.462\" stroke-linecap=\"round\" style=\"stroke:black;stroke-width:1\" /><line x1=\"323.519\" y1=\"237.462\" x2=\"334.732\" y2=\"224.099\" stroke-linecap=\"round\" style=\"stroke:black;stroke-width:1\" /><line x1=\"334.732\" y1=\"224.099\" x2=\"343.454\" y2=\"208.992\" stroke-linecap=\"round\" style=\"stroke:black;stroke-width:1\" /><line x1=\"343.454\" y1=\"208.992\" x2=\"349.42\" y2=\"192.6\" stroke-linecap=\"round\" style=\"stroke:black;stroke-width:1\" /><line x1=\"349.42\" y1=\"192.6\" x2=\"352.449\" y2=\"175.421\" stroke-linecap=\"round\" style=\"stroke:black;stroke-width:1\" /><line x1=\"352.449\" y1=\"175.421\" x2=\"352.449\" y2=\"157.977\" stroke-linecap=\"round\" style=\"stroke:black;stroke-width:1\" /><line x1=\"352.449\" y1=\"157.977\" x2=\"349.42\" y2=\"140.798\" stroke-linecap=\"round\" style=\"stroke:black;stroke-width:1\" /><line x1=\"349.42\" y1=\"140.798\" x2=\"343.454\" y2=\"124.406\" stroke-linecap=\"round\" style=\"stroke:black;stroke-width:1\" /><line x1=\"343.454\" y1=\"124.406\" x2=\"334.732\" y2=\"109.299\" stroke-linecap=\"round\" style=\"stroke:black;stroke-width:1\" /><line x1=\"334.732\" y1=\"109.299\" x2=\"323.519\" y2=\"95.936\" stroke-linecap=\"round\" style=\"stroke:black;stroke-width:1\" /><line x1=\"323.519\" y1=\"95.936\" x2=\"310.156\" y2=\"84.723\" stroke-linecap=\"round\" style=\"stroke:black;stroke-width:1\" /><line x1=\"310.156\" y1=\"84.723\" x2=\"295.049\" y2=\"76.001\" stroke-linecap=\"round\" style=\"stroke:black;stroke-width:1\" /><line x1=\"295.049\" y1=\"76.001\" x2=\"278.657\" y2=\"70.035\" stroke-linecap=\"round\" style=\"stroke:black;stroke-width:1\" /><line x1=\"278.657\" y1=\"70.035\" x2=\"261.478\" y2=\"67.006\" stroke-linecap=\"round\" style=\"stroke:black;stroke-width:1\" /><line x1=\"261.478\" y1=\"67.006\" x2=\"244.034\" y2=\"67.006\" stroke-linecap=\"round\" style=\"stroke:black;stroke-width:1\" /><line x1=\"244.034\" y1=\"67.006\" x2=\"226.855\" y2=\"70.035\" stroke-linecap=\"round\" style=\"stroke:black;stroke-width:1\" /><line x1=\"226.855\" y1=\"70.035\" x2=\"210.463\" y2=\"76.001\" stroke-linecap=\"round\" style=\"stroke:black;stroke-width:1\" /><line x1=\"210.463\" y1=\"76.001\" x2=\"195.356\" y2=\"84.723\" stroke-linecap=\"round\" style=\"stroke:black;stroke-width:1\" /><line x1=\"195.356\" y1=\"84.723\" x2=\"181.993\" y2=\"95.936\" stroke-linecap=\"round\" style=\"stroke:black;stroke-width:1\" /><line x1=\"181.993\" y1=\"95.936\" x2=\"170.78\" y2=\"109.299\" stroke-linecap=\"round\" style=\"stroke:black;stroke-width:1\" /><line x1=\"170.78\" y1=\"109.299\" x2=\"162.058\" y2=\"124.406\" stroke-linecap=\"round\" style=\"stroke:black;stroke-width:1\" /><line x1=\"162.058\" y1=\"124.406\" x2=\"159.029\" y2=\"141.585\" stroke-linecap=\"round\" style=\"stroke:black;stroke-width:1\" /><line x1=\"159.029\" y1=\"141.585\" x2=\"156.0\" y2=\"158.764\" stroke-linecap=\"round\" style=\"stroke:black;stroke-width:1\" /><line x1=\"156.0\" y1=\"158.764\" x2=\"156.0\" y2=\"176.208\" stroke-linecap=\"round\" style=\"stroke:black;stroke-width:1\" /><line x1=\"156.0\" y1=\"176.208\" x2=\"159.029\" y2=\"193.387\" stroke-linecap=\"round\" style=\"stroke:black;stroke-width:1\" /><line x1=\"159.029\" y1=\"193.387\" x2=\"164.995\" y2=\"209.779\" stroke-linecap=\"round\" style=\"stroke:black;stroke-width:1\" /><line x1=\"164.995\" y1=\"209.779\" x2=\"173.717\" y2=\"224.886\" stroke-linecap=\"round\" style=\"stroke:black;stroke-width:1\" /><line x1=\"173.717\" y1=\"224.886\" x2=\"184.93\" y2=\"238.249\" stroke-linecap=\"round\" style=\"stroke:black;stroke-width:1\" /><line x1=\"184.93\" y1=\"238.249\" x2=\"198.293\" y2=\"249.462\" stroke-linecap=\"round\" style=\"stroke:black;stroke-width:1\" /><line x1=\"198.293\" y1=\"249.462\" x2=\"213.4\" y2=\"258.184\" stroke-linecap=\"round\" style=\"stroke:black;stroke-width:1\" /><line x1=\"213.4\" y1=\"258.184\" x2=\"229.792\" y2=\"264.15\" stroke-linecap=\"round\" style=\"stroke:black;stroke-width:1\" /><line x1=\"229.792\" y1=\"264.15\" x2=\"246.971\" y2=\"267.179\" stroke-linecap=\"round\" style=\"stroke:black;stroke-width:1\" /><line x1=\"246.971\" y1=\"267.179\" x2=\"264.415\" y2=\"267.179\" stroke-linecap=\"round\" style=\"stroke:black;stroke-width:1\" /><line x1=\"264.415\" y1=\"267.179\" x2=\"281.594\" y2=\"264.15\" stroke-linecap=\"round\" style=\"stroke:black;stroke-width:1\" /><line x1=\"281.594\" y1=\"264.15\" x2=\"297.986\" y2=\"258.184\" stroke-linecap=\"round\" style=\"stroke:black;stroke-width:1\" /><line x1=\"297.986\" y1=\"258.184\" x2=\"313.093\" y2=\"249.462\" stroke-linecap=\"round\" style=\"stroke:black;stroke-width:1\" /><line x1=\"313.093\" y1=\"249.462\" x2=\"326.456\" y2=\"238.249\" stroke-linecap=\"round\" style=\"stroke:black;stroke-width:1\" /><line x1=\"326.456\" y1=\"238.249\" x2=\"337.669\" y2=\"224.886\" stroke-linecap=\"round\" style=\"stroke:black;stroke-width:1\" /><line x1=\"337.669\" y1=\"224.886\" x2=\"346.391\" y2=\"209.779\" stroke-linecap=\"round\" style=\"stroke:black;stroke-width:1\" /><line x1=\"346.391\" y1=\"209.779\" x2=\"352.357\" y2=\"193.387\" stroke-linecap=\"round\" style=\"stroke:black;stroke-width:1\" /><line x1=\"352.357\" y1=\"193.387\" x2=\"355.386\" y2=\"176.208\" stroke-linecap=\"round\" style=\"stroke:black;stroke-width:1\" /><line x1=\"355.386\" y1=\"176.208\" x2=\"355.386\" y2=\"158.764\" stroke-linecap=\"round\" style=\"stroke:black;stroke-width:1\" /><line x1=\"355.386\" y1=\"158.764\" x2=\"352.357\" y2=\"141.585\" stroke-linecap=\"round\" style=\"stroke:black;stroke-width:1\" /><line x1=\"352.357\" y1=\"141.585\" x2=\"346.391\" y2=\"125.193\" stroke-linecap=\"round\" style=\"stroke:black;stroke-width:1\" /><line x1=\"346.391\" y1=\"125.193\" x2=\"337.669\" y2=\"110.086\" stroke-linecap=\"round\" style=\"stroke:black;stroke-width:1\" /><line x1=\"337.669\" y1=\"110.086\" x2=\"326.456\" y2=\"96.723\" stroke-linecap=\"round\" style=\"stroke:black;stroke-width:1\" /><line x1=\"326.456\" y1=\"96.723\" x2=\"313.093\" y2=\"85.51\" stroke-linecap=\"round\" style=\"stroke:black;stroke-width:1\" /><line x1=\"313.093\" y1=\"85.51\" x2=\"297.986\" y2=\"76.788\" stroke-linecap=\"round\" style=\"stroke:black;stroke-width:1\" /><line x1=\"297.986\" y1=\"76.788\" x2=\"281.594\" y2=\"70.822\" stroke-linecap=\"round\" style=\"stroke:black;stroke-width:1\" /><line x1=\"281.594\" y1=\"70.822\" x2=\"264.415\" y2=\"67.793\" stroke-linecap=\"round\" style=\"stroke:black;stroke-width:1\" /><line x1=\"264.415\" y1=\"67.793\" x2=\"246.971\" y2=\"67.793\" stroke-linecap=\"round\" style=\"stroke:black;stroke-width:1\" /><line x1=\"246.971\" y1=\"67.793\" x2=\"229.792\" y2=\"70.822\" stroke-linecap=\"round\" style=\"stroke:black;stroke-width:1\" /><line x1=\"229.792\" y1=\"70.822\" x2=\"213.4\" y2=\"76.788\" stroke-linecap=\"round\" style=\"stroke:black;stroke-width:1\" /><line x1=\"213.4\" y1=\"76.788\" x2=\"198.293\" y2=\"85.51\" stroke-linecap=\"round\" style=\"stroke:black;stroke-width:1\" /><line x1=\"198.293\" y1=\"85.51\" x2=\"184.93\" y2=\"96.723\" stroke-linecap=\"round\" style=\"stroke:black;stroke-width:1\" /><line x1=\"184.93\" y1=\"96.723\" x2=\"173.717\" y2=\"110.086\" stroke-linecap=\"round\" style=\"stroke:black;stroke-width:1\" /><line x1=\"173.717\" y1=\"110.086\" x2=\"164.995\" y2=\"125.193\" stroke-linecap=\"round\" style=\"stroke:black;stroke-width:1\" /><line x1=\"164.995\" y1=\"125.193\" x2=\"159.029\" y2=\"141.585\" stroke-linecap=\"round\" style=\"stroke:black;stroke-width:1\" /><line x1=\"159.029\" y1=\"141.585\" x2=\"159.029\" y2=\"159.029\" stroke-linecap=\"round\" style=\"stroke:black;stroke-width:1\" /><line x1=\"159.029\" y1=\"159.029\" x2=\"159.029\" y2=\"176.473\" stroke-linecap=\"round\" style=\"stroke:black;stroke-width:1\" /><line x1=\"159.029\" y1=\"176.473\" x2=\"162.058\" y2=\"193.652\" stroke-linecap=\"round\" style=\"stroke:black;stroke-width:1\" /><line x1=\"162.058\" y1=\"193.652\" x2=\"168.024\" y2=\"210.044\" stroke-linecap=\"round\" style=\"stroke:black;stroke-width:1\" /><line x1=\"168.024\" y1=\"210.044\" x2=\"176.746\" y2=\"225.151\" stroke-linecap=\"round\" style=\"stroke:black;stroke-width:1\" /><line x1=\"176.746\" y1=\"225.151\" x2=\"187.959\" y2=\"238.514\" stroke-linecap=\"round\" style=\"stroke:black;stroke-width:1\" /><line x1=\"187.959\" y1=\"238.514\" x2=\"201.322\" y2=\"249.727\" stroke-linecap=\"round\" style=\"stroke:black;stroke-width:1\" /><line x1=\"201.322\" y1=\"249.727\" x2=\"216.429\" y2=\"258.449\" stroke-linecap=\"round\" style=\"stroke:black;stroke-width:1\" /><line x1=\"216.429\" y1=\"258.449\" x2=\"232.821\" y2=\"264.415\" stroke-linecap=\"round\" style=\"stroke:black;stroke-width:1\" /><line x1=\"232.821\" y1=\"264.415\" x2=\"250.0\" y2=\"267.444\" stroke-linecap=\"round\" style=\"stroke:black;stroke-width:1\" /><line x1=\"250.0\" y1=\"267.444\" x2=\"267.444\" y2=\"267.444\" stroke-linecap=\"round\" style=\"stroke:black;stroke-width:1\" /><line x1=\"267.444\" y1=\"267.444\" x2=\"284.623\" y2=\"264.415\" stroke-linecap=\"round\" style=\"stroke:black;stroke-width:1\" /><line x1=\"284.623\" y1=\"264.415\" x2=\"301.015\" y2=\"258.449\" stroke-linecap=\"round\" style=\"stroke:black;stroke-width:1\" /><line x1=\"301.015\" y1=\"258.449\" x2=\"316.122\" y2=\"249.727\" stroke-linecap=\"round\" style=\"stroke:black;stroke-width:1\" /><line x1=\"316.122\" y1=\"249.727\" x2=\"329.485\" y2=\"238.514\" stroke-linecap=\"round\" style=\"stroke:black;stroke-width:1\" /><line x1=\"329.485\" y1=\"238.514\" x2=\"340.698\" y2=\"225.151\" stroke-linecap=\"round\" style=\"stroke:black;stroke-width:1\" /><line x1=\"340.698\" y1=\"225.151\" x2=\"349.42\" y2=\"210.044\" stroke-linecap=\"round\" style=\"stroke:black;stroke-width:1\" /><line x1=\"349.42\" y1=\"210.044\" x2=\"355.386\" y2=\"193.652\" stroke-linecap=\"round\" style=\"stroke:black;stroke-width:1\" /><line x1=\"355.386\" y1=\"193.652\" x2=\"358.415\" y2=\"176.473\" stroke-linecap=\"round\" style=\"stroke:black;stroke-width:1\" /><line x1=\"358.415\" y1=\"176.473\" x2=\"358.415\" y2=\"159.029\" stroke-linecap=\"round\" style=\"stroke:black;stroke-width:1\" /><line x1=\"358.415\" y1=\"159.029\" x2=\"355.386\" y2=\"141.85\" stroke-linecap=\"round\" style=\"stroke:black;stroke-width:1\" /><line x1=\"355.386\" y1=\"141.85\" x2=\"349.42\" y2=\"125.458\" stroke-linecap=\"round\" style=\"stroke:black;stroke-width:1\" /><line x1=\"349.42\" y1=\"125.458\" x2=\"340.698\" y2=\"110.351\" stroke-linecap=\"round\" style=\"stroke:black;stroke-width:1\" /><line x1=\"340.698\" y1=\"110.351\" x2=\"329.485\" y2=\"96.988\" stroke-linecap=\"round\" style=\"stroke:black;stroke-width:1\" /><line x1=\"329.485\" y1=\"96.988\" x2=\"316.122\" y2=\"85.775\" stroke-linecap=\"round\" style=\"stroke:black;stroke-width:1\" /><line x1=\"316.122\" y1=\"85.775\" x2=\"301.015\" y2=\"77.053\" stroke-linecap=\"round\" style=\"stroke:black;stroke-width:1\" /><line x1=\"301.015\" y1=\"77.053\" x2=\"284.623\" y2=\"71.087\" stroke-linecap=\"round\" style=\"stroke:black;stroke-width:1\" /><line x1=\"284.623\" y1=\"71.087\" x2=\"267.444\" y2=\"68.058\" stroke-linecap=\"round\" style=\"stroke:black;stroke-width:1\" /><line x1=\"267.444\" y1=\"68.058\" x2=\"250.0\" y2=\"68.058\" stroke-linecap=\"round\" style=\"stroke:black;stroke-width:1\" /><line x1=\"250.0\" y1=\"68.058\" x2=\"232.821\" y2=\"71.087\" stroke-linecap=\"round\" style=\"stroke:black;stroke-width:1\" /><line x1=\"232.821\" y1=\"71.087\" x2=\"216.429\" y2=\"77.053\" stroke-linecap=\"round\" style=\"stroke:black;stroke-width:1\" /><line x1=\"216.429\" y1=\"77.053\" x2=\"201.322\" y2=\"85.775\" stroke-linecap=\"round\" style=\"stroke:black;stroke-width:1\" /><line x1=\"201.322\" y1=\"85.775\" x2=\"187.959\" y2=\"96.988\" stroke-linecap=\"round\" style=\"stroke:black;stroke-width:1\" /><line x1=\"187.959\" y1=\"96.988\" x2=\"176.746\" y2=\"110.351\" stroke-linecap=\"round\" style=\"stroke:black;stroke-width:1\" /><line x1=\"176.746\" y1=\"110.351\" x2=\"168.024\" y2=\"125.458\" stroke-linecap=\"round\" style=\"stroke:black;stroke-width:1\" /><line x1=\"168.024\" y1=\"125.458\" x2=\"162.058\" y2=\"141.85\" stroke-linecap=\"round\" style=\"stroke:black;stroke-width:1\" /><line x1=\"162.058\" y1=\"141.85\" x2=\"159.029\" y2=\"159.029\" stroke-linecap=\"round\" style=\"stroke:black;stroke-width:1\" /><line x1=\"159.029\" y1=\"159.029\" x2=\"162.058\" y2=\"176.208\" stroke-linecap=\"round\" style=\"stroke:black;stroke-width:1\" /><line x1=\"162.058\" y1=\"176.208\" x2=\"165.087\" y2=\"193.387\" stroke-linecap=\"round\" style=\"stroke:black;stroke-width:1\" /><line x1=\"165.087\" y1=\"193.387\" x2=\"171.053\" y2=\"209.779\" stroke-linecap=\"round\" style=\"stroke:black;stroke-width:1\" /><line x1=\"171.053\" y1=\"209.779\" x2=\"179.775\" y2=\"224.886\" stroke-linecap=\"round\" style=\"stroke:black;stroke-width:1\" /><line x1=\"179.775\" y1=\"224.886\" x2=\"190.988\" y2=\"238.249\" stroke-linecap=\"round\" style=\"stroke:black;stroke-width:1\" /><line x1=\"190.988\" y1=\"238.249\" x2=\"204.351\" y2=\"249.462\" stroke-linecap=\"round\" style=\"stroke:black;stroke-width:1\" /><line x1=\"204.351\" y1=\"249.462\" x2=\"219.458\" y2=\"258.184\" stroke-linecap=\"round\" style=\"stroke:black;stroke-width:1\" /><line x1=\"219.458\" y1=\"258.184\" x2=\"235.85\" y2=\"264.15\" stroke-linecap=\"round\" style=\"stroke:black;stroke-width:1\" /><line x1=\"235.85\" y1=\"264.15\" x2=\"253.029\" y2=\"267.179\" stroke-linecap=\"round\" style=\"stroke:black;stroke-width:1\" /><line x1=\"253.029\" y1=\"267.179\" x2=\"270.473\" y2=\"267.179\" stroke-linecap=\"round\" style=\"stroke:black;stroke-width:1\" /><line x1=\"270.473\" y1=\"267.179\" x2=\"287.652\" y2=\"264.15\" stroke-linecap=\"round\" style=\"stroke:black;stroke-width:1\" /><line x1=\"287.652\" y1=\"264.15\" x2=\"304.044\" y2=\"258.184\" stroke-linecap=\"round\" style=\"stroke:black;stroke-width:1\" /><line x1=\"304.044\" y1=\"258.184\" x2=\"319.151\" y2=\"249.462\" stroke-linecap=\"round\" style=\"stroke:black;stroke-width:1\" /><line x1=\"319.151\" y1=\"249.462\" x2=\"332.514\" y2=\"238.249\" stroke-linecap=\"round\" style=\"stroke:black;stroke-width:1\" /><line x1=\"332.514\" y1=\"238.249\" x2=\"343.727\" y2=\"224.886\" stroke-linecap=\"round\" style=\"stroke:black;stroke-width:1\" /><line x1=\"343.727\" y1=\"224.886\" x2=\"352.449\" y2=\"209.779\" stroke-linecap=\"round\" style=\"stroke:black;stroke-width:1\" /><line x1=\"352.449\" y1=\"209.779\" x2=\"358.415\" y2=\"193.387\" stroke-linecap=\"round\" style=\"stroke:black;stroke-width:1\" /><line x1=\"358.415\" y1=\"193.387\" x2=\"361.444\" y2=\"176.208\" stroke-linecap=\"round\" style=\"stroke:black;stroke-width:1\" /><line x1=\"361.444\" y1=\"176.208\" x2=\"361.444\" y2=\"158.764\" stroke-linecap=\"round\" style=\"stroke:black;stroke-width:1\" /><line x1=\"361.444\" y1=\"158.764\" x2=\"358.415\" y2=\"141.585\" stroke-linecap=\"round\" style=\"stroke:black;stroke-width:1\" /><line x1=\"358.415\" y1=\"141.585\" x2=\"352.449\" y2=\"125.193\" stroke-linecap=\"round\" style=\"stroke:black;stroke-width:1\" /><line x1=\"352.449\" y1=\"125.193\" x2=\"343.727\" y2=\"110.086\" stroke-linecap=\"round\" style=\"stroke:black;stroke-width:1\" /><line x1=\"343.727\" y1=\"110.086\" x2=\"332.514\" y2=\"96.723\" stroke-linecap=\"round\" style=\"stroke:black;stroke-width:1\" /><line x1=\"332.514\" y1=\"96.723\" x2=\"319.151\" y2=\"85.51\" stroke-linecap=\"round\" style=\"stroke:black;stroke-width:1\" /><line x1=\"319.151\" y1=\"85.51\" x2=\"304.044\" y2=\"76.788\" stroke-linecap=\"round\" style=\"stroke:black;stroke-width:1\" /><line x1=\"304.044\" y1=\"76.788\" x2=\"287.652\" y2=\"70.822\" stroke-linecap=\"round\" style=\"stroke:black;stroke-width:1\" /><line x1=\"287.652\" y1=\"70.822\" x2=\"270.473\" y2=\"67.793\" stroke-linecap=\"round\" style=\"stroke:black;stroke-width:1\" /><line x1=\"270.473\" y1=\"67.793\" x2=\"253.029\" y2=\"67.793\" stroke-linecap=\"round\" style=\"stroke:black;stroke-width:1\" /><line x1=\"253.029\" y1=\"67.793\" x2=\"235.85\" y2=\"70.822\" stroke-linecap=\"round\" style=\"stroke:black;stroke-width:1\" /><line x1=\"235.85\" y1=\"70.822\" x2=\"219.458\" y2=\"76.788\" stroke-linecap=\"round\" style=\"stroke:black;stroke-width:1\" /><line x1=\"219.458\" y1=\"76.788\" x2=\"204.351\" y2=\"85.51\" stroke-linecap=\"round\" style=\"stroke:black;stroke-width:1\" /><line x1=\"204.351\" y1=\"85.51\" x2=\"190.988\" y2=\"96.723\" stroke-linecap=\"round\" style=\"stroke:black;stroke-width:1\" /><line x1=\"190.988\" y1=\"96.723\" x2=\"179.775\" y2=\"110.086\" stroke-linecap=\"round\" style=\"stroke:black;stroke-width:1\" /><line x1=\"179.775\" y1=\"110.086\" x2=\"171.053\" y2=\"125.193\" stroke-linecap=\"round\" style=\"stroke:black;stroke-width:1\" /><line x1=\"171.053\" y1=\"125.193\" x2=\"165.087\" y2=\"141.585\" stroke-linecap=\"round\" style=\"stroke:black;stroke-width:1\" /><line x1=\"165.087\" y1=\"141.585\" x2=\"162.058\" y2=\"158.764\" stroke-linecap=\"round\" style=\"stroke:black;stroke-width:1\" /><line x1=\"162.058\" y1=\"158.764\" x2=\"162.058\" y2=\"176.208\" stroke-linecap=\"round\" style=\"stroke:black;stroke-width:1\" /><line x1=\"162.058\" y1=\"176.208\" x2=\"168.024\" y2=\"192.6\" stroke-linecap=\"round\" style=\"stroke:black;stroke-width:1\" /><line x1=\"168.024\" y1=\"192.6\" x2=\"173.99\" y2=\"208.992\" stroke-linecap=\"round\" style=\"stroke:black;stroke-width:1\" /><line x1=\"173.99\" y1=\"208.992\" x2=\"182.712\" y2=\"224.099\" stroke-linecap=\"round\" style=\"stroke:black;stroke-width:1\" /><line x1=\"182.712\" y1=\"224.099\" x2=\"193.925\" y2=\"237.462\" stroke-linecap=\"round\" style=\"stroke:black;stroke-width:1\" /><line x1=\"193.925\" y1=\"237.462\" x2=\"207.288\" y2=\"248.675\" stroke-linecap=\"round\" style=\"stroke:black;stroke-width:1\" /><line x1=\"207.288\" y1=\"248.675\" x2=\"222.395\" y2=\"257.397\" stroke-linecap=\"round\" style=\"stroke:black;stroke-width:1\" /><line x1=\"222.395\" y1=\"257.397\" x2=\"238.787\" y2=\"263.363\" stroke-linecap=\"round\" style=\"stroke:black;stroke-width:1\" /><line x1=\"238.787\" y1=\"263.363\" x2=\"255.966\" y2=\"266.392\" stroke-linecap=\"round\" style=\"stroke:black;stroke-width:1\" /><line x1=\"255.966\" y1=\"266.392\" x2=\"273.41\" y2=\"266.392\" stroke-linecap=\"round\" style=\"stroke:black;stroke-width:1\" /><line x1=\"273.41\" y1=\"266.392\" x2=\"290.589\" y2=\"263.363\" stroke-linecap=\"round\" style=\"stroke:black;stroke-width:1\" /><line x1=\"290.589\" y1=\"263.363\" x2=\"306.981\" y2=\"257.397\" stroke-linecap=\"round\" style=\"stroke:black;stroke-width:1\" /><line x1=\"306.981\" y1=\"257.397\" x2=\"322.088\" y2=\"248.675\" stroke-linecap=\"round\" style=\"stroke:black;stroke-width:1\" /><line x1=\"322.088\" y1=\"248.675\" x2=\"335.451\" y2=\"237.462\" stroke-linecap=\"round\" style=\"stroke:black;stroke-width:1\" /><line x1=\"335.451\" y1=\"237.462\" x2=\"346.664\" y2=\"224.099\" stroke-linecap=\"round\" style=\"stroke:black;stroke-width:1\" /><line x1=\"346.664\" y1=\"224.099\" x2=\"355.386\" y2=\"208.992\" stroke-linecap=\"round\" style=\"stroke:black;stroke-width:1\" /><line x1=\"355.386\" y1=\"208.992\" x2=\"361.352\" y2=\"192.6\" stroke-linecap=\"round\" style=\"stroke:black;stroke-width:1\" /><line x1=\"361.352\" y1=\"192.6\" x2=\"364.381\" y2=\"175.421\" stroke-linecap=\"round\" style=\"stroke:black;stroke-width:1\" /><line x1=\"364.381\" y1=\"175.421\" x2=\"364.381\" y2=\"157.977\" stroke-linecap=\"round\" style=\"stroke:black;stroke-width:1\" /><line x1=\"364.381\" y1=\"157.977\" x2=\"361.352\" y2=\"140.798\" stroke-linecap=\"round\" style=\"stroke:black;stroke-width:1\" /><line x1=\"361.352\" y1=\"140.798\" x2=\"355.386\" y2=\"124.406\" stroke-linecap=\"round\" style=\"stroke:black;stroke-width:1\" /><line x1=\"355.386\" y1=\"124.406\" x2=\"346.664\" y2=\"109.299\" stroke-linecap=\"round\" style=\"stroke:black;stroke-width:1\" /><line x1=\"346.664\" y1=\"109.299\" x2=\"335.451\" y2=\"95.936\" stroke-linecap=\"round\" style=\"stroke:black;stroke-width:1\" /><line x1=\"335.451\" y1=\"95.936\" x2=\"322.088\" y2=\"84.723\" stroke-linecap=\"round\" style=\"stroke:black;stroke-width:1\" /><line x1=\"322.088\" y1=\"84.723\" x2=\"306.981\" y2=\"76.001\" stroke-linecap=\"round\" style=\"stroke:black;stroke-width:1\" /><line x1=\"306.981\" y1=\"76.001\" x2=\"290.589\" y2=\"70.035\" stroke-linecap=\"round\" style=\"stroke:black;stroke-width:1\" /><line x1=\"290.589\" y1=\"70.035\" x2=\"273.41\" y2=\"67.006\" stroke-linecap=\"round\" style=\"stroke:black;stroke-width:1\" /><line x1=\"273.41\" y1=\"67.006\" x2=\"255.966\" y2=\"67.006\" stroke-linecap=\"round\" style=\"stroke:black;stroke-width:1\" /><line x1=\"255.966\" y1=\"67.006\" x2=\"238.787\" y2=\"70.035\" stroke-linecap=\"round\" style=\"stroke:black;stroke-width:1\" /><line x1=\"238.787\" y1=\"70.035\" x2=\"222.395\" y2=\"76.001\" stroke-linecap=\"round\" style=\"stroke:black;stroke-width:1\" /><line x1=\"222.395\" y1=\"76.001\" x2=\"207.288\" y2=\"84.723\" stroke-linecap=\"round\" style=\"stroke:black;stroke-width:1\" /><line x1=\"207.288\" y1=\"84.723\" x2=\"193.925\" y2=\"95.936\" stroke-linecap=\"round\" style=\"stroke:black;stroke-width:1\" /><line x1=\"193.925\" y1=\"95.936\" x2=\"182.712\" y2=\"109.299\" stroke-linecap=\"round\" style=\"stroke:black;stroke-width:1\" /><line x1=\"182.712\" y1=\"109.299\" x2=\"173.99\" y2=\"124.406\" stroke-linecap=\"round\" style=\"stroke:black;stroke-width:1\" /><line x1=\"173.99\" y1=\"124.406\" x2=\"168.024\" y2=\"140.798\" stroke-linecap=\"round\" style=\"stroke:black;stroke-width:1\" /><line x1=\"168.024\" y1=\"140.798\" x2=\"164.995\" y2=\"157.977\" stroke-linecap=\"round\" style=\"stroke:black;stroke-width:1\" /><line x1=\"164.995\" y1=\"157.977\" x2=\"164.995\" y2=\"175.421\" stroke-linecap=\"round\" style=\"stroke:black;stroke-width:1\" /><line x1=\"164.995\" y1=\"175.421\" x2=\"168.024\" y2=\"192.6\" stroke-linecap=\"round\" style=\"stroke:black;stroke-width:1\" /><line x1=\"168.024\" y1=\"192.6\" x2=\"176.746\" y2=\"207.707\" stroke-linecap=\"round\" style=\"stroke:black;stroke-width:1\" /><line x1=\"176.746\" y1=\"207.707\" x2=\"185.468\" y2=\"222.814\" stroke-linecap=\"round\" style=\"stroke:black;stroke-width:1\" /><line x1=\"185.468\" y1=\"222.814\" x2=\"196.681\" y2=\"236.177\" stroke-linecap=\"round\" style=\"stroke:black;stroke-width:1\" /><line x1=\"196.681\" y1=\"236.177\" x2=\"210.044\" y2=\"247.39\" stroke-linecap=\"round\" style=\"stroke:black;stroke-width:1\" /><line x1=\"210.044\" y1=\"247.39\" x2=\"225.151\" y2=\"256.112\" stroke-linecap=\"round\" style=\"stroke:black;stroke-width:1\" /><line x1=\"225.151\" y1=\"256.112\" x2=\"241.543\" y2=\"262.078\" stroke-linecap=\"round\" style=\"stroke:black;stroke-width:1\" /><line x1=\"241.543\" y1=\"262.078\" x2=\"258.722\" y2=\"265.107\" stroke-linecap=\"round\" style=\"stroke:black;stroke-width:1\" /><line x1=\"258.722\" y1=\"265.107\" x2=\"276.166\" y2=\"265.107\" stroke-linecap=\"round\" style=\"stroke:black;stroke-width:1\" /><line x1=\"276.166\" y1=\"265.107\" x2=\"293.345\" y2=\"262.078\" stroke-linecap=\"round\" style=\"stroke:black;stroke-width:1\" /><line x1=\"293.345\" y1=\"262.078\" x2=\"309.737\" y2=\"256.112\" stroke-linecap=\"round\" style=\"stroke:black;stroke-width:1\" /><line x1=\"309.737\" y1=\"256.112\" x2=\"324.844\" y2=\"247.39\" stroke-linecap=\"round\" style=\"stroke:black;stroke-width:1\" /><line x1=\"324.844\" y1=\"247.39\" x2=\"338.207\" y2=\"236.177\" stroke-linecap=\"round\" style=\"stroke:black;stroke-width:1\" /><line x1=\"338.207\" y1=\"236.177\" x2=\"349.42\" y2=\"222.814\" stroke-linecap=\"round\" style=\"stroke:black;stroke-width:1\" /><line x1=\"349.42\" y1=\"222.814\" x2=\"358.142\" y2=\"207.707\" stroke-linecap=\"round\" style=\"stroke:black;stroke-width:1\" /><line x1=\"358.142\" y1=\"207.707\" x2=\"364.108\" y2=\"191.315\" stroke-linecap=\"round\" style=\"stroke:black;stroke-width:1\" /><line x1=\"364.108\" y1=\"191.315\" x2=\"367.137\" y2=\"174.136\" stroke-linecap=\"round\" style=\"stroke:black;stroke-width:1\" /><line x1=\"367.137\" y1=\"174.136\" x2=\"367.137\" y2=\"156.692\" stroke-linecap=\"round\" style=\"stroke:black;stroke-width:1\" /><line x1=\"367.137\" y1=\"156.692\" x2=\"364.108\" y2=\"139.513\" stroke-linecap=\"round\" style=\"stroke:black;stroke-width:1\" /><line x1=\"364.108\" y1=\"139.513\" x2=\"358.142\" y2=\"123.121\" stroke-linecap=\"round\" style=\"stroke:black;stroke-width:1\" /><line x1=\"358.142\" y1=\"123.121\" x2=\"349.42\" y2=\"108.014\" stroke-linecap=\"round\" style=\"stroke:black;stroke-width:1\" /><line x1=\"349.42\" y1=\"108.014\" x2=\"338.207\" y2=\"94.651\" stroke-linecap=\"round\" style=\"stroke:black;stroke-width:1\" /><line x1=\"338.207\" y1=\"94.651\" x2=\"324.844\" y2=\"83.438\" stroke-linecap=\"round\" style=\"stroke:black;stroke-width:1\" /><line x1=\"324.844\" y1=\"83.438\" x2=\"309.737\" y2=\"74.716\" stroke-linecap=\"round\" style=\"stroke:black;stroke-width:1\" /><line x1=\"309.737\" y1=\"74.716\" x2=\"293.345\" y2=\"68.75\" stroke-linecap=\"round\" style=\"stroke:black;stroke-width:1\" /><line x1=\"293.345\" y1=\"68.75\" x2=\"276.166\" y2=\"65.721\" stroke-linecap=\"round\" style=\"stroke:black;stroke-width:1\" /><line x1=\"276.166\" y1=\"65.721\" x2=\"258.722\" y2=\"65.721\" stroke-linecap=\"round\" style=\"stroke:black;stroke-width:1\" /><line x1=\"258.722\" y1=\"65.721\" x2=\"241.543\" y2=\"68.75\" stroke-linecap=\"round\" style=\"stroke:black;stroke-width:1\" /><line x1=\"241.543\" y1=\"68.75\" x2=\"225.151\" y2=\"74.716\" stroke-linecap=\"round\" style=\"stroke:black;stroke-width:1\" /><line x1=\"225.151\" y1=\"74.716\" x2=\"210.044\" y2=\"83.438\" stroke-linecap=\"round\" style=\"stroke:black;stroke-width:1\" /><line x1=\"210.044\" y1=\"83.438\" x2=\"196.681\" y2=\"94.651\" stroke-linecap=\"round\" style=\"stroke:black;stroke-width:1\" /><line x1=\"196.681\" y1=\"94.651\" x2=\"185.468\" y2=\"108.014\" stroke-linecap=\"round\" style=\"stroke:black;stroke-width:1\" /><line x1=\"185.468\" y1=\"108.014\" x2=\"176.746\" y2=\"123.121\" stroke-linecap=\"round\" style=\"stroke:black;stroke-width:1\" /><line x1=\"176.746\" y1=\"123.121\" x2=\"170.78\" y2=\"139.513\" stroke-linecap=\"round\" style=\"stroke:black;stroke-width:1\" /><line x1=\"170.78\" y1=\"139.513\" x2=\"167.751\" y2=\"156.692\" stroke-linecap=\"round\" style=\"stroke:black;stroke-width:1\" /><line x1=\"167.751\" y1=\"156.692\" x2=\"167.751\" y2=\"174.136\" stroke-linecap=\"round\" style=\"stroke:black;stroke-width:1\" /><line x1=\"167.751\" y1=\"174.136\" x2=\"170.78\" y2=\"191.315\" stroke-linecap=\"round\" style=\"stroke:black;stroke-width:1\" /><line x1=\"170.78\" y1=\"191.315\" x2=\"176.746\" y2=\"207.707\" stroke-linecap=\"round\" style=\"stroke:black;stroke-width:1\" /><line x1=\"176.746\" y1=\"207.707\" x2=\"187.959\" y2=\"221.07\" stroke-linecap=\"round\" style=\"stroke:black;stroke-width:1\" /><line x1=\"187.959\" y1=\"221.07\" x2=\"199.172\" y2=\"234.433\" stroke-linecap=\"round\" style=\"stroke:black;stroke-width:1\" /><line x1=\"199.172\" y1=\"234.433\" x2=\"212.535\" y2=\"245.646\" stroke-linecap=\"round\" style=\"stroke:black;stroke-width:1\" /><line x1=\"212.535\" y1=\"245.646\" x2=\"227.642\" y2=\"254.368\" stroke-linecap=\"round\" style=\"stroke:black;stroke-width:1\" /><line x1=\"227.642\" y1=\"254.368\" x2=\"244.034\" y2=\"260.334\" stroke-linecap=\"round\" style=\"stroke:black;stroke-width:1\" /><line x1=\"244.034\" y1=\"260.334\" x2=\"261.213\" y2=\"263.363\" stroke-linecap=\"round\" style=\"stroke:black;stroke-width:1\" /><line x1=\"261.213\" y1=\"263.363\" x2=\"278.657\" y2=\"263.363\" stroke-linecap=\"round\" style=\"stroke:black;stroke-width:1\" /><line x1=\"278.657\" y1=\"263.363\" x2=\"295.836\" y2=\"260.334\" stroke-linecap=\"round\" style=\"stroke:black;stroke-width:1\" /><line x1=\"295.836\" y1=\"260.334\" x2=\"312.228\" y2=\"254.368\" stroke-linecap=\"round\" style=\"stroke:black;stroke-width:1\" /><line x1=\"312.228\" y1=\"254.368\" x2=\"327.335\" y2=\"245.646\" stroke-linecap=\"round\" style=\"stroke:black;stroke-width:1\" /><line x1=\"327.335\" y1=\"245.646\" x2=\"340.698\" y2=\"234.433\" stroke-linecap=\"round\" style=\"stroke:black;stroke-width:1\" /><line x1=\"340.698\" y1=\"234.433\" x2=\"351.911\" y2=\"221.07\" stroke-linecap=\"round\" style=\"stroke:black;stroke-width:1\" /><line x1=\"351.911\" y1=\"221.07\" x2=\"360.633\" y2=\"205.963\" stroke-linecap=\"round\" style=\"stroke:black;stroke-width:1\" /><line x1=\"360.633\" y1=\"205.963\" x2=\"366.599\" y2=\"189.571\" stroke-linecap=\"round\" style=\"stroke:black;stroke-width:1\" /><line x1=\"366.599\" y1=\"189.571\" x2=\"369.628\" y2=\"172.392\" stroke-linecap=\"round\" style=\"stroke:black;stroke-width:1\" /><line x1=\"369.628\" y1=\"172.392\" x2=\"369.628\" y2=\"154.948\" stroke-linecap=\"round\" style=\"stroke:black;stroke-width:1\" /><line x1=\"369.628\" y1=\"154.948\" x2=\"366.599\" y2=\"137.769\" stroke-linecap=\"round\" style=\"stroke:black;stroke-width:1\" /><line x1=\"366.599\" y1=\"137.769\" x2=\"360.633\" y2=\"121.377\" stroke-linecap=\"round\" style=\"stroke:black;stroke-width:1\" /><line x1=\"360.633\" y1=\"121.377\" x2=\"351.911\" y2=\"106.27\" stroke-linecap=\"round\" style=\"stroke:black;stroke-width:1\" /><line x1=\"351.911\" y1=\"106.27\" x2=\"340.698\" y2=\"92.907\" stroke-linecap=\"round\" style=\"stroke:black;stroke-width:1\" /><line x1=\"340.698\" y1=\"92.907\" x2=\"327.335\" y2=\"81.694\" stroke-linecap=\"round\" style=\"stroke:black;stroke-width:1\" /><line x1=\"327.335\" y1=\"81.694\" x2=\"312.228\" y2=\"72.972\" stroke-linecap=\"round\" style=\"stroke:black;stroke-width:1\" /><line x1=\"312.228\" y1=\"72.972\" x2=\"295.836\" y2=\"67.006\" stroke-linecap=\"round\" style=\"stroke:black;stroke-width:1\" /><line x1=\"295.836\" y1=\"67.006\" x2=\"278.657\" y2=\"63.977\" stroke-linecap=\"round\" style=\"stroke:black;stroke-width:1\" /><line x1=\"278.657\" y1=\"63.977\" x2=\"261.213\" y2=\"63.977\" stroke-linecap=\"round\" style=\"stroke:black;stroke-width:1\" /><line x1=\"261.213\" y1=\"63.977\" x2=\"244.034\" y2=\"67.006\" stroke-linecap=\"round\" style=\"stroke:black;stroke-width:1\" /><line x1=\"244.034\" y1=\"67.006\" x2=\"227.642\" y2=\"72.972\" stroke-linecap=\"round\" style=\"stroke:black;stroke-width:1\" /><line x1=\"227.642\" y1=\"72.972\" x2=\"212.535\" y2=\"81.694\" stroke-linecap=\"round\" style=\"stroke:black;stroke-width:1\" /><line x1=\"212.535\" y1=\"81.694\" x2=\"199.172\" y2=\"92.907\" stroke-linecap=\"round\" style=\"stroke:black;stroke-width:1\" /><line x1=\"199.172\" y1=\"92.907\" x2=\"187.959\" y2=\"106.27\" stroke-linecap=\"round\" style=\"stroke:black;stroke-width:1\" /><line x1=\"187.959\" y1=\"106.27\" x2=\"179.237\" y2=\"121.377\" stroke-linecap=\"round\" style=\"stroke:black;stroke-width:1\" /><line x1=\"179.237\" y1=\"121.377\" x2=\"173.271\" y2=\"137.769\" stroke-linecap=\"round\" style=\"stroke:black;stroke-width:1\" /><line x1=\"173.271\" y1=\"137.769\" x2=\"170.242\" y2=\"154.948\" stroke-linecap=\"round\" style=\"stroke:black;stroke-width:1\" /><line x1=\"170.242\" y1=\"154.948\" x2=\"170.242\" y2=\"172.392\" stroke-linecap=\"round\" style=\"stroke:black;stroke-width:1\" /><line x1=\"170.242\" y1=\"172.392\" x2=\"173.271\" y2=\"189.571\" stroke-linecap=\"round\" style=\"stroke:black;stroke-width:1\" /><line x1=\"173.271\" y1=\"189.571\" x2=\"179.237\" y2=\"205.963\" stroke-linecap=\"round\" style=\"stroke:black;stroke-width:1\" /><line x1=\"179.237\" y1=\"205.963\" x2=\"187.959\" y2=\"221.07\" stroke-linecap=\"round\" style=\"stroke:black;stroke-width:1\" /><line x1=\"187.959\" y1=\"221.07\" x2=\"201.322\" y2=\"232.283\" stroke-linecap=\"round\" style=\"stroke:black;stroke-width:1\" /><line x1=\"201.322\" y1=\"232.283\" x2=\"214.685\" y2=\"243.496\" stroke-linecap=\"round\" style=\"stroke:black;stroke-width:1\" /><line x1=\"214.685\" y1=\"243.496\" x2=\"229.792\" y2=\"252.218\" stroke-linecap=\"round\" style=\"stroke:black;stroke-width:1\" /><line x1=\"229.792\" y1=\"252.218\" x2=\"246.184\" y2=\"258.184\" stroke-linecap=\"round\" style=\"stroke:black;stroke-width:1\" /><line x1=\"246.184\" y1=\"258.184\" x2=\"263.363\" y2=\"261.213\" stroke-linecap=\"round\" style=\"stroke:black;stroke-width:1\" /><line x1=\"263.363\" y1=\"261.213\" x2=\"280.807\" y2=\"261.213\" stroke-linecap=\"round\" style=\"stroke:black;stroke-width:1\" /><line x1=\"280.807\" y1=\"261.213\" x2=\"297.986\" y2=\"258.184\" stroke-linecap=\"round\" style=\"stroke:black;stroke-width:1\" /><line x1=\"297.986\" y1=\"258.184\" x2=\"314.378\" y2=\"252.218\" stroke-linecap=\"round\" style=\"stroke:black;stroke-width:1\" /><line x1=\"314.378\" y1=\"252.218\" x2=\"329.485\" y2=\"243.496\" stroke-linecap=\"round\" style=\"stroke:black;stroke-width:1\" /><line x1=\"329.485\" y1=\"243.496\" x2=\"342.848\" y2=\"232.283\" stroke-linecap=\"round\" style=\"stroke:black;stroke-width:1\" /><line x1=\"342.848\" y1=\"232.283\" x2=\"354.061\" y2=\"218.92\" stroke-linecap=\"round\" style=\"stroke:black;stroke-width:1\" /><line x1=\"354.061\" y1=\"218.92\" x2=\"362.783\" y2=\"203.813\" stroke-linecap=\"round\" style=\"stroke:black;stroke-width:1\" /><line x1=\"362.783\" y1=\"203.813\" x2=\"368.749\" y2=\"187.421\" stroke-linecap=\"round\" style=\"stroke:black;stroke-width:1\" /><line x1=\"368.749\" y1=\"187.421\" x2=\"371.778\" y2=\"170.242\" stroke-linecap=\"round\" style=\"stroke:black;stroke-width:1\" /><line x1=\"371.778\" y1=\"170.242\" x2=\"371.778\" y2=\"152.798\" stroke-linecap=\"round\" style=\"stroke:black;stroke-width:1\" /><line x1=\"371.778\" y1=\"152.798\" x2=\"368.749\" y2=\"135.619\" stroke-linecap=\"round\" style=\"stroke:black;stroke-width:1\" /><line x1=\"368.749\" y1=\"135.619\" x2=\"362.783\" y2=\"119.227\" stroke-linecap=\"round\" style=\"stroke:black;stroke-width:1\" /><line x1=\"362.783\" y1=\"119.227\" x2=\"354.061\" y2=\"104.12\" stroke-linecap=\"round\" style=\"stroke:black;stroke-width:1\" /><line x1=\"354.061\" y1=\"104.12\" x2=\"342.848\" y2=\"90.757\" stroke-linecap=\"round\" style=\"stroke:black;stroke-width:1\" /><line x1=\"342.848\" y1=\"90.757\" x2=\"329.485\" y2=\"79.544\" stroke-linecap=\"round\" style=\"stroke:black;stroke-width:1\" /><line x1=\"329.485\" y1=\"79.544\" x2=\"314.378\" y2=\"70.822\" stroke-linecap=\"round\" style=\"stroke:black;stroke-width:1\" /><line x1=\"314.378\" y1=\"70.822\" x2=\"297.986\" y2=\"64.856\" stroke-linecap=\"round\" style=\"stroke:black;stroke-width:1\" /><line x1=\"297.986\" y1=\"64.856\" x2=\"280.807\" y2=\"61.827\" stroke-linecap=\"round\" style=\"stroke:black;stroke-width:1\" /><line x1=\"280.807\" y1=\"61.827\" x2=\"263.363\" y2=\"61.827\" stroke-linecap=\"round\" style=\"stroke:black;stroke-width:1\" /><line x1=\"263.363\" y1=\"61.827\" x2=\"246.184\" y2=\"64.856\" stroke-linecap=\"round\" style=\"stroke:black;stroke-width:1\" /><line x1=\"246.184\" y1=\"64.856\" x2=\"229.792\" y2=\"70.822\" stroke-linecap=\"round\" style=\"stroke:black;stroke-width:1\" /><line x1=\"229.792\" y1=\"70.822\" x2=\"214.685\" y2=\"79.544\" stroke-linecap=\"round\" style=\"stroke:black;stroke-width:1\" /><line x1=\"214.685\" y1=\"79.544\" x2=\"201.322\" y2=\"90.757\" stroke-linecap=\"round\" style=\"stroke:black;stroke-width:1\" /><line x1=\"201.322\" y1=\"90.757\" x2=\"190.109\" y2=\"104.12\" stroke-linecap=\"round\" style=\"stroke:black;stroke-width:1\" /><line x1=\"190.109\" y1=\"104.12\" x2=\"181.387\" y2=\"119.227\" stroke-linecap=\"round\" style=\"stroke:black;stroke-width:1\" /><line x1=\"181.387\" y1=\"119.227\" x2=\"175.421\" y2=\"135.619\" stroke-linecap=\"round\" style=\"stroke:black;stroke-width:1\" /><line x1=\"175.421\" y1=\"135.619\" x2=\"172.392\" y2=\"152.798\" stroke-linecap=\"round\" style=\"stroke:black;stroke-width:1\" /><line x1=\"172.392\" y1=\"152.798\" x2=\"172.392\" y2=\"170.242\" stroke-linecap=\"round\" style=\"stroke:black;stroke-width:1\" /><line x1=\"172.392\" y1=\"170.242\" x2=\"175.421\" y2=\"187.421\" stroke-linecap=\"round\" style=\"stroke:black;stroke-width:1\" /><line x1=\"175.421\" y1=\"187.421\" x2=\"181.387\" y2=\"203.813\" stroke-linecap=\"round\" style=\"stroke:black;stroke-width:1\" /><line x1=\"181.387\" y1=\"203.813\" x2=\"190.109\" y2=\"218.92\" stroke-linecap=\"round\" style=\"stroke:black;stroke-width:1\" /><line x1=\"190.109\" y1=\"218.92\" x2=\"201.322\" y2=\"232.283\" stroke-linecap=\"round\" style=\"stroke:black;stroke-width:1\" /><line x1=\"201.322\" y1=\"232.283\" x2=\"216.429\" y2=\"241.005\" stroke-linecap=\"round\" style=\"stroke:black;stroke-width:1\" /><line x1=\"216.429\" y1=\"241.005\" x2=\"231.536\" y2=\"249.727\" stroke-linecap=\"round\" style=\"stroke:black;stroke-width:1\" /><line x1=\"231.536\" y1=\"249.727\" x2=\"247.928\" y2=\"255.693\" stroke-linecap=\"round\" style=\"stroke:black;stroke-width:1\" /><line x1=\"247.928\" y1=\"255.693\" x2=\"265.107\" y2=\"258.722\" stroke-linecap=\"round\" style=\"stroke:black;stroke-width:1\" /><line x1=\"265.107\" y1=\"258.722\" x2=\"282.551\" y2=\"258.722\" stroke-linecap=\"round\" style=\"stroke:black;stroke-width:1\" /><line x1=\"282.551\" y1=\"258.722\" x2=\"299.73\" y2=\"255.693\" stroke-linecap=\"round\" style=\"stroke:black;stroke-width:1\" /><line x1=\"299.73\" y1=\"255.693\" x2=\"316.122\" y2=\"249.727\" stroke-linecap=\"round\" style=\"stroke:black;stroke-width:1\" /><line x1=\"316.122\" y1=\"249.727\" x2=\"331.229\" y2=\"241.005\" stroke-linecap=\"round\" style=\"stroke:black;stroke-width:1\" /><line x1=\"331.229\" y1=\"241.005\" x2=\"344.592\" y2=\"229.792\" stroke-linecap=\"round\" style=\"stroke:black;stroke-width:1\" /><line x1=\"344.592\" y1=\"229.792\" x2=\"355.805\" y2=\"216.429\" stroke-linecap=\"round\" style=\"stroke:black;stroke-width:1\" /><line x1=\"355.805\" y1=\"216.429\" x2=\"364.527\" y2=\"201.322\" stroke-linecap=\"round\" style=\"stroke:black;stroke-width:1\" /><line x1=\"364.527\" y1=\"201.322\" x2=\"370.493\" y2=\"184.93\" stroke-linecap=\"round\" style=\"stroke:black;stroke-width:1\" /><line x1=\"370.493\" y1=\"184.93\" x2=\"373.522\" y2=\"167.751\" stroke-linecap=\"round\" style=\"stroke:black;stroke-width:1\" /><line x1=\"373.522\" y1=\"167.751\" x2=\"373.522\" y2=\"150.307\" stroke-linecap=\"round\" style=\"stroke:black;stroke-width:1\" /><line x1=\"373.522\" y1=\"150.307\" x2=\"370.493\" y2=\"133.128\" stroke-linecap=\"round\" style=\"stroke:black;stroke-width:1\" /><line x1=\"370.493\" y1=\"133.128\" x2=\"364.527\" y2=\"116.736\" stroke-linecap=\"round\" style=\"stroke:black;stroke-width:1\" /><line x1=\"364.527\" y1=\"116.736\" x2=\"355.805\" y2=\"101.629\" stroke-linecap=\"round\" style=\"stroke:black;stroke-width:1\" /><line x1=\"355.805\" y1=\"101.629\" x2=\"344.592\" y2=\"88.266\" stroke-linecap=\"round\" style=\"stroke:black;stroke-width:1\" /><line x1=\"344.592\" y1=\"88.266\" x2=\"331.229\" y2=\"77.053\" stroke-linecap=\"round\" style=\"stroke:black;stroke-width:1\" /><line x1=\"331.229\" y1=\"77.053\" x2=\"316.122\" y2=\"68.331\" stroke-linecap=\"round\" style=\"stroke:black;stroke-width:1\" /><line x1=\"316.122\" y1=\"68.331\" x2=\"299.73\" y2=\"62.365\" stroke-linecap=\"round\" style=\"stroke:black;stroke-width:1\" /><line x1=\"299.73\" y1=\"62.365\" x2=\"282.551\" y2=\"59.336\" stroke-linecap=\"round\" style=\"stroke:black;stroke-width:1\" /><line x1=\"282.551\" y1=\"59.336\" x2=\"265.107\" y2=\"59.336\" stroke-linecap=\"round\" style=\"stroke:black;stroke-width:1\" /><line x1=\"265.107\" y1=\"59.336\" x2=\"247.928\" y2=\"62.365\" stroke-linecap=\"round\" style=\"stroke:black;stroke-width:1\" /><line x1=\"247.928\" y1=\"62.365\" x2=\"231.536\" y2=\"68.331\" stroke-linecap=\"round\" style=\"stroke:black;stroke-width:1\" /><line x1=\"231.536\" y1=\"68.331\" x2=\"216.429\" y2=\"77.053\" stroke-linecap=\"round\" style=\"stroke:black;stroke-width:1\" /><line x1=\"216.429\" y1=\"77.053\" x2=\"203.066\" y2=\"88.266\" stroke-linecap=\"round\" style=\"stroke:black;stroke-width:1\" /><line x1=\"203.066\" y1=\"88.266\" x2=\"191.853\" y2=\"101.629\" stroke-linecap=\"round\" style=\"stroke:black;stroke-width:1\" /><line x1=\"191.853\" y1=\"101.629\" x2=\"183.131\" y2=\"116.736\" stroke-linecap=\"round\" style=\"stroke:black;stroke-width:1\" /><line x1=\"183.131\" y1=\"116.736\" x2=\"177.165\" y2=\"133.128\" stroke-linecap=\"round\" style=\"stroke:black;stroke-width:1\" /><line x1=\"177.165\" y1=\"133.128\" x2=\"174.136\" y2=\"150.307\" stroke-linecap=\"round\" style=\"stroke:black;stroke-width:1\" /><line x1=\"174.136\" y1=\"150.307\" x2=\"174.136\" y2=\"167.751\" stroke-linecap=\"round\" style=\"stroke:black;stroke-width:1\" /><line x1=\"174.136\" y1=\"167.751\" x2=\"177.165\" y2=\"184.93\" stroke-linecap=\"round\" style=\"stroke:black;stroke-width:1\" /><line x1=\"177.165\" y1=\"184.93\" x2=\"183.131\" y2=\"201.322\" stroke-linecap=\"round\" style=\"stroke:black;stroke-width:1\" /><line x1=\"183.131\" y1=\"201.322\" x2=\"191.853\" y2=\"216.429\" stroke-linecap=\"round\" style=\"stroke:black;stroke-width:1\" /><line x1=\"191.853\" y1=\"216.429\" x2=\"203.066\" y2=\"229.792\" stroke-linecap=\"round\" style=\"stroke:black;stroke-width:1\" /><line x1=\"203.066\" y1=\"229.792\" x2=\"216.429\" y2=\"241.005\" stroke-linecap=\"round\" style=\"stroke:black;stroke-width:1\" /><line x1=\"216.429\" y1=\"241.005\" x2=\"232.821\" y2=\"246.971\" stroke-linecap=\"round\" style=\"stroke:black;stroke-width:1\" /><line x1=\"232.821\" y1=\"246.971\" x2=\"249.213\" y2=\"252.937\" stroke-linecap=\"round\" style=\"stroke:black;stroke-width:1\" /><line x1=\"249.213\" y1=\"252.937\" x2=\"266.392\" y2=\"255.966\" stroke-linecap=\"round\" style=\"stroke:black;stroke-width:1\" /><line x1=\"266.392\" y1=\"255.966\" x2=\"283.836\" y2=\"255.966\" stroke-linecap=\"round\" style=\"stroke:black;stroke-width:1\" /><line x1=\"283.836\" y1=\"255.966\" x2=\"301.015\" y2=\"252.937\" stroke-linecap=\"round\" style=\"stroke:black;stroke-width:1\" /><line x1=\"301.015\" y1=\"252.937\" x2=\"317.407\" y2=\"246.971\" stroke-linecap=\"round\" style=\"stroke:black;stroke-width:1\" /><line x1=\"317.407\" y1=\"246.971\" x2=\"332.514\" y2=\"238.249\" stroke-linecap=\"round\" style=\"stroke:black;stroke-width:1\" /><line x1=\"332.514\" y1=\"238.249\" x2=\"345.877\" y2=\"227.036\" stroke-linecap=\"round\" style=\"stroke:black;stroke-width:1\" /><line x1=\"345.877\" y1=\"227.036\" x2=\"357.09\" y2=\"213.673\" stroke-linecap=\"round\" style=\"stroke:black;stroke-width:1\" /><line x1=\"357.09\" y1=\"213.673\" x2=\"365.812\" y2=\"198.566\" stroke-linecap=\"round\" style=\"stroke:black;stroke-width:1\" /><line x1=\"365.812\" y1=\"198.566\" x2=\"371.778\" y2=\"182.174\" stroke-linecap=\"round\" style=\"stroke:black;stroke-width:1\" /><line x1=\"371.778\" y1=\"182.174\" x2=\"374.807\" y2=\"164.995\" stroke-linecap=\"round\" style=\"stroke:black;stroke-width:1\" /><line x1=\"374.807\" y1=\"164.995\" x2=\"374.807\" y2=\"147.551\" stroke-linecap=\"round\" style=\"stroke:black;stroke-width:1\" /><line x1=\"374.807\" y1=\"147.551\" x2=\"371.778\" y2=\"130.372\" stroke-linecap=\"round\" style=\"stroke:black;stroke-width:1\" /><line x1=\"371.778\" y1=\"130.372\" x2=\"365.812\" y2=\"113.98\" stroke-linecap=\"round\" style=\"stroke:black;stroke-width:1\" /><line x1=\"365.812\" y1=\"113.98\" x2=\"357.09\" y2=\"98.873\" stroke-linecap=\"round\" style=\"stroke:black;stroke-width:1\" /><line x1=\"357.09\" y1=\"98.873\" x2=\"345.877\" y2=\"85.51\" stroke-linecap=\"round\" style=\"stroke:black;stroke-width:1\" /><line x1=\"345.877\" y1=\"85.51\" x2=\"332.514\" y2=\"74.297\" stroke-linecap=\"round\" style=\"stroke:black;stroke-width:1\" /><line x1=\"332.514\" y1=\"74.297\" x2=\"317.407\" y2=\"65.575\" stroke-linecap=\"round\" style=\"stroke:black;stroke-width:1\" /><line x1=\"317.407\" y1=\"65.575\" x2=\"301.015\" y2=\"59.609\" stroke-linecap=\"round\" style=\"stroke:black;stroke-width:1\" /><line x1=\"301.015\" y1=\"59.609\" x2=\"283.836\" y2=\"56.58\" stroke-linecap=\"round\" style=\"stroke:black;stroke-width:1\" /><line x1=\"283.836\" y1=\"56.58\" x2=\"266.392\" y2=\"56.58\" stroke-linecap=\"round\" style=\"stroke:black;stroke-width:1\" /><line x1=\"266.392\" y1=\"56.58\" x2=\"249.213\" y2=\"59.609\" stroke-linecap=\"round\" style=\"stroke:black;stroke-width:1\" /><line x1=\"249.213\" y1=\"59.609\" x2=\"232.821\" y2=\"65.575\" stroke-linecap=\"round\" style=\"stroke:black;stroke-width:1\" /><line x1=\"232.821\" y1=\"65.575\" x2=\"217.714\" y2=\"74.297\" stroke-linecap=\"round\" style=\"stroke:black;stroke-width:1\" /><line x1=\"217.714\" y1=\"74.297\" x2=\"204.351\" y2=\"85.51\" stroke-linecap=\"round\" style=\"stroke:black;stroke-width:1\" /><line x1=\"204.351\" y1=\"85.51\" x2=\"193.138\" y2=\"98.873\" stroke-linecap=\"round\" style=\"stroke:black;stroke-width:1\" /><line x1=\"193.138\" y1=\"98.873\" x2=\"184.416\" y2=\"113.98\" stroke-linecap=\"round\" style=\"stroke:black;stroke-width:1\" /><line x1=\"184.416\" y1=\"113.98\" x2=\"178.45\" y2=\"130.372\" stroke-linecap=\"round\" style=\"stroke:black;stroke-width:1\" /><line x1=\"178.45\" y1=\"130.372\" x2=\"175.421\" y2=\"147.551\" stroke-linecap=\"round\" style=\"stroke:black;stroke-width:1\" /><line x1=\"175.421\" y1=\"147.551\" x2=\"175.421\" y2=\"164.995\" stroke-linecap=\"round\" style=\"stroke:black;stroke-width:1\" /><line x1=\"175.421\" y1=\"164.995\" x2=\"178.45\" y2=\"182.174\" stroke-linecap=\"round\" style=\"stroke:black;stroke-width:1\" /><line x1=\"178.45\" y1=\"182.174\" x2=\"184.416\" y2=\"198.566\" stroke-linecap=\"round\" style=\"stroke:black;stroke-width:1\" /><line x1=\"184.416\" y1=\"198.566\" x2=\"193.138\" y2=\"213.673\" stroke-linecap=\"round\" style=\"stroke:black;stroke-width:1\" /><line x1=\"193.138\" y1=\"213.673\" x2=\"204.351\" y2=\"227.036\" stroke-linecap=\"round\" style=\"stroke:black;stroke-width:1\" /><line x1=\"204.351\" y1=\"227.036\" x2=\"217.714\" y2=\"238.249\" stroke-linecap=\"round\" style=\"stroke:black;stroke-width:1\" /><line x1=\"217.714\" y1=\"238.249\" x2=\"232.821\" y2=\"246.971\" stroke-linecap=\"round\" style=\"stroke:black;stroke-width:1\" /><line x1=\"232.821\" y1=\"246.971\" x2=\"250.0\" y2=\"250.0\" stroke-linecap=\"round\" style=\"stroke:black;stroke-width:1\" /><line x1=\"250.0\" y1=\"250.0\" x2=\"267.179\" y2=\"253.029\" stroke-linecap=\"round\" style=\"stroke:black;stroke-width:1\" /><line x1=\"267.179\" y1=\"253.029\" x2=\"284.623\" y2=\"253.029\" stroke-linecap=\"round\" style=\"stroke:black;stroke-width:1\" /><line x1=\"284.623\" y1=\"253.029\" x2=\"301.802\" y2=\"250.0\" stroke-linecap=\"round\" style=\"stroke:black;stroke-width:1\" /><line x1=\"301.802\" y1=\"250.0\" x2=\"318.194\" y2=\"244.034\" stroke-linecap=\"round\" style=\"stroke:black;stroke-width:1\" /><line x1=\"318.194\" y1=\"244.034\" x2=\"333.301\" y2=\"235.312\" stroke-linecap=\"round\" style=\"stroke:black;stroke-width:1\" /><line x1=\"333.301\" y1=\"235.312\" x2=\"346.664\" y2=\"224.099\" stroke-linecap=\"round\" style=\"stroke:black;stroke-width:1\" /><line x1=\"346.664\" y1=\"224.099\" x2=\"357.877\" y2=\"210.736\" stroke-linecap=\"round\" style=\"stroke:black;stroke-width:1\" /><line x1=\"357.877\" y1=\"210.736\" x2=\"366.599\" y2=\"195.629\" stroke-linecap=\"round\" style=\"stroke:black;stroke-width:1\" /><line x1=\"366.599\" y1=\"195.629\" x2=\"372.565\" y2=\"179.237\" stroke-linecap=\"round\" style=\"stroke:black;stroke-width:1\" /><line x1=\"372.565\" y1=\"179.237\" x2=\"375.594\" y2=\"162.058\" stroke-linecap=\"round\" style=\"stroke:black;stroke-width:1\" /><line x1=\"375.594\" y1=\"162.058\" x2=\"375.594\" y2=\"144.614\" stroke-linecap=\"round\" style=\"stroke:black;stroke-width:1\" /><line x1=\"375.594\" y1=\"144.614\" x2=\"372.565\" y2=\"127.435\" stroke-linecap=\"round\" style=\"stroke:black;stroke-width:1\" /><line x1=\"372.565\" y1=\"127.435\" x2=\"366.599\" y2=\"111.043\" stroke-linecap=\"round\" style=\"stroke:black;stroke-width:1\" /><line x1=\"366.599\" y1=\"111.043\" x2=\"357.877\" y2=\"95.936\" stroke-linecap=\"round\" style=\"stroke:black;stroke-width:1\" /><line x1=\"357.877\" y1=\"95.936\" x2=\"346.664\" y2=\"82.573\" stroke-linecap=\"round\" style=\"stroke:black;stroke-width:1\" /><line x1=\"346.664\" y1=\"82.573\" x2=\"333.301\" y2=\"71.36\" stroke-linecap=\"round\" style=\"stroke:black;stroke-width:1\" /><line x1=\"333.301\" y1=\"71.36\" x2=\"318.194\" y2=\"62.638\" stroke-linecap=\"round\" style=\"stroke:black;stroke-width:1\" /><line x1=\"318.194\" y1=\"62.638\" x2=\"301.802\" y2=\"56.672\" stroke-linecap=\"round\" style=\"stroke:black;stroke-width:1\" /><line x1=\"301.802\" y1=\"56.672\" x2=\"284.623\" y2=\"53.643\" stroke-linecap=\"round\" style=\"stroke:black;stroke-width:1\" /><line x1=\"284.623\" y1=\"53.643\" x2=\"267.179\" y2=\"53.643\" stroke-linecap=\"round\" style=\"stroke:black;stroke-width:1\" /><line x1=\"267.179\" y1=\"53.643\" x2=\"250.0\" y2=\"56.672\" stroke-linecap=\"round\" style=\"stroke:black;stroke-width:1\" /><line x1=\"250.0\" y1=\"56.672\" x2=\"233.608\" y2=\"62.638\" stroke-linecap=\"round\" style=\"stroke:black;stroke-width:1\" /><line x1=\"233.608\" y1=\"62.638\" x2=\"218.501\" y2=\"71.36\" stroke-linecap=\"round\" style=\"stroke:black;stroke-width:1\" /><line x1=\"218.501\" y1=\"71.36\" x2=\"205.138\" y2=\"82.573\" stroke-linecap=\"round\" style=\"stroke:black;stroke-width:1\" /><line x1=\"205.138\" y1=\"82.573\" x2=\"193.925\" y2=\"95.936\" stroke-linecap=\"round\" style=\"stroke:black;stroke-width:1\" /><line x1=\"193.925\" y1=\"95.936\" x2=\"185.203\" y2=\"111.043\" stroke-linecap=\"round\" style=\"stroke:black;stroke-width:1\" /><line x1=\"185.203\" y1=\"111.043\" x2=\"179.237\" y2=\"127.435\" stroke-linecap=\"round\" style=\"stroke:black;stroke-width:1\" /><line x1=\"179.237\" y1=\"127.435\" x2=\"176.208\" y2=\"144.614\" stroke-linecap=\"round\" style=\"stroke:black;stroke-width:1\" /><line x1=\"176.208\" y1=\"144.614\" x2=\"176.208\" y2=\"162.058\" stroke-linecap=\"round\" style=\"stroke:black;stroke-width:1\" /><line x1=\"176.208\" y1=\"162.058\" x2=\"179.237\" y2=\"179.237\" stroke-linecap=\"round\" style=\"stroke:black;stroke-width:1\" /><line x1=\"179.237\" y1=\"179.237\" x2=\"185.203\" y2=\"195.629\" stroke-linecap=\"round\" style=\"stroke:black;stroke-width:1\" /><line x1=\"185.203\" y1=\"195.629\" x2=\"193.925\" y2=\"210.736\" stroke-linecap=\"round\" style=\"stroke:black;stroke-width:1\" /><line x1=\"193.925\" y1=\"210.736\" x2=\"205.138\" y2=\"224.099\" stroke-linecap=\"round\" style=\"stroke:black;stroke-width:1\" /><line x1=\"205.138\" y1=\"224.099\" x2=\"218.501\" y2=\"235.312\" stroke-linecap=\"round\" style=\"stroke:black;stroke-width:1\" /><line x1=\"218.501\" y1=\"235.312\" x2=\"233.608\" y2=\"244.034\" stroke-linecap=\"round\" style=\"stroke:black;stroke-width:1\" /><line x1=\"233.608\" y1=\"244.034\" x2=\"250.0\" y2=\"250.0\" stroke-linecap=\"round\" style=\"stroke:black;stroke-width:1\" />\n",
              "        \n",
              "        \n",
              "        <g id=\"turtle\" visibility=\"visible\" transform=\"rotate(100.0,250.0,250.0) translate(250.0, 250.0)\">\n",
              "<path style=\"stroke:black;fill-rule:evenodd;fill:black;fill-opacity:1;\" transform=\"skewX(0) scale(1,1)\" d=\"m 1.1536693,-18.56101 c -2.105469,1.167969 -3.203125,3.441407 -3.140625,6.5 l 0.011719,0.519532 -0.300782,-0.15625 c -1.308594,-0.671875 -2.828125,-0.824219 -4.378906,-0.429688 -1.9375,0.484375 -3.8906253,2.089844 -6.0117193,4.9257825 -1.332031,1.785156 -1.714843,2.644531 -1.351562,3.035156 l 0.113281,0.125 h 0.363281 c 0.71875,0 1.308594,-0.265625 4.6679693,-2.113282 1.199219,-0.660156 2.183594,-1.199218 2.191406,-1.199218 0.00781,0 -0.023437,0.089844 -0.074218,0.195312 -0.472657,1.058594 -1.046876,2.785156 -1.335938,4.042969 -1.054688,4.574219 -0.351562,8.453125 2.101562,11.582031 0.28125,0.355469 0.292969,0.253906 -0.097656,0.722656 -2.046875,2.4609375 -3.027344,4.8984375 -2.734375,6.8046875 0.050781,0.339844 0.042969,0.335938 0.679688,0.335938 2.023437,0 4.15625,-1.316407 6.21875,-3.835938 0.222656,-0.269531 0.191406,-0.261719 0.425781,-0.113281 0.730469,0.46875 2.460938,1.390625 2.613281,1.390625 0.160157,0 1.765625,-0.753906 2.652344,-1.246094 0.167969,-0.09375 0.308594,-0.164062 0.308594,-0.160156 0.066406,0.105468 0.761719,0.855468 1.085937,1.171875 1.613282,1.570312 3.339844,2.402343 5.3593747,2.570312 0.324219,0.02734 0.355469,0.0078 0.425781,-0.316406 0.375,-1.742187 -0.382812,-4.058594 -2.1445307,-6.5585935 l -0.320312,-0.457031 0.15625,-0.183594 c 3.2460927,-3.824218 3.4335927,-9.08593704 0.558593,-15.816406 l -0.050781,-0.125 1.7382807,0.859375 c 3.585938,1.773437 4.371094,2.097656 5.085938,2.097656 0.945312,0 0.75,-0.863281 -0.558594,-2.507812 C 11.458356,-11.838353 8.3333563,-13.268041 4.8607003,-11.721166 l -0.363281,0.164063 0.019531,-0.09375 c 0.121094,-0.550781 0.183594,-1.800781 0.121094,-2.378907 -0.203125,-1.867187 -1.035157,-3.199218 -2.695313,-4.308593 -0.523437,-0.351563 -0.546875,-0.355469 -0.789062,-0.222657\" />\n",
              "<animateTransform id = \"one\" attributeName=\"transform\" \n",
              "                      type=\"scale\"\n",
              "                      from=\"1 1\" to=\"1 1\"\n",
              "                      begin=\"0s\" dur=\"0.01s\"\n",
              "                      repeatCount=\"1\"\n",
              "                      additive=\"sum\"\n",
              "                      fill=\"freeze\"\n",
              "                /><animateTransform attributeName=\"transform\"\n",
              "                    type=\"rotate\"\n",
              "                    from=\"0 0 0\" to =\"-10.0 0 0\"\n",
              "                    begin=\"one.end\" dur=\"0.027777777777777776s\"\n",
              "                    repeatCount=\"1\"\n",
              "                    additive=\"sum\"\n",
              "                    fill=\"freeze\"\n",
              "                /></g>\n",
              "      </svg>\n",
              "    "
            ]
          },
          "metadata": {}
        }
      ]
    },
    {
      "cell_type": "markdown",
      "source": [
        ".\n",
        "\n",
        ".\n",
        "\n",
        ".\n",
        "\n",
        ".\n",
        "\n",
        ".\n",
        "\n",
        "\n",
        "\n",
        "----"
      ],
      "metadata": {
        "id": "lrE-k8QweY7L"
      }
    },
    {
      "cell_type": "code",
      "source": [
        "# @title Solution (Don't click before trying yourself! I'm watching you 👀)\n",
        "ct.clearscreen()\n",
        "ct.initializeTurtle((WIDTH, HEIGHT))\n",
        "\n",
        "bob = ct.Turtle()\n",
        "bob.shape('turtle')\n",
        "\n",
        "\n",
        "circle_radius = 100\n",
        "number_of_sides = 36  # arbitrary. The higher the number the smoother the circle\n",
        "side_length = 2 * 3.14 * circle_radius / number_of_sides\n",
        "angle = 360 / number_of_sides\n",
        "\n",
        "for _ in range(number_of_sides):\n",
        "    bob.forward(side_length)\n",
        "    bob.left(angle)"
      ],
      "metadata": {
        "colab": {
          "base_uri": "https://localhost:8080/",
          "height": 521
        },
        "id": "wiqm4bfPGEqW",
        "outputId": "d381970f-364b-4caa-c2b8-e13dcb11dc8e"
      },
      "execution_count": null,
      "outputs": [
        {
          "output_type": "display_data",
          "data": {
            "text/plain": [
              "<IPython.core.display.HTML object>"
            ],
            "text/html": [
              "\n",
              "      <svg width=\"500\" height=\"500\">  \n",
              "        <rect width=\"100%\" height=\"100%\" style=\"fill:white;stroke:;stroke-width:1\"/>\n",
              "        \n",
              "        \n",
              "        <line x1=\"250.0\" y1=\"250.0\" x2=\"267.444\" y2=\"250.0\" stroke-linecap=\"round\" style=\"stroke:black;stroke-width:1\" /><line x1=\"267.444\" y1=\"250.0\" x2=\"284.623\" y2=\"246.971\" stroke-linecap=\"round\" style=\"stroke:black;stroke-width:1\" /><line x1=\"284.623\" y1=\"246.971\" x2=\"301.015\" y2=\"241.005\" stroke-linecap=\"round\" style=\"stroke:black;stroke-width:1\" /><line x1=\"301.015\" y1=\"241.005\" x2=\"316.122\" y2=\"232.283\" stroke-linecap=\"round\" style=\"stroke:black;stroke-width:1\" /><line x1=\"316.122\" y1=\"232.283\" x2=\"329.485\" y2=\"221.07\" stroke-linecap=\"round\" style=\"stroke:black;stroke-width:1\" /><line x1=\"329.485\" y1=\"221.07\" x2=\"340.698\" y2=\"207.707\" stroke-linecap=\"round\" style=\"stroke:black;stroke-width:1\" /><line x1=\"340.698\" y1=\"207.707\" x2=\"349.42\" y2=\"192.6\" stroke-linecap=\"round\" style=\"stroke:black;stroke-width:1\" /><line x1=\"349.42\" y1=\"192.6\" x2=\"355.386\" y2=\"176.208\" stroke-linecap=\"round\" style=\"stroke:black;stroke-width:1\" /><line x1=\"355.386\" y1=\"176.208\" x2=\"358.415\" y2=\"159.029\" stroke-linecap=\"round\" style=\"stroke:black;stroke-width:1\" /><line x1=\"358.415\" y1=\"159.029\" x2=\"358.415\" y2=\"141.585\" stroke-linecap=\"round\" style=\"stroke:black;stroke-width:1\" /><line x1=\"358.415\" y1=\"141.585\" x2=\"355.386\" y2=\"124.406\" stroke-linecap=\"round\" style=\"stroke:black;stroke-width:1\" /><line x1=\"355.386\" y1=\"124.406\" x2=\"349.42\" y2=\"108.014\" stroke-linecap=\"round\" style=\"stroke:black;stroke-width:1\" /><line x1=\"349.42\" y1=\"108.014\" x2=\"340.698\" y2=\"92.907\" stroke-linecap=\"round\" style=\"stroke:black;stroke-width:1\" /><line x1=\"340.698\" y1=\"92.907\" x2=\"329.485\" y2=\"79.544\" stroke-linecap=\"round\" style=\"stroke:black;stroke-width:1\" /><line x1=\"329.485\" y1=\"79.544\" x2=\"316.122\" y2=\"68.331\" stroke-linecap=\"round\" style=\"stroke:black;stroke-width:1\" /><line x1=\"316.122\" y1=\"68.331\" x2=\"301.015\" y2=\"59.609\" stroke-linecap=\"round\" style=\"stroke:black;stroke-width:1\" /><line x1=\"301.015\" y1=\"59.609\" x2=\"284.623\" y2=\"53.643\" stroke-linecap=\"round\" style=\"stroke:black;stroke-width:1\" /><line x1=\"284.623\" y1=\"53.643\" x2=\"267.444\" y2=\"50.614\" stroke-linecap=\"round\" style=\"stroke:black;stroke-width:1\" /><line x1=\"267.444\" y1=\"50.614\" x2=\"250.0\" y2=\"50.614\" stroke-linecap=\"round\" style=\"stroke:black;stroke-width:1\" /><line x1=\"250.0\" y1=\"50.614\" x2=\"232.821\" y2=\"53.643\" stroke-linecap=\"round\" style=\"stroke:black;stroke-width:1\" /><line x1=\"232.821\" y1=\"53.643\" x2=\"216.429\" y2=\"59.609\" stroke-linecap=\"round\" style=\"stroke:black;stroke-width:1\" /><line x1=\"216.429\" y1=\"59.609\" x2=\"201.322\" y2=\"68.331\" stroke-linecap=\"round\" style=\"stroke:black;stroke-width:1\" /><line x1=\"201.322\" y1=\"68.331\" x2=\"187.959\" y2=\"79.544\" stroke-linecap=\"round\" style=\"stroke:black;stroke-width:1\" /><line x1=\"187.959\" y1=\"79.544\" x2=\"176.746\" y2=\"92.907\" stroke-linecap=\"round\" style=\"stroke:black;stroke-width:1\" /><line x1=\"176.746\" y1=\"92.907\" x2=\"168.024\" y2=\"108.014\" stroke-linecap=\"round\" style=\"stroke:black;stroke-width:1\" /><line x1=\"168.024\" y1=\"108.014\" x2=\"162.058\" y2=\"124.406\" stroke-linecap=\"round\" style=\"stroke:black;stroke-width:1\" /><line x1=\"162.058\" y1=\"124.406\" x2=\"159.029\" y2=\"141.585\" stroke-linecap=\"round\" style=\"stroke:black;stroke-width:1\" /><line x1=\"159.029\" y1=\"141.585\" x2=\"159.029\" y2=\"159.029\" stroke-linecap=\"round\" style=\"stroke:black;stroke-width:1\" /><line x1=\"159.029\" y1=\"159.029\" x2=\"162.058\" y2=\"176.208\" stroke-linecap=\"round\" style=\"stroke:black;stroke-width:1\" /><line x1=\"162.058\" y1=\"176.208\" x2=\"168.024\" y2=\"192.6\" stroke-linecap=\"round\" style=\"stroke:black;stroke-width:1\" /><line x1=\"168.024\" y1=\"192.6\" x2=\"176.746\" y2=\"207.707\" stroke-linecap=\"round\" style=\"stroke:black;stroke-width:1\" /><line x1=\"176.746\" y1=\"207.707\" x2=\"187.959\" y2=\"221.07\" stroke-linecap=\"round\" style=\"stroke:black;stroke-width:1\" /><line x1=\"187.959\" y1=\"221.07\" x2=\"201.322\" y2=\"232.283\" stroke-linecap=\"round\" style=\"stroke:black;stroke-width:1\" /><line x1=\"201.322\" y1=\"232.283\" x2=\"216.429\" y2=\"241.005\" stroke-linecap=\"round\" style=\"stroke:black;stroke-width:1\" /><line x1=\"216.429\" y1=\"241.005\" x2=\"232.821\" y2=\"246.971\" stroke-linecap=\"round\" style=\"stroke:black;stroke-width:1\" /><line x1=\"232.821\" y1=\"246.971\" x2=\"250.0\" y2=\"250.0\" stroke-linecap=\"round\" style=\"stroke:black;stroke-width:1\" />\n",
              "        \n",
              "        \n",
              "        <g id=\"turtle\" visibility=\"visible\" transform=\"rotate(100.0,250.0,250.0) translate(250.0, 250.0)\">\n",
              "<path style=\"stroke:black;fill-rule:evenodd;fill:black;fill-opacity:1;\" transform=\"skewX(0) scale(1,1)\" d=\"m 1.1536693,-18.56101 c -2.105469,1.167969 -3.203125,3.441407 -3.140625,6.5 l 0.011719,0.519532 -0.300782,-0.15625 c -1.308594,-0.671875 -2.828125,-0.824219 -4.378906,-0.429688 -1.9375,0.484375 -3.8906253,2.089844 -6.0117193,4.9257825 -1.332031,1.785156 -1.714843,2.644531 -1.351562,3.035156 l 0.113281,0.125 h 0.363281 c 0.71875,0 1.308594,-0.265625 4.6679693,-2.113282 1.199219,-0.660156 2.183594,-1.199218 2.191406,-1.199218 0.00781,0 -0.023437,0.089844 -0.074218,0.195312 -0.472657,1.058594 -1.046876,2.785156 -1.335938,4.042969 -1.054688,4.574219 -0.351562,8.453125 2.101562,11.582031 0.28125,0.355469 0.292969,0.253906 -0.097656,0.722656 -2.046875,2.4609375 -3.027344,4.8984375 -2.734375,6.8046875 0.050781,0.339844 0.042969,0.335938 0.679688,0.335938 2.023437,0 4.15625,-1.316407 6.21875,-3.835938 0.222656,-0.269531 0.191406,-0.261719 0.425781,-0.113281 0.730469,0.46875 2.460938,1.390625 2.613281,1.390625 0.160157,0 1.765625,-0.753906 2.652344,-1.246094 0.167969,-0.09375 0.308594,-0.164062 0.308594,-0.160156 0.066406,0.105468 0.761719,0.855468 1.085937,1.171875 1.613282,1.570312 3.339844,2.402343 5.3593747,2.570312 0.324219,0.02734 0.355469,0.0078 0.425781,-0.316406 0.375,-1.742187 -0.382812,-4.058594 -2.1445307,-6.5585935 l -0.320312,-0.457031 0.15625,-0.183594 c 3.2460927,-3.824218 3.4335927,-9.08593704 0.558593,-15.816406 l -0.050781,-0.125 1.7382807,0.859375 c 3.585938,1.773437 4.371094,2.097656 5.085938,2.097656 0.945312,0 0.75,-0.863281 -0.558594,-2.507812 C 11.458356,-11.838353 8.3333563,-13.268041 4.8607003,-11.721166 l -0.363281,0.164063 0.019531,-0.09375 c 0.121094,-0.550781 0.183594,-1.800781 0.121094,-2.378907 -0.203125,-1.867187 -1.035157,-3.199218 -2.695313,-4.308593 -0.523437,-0.351563 -0.546875,-0.355469 -0.789062,-0.222657\" />\n",
              "<animateTransform id = \"one\" attributeName=\"transform\" \n",
              "                      type=\"scale\"\n",
              "                      from=\"1 1\" to=\"1 1\"\n",
              "                      begin=\"0s\" dur=\"0.01s\"\n",
              "                      repeatCount=\"1\"\n",
              "                      additive=\"sum\"\n",
              "                      fill=\"freeze\"\n",
              "                /><animateTransform attributeName=\"transform\"\n",
              "                    type=\"rotate\"\n",
              "                    from=\"0 0 0\" to =\"-10.0 0 0\"\n",
              "                    begin=\"one.end\" dur=\"0.027777777777777776s\"\n",
              "                    repeatCount=\"1\"\n",
              "                    additive=\"sum\"\n",
              "                    fill=\"freeze\"\n",
              "                /></g>\n",
              "      </svg>\n",
              "    "
            ]
          },
          "metadata": {}
        }
      ]
    },
    {
      "cell_type": "markdown",
      "source": [
        "## A Note on Functions\n",
        "\n",
        "A **function** is a self-contained block of code designed to do a specific task or related group of tasks. In Python, functions are not necessarily part of a class. They can exist independently.\n",
        "\n",
        "\n",
        "**Do not confuse functions and methods:**\n",
        "\n",
        "- The key difference is that *methods are associated with objects (instances of classes)*, while *functions can stand alone* in Python or be part of a class. Methods operate on the data within the class and object instance they belong to, whereas functions generally operate on the inputs provided to them and are not inherently tied to a class or object.\n",
        "\n",
        "- Methods are called on objects: `object.method(arguments)`. Functions are called by their name and arguments: `function(arguments)`. If a function is part of a class (thus technically a method), it is called on an instance of that class or using the class name if it's a static or class method.\n",
        "\n",
        "- Methods implicitly take the object they are called on as their first argument (`self` in Python), while functions do not. This is why you'll see class methods in Python always have at least one parameter (`self`), indicating the instance on which the method operates.\n",
        "\n",
        "YOu do not have to worry about this for this tutorial, but it is useful to get this distinction.\n",
        "\n",
        "See:\n",
        "- [defining your own functions in Python](https://realpython.com/defining-your-own-python-function/)\n",
        "- [built-in funcitons and data types in Python](https://realpython.com/python-data-types/#built-in-functions)\n",
        "- [python classes](https://realpython.com/python-classes/)\n",
        "- [OOP](https://realpython.com/python3-object-oriented-programming/)"
      ],
      "metadata": {
        "id": "0BQps6TzUOdg"
      }
    },
    {
      "cell_type": "code",
      "source": [
        "def draw_square(turtle, size):\n",
        "    \"\"\"\n",
        "    Uses a turtle object to draw a square\n",
        "\n",
        "    Parameters:\n",
        "    - turtle (Turtle): A Turtle graphics object\n",
        "    - size (int or float): The length of each side of the square\n",
        "    \"\"\"\n",
        "    for i in range(4):\n",
        "        turtle.forward(size)\n",
        "        turtle.left(90)\n",
        "\n",
        "ct.clearscreen()\n",
        "ct.initializeTurtle((WIDTH, HEIGHT))\n",
        "\n",
        "bob = ct.Turtle()\n",
        "bob.speed(7)\n",
        "bob.shape('turtle')\n",
        "\n",
        "square_size = 200\n",
        "for _ in range(4):\n",
        "    draw_square(bob, square_size)\n",
        "    square_size += -50"
      ],
      "metadata": {
        "colab": {
          "base_uri": "https://localhost:8080/",
          "height": 521
        },
        "id": "3qv5jDkJW9Vn",
        "outputId": "ee86cc80-d657-4e22-a40d-c82e3ae4507e"
      },
      "execution_count": null,
      "outputs": [
        {
          "output_type": "display_data",
          "data": {
            "text/plain": [
              "<IPython.core.display.HTML object>"
            ],
            "text/html": [
              "\n",
              "      <svg width=\"500\" height=\"500\">  \n",
              "        <rect width=\"100%\" height=\"100%\" style=\"fill:white;stroke:;stroke-width:1\"/>\n",
              "        \n",
              "        \n",
              "        <line x1=\"250.0\" y1=\"250.0\" x2=\"450.0\" y2=\"250.0\" stroke-linecap=\"round\" style=\"stroke:black;stroke-width:1\" /><line x1=\"450.0\" y1=\"250.0\" x2=\"450.0\" y2=\"50.0\" stroke-linecap=\"round\" style=\"stroke:black;stroke-width:1\" /><line x1=\"450.0\" y1=\"50.0\" x2=\"250.0\" y2=\"50.0\" stroke-linecap=\"round\" style=\"stroke:black;stroke-width:1\" /><line x1=\"250.0\" y1=\"50.0\" x2=\"250.0\" y2=\"250.0\" stroke-linecap=\"round\" style=\"stroke:black;stroke-width:1\" /><line x1=\"250.0\" y1=\"250.0\" x2=\"400.0\" y2=\"250.0\" stroke-linecap=\"round\" style=\"stroke:black;stroke-width:1\" /><line x1=\"400.0\" y1=\"250.0\" x2=\"400.0\" y2=\"100.0\" stroke-linecap=\"round\" style=\"stroke:black;stroke-width:1\" /><line x1=\"400.0\" y1=\"100.0\" x2=\"250.0\" y2=\"100.0\" stroke-linecap=\"round\" style=\"stroke:black;stroke-width:1\" /><line x1=\"250.0\" y1=\"100.0\" x2=\"250.0\" y2=\"250.0\" stroke-linecap=\"round\" style=\"stroke:black;stroke-width:1\" /><line x1=\"250.0\" y1=\"250.0\" x2=\"350.0\" y2=\"250.0\" stroke-linecap=\"round\" style=\"stroke:black;stroke-width:1\" /><line x1=\"350.0\" y1=\"250.0\" x2=\"350.0\" y2=\"150.0\" stroke-linecap=\"round\" style=\"stroke:black;stroke-width:1\" /><line x1=\"350.0\" y1=\"150.0\" x2=\"250.0\" y2=\"150.0\" stroke-linecap=\"round\" style=\"stroke:black;stroke-width:1\" /><line x1=\"250.0\" y1=\"150.0\" x2=\"250.0\" y2=\"250.0\" stroke-linecap=\"round\" style=\"stroke:black;stroke-width:1\" /><line x1=\"250.0\" y1=\"250.0\" x2=\"300.0\" y2=\"250.0\" stroke-linecap=\"round\" style=\"stroke:black;stroke-width:1\" /><line x1=\"300.0\" y1=\"250.0\" x2=\"300.0\" y2=\"200.0\" stroke-linecap=\"round\" style=\"stroke:black;stroke-width:1\" /><line x1=\"300.0\" y1=\"200.0\" x2=\"250.0\" y2=\"200.0\" stroke-linecap=\"round\" style=\"stroke:black;stroke-width:1\" /><line x1=\"250.0\" y1=\"200.0\" x2=\"250.0\" y2=\"250.0\" stroke-linecap=\"round\" style=\"stroke:black;stroke-width:1\" />\n",
              "        \n",
              "        \n",
              "        <g id=\"turtle\" visibility=\"visible\" transform=\"rotate(180,250.0,250.0) translate(250.0, 250.0)\">\n",
              "<path style=\"stroke:black;fill-rule:evenodd;fill:black;fill-opacity:1;\" transform=\"skewX(0) scale(1,1)\" d=\"m 1.1536693,-18.56101 c -2.105469,1.167969 -3.203125,3.441407 -3.140625,6.5 l 0.011719,0.519532 -0.300782,-0.15625 c -1.308594,-0.671875 -2.828125,-0.824219 -4.378906,-0.429688 -1.9375,0.484375 -3.8906253,2.089844 -6.0117193,4.9257825 -1.332031,1.785156 -1.714843,2.644531 -1.351562,3.035156 l 0.113281,0.125 h 0.363281 c 0.71875,0 1.308594,-0.265625 4.6679693,-2.113282 1.199219,-0.660156 2.183594,-1.199218 2.191406,-1.199218 0.00781,0 -0.023437,0.089844 -0.074218,0.195312 -0.472657,1.058594 -1.046876,2.785156 -1.335938,4.042969 -1.054688,4.574219 -0.351562,8.453125 2.101562,11.582031 0.28125,0.355469 0.292969,0.253906 -0.097656,0.722656 -2.046875,2.4609375 -3.027344,4.8984375 -2.734375,6.8046875 0.050781,0.339844 0.042969,0.335938 0.679688,0.335938 2.023437,0 4.15625,-1.316407 6.21875,-3.835938 0.222656,-0.269531 0.191406,-0.261719 0.425781,-0.113281 0.730469,0.46875 2.460938,1.390625 2.613281,1.390625 0.160157,0 1.765625,-0.753906 2.652344,-1.246094 0.167969,-0.09375 0.308594,-0.164062 0.308594,-0.160156 0.066406,0.105468 0.761719,0.855468 1.085937,1.171875 1.613282,1.570312 3.339844,2.402343 5.3593747,2.570312 0.324219,0.02734 0.355469,0.0078 0.425781,-0.316406 0.375,-1.742187 -0.382812,-4.058594 -2.1445307,-6.5585935 l -0.320312,-0.457031 0.15625,-0.183594 c 3.2460927,-3.824218 3.4335927,-9.08593704 0.558593,-15.816406 l -0.050781,-0.125 1.7382807,0.859375 c 3.585938,1.773437 4.371094,2.097656 5.085938,2.097656 0.945312,0 0.75,-0.863281 -0.558594,-2.507812 C 11.458356,-11.838353 8.3333563,-13.268041 4.8607003,-11.721166 l -0.363281,0.164063 0.019531,-0.09375 c 0.121094,-0.550781 0.183594,-1.800781 0.121094,-2.378907 -0.203125,-1.867187 -1.035157,-3.199218 -2.695313,-4.308593 -0.523437,-0.351563 -0.546875,-0.355469 -0.789062,-0.222657\" />\n",
              "<animateTransform id = \"one\" attributeName=\"transform\" \n",
              "                      type=\"scale\"\n",
              "                      from=\"1 1\" to=\"1 1\"\n",
              "                      begin=\"0s\" dur=\"0.01s\"\n",
              "                      repeatCount=\"1\"\n",
              "                      additive=\"sum\"\n",
              "                      fill=\"freeze\"\n",
              "                /><animateTransform attributeName=\"transform\"\n",
              "                    type=\"rotate\"\n",
              "                    from=\"0 0 0\" to =\"-90 0 0\"\n",
              "                    begin=\"one.end\" dur=\"0.15s\"\n",
              "                    repeatCount=\"1\"\n",
              "                    additive=\"sum\"\n",
              "                    fill=\"freeze\"\n",
              "                /></g>\n",
              "      </svg>\n",
              "    "
            ]
          },
          "metadata": {}
        }
      ]
    },
    {
      "cell_type": "markdown",
      "source": [
        "## Challenge 2: Circle of Circles\n",
        "\n",
        "Ask Bob to draw a circle of circles. For this task, you need to:\n",
        "- define a function to draw a circle\n",
        "- Check the [documentation](https://larryriddle.agnesscott.org/ColabTurtlePlus/documentation2.html) to find how to raise the \"pen\" to move turtle to new location without drawing\n",
        "- use a `for loop` to execute it multiple times"
      ],
      "metadata": {
        "id": "Winln6F7ZOKU"
      }
    },
    {
      "cell_type": "code",
      "source": [
        "ct.clearscreen()\n",
        "ct.initializeTurtle((WIDTH, HEIGHT))\n",
        "\n",
        "bob = ct.Turtle()\n",
        "bob.shape('turtle')\n",
        "\n",
        "bob.speed(13) # max turtle speed\n",
        "\n",
        "# your code here #"
      ],
      "metadata": {
        "id": "QdVi7DHXa8q2",
        "colab": {
          "base_uri": "https://localhost:8080/",
          "height": 521
        },
        "outputId": "26faa654-2f05-48a5-baf3-0dda1aaea901"
      },
      "execution_count": null,
      "outputs": [
        {
          "output_type": "display_data",
          "data": {
            "text/plain": [
              "<IPython.core.display.HTML object>"
            ],
            "text/html": [
              "\n",
              "      <svg width=\"500\" height=\"500\">  \n",
              "        <rect width=\"100%\" height=\"100%\" style=\"fill:white;stroke:;stroke-width:1\"/>\n",
              "        \n",
              "        \n",
              "        \n",
              "        \n",
              "        \n",
              "        <g id=\"turtle\" visibility=\"visible\" transform=\"rotate(90,250.0,250.0) translate(250.0, 250.0)\">\n",
              "<path style=\"stroke:black;fill-rule:evenodd;fill:black;fill-opacity:1;\" transform=\"skewX(0) scale(1,1)\" d=\"m 1.1536693,-18.56101 c -2.105469,1.167969 -3.203125,3.441407 -3.140625,6.5 l 0.011719,0.519532 -0.300782,-0.15625 c -1.308594,-0.671875 -2.828125,-0.824219 -4.378906,-0.429688 -1.9375,0.484375 -3.8906253,2.089844 -6.0117193,4.9257825 -1.332031,1.785156 -1.714843,2.644531 -1.351562,3.035156 l 0.113281,0.125 h 0.363281 c 0.71875,0 1.308594,-0.265625 4.6679693,-2.113282 1.199219,-0.660156 2.183594,-1.199218 2.191406,-1.199218 0.00781,0 -0.023437,0.089844 -0.074218,0.195312 -0.472657,1.058594 -1.046876,2.785156 -1.335938,4.042969 -1.054688,4.574219 -0.351562,8.453125 2.101562,11.582031 0.28125,0.355469 0.292969,0.253906 -0.097656,0.722656 -2.046875,2.4609375 -3.027344,4.8984375 -2.734375,6.8046875 0.050781,0.339844 0.042969,0.335938 0.679688,0.335938 2.023437,0 4.15625,-1.316407 6.21875,-3.835938 0.222656,-0.269531 0.191406,-0.261719 0.425781,-0.113281 0.730469,0.46875 2.460938,1.390625 2.613281,1.390625 0.160157,0 1.765625,-0.753906 2.652344,-1.246094 0.167969,-0.09375 0.308594,-0.164062 0.308594,-0.160156 0.066406,0.105468 0.761719,0.855468 1.085937,1.171875 1.613282,1.570312 3.339844,2.402343 5.3593747,2.570312 0.324219,0.02734 0.355469,0.0078 0.425781,-0.316406 0.375,-1.742187 -0.382812,-4.058594 -2.1445307,-6.5585935 l -0.320312,-0.457031 0.15625,-0.183594 c 3.2460927,-3.824218 3.4335927,-9.08593704 0.558593,-15.816406 l -0.050781,-0.125 1.7382807,0.859375 c 3.585938,1.773437 4.371094,2.097656 5.085938,2.097656 0.945312,0 0.75,-0.863281 -0.558594,-2.507812 C 11.458356,-11.838353 8.3333563,-13.268041 4.8607003,-11.721166 l -0.363281,0.164063 0.019531,-0.09375 c 0.121094,-0.550781 0.183594,-1.800781 0.121094,-2.378907 -0.203125,-1.867187 -1.035157,-3.199218 -2.695313,-4.308593 -0.523437,-0.351563 -0.546875,-0.355469 -0.789062,-0.222657\" />\n",
              "</g>\n",
              "      </svg>\n",
              "    "
            ]
          },
          "metadata": {}
        }
      ]
    },
    {
      "cell_type": "markdown",
      "source": [
        ".\n",
        "\n",
        ".\n",
        "\n",
        ".\n",
        "\n",
        ".\n",
        "\n",
        ".\n",
        "\n",
        "\n",
        "\n",
        "----"
      ],
      "metadata": {
        "id": "c8sVz-JYeDIK"
      }
    },
    {
      "cell_type": "code",
      "source": [
        "#@title Soultion (trying yourself before checking! 👀)\n",
        "ct.clearscreen()\n",
        "ct.initializeTurtle((WIDTH, HEIGHT))\n",
        "\n",
        "bob = ct.Turtle()\n",
        "bob.shape('turtle')\n",
        "bob.speed(13)\n",
        "\n",
        "number_of_circles = 18\n",
        "\n",
        "circle_radius = 50\n",
        "number_of_sides = 36  # arbitrary. The higher the number the smoother the circle\n",
        "side_length = 2 * 3.14 * circle_radius / number_of_sides\n",
        "angle = 360 / number_of_sides\n",
        "\n",
        "def draw_circle(turtle):\n",
        "\n",
        "    for _ in range(number_of_sides):\n",
        "        turtle.forward(side_length)\n",
        "        turtle.left(angle)\n",
        "\n",
        "for _ in range(number_of_circles):\n",
        "        draw_circle(bob)\n",
        "        bob.penup()\n",
        "        bob.forward(10)\n",
        "        bob.right(20)\n",
        "        bob.pendown()\n",
        "\n",
        "bob.hideturtle()"
      ],
      "metadata": {
        "colab": {
          "base_uri": "https://localhost:8080/",
          "height": 521
        },
        "id": "-2BRNH4FXL-5",
        "outputId": "a9b72113-c370-4d94-bf2c-1d91a849a490"
      },
      "execution_count": 19,
      "outputs": [
        {
          "output_type": "display_data",
          "data": {
            "text/plain": [
              "<IPython.core.display.HTML object>"
            ],
            "text/html": [
              "\n",
              "      <svg width=\"500\" height=\"500\">  \n",
              "        <rect width=\"100%\" height=\"100%\" style=\"fill:white;stroke:;stroke-width:1\"/>\n",
              "        \n",
              "        \n",
              "        <line x1=\"250.0\" y1=\"250.0\" x2=\"258.722\" y2=\"250.0\" stroke-linecap=\"round\" style=\"stroke:black;stroke-width:1\" /><line x1=\"258.722\" y1=\"250.0\" x2=\"267.312\" y2=\"248.485\" stroke-linecap=\"round\" style=\"stroke:black;stroke-width:1\" /><line x1=\"267.312\" y1=\"248.485\" x2=\"275.508\" y2=\"245.502\" stroke-linecap=\"round\" style=\"stroke:black;stroke-width:1\" /><line x1=\"275.508\" y1=\"245.502\" x2=\"283.062\" y2=\"241.141\" stroke-linecap=\"round\" style=\"stroke:black;stroke-width:1\" /><line x1=\"283.062\" y1=\"241.141\" x2=\"289.744\" y2=\"235.534\" stroke-linecap=\"round\" style=\"stroke:black;stroke-width:1\" /><line x1=\"289.744\" y1=\"235.534\" x2=\"295.351\" y2=\"228.852\" stroke-linecap=\"round\" style=\"stroke:black;stroke-width:1\" /><line x1=\"295.351\" y1=\"228.852\" x2=\"299.712\" y2=\"221.298\" stroke-linecap=\"round\" style=\"stroke:black;stroke-width:1\" /><line x1=\"299.712\" y1=\"221.298\" x2=\"302.695\" y2=\"213.102\" stroke-linecap=\"round\" style=\"stroke:black;stroke-width:1\" /><line x1=\"302.695\" y1=\"213.102\" x2=\"304.21\" y2=\"204.512\" stroke-linecap=\"round\" style=\"stroke:black;stroke-width:1\" /><line x1=\"304.21\" y1=\"204.512\" x2=\"304.21\" y2=\"195.79\" stroke-linecap=\"round\" style=\"stroke:black;stroke-width:1\" /><line x1=\"304.21\" y1=\"195.79\" x2=\"302.695\" y2=\"187.2\" stroke-linecap=\"round\" style=\"stroke:black;stroke-width:1\" /><line x1=\"302.695\" y1=\"187.2\" x2=\"299.712\" y2=\"179.004\" stroke-linecap=\"round\" style=\"stroke:black;stroke-width:1\" /><line x1=\"299.712\" y1=\"179.004\" x2=\"295.351\" y2=\"171.45\" stroke-linecap=\"round\" style=\"stroke:black;stroke-width:1\" /><line x1=\"295.351\" y1=\"171.45\" x2=\"289.744\" y2=\"164.768\" stroke-linecap=\"round\" style=\"stroke:black;stroke-width:1\" /><line x1=\"289.744\" y1=\"164.768\" x2=\"283.062\" y2=\"159.161\" stroke-linecap=\"round\" style=\"stroke:black;stroke-width:1\" /><line x1=\"283.062\" y1=\"159.161\" x2=\"275.508\" y2=\"154.8\" stroke-linecap=\"round\" style=\"stroke:black;stroke-width:1\" /><line x1=\"275.508\" y1=\"154.8\" x2=\"267.312\" y2=\"151.817\" stroke-linecap=\"round\" style=\"stroke:black;stroke-width:1\" /><line x1=\"267.312\" y1=\"151.817\" x2=\"258.722\" y2=\"150.302\" stroke-linecap=\"round\" style=\"stroke:black;stroke-width:1\" /><line x1=\"258.722\" y1=\"150.302\" x2=\"250.0\" y2=\"150.302\" stroke-linecap=\"round\" style=\"stroke:black;stroke-width:1\" /><line x1=\"250.0\" y1=\"150.302\" x2=\"241.41\" y2=\"151.817\" stroke-linecap=\"round\" style=\"stroke:black;stroke-width:1\" /><line x1=\"241.41\" y1=\"151.817\" x2=\"233.214\" y2=\"154.8\" stroke-linecap=\"round\" style=\"stroke:black;stroke-width:1\" /><line x1=\"233.214\" y1=\"154.8\" x2=\"225.66\" y2=\"159.161\" stroke-linecap=\"round\" style=\"stroke:black;stroke-width:1\" /><line x1=\"225.66\" y1=\"159.161\" x2=\"218.978\" y2=\"164.768\" stroke-linecap=\"round\" style=\"stroke:black;stroke-width:1\" /><line x1=\"218.978\" y1=\"164.768\" x2=\"213.371\" y2=\"171.45\" stroke-linecap=\"round\" style=\"stroke:black;stroke-width:1\" /><line x1=\"213.371\" y1=\"171.45\" x2=\"209.01\" y2=\"179.004\" stroke-linecap=\"round\" style=\"stroke:black;stroke-width:1\" /><line x1=\"209.01\" y1=\"179.004\" x2=\"206.027\" y2=\"187.2\" stroke-linecap=\"round\" style=\"stroke:black;stroke-width:1\" /><line x1=\"206.027\" y1=\"187.2\" x2=\"204.512\" y2=\"195.79\" stroke-linecap=\"round\" style=\"stroke:black;stroke-width:1\" /><line x1=\"204.512\" y1=\"195.79\" x2=\"204.512\" y2=\"204.512\" stroke-linecap=\"round\" style=\"stroke:black;stroke-width:1\" /><line x1=\"204.512\" y1=\"204.512\" x2=\"206.027\" y2=\"213.102\" stroke-linecap=\"round\" style=\"stroke:black;stroke-width:1\" /><line x1=\"206.027\" y1=\"213.102\" x2=\"209.01\" y2=\"221.298\" stroke-linecap=\"round\" style=\"stroke:black;stroke-width:1\" /><line x1=\"209.01\" y1=\"221.298\" x2=\"213.371\" y2=\"228.852\" stroke-linecap=\"round\" style=\"stroke:black;stroke-width:1\" /><line x1=\"213.371\" y1=\"228.852\" x2=\"218.978\" y2=\"235.534\" stroke-linecap=\"round\" style=\"stroke:black;stroke-width:1\" /><line x1=\"218.978\" y1=\"235.534\" x2=\"225.66\" y2=\"241.141\" stroke-linecap=\"round\" style=\"stroke:black;stroke-width:1\" /><line x1=\"225.66\" y1=\"241.141\" x2=\"233.214\" y2=\"245.502\" stroke-linecap=\"round\" style=\"stroke:black;stroke-width:1\" /><line x1=\"233.214\" y1=\"245.502\" x2=\"241.41\" y2=\"248.485\" stroke-linecap=\"round\" style=\"stroke:black;stroke-width:1\" /><line x1=\"241.41\" y1=\"248.485\" x2=\"250.0\" y2=\"250.0\" stroke-linecap=\"round\" style=\"stroke:black;stroke-width:1\" /><line x1=\"260.0\" y1=\"250.0\" x2=\"268.196\" y2=\"252.983\" stroke-linecap=\"round\" style=\"stroke:black;stroke-width:1\" /><line x1=\"268.196\" y1=\"252.983\" x2=\"276.786\" y2=\"254.498\" stroke-linecap=\"round\" style=\"stroke:black;stroke-width:1\" /><line x1=\"276.786\" y1=\"254.498\" x2=\"285.508\" y2=\"254.498\" stroke-linecap=\"round\" style=\"stroke:black;stroke-width:1\" /><line x1=\"285.508\" y1=\"254.498\" x2=\"294.098\" y2=\"252.983\" stroke-linecap=\"round\" style=\"stroke:black;stroke-width:1\" /><line x1=\"294.098\" y1=\"252.983\" x2=\"302.294\" y2=\"250.0\" stroke-linecap=\"round\" style=\"stroke:black;stroke-width:1\" /><line x1=\"302.294\" y1=\"250.0\" x2=\"309.848\" y2=\"245.639\" stroke-linecap=\"round\" style=\"stroke:black;stroke-width:1\" /><line x1=\"309.848\" y1=\"245.639\" x2=\"316.53\" y2=\"240.032\" stroke-linecap=\"round\" style=\"stroke:black;stroke-width:1\" /><line x1=\"316.53\" y1=\"240.032\" x2=\"322.137\" y2=\"233.35\" stroke-linecap=\"round\" style=\"stroke:black;stroke-width:1\" /><line x1=\"322.137\" y1=\"233.35\" x2=\"326.498\" y2=\"225.796\" stroke-linecap=\"round\" style=\"stroke:black;stroke-width:1\" /><line x1=\"326.498\" y1=\"225.796\" x2=\"329.481\" y2=\"217.6\" stroke-linecap=\"round\" style=\"stroke:black;stroke-width:1\" /><line x1=\"329.481\" y1=\"217.6\" x2=\"330.996\" y2=\"209.01\" stroke-linecap=\"round\" style=\"stroke:black;stroke-width:1\" /><line x1=\"330.996\" y1=\"209.01\" x2=\"330.996\" y2=\"200.288\" stroke-linecap=\"round\" style=\"stroke:black;stroke-width:1\" /><line x1=\"330.996\" y1=\"200.288\" x2=\"329.481\" y2=\"191.698\" stroke-linecap=\"round\" style=\"stroke:black;stroke-width:1\" /><line x1=\"329.481\" y1=\"191.698\" x2=\"326.498\" y2=\"183.502\" stroke-linecap=\"round\" style=\"stroke:black;stroke-width:1\" /><line x1=\"326.498\" y1=\"183.502\" x2=\"322.137\" y2=\"175.948\" stroke-linecap=\"round\" style=\"stroke:black;stroke-width:1\" /><line x1=\"322.137\" y1=\"175.948\" x2=\"316.53\" y2=\"169.266\" stroke-linecap=\"round\" style=\"stroke:black;stroke-width:1\" /><line x1=\"316.53\" y1=\"169.266\" x2=\"309.848\" y2=\"163.659\" stroke-linecap=\"round\" style=\"stroke:black;stroke-width:1\" /><line x1=\"309.848\" y1=\"163.659\" x2=\"302.294\" y2=\"159.298\" stroke-linecap=\"round\" style=\"stroke:black;stroke-width:1\" /><line x1=\"302.294\" y1=\"159.298\" x2=\"294.098\" y2=\"156.315\" stroke-linecap=\"round\" style=\"stroke:black;stroke-width:1\" /><line x1=\"294.098\" y1=\"156.315\" x2=\"285.508\" y2=\"154.8\" stroke-linecap=\"round\" style=\"stroke:black;stroke-width:1\" /><line x1=\"285.508\" y1=\"154.8\" x2=\"276.786\" y2=\"154.8\" stroke-linecap=\"round\" style=\"stroke:black;stroke-width:1\" /><line x1=\"276.786\" y1=\"154.8\" x2=\"268.196\" y2=\"156.315\" stroke-linecap=\"round\" style=\"stroke:black;stroke-width:1\" /><line x1=\"268.196\" y1=\"156.315\" x2=\"260.0\" y2=\"159.298\" stroke-linecap=\"round\" style=\"stroke:black;stroke-width:1\" /><line x1=\"260.0\" y1=\"159.298\" x2=\"252.446\" y2=\"163.659\" stroke-linecap=\"round\" style=\"stroke:black;stroke-width:1\" /><line x1=\"252.446\" y1=\"163.659\" x2=\"245.764\" y2=\"169.266\" stroke-linecap=\"round\" style=\"stroke:black;stroke-width:1\" /><line x1=\"245.764\" y1=\"169.266\" x2=\"240.157\" y2=\"175.948\" stroke-linecap=\"round\" style=\"stroke:black;stroke-width:1\" /><line x1=\"240.157\" y1=\"175.948\" x2=\"235.796\" y2=\"183.502\" stroke-linecap=\"round\" style=\"stroke:black;stroke-width:1\" /><line x1=\"235.796\" y1=\"183.502\" x2=\"232.813\" y2=\"191.698\" stroke-linecap=\"round\" style=\"stroke:black;stroke-width:1\" /><line x1=\"232.813\" y1=\"191.698\" x2=\"231.298\" y2=\"200.288\" stroke-linecap=\"round\" style=\"stroke:black;stroke-width:1\" /><line x1=\"231.298\" y1=\"200.288\" x2=\"231.298\" y2=\"209.01\" stroke-linecap=\"round\" style=\"stroke:black;stroke-width:1\" /><line x1=\"231.298\" y1=\"209.01\" x2=\"232.813\" y2=\"217.6\" stroke-linecap=\"round\" style=\"stroke:black;stroke-width:1\" /><line x1=\"232.813\" y1=\"217.6\" x2=\"235.796\" y2=\"225.796\" stroke-linecap=\"round\" style=\"stroke:black;stroke-width:1\" /><line x1=\"235.796\" y1=\"225.796\" x2=\"240.157\" y2=\"233.35\" stroke-linecap=\"round\" style=\"stroke:black;stroke-width:1\" /><line x1=\"240.157\" y1=\"233.35\" x2=\"245.764\" y2=\"240.032\" stroke-linecap=\"round\" style=\"stroke:black;stroke-width:1\" /><line x1=\"245.764\" y1=\"240.032\" x2=\"252.446\" y2=\"245.639\" stroke-linecap=\"round\" style=\"stroke:black;stroke-width:1\" /><line x1=\"252.446\" y1=\"245.639\" x2=\"260.0\" y2=\"250.0\" stroke-linecap=\"round\" style=\"stroke:black;stroke-width:1\" /><line x1=\"269.397\" y1=\"253.42\" x2=\"276.079\" y2=\"259.027\" stroke-linecap=\"round\" style=\"stroke:black;stroke-width:1\" /><line x1=\"276.079\" y1=\"259.027\" x2=\"283.633\" y2=\"263.388\" stroke-linecap=\"round\" style=\"stroke:black;stroke-width:1\" /><line x1=\"283.633\" y1=\"263.388\" x2=\"291.829\" y2=\"266.371\" stroke-linecap=\"round\" style=\"stroke:black;stroke-width:1\" /><line x1=\"291.829\" y1=\"266.371\" x2=\"300.419\" y2=\"267.886\" stroke-linecap=\"round\" style=\"stroke:black;stroke-width:1\" /><line x1=\"300.419\" y1=\"267.886\" x2=\"309.141\" y2=\"267.886\" stroke-linecap=\"round\" style=\"stroke:black;stroke-width:1\" /><line x1=\"309.141\" y1=\"267.886\" x2=\"317.731\" y2=\"266.371\" stroke-linecap=\"round\" style=\"stroke:black;stroke-width:1\" /><line x1=\"317.731\" y1=\"266.371\" x2=\"325.927\" y2=\"263.388\" stroke-linecap=\"round\" style=\"stroke:black;stroke-width:1\" /><line x1=\"325.927\" y1=\"263.388\" x2=\"333.481\" y2=\"259.027\" stroke-linecap=\"round\" style=\"stroke:black;stroke-width:1\" /><line x1=\"333.481\" y1=\"259.027\" x2=\"340.163\" y2=\"253.42\" stroke-linecap=\"round\" style=\"stroke:black;stroke-width:1\" /><line x1=\"340.163\" y1=\"253.42\" x2=\"345.77\" y2=\"246.738\" stroke-linecap=\"round\" style=\"stroke:black;stroke-width:1\" /><line x1=\"345.77\" y1=\"246.738\" x2=\"350.131\" y2=\"239.184\" stroke-linecap=\"round\" style=\"stroke:black;stroke-width:1\" /><line x1=\"350.131\" y1=\"239.184\" x2=\"353.114\" y2=\"230.988\" stroke-linecap=\"round\" style=\"stroke:black;stroke-width:1\" /><line x1=\"353.114\" y1=\"230.988\" x2=\"354.629\" y2=\"222.398\" stroke-linecap=\"round\" style=\"stroke:black;stroke-width:1\" /><line x1=\"354.629\" y1=\"222.398\" x2=\"354.629\" y2=\"213.676\" stroke-linecap=\"round\" style=\"stroke:black;stroke-width:1\" /><line x1=\"354.629\" y1=\"213.676\" x2=\"353.114\" y2=\"205.086\" stroke-linecap=\"round\" style=\"stroke:black;stroke-width:1\" /><line x1=\"353.114\" y1=\"205.086\" x2=\"350.131\" y2=\"196.89\" stroke-linecap=\"round\" style=\"stroke:black;stroke-width:1\" /><line x1=\"350.131\" y1=\"196.89\" x2=\"345.77\" y2=\"189.336\" stroke-linecap=\"round\" style=\"stroke:black;stroke-width:1\" /><line x1=\"345.77\" y1=\"189.336\" x2=\"340.163\" y2=\"182.654\" stroke-linecap=\"round\" style=\"stroke:black;stroke-width:1\" /><line x1=\"340.163\" y1=\"182.654\" x2=\"333.481\" y2=\"177.047\" stroke-linecap=\"round\" style=\"stroke:black;stroke-width:1\" /><line x1=\"333.481\" y1=\"177.047\" x2=\"325.927\" y2=\"172.686\" stroke-linecap=\"round\" style=\"stroke:black;stroke-width:1\" /><line x1=\"325.927\" y1=\"172.686\" x2=\"317.731\" y2=\"169.703\" stroke-linecap=\"round\" style=\"stroke:black;stroke-width:1\" /><line x1=\"317.731\" y1=\"169.703\" x2=\"309.141\" y2=\"168.188\" stroke-linecap=\"round\" style=\"stroke:black;stroke-width:1\" /><line x1=\"309.141\" y1=\"168.188\" x2=\"300.419\" y2=\"168.188\" stroke-linecap=\"round\" style=\"stroke:black;stroke-width:1\" /><line x1=\"300.419\" y1=\"168.188\" x2=\"291.829\" y2=\"169.703\" stroke-linecap=\"round\" style=\"stroke:black;stroke-width:1\" /><line x1=\"291.829\" y1=\"169.703\" x2=\"283.633\" y2=\"172.686\" stroke-linecap=\"round\" style=\"stroke:black;stroke-width:1\" /><line x1=\"283.633\" y1=\"172.686\" x2=\"276.079\" y2=\"177.047\" stroke-linecap=\"round\" style=\"stroke:black;stroke-width:1\" /><line x1=\"276.079\" y1=\"177.047\" x2=\"269.397\" y2=\"182.654\" stroke-linecap=\"round\" style=\"stroke:black;stroke-width:1\" /><line x1=\"269.397\" y1=\"182.654\" x2=\"263.79\" y2=\"189.336\" stroke-linecap=\"round\" style=\"stroke:black;stroke-width:1\" /><line x1=\"263.79\" y1=\"189.336\" x2=\"259.429\" y2=\"196.89\" stroke-linecap=\"round\" style=\"stroke:black;stroke-width:1\" /><line x1=\"259.429\" y1=\"196.89\" x2=\"256.446\" y2=\"205.086\" stroke-linecap=\"round\" style=\"stroke:black;stroke-width:1\" /><line x1=\"256.446\" y1=\"205.086\" x2=\"254.931\" y2=\"213.676\" stroke-linecap=\"round\" style=\"stroke:black;stroke-width:1\" /><line x1=\"254.931\" y1=\"213.676\" x2=\"254.931\" y2=\"222.398\" stroke-linecap=\"round\" style=\"stroke:black;stroke-width:1\" /><line x1=\"254.931\" y1=\"222.398\" x2=\"256.446\" y2=\"230.988\" stroke-linecap=\"round\" style=\"stroke:black;stroke-width:1\" /><line x1=\"256.446\" y1=\"230.988\" x2=\"259.429\" y2=\"239.184\" stroke-linecap=\"round\" style=\"stroke:black;stroke-width:1\" /><line x1=\"259.429\" y1=\"239.184\" x2=\"263.79\" y2=\"246.738\" stroke-linecap=\"round\" style=\"stroke:black;stroke-width:1\" /><line x1=\"263.79\" y1=\"246.738\" x2=\"269.397\" y2=\"253.42\" stroke-linecap=\"round\" style=\"stroke:black;stroke-width:1\" /><line x1=\"277.057\" y1=\"259.848\" x2=\"281.418\" y2=\"267.402\" stroke-linecap=\"round\" style=\"stroke:black;stroke-width:1\" /><line x1=\"281.418\" y1=\"267.402\" x2=\"287.025\" y2=\"274.084\" stroke-linecap=\"round\" style=\"stroke:black;stroke-width:1\" /><line x1=\"287.025\" y1=\"274.084\" x2=\"293.707\" y2=\"279.691\" stroke-linecap=\"round\" style=\"stroke:black;stroke-width:1\" /><line x1=\"293.707\" y1=\"279.691\" x2=\"301.261\" y2=\"284.052\" stroke-linecap=\"round\" style=\"stroke:black;stroke-width:1\" /><line x1=\"301.261\" y1=\"284.052\" x2=\"309.457\" y2=\"287.035\" stroke-linecap=\"round\" style=\"stroke:black;stroke-width:1\" /><line x1=\"309.457\" y1=\"287.035\" x2=\"318.047\" y2=\"288.55\" stroke-linecap=\"round\" style=\"stroke:black;stroke-width:1\" /><line x1=\"318.047\" y1=\"288.55\" x2=\"326.769\" y2=\"288.55\" stroke-linecap=\"round\" style=\"stroke:black;stroke-width:1\" /><line x1=\"326.769\" y1=\"288.55\" x2=\"335.359\" y2=\"287.035\" stroke-linecap=\"round\" style=\"stroke:black;stroke-width:1\" /><line x1=\"335.359\" y1=\"287.035\" x2=\"343.555\" y2=\"284.052\" stroke-linecap=\"round\" style=\"stroke:black;stroke-width:1\" /><line x1=\"343.555\" y1=\"284.052\" x2=\"351.109\" y2=\"279.691\" stroke-linecap=\"round\" style=\"stroke:black;stroke-width:1\" /><line x1=\"351.109\" y1=\"279.691\" x2=\"357.791\" y2=\"274.084\" stroke-linecap=\"round\" style=\"stroke:black;stroke-width:1\" /><line x1=\"357.791\" y1=\"274.084\" x2=\"363.398\" y2=\"267.402\" stroke-linecap=\"round\" style=\"stroke:black;stroke-width:1\" /><line x1=\"363.398\" y1=\"267.402\" x2=\"367.759\" y2=\"259.848\" stroke-linecap=\"round\" style=\"stroke:black;stroke-width:1\" /><line x1=\"367.759\" y1=\"259.848\" x2=\"370.742\" y2=\"251.652\" stroke-linecap=\"round\" style=\"stroke:black;stroke-width:1\" /><line x1=\"370.742\" y1=\"251.652\" x2=\"372.257\" y2=\"243.062\" stroke-linecap=\"round\" style=\"stroke:black;stroke-width:1\" /><line x1=\"372.257\" y1=\"243.062\" x2=\"372.257\" y2=\"234.34\" stroke-linecap=\"round\" style=\"stroke:black;stroke-width:1\" /><line x1=\"372.257\" y1=\"234.34\" x2=\"370.742\" y2=\"225.75\" stroke-linecap=\"round\" style=\"stroke:black;stroke-width:1\" /><line x1=\"370.742\" y1=\"225.75\" x2=\"367.759\" y2=\"217.554\" stroke-linecap=\"round\" style=\"stroke:black;stroke-width:1\" /><line x1=\"367.759\" y1=\"217.554\" x2=\"363.398\" y2=\"210.0\" stroke-linecap=\"round\" style=\"stroke:black;stroke-width:1\" /><line x1=\"363.398\" y1=\"210.0\" x2=\"357.791\" y2=\"203.318\" stroke-linecap=\"round\" style=\"stroke:black;stroke-width:1\" /><line x1=\"357.791\" y1=\"203.318\" x2=\"351.109\" y2=\"197.711\" stroke-linecap=\"round\" style=\"stroke:black;stroke-width:1\" /><line x1=\"351.109\" y1=\"197.711\" x2=\"343.555\" y2=\"193.35\" stroke-linecap=\"round\" style=\"stroke:black;stroke-width:1\" /><line x1=\"343.555\" y1=\"193.35\" x2=\"335.359\" y2=\"190.367\" stroke-linecap=\"round\" style=\"stroke:black;stroke-width:1\" /><line x1=\"335.359\" y1=\"190.367\" x2=\"326.769\" y2=\"188.852\" stroke-linecap=\"round\" style=\"stroke:black;stroke-width:1\" /><line x1=\"326.769\" y1=\"188.852\" x2=\"318.047\" y2=\"188.852\" stroke-linecap=\"round\" style=\"stroke:black;stroke-width:1\" /><line x1=\"318.047\" y1=\"188.852\" x2=\"309.457\" y2=\"190.367\" stroke-linecap=\"round\" style=\"stroke:black;stroke-width:1\" /><line x1=\"309.457\" y1=\"190.367\" x2=\"301.261\" y2=\"193.35\" stroke-linecap=\"round\" style=\"stroke:black;stroke-width:1\" /><line x1=\"301.261\" y1=\"193.35\" x2=\"293.707\" y2=\"197.711\" stroke-linecap=\"round\" style=\"stroke:black;stroke-width:1\" /><line x1=\"293.707\" y1=\"197.711\" x2=\"287.025\" y2=\"203.318\" stroke-linecap=\"round\" style=\"stroke:black;stroke-width:1\" /><line x1=\"287.025\" y1=\"203.318\" x2=\"281.418\" y2=\"210.0\" stroke-linecap=\"round\" style=\"stroke:black;stroke-width:1\" /><line x1=\"281.418\" y1=\"210.0\" x2=\"277.057\" y2=\"217.554\" stroke-linecap=\"round\" style=\"stroke:black;stroke-width:1\" /><line x1=\"277.057\" y1=\"217.554\" x2=\"274.074\" y2=\"225.75\" stroke-linecap=\"round\" style=\"stroke:black;stroke-width:1\" /><line x1=\"274.074\" y1=\"225.75\" x2=\"272.559\" y2=\"234.34\" stroke-linecap=\"round\" style=\"stroke:black;stroke-width:1\" /><line x1=\"272.559\" y1=\"234.34\" x2=\"272.559\" y2=\"243.062\" stroke-linecap=\"round\" style=\"stroke:black;stroke-width:1\" /><line x1=\"272.559\" y1=\"243.062\" x2=\"274.074\" y2=\"251.652\" stroke-linecap=\"round\" style=\"stroke:black;stroke-width:1\" /><line x1=\"274.074\" y1=\"251.652\" x2=\"277.057\" y2=\"259.848\" stroke-linecap=\"round\" style=\"stroke:black;stroke-width:1\" /><line x1=\"282.057\" y1=\"268.508\" x2=\"283.572\" y2=\"277.098\" stroke-linecap=\"round\" style=\"stroke:black;stroke-width:1\" /><line x1=\"283.572\" y1=\"277.098\" x2=\"286.555\" y2=\"285.294\" stroke-linecap=\"round\" style=\"stroke:black;stroke-width:1\" /><line x1=\"286.555\" y1=\"285.294\" x2=\"290.916\" y2=\"292.848\" stroke-linecap=\"round\" style=\"stroke:black;stroke-width:1\" /><line x1=\"290.916\" y1=\"292.848\" x2=\"296.523\" y2=\"299.53\" stroke-linecap=\"round\" style=\"stroke:black;stroke-width:1\" /><line x1=\"296.523\" y1=\"299.53\" x2=\"303.205\" y2=\"305.137\" stroke-linecap=\"round\" style=\"stroke:black;stroke-width:1\" /><line x1=\"303.205\" y1=\"305.137\" x2=\"310.759\" y2=\"309.498\" stroke-linecap=\"round\" style=\"stroke:black;stroke-width:1\" /><line x1=\"310.759\" y1=\"309.498\" x2=\"318.955\" y2=\"312.481\" stroke-linecap=\"round\" style=\"stroke:black;stroke-width:1\" /><line x1=\"318.955\" y1=\"312.481\" x2=\"327.545\" y2=\"313.996\" stroke-linecap=\"round\" style=\"stroke:black;stroke-width:1\" /><line x1=\"327.545\" y1=\"313.996\" x2=\"336.267\" y2=\"313.996\" stroke-linecap=\"round\" style=\"stroke:black;stroke-width:1\" /><line x1=\"336.267\" y1=\"313.996\" x2=\"344.857\" y2=\"312.481\" stroke-linecap=\"round\" style=\"stroke:black;stroke-width:1\" /><line x1=\"344.857\" y1=\"312.481\" x2=\"353.053\" y2=\"309.498\" stroke-linecap=\"round\" style=\"stroke:black;stroke-width:1\" /><line x1=\"353.053\" y1=\"309.498\" x2=\"360.607\" y2=\"305.137\" stroke-linecap=\"round\" style=\"stroke:black;stroke-width:1\" /><line x1=\"360.607\" y1=\"305.137\" x2=\"367.289\" y2=\"299.53\" stroke-linecap=\"round\" style=\"stroke:black;stroke-width:1\" /><line x1=\"367.289\" y1=\"299.53\" x2=\"372.896\" y2=\"292.848\" stroke-linecap=\"round\" style=\"stroke:black;stroke-width:1\" /><line x1=\"372.896\" y1=\"292.848\" x2=\"377.257\" y2=\"285.294\" stroke-linecap=\"round\" style=\"stroke:black;stroke-width:1\" /><line x1=\"377.257\" y1=\"285.294\" x2=\"380.24\" y2=\"277.098\" stroke-linecap=\"round\" style=\"stroke:black;stroke-width:1\" /><line x1=\"380.24\" y1=\"277.098\" x2=\"381.755\" y2=\"268.508\" stroke-linecap=\"round\" style=\"stroke:black;stroke-width:1\" /><line x1=\"381.755\" y1=\"268.508\" x2=\"381.755\" y2=\"259.786\" stroke-linecap=\"round\" style=\"stroke:black;stroke-width:1\" /><line x1=\"381.755\" y1=\"259.786\" x2=\"380.24\" y2=\"251.196\" stroke-linecap=\"round\" style=\"stroke:black;stroke-width:1\" /><line x1=\"380.24\" y1=\"251.196\" x2=\"377.257\" y2=\"243.0\" stroke-linecap=\"round\" style=\"stroke:black;stroke-width:1\" /><line x1=\"377.257\" y1=\"243.0\" x2=\"372.896\" y2=\"235.446\" stroke-linecap=\"round\" style=\"stroke:black;stroke-width:1\" /><line x1=\"372.896\" y1=\"235.446\" x2=\"367.289\" y2=\"228.764\" stroke-linecap=\"round\" style=\"stroke:black;stroke-width:1\" /><line x1=\"367.289\" y1=\"228.764\" x2=\"360.607\" y2=\"223.157\" stroke-linecap=\"round\" style=\"stroke:black;stroke-width:1\" /><line x1=\"360.607\" y1=\"223.157\" x2=\"353.053\" y2=\"218.796\" stroke-linecap=\"round\" style=\"stroke:black;stroke-width:1\" /><line x1=\"353.053\" y1=\"218.796\" x2=\"344.857\" y2=\"215.813\" stroke-linecap=\"round\" style=\"stroke:black;stroke-width:1\" /><line x1=\"344.857\" y1=\"215.813\" x2=\"336.267\" y2=\"214.298\" stroke-linecap=\"round\" style=\"stroke:black;stroke-width:1\" /><line x1=\"336.267\" y1=\"214.298\" x2=\"327.545\" y2=\"214.298\" stroke-linecap=\"round\" style=\"stroke:black;stroke-width:1\" /><line x1=\"327.545\" y1=\"214.298\" x2=\"318.955\" y2=\"215.813\" stroke-linecap=\"round\" style=\"stroke:black;stroke-width:1\" /><line x1=\"318.955\" y1=\"215.813\" x2=\"310.759\" y2=\"218.796\" stroke-linecap=\"round\" style=\"stroke:black;stroke-width:1\" /><line x1=\"310.759\" y1=\"218.796\" x2=\"303.205\" y2=\"223.157\" stroke-linecap=\"round\" style=\"stroke:black;stroke-width:1\" /><line x1=\"303.205\" y1=\"223.157\" x2=\"296.523\" y2=\"228.764\" stroke-linecap=\"round\" style=\"stroke:black;stroke-width:1\" /><line x1=\"296.523\" y1=\"228.764\" x2=\"290.916\" y2=\"235.446\" stroke-linecap=\"round\" style=\"stroke:black;stroke-width:1\" /><line x1=\"290.916\" y1=\"235.446\" x2=\"286.555\" y2=\"243.0\" stroke-linecap=\"round\" style=\"stroke:black;stroke-width:1\" /><line x1=\"286.555\" y1=\"243.0\" x2=\"283.572\" y2=\"251.196\" stroke-linecap=\"round\" style=\"stroke:black;stroke-width:1\" /><line x1=\"283.572\" y1=\"251.196\" x2=\"282.057\" y2=\"259.786\" stroke-linecap=\"round\" style=\"stroke:black;stroke-width:1\" /><line x1=\"282.057\" y1=\"259.786\" x2=\"282.057\" y2=\"268.508\" stroke-linecap=\"round\" style=\"stroke:black;stroke-width:1\" /><line x1=\"283.793\" y1=\"278.356\" x2=\"282.278\" y2=\"286.946\" stroke-linecap=\"round\" style=\"stroke:black;stroke-width:1\" /><line x1=\"282.278\" y1=\"286.946\" x2=\"282.278\" y2=\"295.668\" stroke-linecap=\"round\" style=\"stroke:black;stroke-width:1\" /><line x1=\"282.278\" y1=\"295.668\" x2=\"283.793\" y2=\"304.258\" stroke-linecap=\"round\" style=\"stroke:black;stroke-width:1\" /><line x1=\"283.793\" y1=\"304.258\" x2=\"286.776\" y2=\"312.454\" stroke-linecap=\"round\" style=\"stroke:black;stroke-width:1\" /><line x1=\"286.776\" y1=\"312.454\" x2=\"291.137\" y2=\"320.008\" stroke-linecap=\"round\" style=\"stroke:black;stroke-width:1\" /><line x1=\"291.137\" y1=\"320.008\" x2=\"296.744\" y2=\"326.69\" stroke-linecap=\"round\" style=\"stroke:black;stroke-width:1\" /><line x1=\"296.744\" y1=\"326.69\" x2=\"303.426\" y2=\"332.297\" stroke-linecap=\"round\" style=\"stroke:black;stroke-width:1\" /><line x1=\"303.426\" y1=\"332.297\" x2=\"310.98\" y2=\"336.658\" stroke-linecap=\"round\" style=\"stroke:black;stroke-width:1\" /><line x1=\"310.98\" y1=\"336.658\" x2=\"319.176\" y2=\"339.641\" stroke-linecap=\"round\" style=\"stroke:black;stroke-width:1\" /><line x1=\"319.176\" y1=\"339.641\" x2=\"327.766\" y2=\"341.156\" stroke-linecap=\"round\" style=\"stroke:black;stroke-width:1\" /><line x1=\"327.766\" y1=\"341.156\" x2=\"336.488\" y2=\"341.156\" stroke-linecap=\"round\" style=\"stroke:black;stroke-width:1\" /><line x1=\"336.488\" y1=\"341.156\" x2=\"345.078\" y2=\"339.641\" stroke-linecap=\"round\" style=\"stroke:black;stroke-width:1\" /><line x1=\"345.078\" y1=\"339.641\" x2=\"353.274\" y2=\"336.658\" stroke-linecap=\"round\" style=\"stroke:black;stroke-width:1\" /><line x1=\"353.274\" y1=\"336.658\" x2=\"360.828\" y2=\"332.297\" stroke-linecap=\"round\" style=\"stroke:black;stroke-width:1\" /><line x1=\"360.828\" y1=\"332.297\" x2=\"367.51\" y2=\"326.69\" stroke-linecap=\"round\" style=\"stroke:black;stroke-width:1\" /><line x1=\"367.51\" y1=\"326.69\" x2=\"373.117\" y2=\"320.008\" stroke-linecap=\"round\" style=\"stroke:black;stroke-width:1\" /><line x1=\"373.117\" y1=\"320.008\" x2=\"377.478\" y2=\"312.454\" stroke-linecap=\"round\" style=\"stroke:black;stroke-width:1\" /><line x1=\"377.478\" y1=\"312.454\" x2=\"380.461\" y2=\"304.258\" stroke-linecap=\"round\" style=\"stroke:black;stroke-width:1\" /><line x1=\"380.461\" y1=\"304.258\" x2=\"381.976\" y2=\"295.668\" stroke-linecap=\"round\" style=\"stroke:black;stroke-width:1\" /><line x1=\"381.976\" y1=\"295.668\" x2=\"381.976\" y2=\"286.946\" stroke-linecap=\"round\" style=\"stroke:black;stroke-width:1\" /><line x1=\"381.976\" y1=\"286.946\" x2=\"380.461\" y2=\"278.356\" stroke-linecap=\"round\" style=\"stroke:black;stroke-width:1\" /><line x1=\"380.461\" y1=\"278.356\" x2=\"377.478\" y2=\"270.16\" stroke-linecap=\"round\" style=\"stroke:black;stroke-width:1\" /><line x1=\"377.478\" y1=\"270.16\" x2=\"373.117\" y2=\"262.606\" stroke-linecap=\"round\" style=\"stroke:black;stroke-width:1\" /><line x1=\"373.117\" y1=\"262.606\" x2=\"367.51\" y2=\"255.924\" stroke-linecap=\"round\" style=\"stroke:black;stroke-width:1\" /><line x1=\"367.51\" y1=\"255.924\" x2=\"360.828\" y2=\"250.317\" stroke-linecap=\"round\" style=\"stroke:black;stroke-width:1\" /><line x1=\"360.828\" y1=\"250.317\" x2=\"353.274\" y2=\"245.956\" stroke-linecap=\"round\" style=\"stroke:black;stroke-width:1\" /><line x1=\"353.274\" y1=\"245.956\" x2=\"345.078\" y2=\"242.973\" stroke-linecap=\"round\" style=\"stroke:black;stroke-width:1\" /><line x1=\"345.078\" y1=\"242.973\" x2=\"336.488\" y2=\"241.458\" stroke-linecap=\"round\" style=\"stroke:black;stroke-width:1\" /><line x1=\"336.488\" y1=\"241.458\" x2=\"327.766\" y2=\"241.458\" stroke-linecap=\"round\" style=\"stroke:black;stroke-width:1\" /><line x1=\"327.766\" y1=\"241.458\" x2=\"319.176\" y2=\"242.973\" stroke-linecap=\"round\" style=\"stroke:black;stroke-width:1\" /><line x1=\"319.176\" y1=\"242.973\" x2=\"310.98\" y2=\"245.956\" stroke-linecap=\"round\" style=\"stroke:black;stroke-width:1\" /><line x1=\"310.98\" y1=\"245.956\" x2=\"303.426\" y2=\"250.317\" stroke-linecap=\"round\" style=\"stroke:black;stroke-width:1\" /><line x1=\"303.426\" y1=\"250.317\" x2=\"296.744\" y2=\"255.924\" stroke-linecap=\"round\" style=\"stroke:black;stroke-width:1\" /><line x1=\"296.744\" y1=\"255.924\" x2=\"291.137\" y2=\"262.606\" stroke-linecap=\"round\" style=\"stroke:black;stroke-width:1\" /><line x1=\"291.137\" y1=\"262.606\" x2=\"286.776\" y2=\"270.16\" stroke-linecap=\"round\" style=\"stroke:black;stroke-width:1\" /><line x1=\"286.776\" y1=\"270.16\" x2=\"283.793\" y2=\"278.356\" stroke-linecap=\"round\" style=\"stroke:black;stroke-width:1\" /><line x1=\"282.057\" y1=\"288.204\" x2=\"277.696\" y2=\"295.758\" stroke-linecap=\"round\" style=\"stroke:black;stroke-width:1\" /><line x1=\"277.696\" y1=\"295.758\" x2=\"274.713\" y2=\"303.954\" stroke-linecap=\"round\" style=\"stroke:black;stroke-width:1\" /><line x1=\"274.713\" y1=\"303.954\" x2=\"273.198\" y2=\"312.544\" stroke-linecap=\"round\" style=\"stroke:black;stroke-width:1\" /><line x1=\"273.198\" y1=\"312.544\" x2=\"273.198\" y2=\"321.266\" stroke-linecap=\"round\" style=\"stroke:black;stroke-width:1\" /><line x1=\"273.198\" y1=\"321.266\" x2=\"274.713\" y2=\"329.856\" stroke-linecap=\"round\" style=\"stroke:black;stroke-width:1\" /><line x1=\"274.713\" y1=\"329.856\" x2=\"277.696\" y2=\"338.052\" stroke-linecap=\"round\" style=\"stroke:black;stroke-width:1\" /><line x1=\"277.696\" y1=\"338.052\" x2=\"282.057\" y2=\"345.606\" stroke-linecap=\"round\" style=\"stroke:black;stroke-width:1\" /><line x1=\"282.057\" y1=\"345.606\" x2=\"287.664\" y2=\"352.288\" stroke-linecap=\"round\" style=\"stroke:black;stroke-width:1\" /><line x1=\"287.664\" y1=\"352.288\" x2=\"294.346\" y2=\"357.895\" stroke-linecap=\"round\" style=\"stroke:black;stroke-width:1\" /><line x1=\"294.346\" y1=\"357.895\" x2=\"301.9\" y2=\"362.256\" stroke-linecap=\"round\" style=\"stroke:black;stroke-width:1\" /><line x1=\"301.9\" y1=\"362.256\" x2=\"310.096\" y2=\"365.239\" stroke-linecap=\"round\" style=\"stroke:black;stroke-width:1\" /><line x1=\"310.096\" y1=\"365.239\" x2=\"318.686\" y2=\"366.754\" stroke-linecap=\"round\" style=\"stroke:black;stroke-width:1\" /><line x1=\"318.686\" y1=\"366.754\" x2=\"327.408\" y2=\"366.754\" stroke-linecap=\"round\" style=\"stroke:black;stroke-width:1\" /><line x1=\"327.408\" y1=\"366.754\" x2=\"335.998\" y2=\"365.239\" stroke-linecap=\"round\" style=\"stroke:black;stroke-width:1\" /><line x1=\"335.998\" y1=\"365.239\" x2=\"344.194\" y2=\"362.256\" stroke-linecap=\"round\" style=\"stroke:black;stroke-width:1\" /><line x1=\"344.194\" y1=\"362.256\" x2=\"351.748\" y2=\"357.895\" stroke-linecap=\"round\" style=\"stroke:black;stroke-width:1\" /><line x1=\"351.748\" y1=\"357.895\" x2=\"358.43\" y2=\"352.288\" stroke-linecap=\"round\" style=\"stroke:black;stroke-width:1\" /><line x1=\"358.43\" y1=\"352.288\" x2=\"364.037\" y2=\"345.606\" stroke-linecap=\"round\" style=\"stroke:black;stroke-width:1\" /><line x1=\"364.037\" y1=\"345.606\" x2=\"368.398\" y2=\"338.052\" stroke-linecap=\"round\" style=\"stroke:black;stroke-width:1\" /><line x1=\"368.398\" y1=\"338.052\" x2=\"371.381\" y2=\"329.856\" stroke-linecap=\"round\" style=\"stroke:black;stroke-width:1\" /><line x1=\"371.381\" y1=\"329.856\" x2=\"372.896\" y2=\"321.266\" stroke-linecap=\"round\" style=\"stroke:black;stroke-width:1\" /><line x1=\"372.896\" y1=\"321.266\" x2=\"372.896\" y2=\"312.544\" stroke-linecap=\"round\" style=\"stroke:black;stroke-width:1\" /><line x1=\"372.896\" y1=\"312.544\" x2=\"371.381\" y2=\"303.954\" stroke-linecap=\"round\" style=\"stroke:black;stroke-width:1\" /><line x1=\"371.381\" y1=\"303.954\" x2=\"368.398\" y2=\"295.758\" stroke-linecap=\"round\" style=\"stroke:black;stroke-width:1\" /><line x1=\"368.398\" y1=\"295.758\" x2=\"364.037\" y2=\"288.204\" stroke-linecap=\"round\" style=\"stroke:black;stroke-width:1\" /><line x1=\"364.037\" y1=\"288.204\" x2=\"358.43\" y2=\"281.522\" stroke-linecap=\"round\" style=\"stroke:black;stroke-width:1\" /><line x1=\"358.43\" y1=\"281.522\" x2=\"351.748\" y2=\"275.915\" stroke-linecap=\"round\" style=\"stroke:black;stroke-width:1\" /><line x1=\"351.748\" y1=\"275.915\" x2=\"344.194\" y2=\"271.554\" stroke-linecap=\"round\" style=\"stroke:black;stroke-width:1\" /><line x1=\"344.194\" y1=\"271.554\" x2=\"335.998\" y2=\"268.571\" stroke-linecap=\"round\" style=\"stroke:black;stroke-width:1\" /><line x1=\"335.998\" y1=\"268.571\" x2=\"327.408\" y2=\"267.056\" stroke-linecap=\"round\" style=\"stroke:black;stroke-width:1\" /><line x1=\"327.408\" y1=\"267.056\" x2=\"318.686\" y2=\"267.056\" stroke-linecap=\"round\" style=\"stroke:black;stroke-width:1\" /><line x1=\"318.686\" y1=\"267.056\" x2=\"310.096\" y2=\"268.571\" stroke-linecap=\"round\" style=\"stroke:black;stroke-width:1\" /><line x1=\"310.096\" y1=\"268.571\" x2=\"301.9\" y2=\"271.554\" stroke-linecap=\"round\" style=\"stroke:black;stroke-width:1\" /><line x1=\"301.9\" y1=\"271.554\" x2=\"294.346\" y2=\"275.915\" stroke-linecap=\"round\" style=\"stroke:black;stroke-width:1\" /><line x1=\"294.346\" y1=\"275.915\" x2=\"287.664\" y2=\"281.522\" stroke-linecap=\"round\" style=\"stroke:black;stroke-width:1\" /><line x1=\"287.664\" y1=\"281.522\" x2=\"282.057\" y2=\"288.204\" stroke-linecap=\"round\" style=\"stroke:black;stroke-width:1\" /><line x1=\"277.057\" y1=\"296.864\" x2=\"270.375\" y2=\"302.471\" stroke-linecap=\"round\" style=\"stroke:black;stroke-width:1\" /><line x1=\"270.375\" y1=\"302.471\" x2=\"264.768\" y2=\"309.153\" stroke-linecap=\"round\" style=\"stroke:black;stroke-width:1\" /><line x1=\"264.768\" y1=\"309.153\" x2=\"260.407\" y2=\"316.707\" stroke-linecap=\"round\" style=\"stroke:black;stroke-width:1\" /><line x1=\"260.407\" y1=\"316.707\" x2=\"257.424\" y2=\"324.903\" stroke-linecap=\"round\" style=\"stroke:black;stroke-width:1\" /><line x1=\"257.424\" y1=\"324.903\" x2=\"255.909\" y2=\"333.493\" stroke-linecap=\"round\" style=\"stroke:black;stroke-width:1\" /><line x1=\"255.909\" y1=\"333.493\" x2=\"255.909\" y2=\"342.215\" stroke-linecap=\"round\" style=\"stroke:black;stroke-width:1\" /><line x1=\"255.909\" y1=\"342.215\" x2=\"257.424\" y2=\"350.805\" stroke-linecap=\"round\" style=\"stroke:black;stroke-width:1\" /><line x1=\"257.424\" y1=\"350.805\" x2=\"260.407\" y2=\"359.001\" stroke-linecap=\"round\" style=\"stroke:black;stroke-width:1\" /><line x1=\"260.407\" y1=\"359.001\" x2=\"264.768\" y2=\"366.555\" stroke-linecap=\"round\" style=\"stroke:black;stroke-width:1\" /><line x1=\"264.768\" y1=\"366.555\" x2=\"270.375\" y2=\"373.237\" stroke-linecap=\"round\" style=\"stroke:black;stroke-width:1\" /><line x1=\"270.375\" y1=\"373.237\" x2=\"277.057\" y2=\"378.844\" stroke-linecap=\"round\" style=\"stroke:black;stroke-width:1\" /><line x1=\"277.057\" y1=\"378.844\" x2=\"284.611\" y2=\"383.205\" stroke-linecap=\"round\" style=\"stroke:black;stroke-width:1\" /><line x1=\"284.611\" y1=\"383.205\" x2=\"292.807\" y2=\"386.188\" stroke-linecap=\"round\" style=\"stroke:black;stroke-width:1\" /><line x1=\"292.807\" y1=\"386.188\" x2=\"301.397\" y2=\"387.703\" stroke-linecap=\"round\" style=\"stroke:black;stroke-width:1\" /><line x1=\"301.397\" y1=\"387.703\" x2=\"310.119\" y2=\"387.703\" stroke-linecap=\"round\" style=\"stroke:black;stroke-width:1\" /><line x1=\"310.119\" y1=\"387.703\" x2=\"318.709\" y2=\"386.188\" stroke-linecap=\"round\" style=\"stroke:black;stroke-width:1\" /><line x1=\"318.709\" y1=\"386.188\" x2=\"326.905\" y2=\"383.205\" stroke-linecap=\"round\" style=\"stroke:black;stroke-width:1\" /><line x1=\"326.905\" y1=\"383.205\" x2=\"334.459\" y2=\"378.844\" stroke-linecap=\"round\" style=\"stroke:black;stroke-width:1\" /><line x1=\"334.459\" y1=\"378.844\" x2=\"341.141\" y2=\"373.237\" stroke-linecap=\"round\" style=\"stroke:black;stroke-width:1\" /><line x1=\"341.141\" y1=\"373.237\" x2=\"346.748\" y2=\"366.555\" stroke-linecap=\"round\" style=\"stroke:black;stroke-width:1\" /><line x1=\"346.748\" y1=\"366.555\" x2=\"351.109\" y2=\"359.001\" stroke-linecap=\"round\" style=\"stroke:black;stroke-width:1\" /><line x1=\"351.109\" y1=\"359.001\" x2=\"354.092\" y2=\"350.805\" stroke-linecap=\"round\" style=\"stroke:black;stroke-width:1\" /><line x1=\"354.092\" y1=\"350.805\" x2=\"355.607\" y2=\"342.215\" stroke-linecap=\"round\" style=\"stroke:black;stroke-width:1\" /><line x1=\"355.607\" y1=\"342.215\" x2=\"355.607\" y2=\"333.493\" stroke-linecap=\"round\" style=\"stroke:black;stroke-width:1\" /><line x1=\"355.607\" y1=\"333.493\" x2=\"354.092\" y2=\"324.903\" stroke-linecap=\"round\" style=\"stroke:black;stroke-width:1\" /><line x1=\"354.092\" y1=\"324.903\" x2=\"351.109\" y2=\"316.707\" stroke-linecap=\"round\" style=\"stroke:black;stroke-width:1\" /><line x1=\"351.109\" y1=\"316.707\" x2=\"346.748\" y2=\"309.153\" stroke-linecap=\"round\" style=\"stroke:black;stroke-width:1\" /><line x1=\"346.748\" y1=\"309.153\" x2=\"341.141\" y2=\"302.471\" stroke-linecap=\"round\" style=\"stroke:black;stroke-width:1\" /><line x1=\"341.141\" y1=\"302.471\" x2=\"334.459\" y2=\"296.864\" stroke-linecap=\"round\" style=\"stroke:black;stroke-width:1\" /><line x1=\"334.459\" y1=\"296.864\" x2=\"326.905\" y2=\"292.503\" stroke-linecap=\"round\" style=\"stroke:black;stroke-width:1\" /><line x1=\"326.905\" y1=\"292.503\" x2=\"318.709\" y2=\"289.52\" stroke-linecap=\"round\" style=\"stroke:black;stroke-width:1\" /><line x1=\"318.709\" y1=\"289.52\" x2=\"310.119\" y2=\"288.005\" stroke-linecap=\"round\" style=\"stroke:black;stroke-width:1\" /><line x1=\"310.119\" y1=\"288.005\" x2=\"301.397\" y2=\"288.005\" stroke-linecap=\"round\" style=\"stroke:black;stroke-width:1\" /><line x1=\"301.397\" y1=\"288.005\" x2=\"292.807\" y2=\"289.52\" stroke-linecap=\"round\" style=\"stroke:black;stroke-width:1\" /><line x1=\"292.807\" y1=\"289.52\" x2=\"284.611\" y2=\"292.503\" stroke-linecap=\"round\" style=\"stroke:black;stroke-width:1\" /><line x1=\"284.611\" y1=\"292.503\" x2=\"277.057\" y2=\"296.864\" stroke-linecap=\"round\" style=\"stroke:black;stroke-width:1\" /><line x1=\"269.397\" y1=\"303.292\" x2=\"261.201\" y2=\"306.275\" stroke-linecap=\"round\" style=\"stroke:black;stroke-width:1\" /><line x1=\"261.201\" y1=\"306.275\" x2=\"253.647\" y2=\"310.636\" stroke-linecap=\"round\" style=\"stroke:black;stroke-width:1\" /><line x1=\"253.647\" y1=\"310.636\" x2=\"246.965\" y2=\"316.243\" stroke-linecap=\"round\" style=\"stroke:black;stroke-width:1\" /><line x1=\"246.965\" y1=\"316.243\" x2=\"241.358\" y2=\"322.925\" stroke-linecap=\"round\" style=\"stroke:black;stroke-width:1\" /><line x1=\"241.358\" y1=\"322.925\" x2=\"236.997\" y2=\"330.479\" stroke-linecap=\"round\" style=\"stroke:black;stroke-width:1\" /><line x1=\"236.997\" y1=\"330.479\" x2=\"234.014\" y2=\"338.675\" stroke-linecap=\"round\" style=\"stroke:black;stroke-width:1\" /><line x1=\"234.014\" y1=\"338.675\" x2=\"232.499\" y2=\"347.265\" stroke-linecap=\"round\" style=\"stroke:black;stroke-width:1\" /><line x1=\"232.499\" y1=\"347.265\" x2=\"232.499\" y2=\"355.987\" stroke-linecap=\"round\" style=\"stroke:black;stroke-width:1\" /><line x1=\"232.499\" y1=\"355.987\" x2=\"234.014\" y2=\"364.577\" stroke-linecap=\"round\" style=\"stroke:black;stroke-width:1\" /><line x1=\"234.014\" y1=\"364.577\" x2=\"236.997\" y2=\"372.773\" stroke-linecap=\"round\" style=\"stroke:black;stroke-width:1\" /><line x1=\"236.997\" y1=\"372.773\" x2=\"241.358\" y2=\"380.327\" stroke-linecap=\"round\" style=\"stroke:black;stroke-width:1\" /><line x1=\"241.358\" y1=\"380.327\" x2=\"246.965\" y2=\"387.009\" stroke-linecap=\"round\" style=\"stroke:black;stroke-width:1\" /><line x1=\"246.965\" y1=\"387.009\" x2=\"253.647\" y2=\"392.616\" stroke-linecap=\"round\" style=\"stroke:black;stroke-width:1\" /><line x1=\"253.647\" y1=\"392.616\" x2=\"261.201\" y2=\"396.977\" stroke-linecap=\"round\" style=\"stroke:black;stroke-width:1\" /><line x1=\"261.201\" y1=\"396.977\" x2=\"269.397\" y2=\"399.96\" stroke-linecap=\"round\" style=\"stroke:black;stroke-width:1\" /><line x1=\"269.397\" y1=\"399.96\" x2=\"277.987\" y2=\"401.475\" stroke-linecap=\"round\" style=\"stroke:black;stroke-width:1\" /><line x1=\"277.987\" y1=\"401.475\" x2=\"286.709\" y2=\"401.475\" stroke-linecap=\"round\" style=\"stroke:black;stroke-width:1\" /><line x1=\"286.709\" y1=\"401.475\" x2=\"295.299\" y2=\"399.96\" stroke-linecap=\"round\" style=\"stroke:black;stroke-width:1\" /><line x1=\"295.299\" y1=\"399.96\" x2=\"303.495\" y2=\"396.977\" stroke-linecap=\"round\" style=\"stroke:black;stroke-width:1\" /><line x1=\"303.495\" y1=\"396.977\" x2=\"311.049\" y2=\"392.616\" stroke-linecap=\"round\" style=\"stroke:black;stroke-width:1\" /><line x1=\"311.049\" y1=\"392.616\" x2=\"317.731\" y2=\"387.009\" stroke-linecap=\"round\" style=\"stroke:black;stroke-width:1\" /><line x1=\"317.731\" y1=\"387.009\" x2=\"323.338\" y2=\"380.327\" stroke-linecap=\"round\" style=\"stroke:black;stroke-width:1\" /><line x1=\"323.338\" y1=\"380.327\" x2=\"327.699\" y2=\"372.773\" stroke-linecap=\"round\" style=\"stroke:black;stroke-width:1\" /><line x1=\"327.699\" y1=\"372.773\" x2=\"330.682\" y2=\"364.577\" stroke-linecap=\"round\" style=\"stroke:black;stroke-width:1\" /><line x1=\"330.682\" y1=\"364.577\" x2=\"332.197\" y2=\"355.987\" stroke-linecap=\"round\" style=\"stroke:black;stroke-width:1\" /><line x1=\"332.197\" y1=\"355.987\" x2=\"332.197\" y2=\"347.265\" stroke-linecap=\"round\" style=\"stroke:black;stroke-width:1\" /><line x1=\"332.197\" y1=\"347.265\" x2=\"330.682\" y2=\"338.675\" stroke-linecap=\"round\" style=\"stroke:black;stroke-width:1\" /><line x1=\"330.682\" y1=\"338.675\" x2=\"327.699\" y2=\"330.479\" stroke-linecap=\"round\" style=\"stroke:black;stroke-width:1\" /><line x1=\"327.699\" y1=\"330.479\" x2=\"323.338\" y2=\"322.925\" stroke-linecap=\"round\" style=\"stroke:black;stroke-width:1\" /><line x1=\"323.338\" y1=\"322.925\" x2=\"317.731\" y2=\"316.243\" stroke-linecap=\"round\" style=\"stroke:black;stroke-width:1\" /><line x1=\"317.731\" y1=\"316.243\" x2=\"311.049\" y2=\"310.636\" stroke-linecap=\"round\" style=\"stroke:black;stroke-width:1\" /><line x1=\"311.049\" y1=\"310.636\" x2=\"303.495\" y2=\"306.275\" stroke-linecap=\"round\" style=\"stroke:black;stroke-width:1\" /><line x1=\"303.495\" y1=\"306.275\" x2=\"295.299\" y2=\"303.292\" stroke-linecap=\"round\" style=\"stroke:black;stroke-width:1\" /><line x1=\"295.299\" y1=\"303.292\" x2=\"286.709\" y2=\"301.777\" stroke-linecap=\"round\" style=\"stroke:black;stroke-width:1\" /><line x1=\"286.709\" y1=\"301.777\" x2=\"277.987\" y2=\"301.777\" stroke-linecap=\"round\" style=\"stroke:black;stroke-width:1\" /><line x1=\"277.987\" y1=\"301.777\" x2=\"269.397\" y2=\"303.292\" stroke-linecap=\"round\" style=\"stroke:black;stroke-width:1\" /><line x1=\"260.0\" y1=\"306.712\" x2=\"251.278\" y2=\"306.712\" stroke-linecap=\"round\" style=\"stroke:black;stroke-width:1\" /><line x1=\"251.278\" y1=\"306.712\" x2=\"242.688\" y2=\"308.227\" stroke-linecap=\"round\" style=\"stroke:black;stroke-width:1\" /><line x1=\"242.688\" y1=\"308.227\" x2=\"234.492\" y2=\"311.21\" stroke-linecap=\"round\" style=\"stroke:black;stroke-width:1\" /><line x1=\"234.492\" y1=\"311.21\" x2=\"226.938\" y2=\"315.571\" stroke-linecap=\"round\" style=\"stroke:black;stroke-width:1\" /><line x1=\"226.938\" y1=\"315.571\" x2=\"220.256\" y2=\"321.178\" stroke-linecap=\"round\" style=\"stroke:black;stroke-width:1\" /><line x1=\"220.256\" y1=\"321.178\" x2=\"214.649\" y2=\"327.86\" stroke-linecap=\"round\" style=\"stroke:black;stroke-width:1\" /><line x1=\"214.649\" y1=\"327.86\" x2=\"210.288\" y2=\"335.414\" stroke-linecap=\"round\" style=\"stroke:black;stroke-width:1\" /><line x1=\"210.288\" y1=\"335.414\" x2=\"207.305\" y2=\"343.61\" stroke-linecap=\"round\" style=\"stroke:black;stroke-width:1\" /><line x1=\"207.305\" y1=\"343.61\" x2=\"205.79\" y2=\"352.2\" stroke-linecap=\"round\" style=\"stroke:black;stroke-width:1\" /><line x1=\"205.79\" y1=\"352.2\" x2=\"205.79\" y2=\"360.922\" stroke-linecap=\"round\" style=\"stroke:black;stroke-width:1\" /><line x1=\"205.79\" y1=\"360.922\" x2=\"207.305\" y2=\"369.512\" stroke-linecap=\"round\" style=\"stroke:black;stroke-width:1\" /><line x1=\"207.305\" y1=\"369.512\" x2=\"210.288\" y2=\"377.708\" stroke-linecap=\"round\" style=\"stroke:black;stroke-width:1\" /><line x1=\"210.288\" y1=\"377.708\" x2=\"214.649\" y2=\"385.262\" stroke-linecap=\"round\" style=\"stroke:black;stroke-width:1\" /><line x1=\"214.649\" y1=\"385.262\" x2=\"220.256\" y2=\"391.944\" stroke-linecap=\"round\" style=\"stroke:black;stroke-width:1\" /><line x1=\"220.256\" y1=\"391.944\" x2=\"226.938\" y2=\"397.551\" stroke-linecap=\"round\" style=\"stroke:black;stroke-width:1\" /><line x1=\"226.938\" y1=\"397.551\" x2=\"234.492\" y2=\"401.912\" stroke-linecap=\"round\" style=\"stroke:black;stroke-width:1\" /><line x1=\"234.492\" y1=\"401.912\" x2=\"242.688\" y2=\"404.895\" stroke-linecap=\"round\" style=\"stroke:black;stroke-width:1\" /><line x1=\"242.688\" y1=\"404.895\" x2=\"251.278\" y2=\"406.41\" stroke-linecap=\"round\" style=\"stroke:black;stroke-width:1\" /><line x1=\"251.278\" y1=\"406.41\" x2=\"260.0\" y2=\"406.41\" stroke-linecap=\"round\" style=\"stroke:black;stroke-width:1\" /><line x1=\"260.0\" y1=\"406.41\" x2=\"268.59\" y2=\"404.895\" stroke-linecap=\"round\" style=\"stroke:black;stroke-width:1\" /><line x1=\"268.59\" y1=\"404.895\" x2=\"276.786\" y2=\"401.912\" stroke-linecap=\"round\" style=\"stroke:black;stroke-width:1\" /><line x1=\"276.786\" y1=\"401.912\" x2=\"284.34\" y2=\"397.551\" stroke-linecap=\"round\" style=\"stroke:black;stroke-width:1\" /><line x1=\"284.34\" y1=\"397.551\" x2=\"291.022\" y2=\"391.944\" stroke-linecap=\"round\" style=\"stroke:black;stroke-width:1\" /><line x1=\"291.022\" y1=\"391.944\" x2=\"296.629\" y2=\"385.262\" stroke-linecap=\"round\" style=\"stroke:black;stroke-width:1\" /><line x1=\"296.629\" y1=\"385.262\" x2=\"300.99\" y2=\"377.708\" stroke-linecap=\"round\" style=\"stroke:black;stroke-width:1\" /><line x1=\"300.99\" y1=\"377.708\" x2=\"303.973\" y2=\"369.512\" stroke-linecap=\"round\" style=\"stroke:black;stroke-width:1\" /><line x1=\"303.973\" y1=\"369.512\" x2=\"305.488\" y2=\"360.922\" stroke-linecap=\"round\" style=\"stroke:black;stroke-width:1\" /><line x1=\"305.488\" y1=\"360.922\" x2=\"305.488\" y2=\"352.2\" stroke-linecap=\"round\" style=\"stroke:black;stroke-width:1\" /><line x1=\"305.488\" y1=\"352.2\" x2=\"303.973\" y2=\"343.61\" stroke-linecap=\"round\" style=\"stroke:black;stroke-width:1\" /><line x1=\"303.973\" y1=\"343.61\" x2=\"300.99\" y2=\"335.414\" stroke-linecap=\"round\" style=\"stroke:black;stroke-width:1\" /><line x1=\"300.99\" y1=\"335.414\" x2=\"296.629\" y2=\"327.86\" stroke-linecap=\"round\" style=\"stroke:black;stroke-width:1\" /><line x1=\"296.629\" y1=\"327.86\" x2=\"291.022\" y2=\"321.178\" stroke-linecap=\"round\" style=\"stroke:black;stroke-width:1\" /><line x1=\"291.022\" y1=\"321.178\" x2=\"284.34\" y2=\"315.571\" stroke-linecap=\"round\" style=\"stroke:black;stroke-width:1\" /><line x1=\"284.34\" y1=\"315.571\" x2=\"276.786\" y2=\"311.21\" stroke-linecap=\"round\" style=\"stroke:black;stroke-width:1\" /><line x1=\"276.786\" y1=\"311.21\" x2=\"268.59\" y2=\"308.227\" stroke-linecap=\"round\" style=\"stroke:black;stroke-width:1\" /><line x1=\"268.59\" y1=\"308.227\" x2=\"260.0\" y2=\"306.712\" stroke-linecap=\"round\" style=\"stroke:black;stroke-width:1\" /><line x1=\"250.0\" y1=\"306.712\" x2=\"241.804\" y2=\"303.729\" stroke-linecap=\"round\" style=\"stroke:black;stroke-width:1\" /><line x1=\"241.804\" y1=\"303.729\" x2=\"233.214\" y2=\"302.214\" stroke-linecap=\"round\" style=\"stroke:black;stroke-width:1\" /><line x1=\"233.214\" y1=\"302.214\" x2=\"224.492\" y2=\"302.214\" stroke-linecap=\"round\" style=\"stroke:black;stroke-width:1\" /><line x1=\"224.492\" y1=\"302.214\" x2=\"215.902\" y2=\"303.729\" stroke-linecap=\"round\" style=\"stroke:black;stroke-width:1\" /><line x1=\"215.902\" y1=\"303.729\" x2=\"207.706\" y2=\"306.712\" stroke-linecap=\"round\" style=\"stroke:black;stroke-width:1\" /><line x1=\"207.706\" y1=\"306.712\" x2=\"200.152\" y2=\"311.073\" stroke-linecap=\"round\" style=\"stroke:black;stroke-width:1\" /><line x1=\"200.152\" y1=\"311.073\" x2=\"193.47\" y2=\"316.68\" stroke-linecap=\"round\" style=\"stroke:black;stroke-width:1\" /><line x1=\"193.47\" y1=\"316.68\" x2=\"187.863\" y2=\"323.362\" stroke-linecap=\"round\" style=\"stroke:black;stroke-width:1\" /><line x1=\"187.863\" y1=\"323.362\" x2=\"183.502\" y2=\"330.916\" stroke-linecap=\"round\" style=\"stroke:black;stroke-width:1\" /><line x1=\"183.502\" y1=\"330.916\" x2=\"180.519\" y2=\"339.112\" stroke-linecap=\"round\" style=\"stroke:black;stroke-width:1\" /><line x1=\"180.519\" y1=\"339.112\" x2=\"179.004\" y2=\"347.702\" stroke-linecap=\"round\" style=\"stroke:black;stroke-width:1\" /><line x1=\"179.004\" y1=\"347.702\" x2=\"179.004\" y2=\"356.424\" stroke-linecap=\"round\" style=\"stroke:black;stroke-width:1\" /><line x1=\"179.004\" y1=\"356.424\" x2=\"180.519\" y2=\"365.014\" stroke-linecap=\"round\" style=\"stroke:black;stroke-width:1\" /><line x1=\"180.519\" y1=\"365.014\" x2=\"183.502\" y2=\"373.21\" stroke-linecap=\"round\" style=\"stroke:black;stroke-width:1\" /><line x1=\"183.502\" y1=\"373.21\" x2=\"187.863\" y2=\"380.764\" stroke-linecap=\"round\" style=\"stroke:black;stroke-width:1\" /><line x1=\"187.863\" y1=\"380.764\" x2=\"193.47\" y2=\"387.446\" stroke-linecap=\"round\" style=\"stroke:black;stroke-width:1\" /><line x1=\"193.47\" y1=\"387.446\" x2=\"200.152\" y2=\"393.053\" stroke-linecap=\"round\" style=\"stroke:black;stroke-width:1\" /><line x1=\"200.152\" y1=\"393.053\" x2=\"207.706\" y2=\"397.414\" stroke-linecap=\"round\" style=\"stroke:black;stroke-width:1\" /><line x1=\"207.706\" y1=\"397.414\" x2=\"215.902\" y2=\"400.397\" stroke-linecap=\"round\" style=\"stroke:black;stroke-width:1\" /><line x1=\"215.902\" y1=\"400.397\" x2=\"224.492\" y2=\"401.912\" stroke-linecap=\"round\" style=\"stroke:black;stroke-width:1\" /><line x1=\"224.492\" y1=\"401.912\" x2=\"233.214\" y2=\"401.912\" stroke-linecap=\"round\" style=\"stroke:black;stroke-width:1\" /><line x1=\"233.214\" y1=\"401.912\" x2=\"241.804\" y2=\"400.397\" stroke-linecap=\"round\" style=\"stroke:black;stroke-width:1\" /><line x1=\"241.804\" y1=\"400.397\" x2=\"250.0\" y2=\"397.414\" stroke-linecap=\"round\" style=\"stroke:black;stroke-width:1\" /><line x1=\"250.0\" y1=\"397.414\" x2=\"257.554\" y2=\"393.053\" stroke-linecap=\"round\" style=\"stroke:black;stroke-width:1\" /><line x1=\"257.554\" y1=\"393.053\" x2=\"264.236\" y2=\"387.446\" stroke-linecap=\"round\" style=\"stroke:black;stroke-width:1\" /><line x1=\"264.236\" y1=\"387.446\" x2=\"269.843\" y2=\"380.764\" stroke-linecap=\"round\" style=\"stroke:black;stroke-width:1\" /><line x1=\"269.843\" y1=\"380.764\" x2=\"274.204\" y2=\"373.21\" stroke-linecap=\"round\" style=\"stroke:black;stroke-width:1\" /><line x1=\"274.204\" y1=\"373.21\" x2=\"277.187\" y2=\"365.014\" stroke-linecap=\"round\" style=\"stroke:black;stroke-width:1\" /><line x1=\"277.187\" y1=\"365.014\" x2=\"278.702\" y2=\"356.424\" stroke-linecap=\"round\" style=\"stroke:black;stroke-width:1\" /><line x1=\"278.702\" y1=\"356.424\" x2=\"278.702\" y2=\"347.702\" stroke-linecap=\"round\" style=\"stroke:black;stroke-width:1\" /><line x1=\"278.702\" y1=\"347.702\" x2=\"277.187\" y2=\"339.112\" stroke-linecap=\"round\" style=\"stroke:black;stroke-width:1\" /><line x1=\"277.187\" y1=\"339.112\" x2=\"274.204\" y2=\"330.916\" stroke-linecap=\"round\" style=\"stroke:black;stroke-width:1\" /><line x1=\"274.204\" y1=\"330.916\" x2=\"269.843\" y2=\"323.362\" stroke-linecap=\"round\" style=\"stroke:black;stroke-width:1\" /><line x1=\"269.843\" y1=\"323.362\" x2=\"264.236\" y2=\"316.68\" stroke-linecap=\"round\" style=\"stroke:black;stroke-width:1\" /><line x1=\"264.236\" y1=\"316.68\" x2=\"257.554\" y2=\"311.073\" stroke-linecap=\"round\" style=\"stroke:black;stroke-width:1\" /><line x1=\"257.554\" y1=\"311.073\" x2=\"250.0\" y2=\"306.712\" stroke-linecap=\"round\" style=\"stroke:black;stroke-width:1\" /><line x1=\"240.603\" y1=\"303.292\" x2=\"233.921\" y2=\"297.685\" stroke-linecap=\"round\" style=\"stroke:black;stroke-width:1\" /><line x1=\"233.921\" y1=\"297.685\" x2=\"226.367\" y2=\"293.324\" stroke-linecap=\"round\" style=\"stroke:black;stroke-width:1\" /><line x1=\"226.367\" y1=\"293.324\" x2=\"218.171\" y2=\"290.341\" stroke-linecap=\"round\" style=\"stroke:black;stroke-width:1\" /><line x1=\"218.171\" y1=\"290.341\" x2=\"209.581\" y2=\"288.826\" stroke-linecap=\"round\" style=\"stroke:black;stroke-width:1\" /><line x1=\"209.581\" y1=\"288.826\" x2=\"200.859\" y2=\"288.826\" stroke-linecap=\"round\" style=\"stroke:black;stroke-width:1\" /><line x1=\"200.859\" y1=\"288.826\" x2=\"192.269\" y2=\"290.341\" stroke-linecap=\"round\" style=\"stroke:black;stroke-width:1\" /><line x1=\"192.269\" y1=\"290.341\" x2=\"184.073\" y2=\"293.324\" stroke-linecap=\"round\" style=\"stroke:black;stroke-width:1\" /><line x1=\"184.073\" y1=\"293.324\" x2=\"176.519\" y2=\"297.685\" stroke-linecap=\"round\" style=\"stroke:black;stroke-width:1\" /><line x1=\"176.519\" y1=\"297.685\" x2=\"169.837\" y2=\"303.292\" stroke-linecap=\"round\" style=\"stroke:black;stroke-width:1\" /><line x1=\"169.837\" y1=\"303.292\" x2=\"164.23\" y2=\"309.974\" stroke-linecap=\"round\" style=\"stroke:black;stroke-width:1\" /><line x1=\"164.23\" y1=\"309.974\" x2=\"159.869\" y2=\"317.528\" stroke-linecap=\"round\" style=\"stroke:black;stroke-width:1\" /><line x1=\"159.869\" y1=\"317.528\" x2=\"156.886\" y2=\"325.724\" stroke-linecap=\"round\" style=\"stroke:black;stroke-width:1\" /><line x1=\"156.886\" y1=\"325.724\" x2=\"155.371\" y2=\"334.314\" stroke-linecap=\"round\" style=\"stroke:black;stroke-width:1\" /><line x1=\"155.371\" y1=\"334.314\" x2=\"155.371\" y2=\"343.036\" stroke-linecap=\"round\" style=\"stroke:black;stroke-width:1\" /><line x1=\"155.371\" y1=\"343.036\" x2=\"156.886\" y2=\"351.626\" stroke-linecap=\"round\" style=\"stroke:black;stroke-width:1\" /><line x1=\"156.886\" y1=\"351.626\" x2=\"159.869\" y2=\"359.822\" stroke-linecap=\"round\" style=\"stroke:black;stroke-width:1\" /><line x1=\"159.869\" y1=\"359.822\" x2=\"164.23\" y2=\"367.376\" stroke-linecap=\"round\" style=\"stroke:black;stroke-width:1\" /><line x1=\"164.23\" y1=\"367.376\" x2=\"169.837\" y2=\"374.058\" stroke-linecap=\"round\" style=\"stroke:black;stroke-width:1\" /><line x1=\"169.837\" y1=\"374.058\" x2=\"176.519\" y2=\"379.665\" stroke-linecap=\"round\" style=\"stroke:black;stroke-width:1\" /><line x1=\"176.519\" y1=\"379.665\" x2=\"184.073\" y2=\"384.026\" stroke-linecap=\"round\" style=\"stroke:black;stroke-width:1\" /><line x1=\"184.073\" y1=\"384.026\" x2=\"192.269\" y2=\"387.009\" stroke-linecap=\"round\" style=\"stroke:black;stroke-width:1\" /><line x1=\"192.269\" y1=\"387.009\" x2=\"200.859\" y2=\"388.524\" stroke-linecap=\"round\" style=\"stroke:black;stroke-width:1\" /><line x1=\"200.859\" y1=\"388.524\" x2=\"209.581\" y2=\"388.524\" stroke-linecap=\"round\" style=\"stroke:black;stroke-width:1\" /><line x1=\"209.581\" y1=\"388.524\" x2=\"218.171\" y2=\"387.009\" stroke-linecap=\"round\" style=\"stroke:black;stroke-width:1\" /><line x1=\"218.171\" y1=\"387.009\" x2=\"226.367\" y2=\"384.026\" stroke-linecap=\"round\" style=\"stroke:black;stroke-width:1\" /><line x1=\"226.367\" y1=\"384.026\" x2=\"233.921\" y2=\"379.665\" stroke-linecap=\"round\" style=\"stroke:black;stroke-width:1\" /><line x1=\"233.921\" y1=\"379.665\" x2=\"240.603\" y2=\"374.058\" stroke-linecap=\"round\" style=\"stroke:black;stroke-width:1\" /><line x1=\"240.603\" y1=\"374.058\" x2=\"246.21\" y2=\"367.376\" stroke-linecap=\"round\" style=\"stroke:black;stroke-width:1\" /><line x1=\"246.21\" y1=\"367.376\" x2=\"250.571\" y2=\"359.822\" stroke-linecap=\"round\" style=\"stroke:black;stroke-width:1\" /><line x1=\"250.571\" y1=\"359.822\" x2=\"253.554\" y2=\"351.626\" stroke-linecap=\"round\" style=\"stroke:black;stroke-width:1\" /><line x1=\"253.554\" y1=\"351.626\" x2=\"255.069\" y2=\"343.036\" stroke-linecap=\"round\" style=\"stroke:black;stroke-width:1\" /><line x1=\"255.069\" y1=\"343.036\" x2=\"255.069\" y2=\"334.314\" stroke-linecap=\"round\" style=\"stroke:black;stroke-width:1\" /><line x1=\"255.069\" y1=\"334.314\" x2=\"253.554\" y2=\"325.724\" stroke-linecap=\"round\" style=\"stroke:black;stroke-width:1\" /><line x1=\"253.554\" y1=\"325.724\" x2=\"250.571\" y2=\"317.528\" stroke-linecap=\"round\" style=\"stroke:black;stroke-width:1\" /><line x1=\"250.571\" y1=\"317.528\" x2=\"246.21\" y2=\"309.974\" stroke-linecap=\"round\" style=\"stroke:black;stroke-width:1\" /><line x1=\"246.21\" y1=\"309.974\" x2=\"240.603\" y2=\"303.292\" stroke-linecap=\"round\" style=\"stroke:black;stroke-width:1\" /><line x1=\"232.943\" y1=\"296.864\" x2=\"228.582\" y2=\"289.31\" stroke-linecap=\"round\" style=\"stroke:black;stroke-width:1\" /><line x1=\"228.582\" y1=\"289.31\" x2=\"222.975\" y2=\"282.628\" stroke-linecap=\"round\" style=\"stroke:black;stroke-width:1\" /><line x1=\"222.975\" y1=\"282.628\" x2=\"216.293\" y2=\"277.021\" stroke-linecap=\"round\" style=\"stroke:black;stroke-width:1\" /><line x1=\"216.293\" y1=\"277.021\" x2=\"208.739\" y2=\"272.66\" stroke-linecap=\"round\" style=\"stroke:black;stroke-width:1\" /><line x1=\"208.739\" y1=\"272.66\" x2=\"200.543\" y2=\"269.677\" stroke-linecap=\"round\" style=\"stroke:black;stroke-width:1\" /><line x1=\"200.543\" y1=\"269.677\" x2=\"191.953\" y2=\"268.162\" stroke-linecap=\"round\" style=\"stroke:black;stroke-width:1\" /><line x1=\"191.953\" y1=\"268.162\" x2=\"183.231\" y2=\"268.162\" stroke-linecap=\"round\" style=\"stroke:black;stroke-width:1\" /><line x1=\"183.231\" y1=\"268.162\" x2=\"174.641\" y2=\"269.677\" stroke-linecap=\"round\" style=\"stroke:black;stroke-width:1\" /><line x1=\"174.641\" y1=\"269.677\" x2=\"166.445\" y2=\"272.66\" stroke-linecap=\"round\" style=\"stroke:black;stroke-width:1\" /><line x1=\"166.445\" y1=\"272.66\" x2=\"158.891\" y2=\"277.021\" stroke-linecap=\"round\" style=\"stroke:black;stroke-width:1\" /><line x1=\"158.891\" y1=\"277.021\" x2=\"152.209\" y2=\"282.628\" stroke-linecap=\"round\" style=\"stroke:black;stroke-width:1\" /><line x1=\"152.209\" y1=\"282.628\" x2=\"146.602\" y2=\"289.31\" stroke-linecap=\"round\" style=\"stroke:black;stroke-width:1\" /><line x1=\"146.602\" y1=\"289.31\" x2=\"142.241\" y2=\"296.864\" stroke-linecap=\"round\" style=\"stroke:black;stroke-width:1\" /><line x1=\"142.241\" y1=\"296.864\" x2=\"139.258\" y2=\"305.06\" stroke-linecap=\"round\" style=\"stroke:black;stroke-width:1\" /><line x1=\"139.258\" y1=\"305.06\" x2=\"137.743\" y2=\"313.65\" stroke-linecap=\"round\" style=\"stroke:black;stroke-width:1\" /><line x1=\"137.743\" y1=\"313.65\" x2=\"137.743\" y2=\"322.372\" stroke-linecap=\"round\" style=\"stroke:black;stroke-width:1\" /><line x1=\"137.743\" y1=\"322.372\" x2=\"139.258\" y2=\"330.962\" stroke-linecap=\"round\" style=\"stroke:black;stroke-width:1\" /><line x1=\"139.258\" y1=\"330.962\" x2=\"142.241\" y2=\"339.158\" stroke-linecap=\"round\" style=\"stroke:black;stroke-width:1\" /><line x1=\"142.241\" y1=\"339.158\" x2=\"146.602\" y2=\"346.712\" stroke-linecap=\"round\" style=\"stroke:black;stroke-width:1\" /><line x1=\"146.602\" y1=\"346.712\" x2=\"152.209\" y2=\"353.394\" stroke-linecap=\"round\" style=\"stroke:black;stroke-width:1\" /><line x1=\"152.209\" y1=\"353.394\" x2=\"158.891\" y2=\"359.001\" stroke-linecap=\"round\" style=\"stroke:black;stroke-width:1\" /><line x1=\"158.891\" y1=\"359.001\" x2=\"166.445\" y2=\"363.362\" stroke-linecap=\"round\" style=\"stroke:black;stroke-width:1\" /><line x1=\"166.445\" y1=\"363.362\" x2=\"174.641\" y2=\"366.345\" stroke-linecap=\"round\" style=\"stroke:black;stroke-width:1\" /><line x1=\"174.641\" y1=\"366.345\" x2=\"183.231\" y2=\"367.86\" stroke-linecap=\"round\" style=\"stroke:black;stroke-width:1\" /><line x1=\"183.231\" y1=\"367.86\" x2=\"191.953\" y2=\"367.86\" stroke-linecap=\"round\" style=\"stroke:black;stroke-width:1\" /><line x1=\"191.953\" y1=\"367.86\" x2=\"200.543\" y2=\"366.345\" stroke-linecap=\"round\" style=\"stroke:black;stroke-width:1\" /><line x1=\"200.543\" y1=\"366.345\" x2=\"208.739\" y2=\"363.362\" stroke-linecap=\"round\" style=\"stroke:black;stroke-width:1\" /><line x1=\"208.739\" y1=\"363.362\" x2=\"216.293\" y2=\"359.001\" stroke-linecap=\"round\" style=\"stroke:black;stroke-width:1\" /><line x1=\"216.293\" y1=\"359.001\" x2=\"222.975\" y2=\"353.394\" stroke-linecap=\"round\" style=\"stroke:black;stroke-width:1\" /><line x1=\"222.975\" y1=\"353.394\" x2=\"228.582\" y2=\"346.712\" stroke-linecap=\"round\" style=\"stroke:black;stroke-width:1\" /><line x1=\"228.582\" y1=\"346.712\" x2=\"232.943\" y2=\"339.158\" stroke-linecap=\"round\" style=\"stroke:black;stroke-width:1\" /><line x1=\"232.943\" y1=\"339.158\" x2=\"235.926\" y2=\"330.962\" stroke-linecap=\"round\" style=\"stroke:black;stroke-width:1\" /><line x1=\"235.926\" y1=\"330.962\" x2=\"237.441\" y2=\"322.372\" stroke-linecap=\"round\" style=\"stroke:black;stroke-width:1\" /><line x1=\"237.441\" y1=\"322.372\" x2=\"237.441\" y2=\"313.65\" stroke-linecap=\"round\" style=\"stroke:black;stroke-width:1\" /><line x1=\"237.441\" y1=\"313.65\" x2=\"235.926\" y2=\"305.06\" stroke-linecap=\"round\" style=\"stroke:black;stroke-width:1\" /><line x1=\"235.926\" y1=\"305.06\" x2=\"232.943\" y2=\"296.864\" stroke-linecap=\"round\" style=\"stroke:black;stroke-width:1\" /><line x1=\"227.943\" y1=\"288.204\" x2=\"226.428\" y2=\"279.614\" stroke-linecap=\"round\" style=\"stroke:black;stroke-width:1\" /><line x1=\"226.428\" y1=\"279.614\" x2=\"223.445\" y2=\"271.418\" stroke-linecap=\"round\" style=\"stroke:black;stroke-width:1\" /><line x1=\"223.445\" y1=\"271.418\" x2=\"219.084\" y2=\"263.864\" stroke-linecap=\"round\" style=\"stroke:black;stroke-width:1\" /><line x1=\"219.084\" y1=\"263.864\" x2=\"213.477\" y2=\"257.182\" stroke-linecap=\"round\" style=\"stroke:black;stroke-width:1\" /><line x1=\"213.477\" y1=\"257.182\" x2=\"206.795\" y2=\"251.575\" stroke-linecap=\"round\" style=\"stroke:black;stroke-width:1\" /><line x1=\"206.795\" y1=\"251.575\" x2=\"199.241\" y2=\"247.214\" stroke-linecap=\"round\" style=\"stroke:black;stroke-width:1\" /><line x1=\"199.241\" y1=\"247.214\" x2=\"191.045\" y2=\"244.231\" stroke-linecap=\"round\" style=\"stroke:black;stroke-width:1\" /><line x1=\"191.045\" y1=\"244.231\" x2=\"182.455\" y2=\"242.716\" stroke-linecap=\"round\" style=\"stroke:black;stroke-width:1\" /><line x1=\"182.455\" y1=\"242.716\" x2=\"173.733\" y2=\"242.716\" stroke-linecap=\"round\" style=\"stroke:black;stroke-width:1\" /><line x1=\"173.733\" y1=\"242.716\" x2=\"165.143\" y2=\"244.231\" stroke-linecap=\"round\" style=\"stroke:black;stroke-width:1\" /><line x1=\"165.143\" y1=\"244.231\" x2=\"156.947\" y2=\"247.214\" stroke-linecap=\"round\" style=\"stroke:black;stroke-width:1\" /><line x1=\"156.947\" y1=\"247.214\" x2=\"149.393\" y2=\"251.575\" stroke-linecap=\"round\" style=\"stroke:black;stroke-width:1\" /><line x1=\"149.393\" y1=\"251.575\" x2=\"142.711\" y2=\"257.182\" stroke-linecap=\"round\" style=\"stroke:black;stroke-width:1\" /><line x1=\"142.711\" y1=\"257.182\" x2=\"137.104\" y2=\"263.864\" stroke-linecap=\"round\" style=\"stroke:black;stroke-width:1\" /><line x1=\"137.104\" y1=\"263.864\" x2=\"132.743\" y2=\"271.418\" stroke-linecap=\"round\" style=\"stroke:black;stroke-width:1\" /><line x1=\"132.743\" y1=\"271.418\" x2=\"129.76\" y2=\"279.614\" stroke-linecap=\"round\" style=\"stroke:black;stroke-width:1\" /><line x1=\"129.76\" y1=\"279.614\" x2=\"128.245\" y2=\"288.204\" stroke-linecap=\"round\" style=\"stroke:black;stroke-width:1\" /><line x1=\"128.245\" y1=\"288.204\" x2=\"128.245\" y2=\"296.926\" stroke-linecap=\"round\" style=\"stroke:black;stroke-width:1\" /><line x1=\"128.245\" y1=\"296.926\" x2=\"129.76\" y2=\"305.516\" stroke-linecap=\"round\" style=\"stroke:black;stroke-width:1\" /><line x1=\"129.76\" y1=\"305.516\" x2=\"132.743\" y2=\"313.712\" stroke-linecap=\"round\" style=\"stroke:black;stroke-width:1\" /><line x1=\"132.743\" y1=\"313.712\" x2=\"137.104\" y2=\"321.266\" stroke-linecap=\"round\" style=\"stroke:black;stroke-width:1\" /><line x1=\"137.104\" y1=\"321.266\" x2=\"142.711\" y2=\"327.948\" stroke-linecap=\"round\" style=\"stroke:black;stroke-width:1\" /><line x1=\"142.711\" y1=\"327.948\" x2=\"149.393\" y2=\"333.555\" stroke-linecap=\"round\" style=\"stroke:black;stroke-width:1\" /><line x1=\"149.393\" y1=\"333.555\" x2=\"156.947\" y2=\"337.916\" stroke-linecap=\"round\" style=\"stroke:black;stroke-width:1\" /><line x1=\"156.947\" y1=\"337.916\" x2=\"165.143\" y2=\"340.899\" stroke-linecap=\"round\" style=\"stroke:black;stroke-width:1\" /><line x1=\"165.143\" y1=\"340.899\" x2=\"173.733\" y2=\"342.414\" stroke-linecap=\"round\" style=\"stroke:black;stroke-width:1\" /><line x1=\"173.733\" y1=\"342.414\" x2=\"182.455\" y2=\"342.414\" stroke-linecap=\"round\" style=\"stroke:black;stroke-width:1\" /><line x1=\"182.455\" y1=\"342.414\" x2=\"191.045\" y2=\"340.899\" stroke-linecap=\"round\" style=\"stroke:black;stroke-width:1\" /><line x1=\"191.045\" y1=\"340.899\" x2=\"199.241\" y2=\"337.916\" stroke-linecap=\"round\" style=\"stroke:black;stroke-width:1\" /><line x1=\"199.241\" y1=\"337.916\" x2=\"206.795\" y2=\"333.555\" stroke-linecap=\"round\" style=\"stroke:black;stroke-width:1\" /><line x1=\"206.795\" y1=\"333.555\" x2=\"213.477\" y2=\"327.948\" stroke-linecap=\"round\" style=\"stroke:black;stroke-width:1\" /><line x1=\"213.477\" y1=\"327.948\" x2=\"219.084\" y2=\"321.266\" stroke-linecap=\"round\" style=\"stroke:black;stroke-width:1\" /><line x1=\"219.084\" y1=\"321.266\" x2=\"223.445\" y2=\"313.712\" stroke-linecap=\"round\" style=\"stroke:black;stroke-width:1\" /><line x1=\"223.445\" y1=\"313.712\" x2=\"226.428\" y2=\"305.516\" stroke-linecap=\"round\" style=\"stroke:black;stroke-width:1\" /><line x1=\"226.428\" y1=\"305.516\" x2=\"227.943\" y2=\"296.926\" stroke-linecap=\"round\" style=\"stroke:black;stroke-width:1\" /><line x1=\"227.943\" y1=\"296.926\" x2=\"227.943\" y2=\"288.204\" stroke-linecap=\"round\" style=\"stroke:black;stroke-width:1\" /><line x1=\"226.207\" y1=\"278.356\" x2=\"227.722\" y2=\"269.766\" stroke-linecap=\"round\" style=\"stroke:black;stroke-width:1\" /><line x1=\"227.722\" y1=\"269.766\" x2=\"227.722\" y2=\"261.044\" stroke-linecap=\"round\" style=\"stroke:black;stroke-width:1\" /><line x1=\"227.722\" y1=\"261.044\" x2=\"226.207\" y2=\"252.454\" stroke-linecap=\"round\" style=\"stroke:black;stroke-width:1\" /><line x1=\"226.207\" y1=\"252.454\" x2=\"223.224\" y2=\"244.258\" stroke-linecap=\"round\" style=\"stroke:black;stroke-width:1\" /><line x1=\"223.224\" y1=\"244.258\" x2=\"218.863\" y2=\"236.704\" stroke-linecap=\"round\" style=\"stroke:black;stroke-width:1\" /><line x1=\"218.863\" y1=\"236.704\" x2=\"213.256\" y2=\"230.022\" stroke-linecap=\"round\" style=\"stroke:black;stroke-width:1\" /><line x1=\"213.256\" y1=\"230.022\" x2=\"206.574\" y2=\"224.415\" stroke-linecap=\"round\" style=\"stroke:black;stroke-width:1\" /><line x1=\"206.574\" y1=\"224.415\" x2=\"199.02\" y2=\"220.054\" stroke-linecap=\"round\" style=\"stroke:black;stroke-width:1\" /><line x1=\"199.02\" y1=\"220.054\" x2=\"190.824\" y2=\"217.071\" stroke-linecap=\"round\" style=\"stroke:black;stroke-width:1\" /><line x1=\"190.824\" y1=\"217.071\" x2=\"182.234\" y2=\"215.556\" stroke-linecap=\"round\" style=\"stroke:black;stroke-width:1\" /><line x1=\"182.234\" y1=\"215.556\" x2=\"173.512\" y2=\"215.556\" stroke-linecap=\"round\" style=\"stroke:black;stroke-width:1\" /><line x1=\"173.512\" y1=\"215.556\" x2=\"164.922\" y2=\"217.071\" stroke-linecap=\"round\" style=\"stroke:black;stroke-width:1\" /><line x1=\"164.922\" y1=\"217.071\" x2=\"156.726\" y2=\"220.054\" stroke-linecap=\"round\" style=\"stroke:black;stroke-width:1\" /><line x1=\"156.726\" y1=\"220.054\" x2=\"149.172\" y2=\"224.415\" stroke-linecap=\"round\" style=\"stroke:black;stroke-width:1\" /><line x1=\"149.172\" y1=\"224.415\" x2=\"142.49\" y2=\"230.022\" stroke-linecap=\"round\" style=\"stroke:black;stroke-width:1\" /><line x1=\"142.49\" y1=\"230.022\" x2=\"136.883\" y2=\"236.704\" stroke-linecap=\"round\" style=\"stroke:black;stroke-width:1\" /><line x1=\"136.883\" y1=\"236.704\" x2=\"132.522\" y2=\"244.258\" stroke-linecap=\"round\" style=\"stroke:black;stroke-width:1\" /><line x1=\"132.522\" y1=\"244.258\" x2=\"129.539\" y2=\"252.454\" stroke-linecap=\"round\" style=\"stroke:black;stroke-width:1\" /><line x1=\"129.539\" y1=\"252.454\" x2=\"128.024\" y2=\"261.044\" stroke-linecap=\"round\" style=\"stroke:black;stroke-width:1\" /><line x1=\"128.024\" y1=\"261.044\" x2=\"128.024\" y2=\"269.766\" stroke-linecap=\"round\" style=\"stroke:black;stroke-width:1\" /><line x1=\"128.024\" y1=\"269.766\" x2=\"129.539\" y2=\"278.356\" stroke-linecap=\"round\" style=\"stroke:black;stroke-width:1\" /><line x1=\"129.539\" y1=\"278.356\" x2=\"132.522\" y2=\"286.552\" stroke-linecap=\"round\" style=\"stroke:black;stroke-width:1\" /><line x1=\"132.522\" y1=\"286.552\" x2=\"136.883\" y2=\"294.106\" stroke-linecap=\"round\" style=\"stroke:black;stroke-width:1\" /><line x1=\"136.883\" y1=\"294.106\" x2=\"142.49\" y2=\"300.788\" stroke-linecap=\"round\" style=\"stroke:black;stroke-width:1\" /><line x1=\"142.49\" y1=\"300.788\" x2=\"149.172\" y2=\"306.395\" stroke-linecap=\"round\" style=\"stroke:black;stroke-width:1\" /><line x1=\"149.172\" y1=\"306.395\" x2=\"156.726\" y2=\"310.756\" stroke-linecap=\"round\" style=\"stroke:black;stroke-width:1\" /><line x1=\"156.726\" y1=\"310.756\" x2=\"164.922\" y2=\"313.739\" stroke-linecap=\"round\" style=\"stroke:black;stroke-width:1\" /><line x1=\"164.922\" y1=\"313.739\" x2=\"173.512\" y2=\"315.254\" stroke-linecap=\"round\" style=\"stroke:black;stroke-width:1\" /><line x1=\"173.512\" y1=\"315.254\" x2=\"182.234\" y2=\"315.254\" stroke-linecap=\"round\" style=\"stroke:black;stroke-width:1\" /><line x1=\"182.234\" y1=\"315.254\" x2=\"190.824\" y2=\"313.739\" stroke-linecap=\"round\" style=\"stroke:black;stroke-width:1\" /><line x1=\"190.824\" y1=\"313.739\" x2=\"199.02\" y2=\"310.756\" stroke-linecap=\"round\" style=\"stroke:black;stroke-width:1\" /><line x1=\"199.02\" y1=\"310.756\" x2=\"206.574\" y2=\"306.395\" stroke-linecap=\"round\" style=\"stroke:black;stroke-width:1\" /><line x1=\"206.574\" y1=\"306.395\" x2=\"213.256\" y2=\"300.788\" stroke-linecap=\"round\" style=\"stroke:black;stroke-width:1\" /><line x1=\"213.256\" y1=\"300.788\" x2=\"218.863\" y2=\"294.106\" stroke-linecap=\"round\" style=\"stroke:black;stroke-width:1\" /><line x1=\"218.863\" y1=\"294.106\" x2=\"223.224\" y2=\"286.552\" stroke-linecap=\"round\" style=\"stroke:black;stroke-width:1\" /><line x1=\"223.224\" y1=\"286.552\" x2=\"226.207\" y2=\"278.356\" stroke-linecap=\"round\" style=\"stroke:black;stroke-width:1\" /><line x1=\"227.943\" y1=\"268.508\" x2=\"232.304\" y2=\"260.954\" stroke-linecap=\"round\" style=\"stroke:black;stroke-width:1\" /><line x1=\"232.304\" y1=\"260.954\" x2=\"235.287\" y2=\"252.758\" stroke-linecap=\"round\" style=\"stroke:black;stroke-width:1\" /><line x1=\"235.287\" y1=\"252.758\" x2=\"236.802\" y2=\"244.168\" stroke-linecap=\"round\" style=\"stroke:black;stroke-width:1\" /><line x1=\"236.802\" y1=\"244.168\" x2=\"236.802\" y2=\"235.446\" stroke-linecap=\"round\" style=\"stroke:black;stroke-width:1\" /><line x1=\"236.802\" y1=\"235.446\" x2=\"235.287\" y2=\"226.856\" stroke-linecap=\"round\" style=\"stroke:black;stroke-width:1\" /><line x1=\"235.287\" y1=\"226.856\" x2=\"232.304\" y2=\"218.66\" stroke-linecap=\"round\" style=\"stroke:black;stroke-width:1\" /><line x1=\"232.304\" y1=\"218.66\" x2=\"227.943\" y2=\"211.106\" stroke-linecap=\"round\" style=\"stroke:black;stroke-width:1\" /><line x1=\"227.943\" y1=\"211.106\" x2=\"222.336\" y2=\"204.424\" stroke-linecap=\"round\" style=\"stroke:black;stroke-width:1\" /><line x1=\"222.336\" y1=\"204.424\" x2=\"215.654\" y2=\"198.817\" stroke-linecap=\"round\" style=\"stroke:black;stroke-width:1\" /><line x1=\"215.654\" y1=\"198.817\" x2=\"208.1\" y2=\"194.456\" stroke-linecap=\"round\" style=\"stroke:black;stroke-width:1\" /><line x1=\"208.1\" y1=\"194.456\" x2=\"199.904\" y2=\"191.473\" stroke-linecap=\"round\" style=\"stroke:black;stroke-width:1\" /><line x1=\"199.904\" y1=\"191.473\" x2=\"191.314\" y2=\"189.958\" stroke-linecap=\"round\" style=\"stroke:black;stroke-width:1\" /><line x1=\"191.314\" y1=\"189.958\" x2=\"182.592\" y2=\"189.958\" stroke-linecap=\"round\" style=\"stroke:black;stroke-width:1\" /><line x1=\"182.592\" y1=\"189.958\" x2=\"174.002\" y2=\"191.473\" stroke-linecap=\"round\" style=\"stroke:black;stroke-width:1\" /><line x1=\"174.002\" y1=\"191.473\" x2=\"165.806\" y2=\"194.456\" stroke-linecap=\"round\" style=\"stroke:black;stroke-width:1\" /><line x1=\"165.806\" y1=\"194.456\" x2=\"158.252\" y2=\"198.817\" stroke-linecap=\"round\" style=\"stroke:black;stroke-width:1\" /><line x1=\"158.252\" y1=\"198.817\" x2=\"151.57\" y2=\"204.424\" stroke-linecap=\"round\" style=\"stroke:black;stroke-width:1\" /><line x1=\"151.57\" y1=\"204.424\" x2=\"145.963\" y2=\"211.106\" stroke-linecap=\"round\" style=\"stroke:black;stroke-width:1\" /><line x1=\"145.963\" y1=\"211.106\" x2=\"141.602\" y2=\"218.66\" stroke-linecap=\"round\" style=\"stroke:black;stroke-width:1\" /><line x1=\"141.602\" y1=\"218.66\" x2=\"138.619\" y2=\"226.856\" stroke-linecap=\"round\" style=\"stroke:black;stroke-width:1\" /><line x1=\"138.619\" y1=\"226.856\" x2=\"137.104\" y2=\"235.446\" stroke-linecap=\"round\" style=\"stroke:black;stroke-width:1\" /><line x1=\"137.104\" y1=\"235.446\" x2=\"137.104\" y2=\"244.168\" stroke-linecap=\"round\" style=\"stroke:black;stroke-width:1\" /><line x1=\"137.104\" y1=\"244.168\" x2=\"138.619\" y2=\"252.758\" stroke-linecap=\"round\" style=\"stroke:black;stroke-width:1\" /><line x1=\"138.619\" y1=\"252.758\" x2=\"141.602\" y2=\"260.954\" stroke-linecap=\"round\" style=\"stroke:black;stroke-width:1\" /><line x1=\"141.602\" y1=\"260.954\" x2=\"145.963\" y2=\"268.508\" stroke-linecap=\"round\" style=\"stroke:black;stroke-width:1\" /><line x1=\"145.963\" y1=\"268.508\" x2=\"151.57\" y2=\"275.19\" stroke-linecap=\"round\" style=\"stroke:black;stroke-width:1\" /><line x1=\"151.57\" y1=\"275.19\" x2=\"158.252\" y2=\"280.797\" stroke-linecap=\"round\" style=\"stroke:black;stroke-width:1\" /><line x1=\"158.252\" y1=\"280.797\" x2=\"165.806\" y2=\"285.158\" stroke-linecap=\"round\" style=\"stroke:black;stroke-width:1\" /><line x1=\"165.806\" y1=\"285.158\" x2=\"174.002\" y2=\"288.141\" stroke-linecap=\"round\" style=\"stroke:black;stroke-width:1\" /><line x1=\"174.002\" y1=\"288.141\" x2=\"182.592\" y2=\"289.656\" stroke-linecap=\"round\" style=\"stroke:black;stroke-width:1\" /><line x1=\"182.592\" y1=\"289.656\" x2=\"191.314\" y2=\"289.656\" stroke-linecap=\"round\" style=\"stroke:black;stroke-width:1\" /><line x1=\"191.314\" y1=\"289.656\" x2=\"199.904\" y2=\"288.141\" stroke-linecap=\"round\" style=\"stroke:black;stroke-width:1\" /><line x1=\"199.904\" y1=\"288.141\" x2=\"208.1\" y2=\"285.158\" stroke-linecap=\"round\" style=\"stroke:black;stroke-width:1\" /><line x1=\"208.1\" y1=\"285.158\" x2=\"215.654\" y2=\"280.797\" stroke-linecap=\"round\" style=\"stroke:black;stroke-width:1\" /><line x1=\"215.654\" y1=\"280.797\" x2=\"222.336\" y2=\"275.19\" stroke-linecap=\"round\" style=\"stroke:black;stroke-width:1\" /><line x1=\"222.336\" y1=\"275.19\" x2=\"227.943\" y2=\"268.508\" stroke-linecap=\"round\" style=\"stroke:black;stroke-width:1\" /><line x1=\"232.943\" y1=\"259.848\" x2=\"239.625\" y2=\"254.241\" stroke-linecap=\"round\" style=\"stroke:black;stroke-width:1\" /><line x1=\"239.625\" y1=\"254.241\" x2=\"245.232\" y2=\"247.559\" stroke-linecap=\"round\" style=\"stroke:black;stroke-width:1\" /><line x1=\"245.232\" y1=\"247.559\" x2=\"249.593\" y2=\"240.005\" stroke-linecap=\"round\" style=\"stroke:black;stroke-width:1\" /><line x1=\"249.593\" y1=\"240.005\" x2=\"252.576\" y2=\"231.809\" stroke-linecap=\"round\" style=\"stroke:black;stroke-width:1\" /><line x1=\"252.576\" y1=\"231.809\" x2=\"254.091\" y2=\"223.219\" stroke-linecap=\"round\" style=\"stroke:black;stroke-width:1\" /><line x1=\"254.091\" y1=\"223.219\" x2=\"254.091\" y2=\"214.497\" stroke-linecap=\"round\" style=\"stroke:black;stroke-width:1\" /><line x1=\"254.091\" y1=\"214.497\" x2=\"252.576\" y2=\"205.907\" stroke-linecap=\"round\" style=\"stroke:black;stroke-width:1\" /><line x1=\"252.576\" y1=\"205.907\" x2=\"249.593\" y2=\"197.711\" stroke-linecap=\"round\" style=\"stroke:black;stroke-width:1\" /><line x1=\"249.593\" y1=\"197.711\" x2=\"245.232\" y2=\"190.157\" stroke-linecap=\"round\" style=\"stroke:black;stroke-width:1\" /><line x1=\"245.232\" y1=\"190.157\" x2=\"239.625\" y2=\"183.475\" stroke-linecap=\"round\" style=\"stroke:black;stroke-width:1\" /><line x1=\"239.625\" y1=\"183.475\" x2=\"232.943\" y2=\"177.868\" stroke-linecap=\"round\" style=\"stroke:black;stroke-width:1\" /><line x1=\"232.943\" y1=\"177.868\" x2=\"225.389\" y2=\"173.507\" stroke-linecap=\"round\" style=\"stroke:black;stroke-width:1\" /><line x1=\"225.389\" y1=\"173.507\" x2=\"217.193\" y2=\"170.524\" stroke-linecap=\"round\" style=\"stroke:black;stroke-width:1\" /><line x1=\"217.193\" y1=\"170.524\" x2=\"208.603\" y2=\"169.009\" stroke-linecap=\"round\" style=\"stroke:black;stroke-width:1\" /><line x1=\"208.603\" y1=\"169.009\" x2=\"199.881\" y2=\"169.009\" stroke-linecap=\"round\" style=\"stroke:black;stroke-width:1\" /><line x1=\"199.881\" y1=\"169.009\" x2=\"191.291\" y2=\"170.524\" stroke-linecap=\"round\" style=\"stroke:black;stroke-width:1\" /><line x1=\"191.291\" y1=\"170.524\" x2=\"183.095\" y2=\"173.507\" stroke-linecap=\"round\" style=\"stroke:black;stroke-width:1\" /><line x1=\"183.095\" y1=\"173.507\" x2=\"175.541\" y2=\"177.868\" stroke-linecap=\"round\" style=\"stroke:black;stroke-width:1\" /><line x1=\"175.541\" y1=\"177.868\" x2=\"168.859\" y2=\"183.475\" stroke-linecap=\"round\" style=\"stroke:black;stroke-width:1\" /><line x1=\"168.859\" y1=\"183.475\" x2=\"163.252\" y2=\"190.157\" stroke-linecap=\"round\" style=\"stroke:black;stroke-width:1\" /><line x1=\"163.252\" y1=\"190.157\" x2=\"158.891\" y2=\"197.711\" stroke-linecap=\"round\" style=\"stroke:black;stroke-width:1\" /><line x1=\"158.891\" y1=\"197.711\" x2=\"155.908\" y2=\"205.907\" stroke-linecap=\"round\" style=\"stroke:black;stroke-width:1\" /><line x1=\"155.908\" y1=\"205.907\" x2=\"154.393\" y2=\"214.497\" stroke-linecap=\"round\" style=\"stroke:black;stroke-width:1\" /><line x1=\"154.393\" y1=\"214.497\" x2=\"154.393\" y2=\"223.219\" stroke-linecap=\"round\" style=\"stroke:black;stroke-width:1\" /><line x1=\"154.393\" y1=\"223.219\" x2=\"155.908\" y2=\"231.809\" stroke-linecap=\"round\" style=\"stroke:black;stroke-width:1\" /><line x1=\"155.908\" y1=\"231.809\" x2=\"158.891\" y2=\"240.005\" stroke-linecap=\"round\" style=\"stroke:black;stroke-width:1\" /><line x1=\"158.891\" y1=\"240.005\" x2=\"163.252\" y2=\"247.559\" stroke-linecap=\"round\" style=\"stroke:black;stroke-width:1\" /><line x1=\"163.252\" y1=\"247.559\" x2=\"168.859\" y2=\"254.241\" stroke-linecap=\"round\" style=\"stroke:black;stroke-width:1\" /><line x1=\"168.859\" y1=\"254.241\" x2=\"175.541\" y2=\"259.848\" stroke-linecap=\"round\" style=\"stroke:black;stroke-width:1\" /><line x1=\"175.541\" y1=\"259.848\" x2=\"183.095\" y2=\"264.209\" stroke-linecap=\"round\" style=\"stroke:black;stroke-width:1\" /><line x1=\"183.095\" y1=\"264.209\" x2=\"191.291\" y2=\"267.192\" stroke-linecap=\"round\" style=\"stroke:black;stroke-width:1\" /><line x1=\"191.291\" y1=\"267.192\" x2=\"199.881\" y2=\"268.707\" stroke-linecap=\"round\" style=\"stroke:black;stroke-width:1\" /><line x1=\"199.881\" y1=\"268.707\" x2=\"208.603\" y2=\"268.707\" stroke-linecap=\"round\" style=\"stroke:black;stroke-width:1\" /><line x1=\"208.603\" y1=\"268.707\" x2=\"217.193\" y2=\"267.192\" stroke-linecap=\"round\" style=\"stroke:black;stroke-width:1\" /><line x1=\"217.193\" y1=\"267.192\" x2=\"225.389\" y2=\"264.209\" stroke-linecap=\"round\" style=\"stroke:black;stroke-width:1\" /><line x1=\"225.389\" y1=\"264.209\" x2=\"232.943\" y2=\"259.848\" stroke-linecap=\"round\" style=\"stroke:black;stroke-width:1\" /><line x1=\"240.603\" y1=\"253.42\" x2=\"248.799\" y2=\"250.437\" stroke-linecap=\"round\" style=\"stroke:black;stroke-width:1\" /><line x1=\"248.799\" y1=\"250.437\" x2=\"256.353\" y2=\"246.076\" stroke-linecap=\"round\" style=\"stroke:black;stroke-width:1\" /><line x1=\"256.353\" y1=\"246.076\" x2=\"263.035\" y2=\"240.469\" stroke-linecap=\"round\" style=\"stroke:black;stroke-width:1\" /><line x1=\"263.035\" y1=\"240.469\" x2=\"268.642\" y2=\"233.787\" stroke-linecap=\"round\" style=\"stroke:black;stroke-width:1\" /><line x1=\"268.642\" y1=\"233.787\" x2=\"273.003\" y2=\"226.233\" stroke-linecap=\"round\" style=\"stroke:black;stroke-width:1\" /><line x1=\"273.003\" y1=\"226.233\" x2=\"275.986\" y2=\"218.037\" stroke-linecap=\"round\" style=\"stroke:black;stroke-width:1\" /><line x1=\"275.986\" y1=\"218.037\" x2=\"277.501\" y2=\"209.447\" stroke-linecap=\"round\" style=\"stroke:black;stroke-width:1\" /><line x1=\"277.501\" y1=\"209.447\" x2=\"277.501\" y2=\"200.725\" stroke-linecap=\"round\" style=\"stroke:black;stroke-width:1\" /><line x1=\"277.501\" y1=\"200.725\" x2=\"275.986\" y2=\"192.135\" stroke-linecap=\"round\" style=\"stroke:black;stroke-width:1\" /><line x1=\"275.986\" y1=\"192.135\" x2=\"273.003\" y2=\"183.939\" stroke-linecap=\"round\" style=\"stroke:black;stroke-width:1\" /><line x1=\"273.003\" y1=\"183.939\" x2=\"268.642\" y2=\"176.385\" stroke-linecap=\"round\" style=\"stroke:black;stroke-width:1\" /><line x1=\"268.642\" y1=\"176.385\" x2=\"263.035\" y2=\"169.703\" stroke-linecap=\"round\" style=\"stroke:black;stroke-width:1\" /><line x1=\"263.035\" y1=\"169.703\" x2=\"256.353\" y2=\"164.096\" stroke-linecap=\"round\" style=\"stroke:black;stroke-width:1\" /><line x1=\"256.353\" y1=\"164.096\" x2=\"248.799\" y2=\"159.735\" stroke-linecap=\"round\" style=\"stroke:black;stroke-width:1\" /><line x1=\"248.799\" y1=\"159.735\" x2=\"240.603\" y2=\"156.752\" stroke-linecap=\"round\" style=\"stroke:black;stroke-width:1\" /><line x1=\"240.603\" y1=\"156.752\" x2=\"232.013\" y2=\"155.237\" stroke-linecap=\"round\" style=\"stroke:black;stroke-width:1\" /><line x1=\"232.013\" y1=\"155.237\" x2=\"223.291\" y2=\"155.237\" stroke-linecap=\"round\" style=\"stroke:black;stroke-width:1\" /><line x1=\"223.291\" y1=\"155.237\" x2=\"214.701\" y2=\"156.752\" stroke-linecap=\"round\" style=\"stroke:black;stroke-width:1\" /><line x1=\"214.701\" y1=\"156.752\" x2=\"206.505\" y2=\"159.735\" stroke-linecap=\"round\" style=\"stroke:black;stroke-width:1\" /><line x1=\"206.505\" y1=\"159.735\" x2=\"198.951\" y2=\"164.096\" stroke-linecap=\"round\" style=\"stroke:black;stroke-width:1\" /><line x1=\"198.951\" y1=\"164.096\" x2=\"192.269\" y2=\"169.703\" stroke-linecap=\"round\" style=\"stroke:black;stroke-width:1\" /><line x1=\"192.269\" y1=\"169.703\" x2=\"186.662\" y2=\"176.385\" stroke-linecap=\"round\" style=\"stroke:black;stroke-width:1\" /><line x1=\"186.662\" y1=\"176.385\" x2=\"182.301\" y2=\"183.939\" stroke-linecap=\"round\" style=\"stroke:black;stroke-width:1\" /><line x1=\"182.301\" y1=\"183.939\" x2=\"179.318\" y2=\"192.135\" stroke-linecap=\"round\" style=\"stroke:black;stroke-width:1\" /><line x1=\"179.318\" y1=\"192.135\" x2=\"177.803\" y2=\"200.725\" stroke-linecap=\"round\" style=\"stroke:black;stroke-width:1\" /><line x1=\"177.803\" y1=\"200.725\" x2=\"177.803\" y2=\"209.447\" stroke-linecap=\"round\" style=\"stroke:black;stroke-width:1\" /><line x1=\"177.803\" y1=\"209.447\" x2=\"179.318\" y2=\"218.037\" stroke-linecap=\"round\" style=\"stroke:black;stroke-width:1\" /><line x1=\"179.318\" y1=\"218.037\" x2=\"182.301\" y2=\"226.233\" stroke-linecap=\"round\" style=\"stroke:black;stroke-width:1\" /><line x1=\"182.301\" y1=\"226.233\" x2=\"186.662\" y2=\"233.787\" stroke-linecap=\"round\" style=\"stroke:black;stroke-width:1\" /><line x1=\"186.662\" y1=\"233.787\" x2=\"192.269\" y2=\"240.469\" stroke-linecap=\"round\" style=\"stroke:black;stroke-width:1\" /><line x1=\"192.269\" y1=\"240.469\" x2=\"198.951\" y2=\"246.076\" stroke-linecap=\"round\" style=\"stroke:black;stroke-width:1\" /><line x1=\"198.951\" y1=\"246.076\" x2=\"206.505\" y2=\"250.437\" stroke-linecap=\"round\" style=\"stroke:black;stroke-width:1\" /><line x1=\"206.505\" y1=\"250.437\" x2=\"214.701\" y2=\"253.42\" stroke-linecap=\"round\" style=\"stroke:black;stroke-width:1\" /><line x1=\"214.701\" y1=\"253.42\" x2=\"223.291\" y2=\"254.935\" stroke-linecap=\"round\" style=\"stroke:black;stroke-width:1\" /><line x1=\"223.291\" y1=\"254.935\" x2=\"232.013\" y2=\"254.935\" stroke-linecap=\"round\" style=\"stroke:black;stroke-width:1\" /><line x1=\"232.013\" y1=\"254.935\" x2=\"240.603\" y2=\"253.42\" stroke-linecap=\"round\" style=\"stroke:black;stroke-width:1\" />\n",
              "        \n",
              "        \n",
              "        <g id=\"turtle\" visibility=\"hidden\" transform=\"rotate(90.0,250.0,250.0) translate(250.0, 250.0)\">\n",
              "<path style=\"stroke:black;fill-rule:evenodd;fill:black;fill-opacity:1;\" transform=\"skewX(0) scale(1,1)\" d=\"m 1.1536693,-18.56101 c -2.105469,1.167969 -3.203125,3.441407 -3.140625,6.5 l 0.011719,0.519532 -0.300782,-0.15625 c -1.308594,-0.671875 -2.828125,-0.824219 -4.378906,-0.429688 -1.9375,0.484375 -3.8906253,2.089844 -6.0117193,4.9257825 -1.332031,1.785156 -1.714843,2.644531 -1.351562,3.035156 l 0.113281,0.125 h 0.363281 c 0.71875,0 1.308594,-0.265625 4.6679693,-2.113282 1.199219,-0.660156 2.183594,-1.199218 2.191406,-1.199218 0.00781,0 -0.023437,0.089844 -0.074218,0.195312 -0.472657,1.058594 -1.046876,2.785156 -1.335938,4.042969 -1.054688,4.574219 -0.351562,8.453125 2.101562,11.582031 0.28125,0.355469 0.292969,0.253906 -0.097656,0.722656 -2.046875,2.4609375 -3.027344,4.8984375 -2.734375,6.8046875 0.050781,0.339844 0.042969,0.335938 0.679688,0.335938 2.023437,0 4.15625,-1.316407 6.21875,-3.835938 0.222656,-0.269531 0.191406,-0.261719 0.425781,-0.113281 0.730469,0.46875 2.460938,1.390625 2.613281,1.390625 0.160157,0 1.765625,-0.753906 2.652344,-1.246094 0.167969,-0.09375 0.308594,-0.164062 0.308594,-0.160156 0.066406,0.105468 0.761719,0.855468 1.085937,1.171875 1.613282,1.570312 3.339844,2.402343 5.3593747,2.570312 0.324219,0.02734 0.355469,0.0078 0.425781,-0.316406 0.375,-1.742187 -0.382812,-4.058594 -2.1445307,-6.5585935 l -0.320312,-0.457031 0.15625,-0.183594 c 3.2460927,-3.824218 3.4335927,-9.08593704 0.558593,-15.816406 l -0.050781,-0.125 1.7382807,0.859375 c 3.585938,1.773437 4.371094,2.097656 5.085938,2.097656 0.945312,0 0.75,-0.863281 -0.558594,-2.507812 C 11.458356,-11.838353 8.3333563,-13.268041 4.8607003,-11.721166 l -0.363281,0.164063 0.019531,-0.09375 c 0.121094,-0.550781 0.183594,-1.800781 0.121094,-2.378907 -0.203125,-1.867187 -1.035157,-3.199218 -2.695313,-4.308593 -0.523437,-0.351563 -0.546875,-0.355469 -0.789062,-0.222657\" />\n",
              "</g>\n",
              "      </svg>\n",
              "    "
            ]
          },
          "metadata": {}
        }
      ]
    },
    {
      "cell_type": "markdown",
      "source": [
        "## A Note on Data Types and Data Structures\n",
        "\n",
        "**Data structures** are the fundamental constructs around which you build your programs. Each data structure provides a particular way of organising data so it can be accessed efficiently, depending on your use case.\n",
        "\n",
        "Below I list the most common data structures which are dictionaries, lists, sets, and tuples.\n",
        "\n",
        "- Dictionaries: store an arbitrary number of objects, each identified by a unique **key**. Dictionaries are *mutable* collections of key-value pairs, perfect for fast lookup by key.\n",
        "\n",
        "- Lists: *mutable* *ordered* collections of items of mixed types, ideal for storing sequences of values. In this tutorial we will be using them.\n",
        "\n",
        "- Sets: *unordered* collections of *unique* elements, useful for mathematical set operations like union and intersection.\n",
        "\n",
        "- Tuples: *immutable* ordered collections, suitable for fixed data sequences and returning multiple values from functions.\n",
        "\n",
        "For more, see [Common python Data Structures](https://realpython.com/python-data-structures/)."
      ],
      "metadata": {
        "id": "ShJ0HH1azLwT"
      }
    },
    {
      "cell_type": "code",
      "source": [
        "# creating a list\n",
        "my_list = [1, \"Hello\", 3.14, \"World\"]\n",
        "print(my_list)"
      ],
      "metadata": {
        "colab": {
          "base_uri": "https://localhost:8080/"
        },
        "id": "5hZrSSRP2l7d",
        "outputId": "b98b6f2c-3f78-4859-ddbd-83f099e191df"
      },
      "execution_count": null,
      "outputs": [
        {
          "output_type": "stream",
          "name": "stdout",
          "text": [
            "[1, 'Hello', 3.14, 'World']\n"
          ]
        }
      ]
    },
    {
      "cell_type": "code",
      "source": [
        "# indexing\n",
        "first_item = my_list[0] # remember Python indexing starts from 0!\n",
        "print(first_item)\n",
        "\n",
        "last_item = my_list[-1] # -1 gives you the last item; -2 is second to last and so on\n",
        "print(last_item)"
      ],
      "metadata": {
        "colab": {
          "base_uri": "https://localhost:8080/"
        },
        "id": "YbemISti22E8",
        "outputId": "5dd86e08-e713-4904-9f17-4416f2e98bd5"
      },
      "execution_count": null,
      "outputs": [
        {
          "output_type": "stream",
          "name": "stdout",
          "text": [
            "1\n",
            "World\n"
          ]
        }
      ]
    },
    {
      "cell_type": "code",
      "source": [
        "# modifying list items\n",
        "my_list[1] = \"World\"\n",
        "print(my_list)"
      ],
      "metadata": {
        "colab": {
          "base_uri": "https://localhost:8080/"
        },
        "id": "xKgIEkMK3DkA",
        "outputId": "45fd5713-f0f5-48bc-cb22-632b312762cf"
      },
      "execution_count": null,
      "outputs": [
        {
          "output_type": "stream",
          "name": "stdout",
          "text": [
            "[1, 'World', 3.14, 'World']\n"
          ]
        }
      ]
    },
    {
      "cell_type": "code",
      "source": [
        "# slicing\n",
        "first_two_items = my_list[0:2] # gets the first two items\n",
        "print(first_two_items)\n",
        "\n",
        "print(my_list[:2]) # gets everyting up to the third item (not included)\n",
        "\n",
        "print(my_list[1:]) # gets everything starting from the second item\n",
        "\n",
        "print(my_list[::2]) # gets every second item"
      ],
      "metadata": {
        "colab": {
          "base_uri": "https://localhost:8080/"
        },
        "id": "KTjv519G3V3U",
        "outputId": "b37ca336-3e6b-4e75-9b86-785bcd8996d5"
      },
      "execution_count": null,
      "outputs": [
        {
          "output_type": "stream",
          "name": "stdout",
          "text": [
            "[1, 'World']\n",
            "[1, 'World']\n",
            "['World', 3.14, 'World']\n",
            "[1, 3.14]\n"
          ]
        }
      ]
    },
    {
      "cell_type": "code",
      "source": [
        "for i in my_list:\n",
        "    print(i)"
      ],
      "metadata": {
        "colab": {
          "base_uri": "https://localhost:8080/"
        },
        "id": "zjyv7vJaxvgV",
        "outputId": "081910d5-41d2-48a8-87d3-f297dc700a24"
      },
      "execution_count": null,
      "outputs": [
        {
          "output_type": "stream",
          "name": "stdout",
          "text": [
            "1\n",
            "World\n",
            "3.14\n",
            "World\n"
          ]
        }
      ]
    },
    {
      "cell_type": "markdown",
      "source": [
        "## Challenge 3: Draw five stars ⭐ next to each other\n",
        "\n",
        "Your task is to draw five identical stars filled with different colors and set them at an equal spacing from each other.\n",
        "\n",
        "For this one, you need to:\n",
        "1. create a variable storing a list of colors\n",
        "2. write a function that makes a turtle draw a ⭐\n",
        "3. look at the documentation for ColabTurtlePlus to find out how to set the inital position for a Turtle\n",
        "4. write a loop that puts the turtle at the inital position, draws a ⭐ of a corresponding color, moves the turtle to the side and repeats"
      ],
      "metadata": {
        "id": "JC1C5fgLxAqO"
      }
    },
    {
      "cell_type": "code",
      "source": [
        "#@title Colors in ColabTurtle\n",
        "ct.clearscreen()\n",
        "ct.initializeTurtle((WIDTH, HEIGHT))\n",
        "\n",
        "bob = ct.Turtle()\n",
        "bob.shape('turtle')\n",
        "\n",
        "bob.color('red', 'green') # first argument for pen color, second for fill color\n",
        "# bob.pencolor('blue')\n",
        "# bob.fillcolor('blue')\n",
        "\n",
        "bob.begin_fill()\n",
        "for i in range(4): # euqivalent to \"for i in (0, 1, 2, 3)\"\n",
        "    bob.forward(100)\n",
        "    bob.left(90)\n",
        "\n",
        "bob.end_fill()"
      ],
      "metadata": {
        "colab": {
          "base_uri": "https://localhost:8080/",
          "height": 521
        },
        "id": "2qBhb36cS0be",
        "outputId": "b17684b6-6e66-4d11-a461-10aedf9ff0e8"
      },
      "execution_count": 21,
      "outputs": [
        {
          "output_type": "display_data",
          "data": {
            "text/plain": [
              "<IPython.core.display.HTML object>"
            ],
            "text/html": [
              "\n",
              "      <svg width=\"500\" height=\"500\">  \n",
              "        <rect width=\"100%\" height=\"100%\" style=\"fill:white;stroke:;stroke-width:1\"/>\n",
              "        \n",
              "        \n",
              "        <path fill-rule=\"evenodd\" fill-opacity=\"1\" d=\"M 250.0 250.0  L 350.0 250.0  L 350.0 150.0  L 250.0 150.0  L 250.0 250.0 \" stroke-linecap=\"round\" style=\"stroke:red;stroke-width:1\" fill=\"green\" />\n",
              "        \n",
              "        \n",
              "        <g id=\"turtle\" visibility=\"visible\" transform=\"rotate(90,250.0,250.0) translate(250.0, 250.0)\">\n",
              "<path style=\"stroke:red;fill-rule:evenodd;fill:green;fill-opacity:1;\" transform=\"skewX(0) scale(1,1)\" d=\"m 1.1536693,-18.56101 c -2.105469,1.167969 -3.203125,3.441407 -3.140625,6.5 l 0.011719,0.519532 -0.300782,-0.15625 c -1.308594,-0.671875 -2.828125,-0.824219 -4.378906,-0.429688 -1.9375,0.484375 -3.8906253,2.089844 -6.0117193,4.9257825 -1.332031,1.785156 -1.714843,2.644531 -1.351562,3.035156 l 0.113281,0.125 h 0.363281 c 0.71875,0 1.308594,-0.265625 4.6679693,-2.113282 1.199219,-0.660156 2.183594,-1.199218 2.191406,-1.199218 0.00781,0 -0.023437,0.089844 -0.074218,0.195312 -0.472657,1.058594 -1.046876,2.785156 -1.335938,4.042969 -1.054688,4.574219 -0.351562,8.453125 2.101562,11.582031 0.28125,0.355469 0.292969,0.253906 -0.097656,0.722656 -2.046875,2.4609375 -3.027344,4.8984375 -2.734375,6.8046875 0.050781,0.339844 0.042969,0.335938 0.679688,0.335938 2.023437,0 4.15625,-1.316407 6.21875,-3.835938 0.222656,-0.269531 0.191406,-0.261719 0.425781,-0.113281 0.730469,0.46875 2.460938,1.390625 2.613281,1.390625 0.160157,0 1.765625,-0.753906 2.652344,-1.246094 0.167969,-0.09375 0.308594,-0.164062 0.308594,-0.160156 0.066406,0.105468 0.761719,0.855468 1.085937,1.171875 1.613282,1.570312 3.339844,2.402343 5.3593747,2.570312 0.324219,0.02734 0.355469,0.0078 0.425781,-0.316406 0.375,-1.742187 -0.382812,-4.058594 -2.1445307,-6.5585935 l -0.320312,-0.457031 0.15625,-0.183594 c 3.2460927,-3.824218 3.4335927,-9.08593704 0.558593,-15.816406 l -0.050781,-0.125 1.7382807,0.859375 c 3.585938,1.773437 4.371094,2.097656 5.085938,2.097656 0.945312,0 0.75,-0.863281 -0.558594,-2.507812 C 11.458356,-11.838353 8.3333563,-13.268041 4.8607003,-11.721166 l -0.363281,0.164063 0.019531,-0.09375 c 0.121094,-0.550781 0.183594,-1.800781 0.121094,-2.378907 -0.203125,-1.867187 -1.035157,-3.199218 -2.695313,-4.308593 -0.523437,-0.351563 -0.546875,-0.355469 -0.789062,-0.222657\" />\n",
              "</g>\n",
              "      </svg>\n",
              "    "
            ]
          },
          "metadata": {}
        }
      ]
    },
    {
      "cell_type": "code",
      "source": [
        "ct.clearscreen()\n",
        "ct.initializeTurtle((WIDTH, HEIGHT))\n",
        "\n",
        "bob = ct.Turtle()\n",
        "bob.shape('turtle')\n",
        "\n",
        "\n",
        "# your code #\n",
        "\n",
        "# Define colour options\n",
        "fill_colour = [\"yellow\", \"blue\", \"red\", \"green\"]\n",
        "\n",
        "# Define drawing a star\n",
        "\n",
        "    bob.begin_fill()\n",
        "    for i in range(5):\n",
        "      bob.forward(50)\n",
        "      bob.right(144)\n",
        "    bob.end_fill()\n",
        "\n",
        "\n",
        "\n",
        "\n",
        "\n",
        "\n"
      ],
      "metadata": {
        "id": "8VKVntyt2Vam",
        "outputId": "8e56e044-0fb4-40fd-c8e9-a0644d8dfd4a",
        "colab": {
          "base_uri": "https://localhost:8080/",
          "height": 108
        }
      },
      "execution_count": 40,
      "outputs": [
        {
          "output_type": "error",
          "ename": "IndentationError",
          "evalue": "unexpected indent (<ipython-input-40-9a49214da2d7>, line 15)",
          "traceback": [
            "\u001b[0;36m  File \u001b[0;32m\"<ipython-input-40-9a49214da2d7>\"\u001b[0;36m, line \u001b[0;32m15\u001b[0m\n\u001b[0;31m    bob.begin_fill()\u001b[0m\n\u001b[0m    ^\u001b[0m\n\u001b[0;31mIndentationError\u001b[0m\u001b[0;31m:\u001b[0m unexpected indent\n"
          ]
        }
      ]
    },
    {
      "cell_type": "markdown",
      "source": [
        ".\n",
        "\n",
        ".\n",
        "\n",
        ".\n",
        "\n",
        ".\n",
        "\n",
        ".\n",
        "\n",
        "\n",
        "\n",
        "----"
      ],
      "metadata": {
        "id": "x1GwRznijVnX"
      }
    },
    {
      "cell_type": "code",
      "source": [
        "#@title Solution\n",
        "ct.clearscreen()\n",
        "ct.initializeTurtle((WIDTH, HEIGHT))\n",
        "\n",
        "bob = ct.Turtle()\n",
        "bob.shape('turtle')\n",
        "\n",
        "colors = ['yellow', 'blue', 'green', 'yellow', 'red']\n",
        "\n",
        "def draw_star_color(color: str):\n",
        "    '''\n",
        "    draw a five point star\n",
        "    '''\n",
        "    bob.fillcolor(color)\n",
        "    bob.begin_fill()\n",
        "    for _ in range(5):\n",
        "        bob.forward(50)\n",
        "        bob.right(144)\n",
        "    bob.end_fill()\n",
        "\n",
        "\n",
        "\n",
        "for i in range(5):\n",
        "    draw_star_color(colors[i])\n",
        "    bob.penup()\n",
        "    bob.forward(70) # inital movement + 20\n",
        "    bob.pendown()\n"
      ],
      "metadata": {
        "colab": {
          "base_uri": "https://localhost:8080/",
          "height": 868
        },
        "id": "wfVLj1Rj_DZf",
        "outputId": "525c3c2c-f3b5-4ae4-9d0b-a2f38a5f4d0f"
      },
      "execution_count": 28,
      "outputs": [
        {
          "output_type": "display_data",
          "data": {
            "text/plain": [
              "<IPython.core.display.HTML object>"
            ],
            "text/html": [
              "\n",
              "      <svg width=\"500\" height=\"500\">  \n",
              "        <rect width=\"100%\" height=\"100%\" style=\"fill:white;stroke:;stroke-width:1\"/>\n",
              "        \n",
              "        \n",
              "        <path fill-rule=\"evenodd\" fill-opacity=\"1\" d=\"M 250.0 250.0  L 300.0 250.0  L 259.549 279.389  L 275.0 231.836  L 290.451 279.389  L 250.0 250.0 \" stroke-linecap=\"round\" style=\"stroke:black;stroke-width:1\" fill=\"yellow\" /><path fill-rule=\"evenodd\" fill-opacity=\"1\" d=\"M 320.0 250.0  L 370.0 250.0  L 329.549 279.389  L 345.0 231.836  L 360.451 279.389  L 320.0 250.0 \" stroke-linecap=\"round\" style=\"stroke:black;stroke-width:1\" fill=\"blue\" /><path fill-rule=\"evenodd\" fill-opacity=\"1\" d=\"M 390.0 250.0  L 440.0 250.0  L 399.549 279.389  L 415.0 231.836  L 430.451 279.389  L 390.0 250.0 \" stroke-linecap=\"round\" style=\"stroke:black;stroke-width:1\" fill=\"green\" /><line x1=\"460.0\" y1=\"250.0\" x2=\"510.0\" y2=\"250.0\" stroke-linecap=\"round\" style=\"stroke:black;stroke-width:1\" /><line x1=\"510.0\" y1=\"250.0\" x2=\"469.549\" y2=\"279.389\" stroke-linecap=\"round\" style=\"stroke:black;stroke-width:1\" /><line x1=\"469.549\" y1=\"279.389\" x2=\"485.0\" y2=\"231.836\" stroke-linecap=\"round\" style=\"stroke:black;stroke-width:1\" /><line x1=\"485.0\" y1=\"231.836\" x2=\"488.09016994374946\" y2=\"241.34656516295155\" stroke-linecap=\"round\" style=\"stroke:black;stroke-width:1\" /><line x1=\"488.09016994374946\" y1=\"241.34656516295155\" x2=\"491.1803398874989\" y2=\"250.85713032590309\" stroke-linecap=\"round\" style=\"stroke:black;stroke-width:1\" /><line x1=\"491.1803398874989\" y1=\"250.85713032590309\" x2=\"494.2705098312484\" y2=\"260.3676954888546\" stroke-linecap=\"round\" style=\"stroke:black;stroke-width:1\" />\n",
              "        \n",
              "        \n",
              "        <g id=\"turtle\" visibility=\"visible\" transform=\"rotate(162,494.2705098312484,260.3676954888546) translate(494.2705098312484, 260.3676954888546)\">\n",
              "<path style=\"stroke:black;fill-rule:evenodd;fill:yellow;fill-opacity:1;\" transform=\"skewX(0) scale(1,1)\" d=\"m 1.1536693,-18.56101 c -2.105469,1.167969 -3.203125,3.441407 -3.140625,6.5 l 0.011719,0.519532 -0.300782,-0.15625 c -1.308594,-0.671875 -2.828125,-0.824219 -4.378906,-0.429688 -1.9375,0.484375 -3.8906253,2.089844 -6.0117193,4.9257825 -1.332031,1.785156 -1.714843,2.644531 -1.351562,3.035156 l 0.113281,0.125 h 0.363281 c 0.71875,0 1.308594,-0.265625 4.6679693,-2.113282 1.199219,-0.660156 2.183594,-1.199218 2.191406,-1.199218 0.00781,0 -0.023437,0.089844 -0.074218,0.195312 -0.472657,1.058594 -1.046876,2.785156 -1.335938,4.042969 -1.054688,4.574219 -0.351562,8.453125 2.101562,11.582031 0.28125,0.355469 0.292969,0.253906 -0.097656,0.722656 -2.046875,2.4609375 -3.027344,4.8984375 -2.734375,6.8046875 0.050781,0.339844 0.042969,0.335938 0.679688,0.335938 2.023437,0 4.15625,-1.316407 6.21875,-3.835938 0.222656,-0.269531 0.191406,-0.261719 0.425781,-0.113281 0.730469,0.46875 2.460938,1.390625 2.613281,1.390625 0.160157,0 1.765625,-0.753906 2.652344,-1.246094 0.167969,-0.09375 0.308594,-0.164062 0.308594,-0.160156 0.066406,0.105468 0.761719,0.855468 1.085937,1.171875 1.613282,1.570312 3.339844,2.402343 5.3593747,2.570312 0.324219,0.02734 0.355469,0.0078 0.425781,-0.316406 0.375,-1.742187 -0.382812,-4.058594 -2.1445307,-6.5585935 l -0.320312,-0.457031 0.15625,-0.183594 c 3.2460927,-3.824218 3.4335927,-9.08593704 0.558593,-15.816406 l -0.050781,-0.125 1.7382807,0.859375 c 3.585938,1.773437 4.371094,2.097656 5.085938,2.097656 0.945312,0 0.75,-0.863281 -0.558594,-2.507812 C 11.458356,-11.838353 8.3333563,-13.268041 4.8607003,-11.721166 l -0.363281,0.164063 0.019531,-0.09375 c 0.121094,-0.550781 0.183594,-1.800781 0.121094,-2.378907 -0.203125,-1.867187 -1.035157,-3.199218 -2.695313,-4.308593 -0.523437,-0.351563 -0.546875,-0.355469 -0.789062,-0.222657\" />\n",
              "</g>\n",
              "      </svg>\n",
              "    "
            ]
          },
          "metadata": {}
        },
        {
          "output_type": "error",
          "ename": "KeyboardInterrupt",
          "evalue": "",
          "traceback": [
            "\u001b[0;31m---------------------------------------------------------------------------\u001b[0m",
            "\u001b[0;31mKeyboardInterrupt\u001b[0m                         Traceback (most recent call last)",
            "\u001b[0;32m<ipython-input-28-f5e76749226c>\u001b[0m in \u001b[0;36m<cell line: 0>\u001b[0;34m()\u001b[0m\n\u001b[1;32m     22\u001b[0m \u001b[0;34m\u001b[0m\u001b[0m\n\u001b[1;32m     23\u001b[0m \u001b[0;32mfor\u001b[0m \u001b[0mi\u001b[0m \u001b[0;32min\u001b[0m \u001b[0mrange\u001b[0m\u001b[0;34m(\u001b[0m\u001b[0;36m5\u001b[0m\u001b[0;34m)\u001b[0m\u001b[0;34m:\u001b[0m\u001b[0;34m\u001b[0m\u001b[0;34m\u001b[0m\u001b[0m\n\u001b[0;32m---> 24\u001b[0;31m     \u001b[0mdraw_star_color\u001b[0m\u001b[0;34m(\u001b[0m\u001b[0mcolors\u001b[0m\u001b[0;34m[\u001b[0m\u001b[0mi\u001b[0m\u001b[0;34m]\u001b[0m\u001b[0;34m)\u001b[0m\u001b[0;34m\u001b[0m\u001b[0;34m\u001b[0m\u001b[0m\n\u001b[0m\u001b[1;32m     25\u001b[0m     \u001b[0mbob\u001b[0m\u001b[0;34m.\u001b[0m\u001b[0mpenup\u001b[0m\u001b[0;34m(\u001b[0m\u001b[0;34m)\u001b[0m\u001b[0;34m\u001b[0m\u001b[0;34m\u001b[0m\u001b[0m\n\u001b[1;32m     26\u001b[0m     \u001b[0mbob\u001b[0m\u001b[0;34m.\u001b[0m\u001b[0mforward\u001b[0m\u001b[0;34m(\u001b[0m\u001b[0;36m70\u001b[0m\u001b[0;34m)\u001b[0m \u001b[0;31m# inital movement + 20\u001b[0m\u001b[0;34m\u001b[0m\u001b[0;34m\u001b[0m\u001b[0m\n",
            "\u001b[0;32m<ipython-input-28-f5e76749226c>\u001b[0m in \u001b[0;36mdraw_star_color\u001b[0;34m(color)\u001b[0m\n\u001b[1;32m     15\u001b[0m     \u001b[0mbob\u001b[0m\u001b[0;34m.\u001b[0m\u001b[0mbegin_fill\u001b[0m\u001b[0;34m(\u001b[0m\u001b[0;34m)\u001b[0m\u001b[0;34m\u001b[0m\u001b[0;34m\u001b[0m\u001b[0m\n\u001b[1;32m     16\u001b[0m     \u001b[0;32mfor\u001b[0m \u001b[0m_\u001b[0m \u001b[0;32min\u001b[0m \u001b[0mrange\u001b[0m\u001b[0;34m(\u001b[0m\u001b[0;36m5\u001b[0m\u001b[0;34m)\u001b[0m\u001b[0;34m:\u001b[0m\u001b[0;34m\u001b[0m\u001b[0;34m\u001b[0m\u001b[0m\n\u001b[0;32m---> 17\u001b[0;31m         \u001b[0mbob\u001b[0m\u001b[0;34m.\u001b[0m\u001b[0mforward\u001b[0m\u001b[0;34m(\u001b[0m\u001b[0;36m50\u001b[0m\u001b[0;34m)\u001b[0m\u001b[0;34m\u001b[0m\u001b[0;34m\u001b[0m\u001b[0m\n\u001b[0m\u001b[1;32m     18\u001b[0m         \u001b[0mbob\u001b[0m\u001b[0;34m.\u001b[0m\u001b[0mright\u001b[0m\u001b[0;34m(\u001b[0m\u001b[0;36m144\u001b[0m\u001b[0;34m)\u001b[0m\u001b[0;34m\u001b[0m\u001b[0;34m\u001b[0m\u001b[0m\n\u001b[1;32m     19\u001b[0m     \u001b[0mbob\u001b[0m\u001b[0;34m.\u001b[0m\u001b[0mend_fill\u001b[0m\u001b[0;34m(\u001b[0m\u001b[0;34m)\u001b[0m\u001b[0;34m\u001b[0m\u001b[0;34m\u001b[0m\u001b[0m\n",
            "\u001b[0;32m/usr/local/lib/python3.11/dist-packages/ColabTurtlePlus/Turtle.py\u001b[0m in \u001b[0;36mforward\u001b[0;34m(self, units)\u001b[0m\n\u001b[1;32m    860\u001b[0m         \u001b[0malpha\u001b[0m \u001b[0;34m=\u001b[0m \u001b[0mmath\u001b[0m\u001b[0;34m.\u001b[0m\u001b[0mradians\u001b[0m\u001b[0;34m(\u001b[0m\u001b[0mself\u001b[0m\u001b[0;34m.\u001b[0m\u001b[0mturtle_degree\u001b[0m\u001b[0;34m)\u001b[0m\u001b[0;34m\u001b[0m\u001b[0;34m\u001b[0m\u001b[0m\n\u001b[1;32m    861\u001b[0m         \u001b[0mnew_pos\u001b[0m \u001b[0;34m=\u001b[0m \u001b[0;34m(\u001b[0m\u001b[0mself\u001b[0m\u001b[0;34m.\u001b[0m\u001b[0mturtle_pos\u001b[0m\u001b[0;34m[\u001b[0m\u001b[0;36m0\u001b[0m\u001b[0;34m]\u001b[0m \u001b[0;34m+\u001b[0m \u001b[0munits\u001b[0m \u001b[0;34m*\u001b[0m \u001b[0mself\u001b[0m\u001b[0;34m.\u001b[0m\u001b[0mscreen\u001b[0m\u001b[0;34m.\u001b[0m\u001b[0mxscale\u001b[0m \u001b[0;34m*\u001b[0m \u001b[0mmath\u001b[0m\u001b[0;34m.\u001b[0m\u001b[0mcos\u001b[0m\u001b[0;34m(\u001b[0m\u001b[0malpha\u001b[0m\u001b[0;34m)\u001b[0m\u001b[0;34m,\u001b[0m \u001b[0mself\u001b[0m\u001b[0;34m.\u001b[0m\u001b[0mturtle_pos\u001b[0m\u001b[0;34m[\u001b[0m\u001b[0;36m1\u001b[0m\u001b[0;34m]\u001b[0m \u001b[0;34m+\u001b[0m \u001b[0munits\u001b[0m \u001b[0;34m*\u001b[0m \u001b[0mabs\u001b[0m\u001b[0;34m(\u001b[0m\u001b[0mself\u001b[0m\u001b[0;34m.\u001b[0m\u001b[0mscreen\u001b[0m\u001b[0;34m.\u001b[0m\u001b[0myscale\u001b[0m\u001b[0;34m)\u001b[0m \u001b[0;34m*\u001b[0m \u001b[0mmath\u001b[0m\u001b[0;34m.\u001b[0m\u001b[0msin\u001b[0m\u001b[0;34m(\u001b[0m\u001b[0malpha\u001b[0m\u001b[0;34m)\u001b[0m\u001b[0;34m)\u001b[0m\u001b[0;34m\u001b[0m\u001b[0;34m\u001b[0m\u001b[0m\n\u001b[0;32m--> 862\u001b[0;31m         \u001b[0mself\u001b[0m\u001b[0;34m.\u001b[0m\u001b[0mscreen\u001b[0m\u001b[0;34m.\u001b[0m\u001b[0m_moveToNewPosition\u001b[0m\u001b[0;34m(\u001b[0m\u001b[0mnew_pos\u001b[0m\u001b[0;34m,\u001b[0m\u001b[0munits\u001b[0m\u001b[0;34m,\u001b[0m \u001b[0mturtle\u001b[0m\u001b[0;34m=\u001b[0m\u001b[0mself\u001b[0m\u001b[0;34m)\u001b[0m\u001b[0;34m\u001b[0m\u001b[0;34m\u001b[0m\u001b[0m\n\u001b[0m\u001b[1;32m    863\u001b[0m     \u001b[0mfd\u001b[0m \u001b[0;34m=\u001b[0m \u001b[0mforward\u001b[0m \u001b[0;31m# alias\u001b[0m\u001b[0;34m\u001b[0m\u001b[0;34m\u001b[0m\u001b[0m\n\u001b[1;32m    864\u001b[0m \u001b[0;34m\u001b[0m\u001b[0m\n",
            "\u001b[0;32m/usr/local/lib/python3.11/dist-packages/ColabTurtlePlus/Turtle.py\u001b[0m in \u001b[0;36m_moveToNewPosition\u001b[0;34m(self, new_pos, units, turtle)\u001b[0m\n\u001b[1;32m    362\u001b[0m                             pwidth=turtle.pen_width) \n\u001b[1;32m    363\u001b[0m                     \u001b[0minitial_pos\u001b[0m \u001b[0;34m=\u001b[0m \u001b[0mturtle\u001b[0m\u001b[0;34m.\u001b[0m\u001b[0mturtle_pos\u001b[0m\u001b[0;34m\u001b[0m\u001b[0;34m\u001b[0m\u001b[0m\n\u001b[0;32m--> 364\u001b[0;31m                     \u001b[0mself\u001b[0m\u001b[0;34m.\u001b[0m\u001b[0m_updateDrawing\u001b[0m\u001b[0;34m(\u001b[0m\u001b[0mturtle\u001b[0m\u001b[0;34m=\u001b[0m\u001b[0mturtle\u001b[0m\u001b[0;34m)\u001b[0m\u001b[0;34m\u001b[0m\u001b[0;34m\u001b[0m\u001b[0m\n\u001b[0m\u001b[1;32m    365\u001b[0m                     \u001b[0munits\u001b[0m \u001b[0;34m-=\u001b[0m \u001b[0mdunits\u001b[0m\u001b[0;34m\u001b[0m\u001b[0;34m\u001b[0m\u001b[0m\n\u001b[1;32m    366\u001b[0m             \u001b[0;32melse\u001b[0m\u001b[0;34m:\u001b[0m\u001b[0;34m\u001b[0m\u001b[0;34m\u001b[0m\u001b[0m\n",
            "\u001b[0;32m/usr/local/lib/python3.11/dist-packages/ColabTurtlePlus/Turtle.py\u001b[0m in \u001b[0;36m_updateDrawing\u001b[0;34m(self, turtle, delay)\u001b[0m\n\u001b[1;32m    325\u001b[0m                 \u001b[0mself\u001b[0m\u001b[0;34m.\u001b[0m\u001b[0mdrawing_window\u001b[0m\u001b[0;34m.\u001b[0m\u001b[0mupdate\u001b[0m\u001b[0;34m(\u001b[0m\u001b[0mHTML\u001b[0m\u001b[0;34m(\u001b[0m\u001b[0mself\u001b[0m\u001b[0;34m.\u001b[0m\u001b[0m_generateSvgDrawing\u001b[0m\u001b[0;34m(\u001b[0m\u001b[0;34m)\u001b[0m\u001b[0;34m)\u001b[0m\u001b[0;34m)\u001b[0m\u001b[0;34m\u001b[0m\u001b[0;34m\u001b[0m\u001b[0m\n\u001b[1;32m    326\u001b[0m                 \u001b[0;32mif\u001b[0m \u001b[0mdelay\u001b[0m\u001b[0;34m:\u001b[0m\u001b[0;34m\u001b[0m\u001b[0;34m\u001b[0m\u001b[0m\n\u001b[0;32m--> 327\u001b[0;31m                     \u001b[0mtime\u001b[0m\u001b[0;34m.\u001b[0m\u001b[0msleep\u001b[0m\u001b[0;34m(\u001b[0m\u001b[0mturtle\u001b[0m\u001b[0;34m.\u001b[0m\u001b[0mtimeout\u001b[0m\u001b[0;34m)\u001b[0m\u001b[0;34m\u001b[0m\u001b[0;34m\u001b[0m\u001b[0m\n\u001b[0m\u001b[1;32m    328\u001b[0m         \u001b[0;32melse\u001b[0m\u001b[0;34m:\u001b[0m\u001b[0;34m\u001b[0m\u001b[0;34m\u001b[0m\u001b[0m\n\u001b[1;32m    329\u001b[0m             \u001b[0mself\u001b[0m\u001b[0;34m.\u001b[0m\u001b[0mdrawing_window\u001b[0m\u001b[0;34m.\u001b[0m\u001b[0mupdate\u001b[0m\u001b[0;34m(\u001b[0m\u001b[0mHTML\u001b[0m\u001b[0;34m(\u001b[0m\u001b[0mself\u001b[0m\u001b[0;34m.\u001b[0m\u001b[0m_generateSvgDrawing\u001b[0m\u001b[0;34m(\u001b[0m\u001b[0;34m)\u001b[0m\u001b[0;34m)\u001b[0m\u001b[0;34m)\u001b[0m\u001b[0;34m\u001b[0m\u001b[0;34m\u001b[0m\u001b[0m\n",
            "\u001b[0;31mKeyboardInterrupt\u001b[0m: "
          ]
        }
      ]
    },
    {
      "cell_type": "markdown",
      "source": [
        "This solution looks odd. Ideally, we want to shift the turtle's initial position to the left to make the stars appear in the center of our canvas.\n",
        "\n",
        "For that, remember that the starting position by default is at `(0,0)` coordinates in our `(x,y)` canvas coordinate system.\n",
        "\n",
        "To shift the turtle's default starting position, we can use the `goto(x,y)` command. If we know the desired coordinates, we can just incert this command before the `for loop` to achieve the desired effect. The trick is to calculate the desired x (since it is a horizontal movement, y remains at `0`).\n",
        "\n",
        "\n"
      ],
      "metadata": {
        "id": "Z91x8GxjC1Lr"
      }
    },
    {
      "cell_type": "code",
      "source": [
        "#@title Solution (Improved)\n",
        "ct.clearscreen()\n",
        "ct.initializeTurtle((WIDTH, HEIGHT))\n",
        "\n",
        "bob = ct.Turtle()\n",
        "bob.shape('turtle')\n",
        "\n",
        "colors = ['yellow', 'blue', 'green', 'yellow', 'red']\n",
        "\n",
        "star_size = 50\n",
        "forward_step = 20\n",
        "initial_space = (star_size + forward_step) * 2 + (star_size // 2)\n",
        "\n",
        "def draw_star_color(color: str):\n",
        "    '''\n",
        "    draw a five point star\n",
        "    '''\n",
        "    bob.fillcolor(color)\n",
        "    bob.begin_fill()\n",
        "    for _ in range(5):\n",
        "        bob.forward(star_size)\n",
        "        bob.right(144)\n",
        "    bob.end_fill()\n",
        "\n",
        "bob.penup()\n",
        "bob.goto(-initial_space, 0) # (star_size + forward_step) * 2 + (star_size // 2)\n",
        "\n",
        "\n",
        "for i in range(5):\n",
        "    bob.pendown()\n",
        "    draw_star_color(colors[i])\n",
        "    bob.penup()\n",
        "    bob.forward(star_size+forward_step) # inital movement + 20\n",
        "\n",
        "bob.hideturtle()"
      ],
      "metadata": {
        "colab": {
          "base_uri": "https://localhost:8080/",
          "height": 521
        },
        "cellView": "form",
        "id": "wiYz8vKkEq8q",
        "outputId": "164cbd94-36f6-489d-8797-e55b28622ba9"
      },
      "execution_count": null,
      "outputs": [
        {
          "output_type": "display_data",
          "data": {
            "text/plain": [
              "<IPython.core.display.HTML object>"
            ],
            "text/html": [
              "\n",
              "      <svg width=\"500\" height=\"500\">  \n",
              "        <rect width=\"100%\" height=\"100%\" style=\"fill:white;stroke:;stroke-width:1\"/>\n",
              "        \n",
              "        \n",
              "        <path fill-rule=\"evenodd\" fill-opacity=\"1\" d=\"M 85.0 250.0  L 135.0 250.0  L 94.549 279.389  L 110.0 231.836  L 125.451 279.389  L 85.0 250.0 \" stroke-linecap=\"round\" style=\"stroke:black;stroke-width:1\" fill=\"yellow\" /><path fill-rule=\"evenodd\" fill-opacity=\"1\" d=\"M 155.0 250.0  L 205.0 250.0  L 164.549 279.389  L 180.0 231.836  L 195.451 279.389  L 155.0 250.0 \" stroke-linecap=\"round\" style=\"stroke:black;stroke-width:1\" fill=\"blue\" /><path fill-rule=\"evenodd\" fill-opacity=\"1\" d=\"M 225.0 250.0  L 275.0 250.0  L 234.549 279.389  L 250.0 231.836  L 265.451 279.389  L 225.0 250.0 \" stroke-linecap=\"round\" style=\"stroke:black;stroke-width:1\" fill=\"green\" /><path fill-rule=\"evenodd\" fill-opacity=\"1\" d=\"M 295.0 250.0  L 345.0 250.0  L 304.549 279.389  L 320.0 231.836  L 335.451 279.389  L 295.0 250.0 \" stroke-linecap=\"round\" style=\"stroke:black;stroke-width:1\" fill=\"yellow\" /><path fill-rule=\"evenodd\" fill-opacity=\"1\" d=\"M 365.0 250.0  L 415.0 250.0  L 374.549 279.389  L 390.0 231.836  L 405.451 279.389  L 365.0 250.0 \" stroke-linecap=\"round\" style=\"stroke:black;stroke-width:1\" fill=\"red\" />\n",
              "        \n",
              "        \n",
              "        <g id=\"turtle\" visibility=\"hidden\" transform=\"rotate(90,435.0,250.0) translate(435.0, 250.0)\">\n",
              "<path style=\"stroke:black;fill-rule:evenodd;fill:red;fill-opacity:1;\" transform=\"skewX(0) scale(1,1)\" d=\"m 1.1536693,-18.56101 c -2.105469,1.167969 -3.203125,3.441407 -3.140625,6.5 l 0.011719,0.519532 -0.300782,-0.15625 c -1.308594,-0.671875 -2.828125,-0.824219 -4.378906,-0.429688 -1.9375,0.484375 -3.8906253,2.089844 -6.0117193,4.9257825 -1.332031,1.785156 -1.714843,2.644531 -1.351562,3.035156 l 0.113281,0.125 h 0.363281 c 0.71875,0 1.308594,-0.265625 4.6679693,-2.113282 1.199219,-0.660156 2.183594,-1.199218 2.191406,-1.199218 0.00781,0 -0.023437,0.089844 -0.074218,0.195312 -0.472657,1.058594 -1.046876,2.785156 -1.335938,4.042969 -1.054688,4.574219 -0.351562,8.453125 2.101562,11.582031 0.28125,0.355469 0.292969,0.253906 -0.097656,0.722656 -2.046875,2.4609375 -3.027344,4.8984375 -2.734375,6.8046875 0.050781,0.339844 0.042969,0.335938 0.679688,0.335938 2.023437,0 4.15625,-1.316407 6.21875,-3.835938 0.222656,-0.269531 0.191406,-0.261719 0.425781,-0.113281 0.730469,0.46875 2.460938,1.390625 2.613281,1.390625 0.160157,0 1.765625,-0.753906 2.652344,-1.246094 0.167969,-0.09375 0.308594,-0.164062 0.308594,-0.160156 0.066406,0.105468 0.761719,0.855468 1.085937,1.171875 1.613282,1.570312 3.339844,2.402343 5.3593747,2.570312 0.324219,0.02734 0.355469,0.0078 0.425781,-0.316406 0.375,-1.742187 -0.382812,-4.058594 -2.1445307,-6.5585935 l -0.320312,-0.457031 0.15625,-0.183594 c 3.2460927,-3.824218 3.4335927,-9.08593704 0.558593,-15.816406 l -0.050781,-0.125 1.7382807,0.859375 c 3.585938,1.773437 4.371094,2.097656 5.085938,2.097656 0.945312,0 0.75,-0.863281 -0.558594,-2.507812 C 11.458356,-11.838353 8.3333563,-13.268041 4.8607003,-11.721166 l -0.363281,0.164063 0.019531,-0.09375 c 0.121094,-0.550781 0.183594,-1.800781 0.121094,-2.378907 -0.203125,-1.867187 -1.035157,-3.199218 -2.695313,-4.308593 -0.523437,-0.351563 -0.546875,-0.355469 -0.789062,-0.222657\" />\n",
              "</g>\n",
              "      </svg>\n",
              "    "
            ]
          },
          "metadata": {}
        }
      ]
    },
    {
      "cell_type": "markdown",
      "source": [
        "## Challenge 4: Create Racers for the 🐢 Race!\n",
        "\n",
        "Good job! Now we have almost everything we need to code up a function we will use to code up the turtle racing!\n",
        "\n",
        "Our Goal is to make a funciton that does this:\n",
        "\n",
        "<img src=\"https://cdn.githubraw.com/antndlcrx/oss_2024/main/images/turtles_start.png?raw=true:,  width=70\" alt=\"My Image\" width=700>\n",
        "\n",
        "Let us break it down into smaller steps:\n",
        "- make a loop iterating over a list of colors which will\n",
        "- create a turtle\n",
        "- assign them a color\n",
        "- place them at a desired starting position without drawing, equally spaced away from subsequent turtle\n",
        "- tern them left\n",
        "- prepare the turtle to draw\n",
        "- OPTIONAL: change turtle shape and speed\n",
        "- append the turtle to the turtles list\n",
        "\n",
        "\n",
        "\n"
      ],
      "metadata": {
        "id": "p9EHgVmFG8wF"
      }
    },
    {
      "cell_type": "markdown",
      "source": [
        "One thing we would need but have not covered is `.append()` method for `list` objects. It does what it says, namely appends an object to an existing list."
      ],
      "metadata": {
        "id": "XGSb92nKI2Jf"
      }
    },
    {
      "cell_type": "code",
      "source": [
        "empty_list = []\n",
        "x = 1 + 2\n",
        "empty_list.append(x)\n",
        "print(empty_list)"
      ],
      "metadata": {
        "colab": {
          "base_uri": "https://localhost:8080/"
        },
        "id": "65yh1-hgITdJ",
        "outputId": "a7a1fa15-8c87-4275-b8b1-51e12823a5f4"
      },
      "execution_count": null,
      "outputs": [
        {
          "output_type": "stream",
          "name": "stdout",
          "text": [
            "[3]\n"
          ]
        }
      ]
    },
    {
      "cell_type": "code",
      "source": [
        "empty_list = []\n",
        "x = 1\n",
        "for _ in range(3):\n",
        "    x += 2\n",
        "    empty_list.append(x)\n",
        "print(empty_list)"
      ],
      "metadata": {
        "colab": {
          "base_uri": "https://localhost:8080/"
        },
        "id": "BVMCqAoXJTQM",
        "outputId": "3b32c367-94c8-4ee6-f986-852d5ac1ab37"
      },
      "execution_count": null,
      "outputs": [
        {
          "output_type": "stream",
          "name": "stdout",
          "text": [
            "[3, 5, 7]\n"
          ]
        }
      ]
    },
    {
      "cell_type": "markdown",
      "source": [
        "Next, we will use the `len()` built-in function to determine the lenght of a list (the function works with other objects as well)."
      ],
      "metadata": {
        "id": "CF7qiaV5PCN2"
      }
    },
    {
      "cell_type": "code",
      "source": [
        "len(empty_list)"
      ],
      "metadata": {
        "colab": {
          "base_uri": "https://localhost:8080/"
        },
        "id": "Oi7VzBbSPOnO",
        "outputId": "5a560170-2cea-404d-ea7d-9c2ea97ce4de"
      },
      "execution_count": null,
      "outputs": [
        {
          "output_type": "execute_result",
          "data": {
            "text/plain": [
              "3"
            ]
          },
          "metadata": {},
          "execution_count": 46
        }
      ]
    },
    {
      "cell_type": "markdown",
      "source": [
        "We will use that to store turtles we create in a designated list. That way all 🐢 are stored in one place and are ordered, so we can perform operations on them in a controlled structured way (say, assign a particular color to a particular 🐢).\n",
        "\n",
        "Before we do that, lets get aquainted with the `enumerate()` built-in Python function.\n",
        "\n",
        "Using `enumerate()` provides a clean and readable way to access both the index and the value of each item in a list (or any iterable) directly within a loop, without having to manually manage the index.\n",
        "\n",
        "This is especially useful in scenarios where you need to use the index for operations like accessing elements from another list that corresponds to the current list (which is our case for mathcing colors with turtles), comparing positions, or when you're working with iterables where the index isn't inherently available (like sets or generators).\n"
      ],
      "metadata": {
        "id": "5UhQrp1jJhjx"
      }
    },
    {
      "cell_type": "code",
      "source": [
        "example_list = ['a', 'b', 'c']\n",
        "\n",
        "for index, item in enumerate(example_list): # the syntax we will use\n",
        "    print(f\"Index {index}: {item}\")"
      ],
      "metadata": {
        "colab": {
          "base_uri": "https://localhost:8080/"
        },
        "id": "ZFrHGB6IKCeU",
        "outputId": "c5258e03-94a4-4aa9-ae6b-c3378b331f2a"
      },
      "execution_count": null,
      "outputs": [
        {
          "output_type": "stream",
          "name": "stdout",
          "text": [
            "Index 0: a\n",
            "Index 1: b\n",
            "Index 2: c\n"
          ]
        }
      ]
    },
    {
      "cell_type": "code",
      "source": [
        "def create_turtles(colors: list):\n",
        "    racers = [] # empty list you will populate with turtles\n",
        "    spacingx =  # sets out the desired horizontal distance between turtles\n",
        "\n",
        "    # your code #\n",
        "\n",
        "    return racers"
      ],
      "metadata": {
        "id": "YAQbECvKHEVW"
      },
      "execution_count": null,
      "outputs": []
    },
    {
      "cell_type": "code",
      "source": [
        "ct.clearscreen()\n",
        "ct.initializeTurtle((WIDTH, HEIGHT))\n",
        "\n",
        "colors = [] # your colors list ['color1', 'color2' ...]\n",
        "create_turtles(colors)"
      ],
      "metadata": {
        "colab": {
          "base_uri": "https://localhost:8080/"
        },
        "id": "Vzu09xxvODeV",
        "outputId": "2cfe2065-8a63-418b-8037-986fdf73e151"
      },
      "execution_count": null,
      "outputs": [
        {
          "output_type": "execute_result",
          "data": {
            "text/plain": [
              "[]"
            ]
          },
          "metadata": {},
          "execution_count": 45
        }
      ]
    },
    {
      "cell_type": "markdown",
      "source": [
        ".\n",
        "\n",
        ".\n",
        "\n",
        ".\n",
        "\n",
        ".\n",
        "\n",
        ".\n",
        "\n",
        "\n",
        "\n",
        "----"
      ],
      "metadata": {
        "id": "qicdt9-6ja34"
      }
    },
    {
      "cell_type": "code",
      "source": [
        "#@title Solution\n",
        "ct.clearscreen()\n",
        "ct.initializeTurtle((WIDTH, HEIGHT))\n",
        "\n",
        "colors = ['red', 'blue', 'green']\n",
        "\n",
        "def create_turtles(colors: list):\n",
        "    racers = []\n",
        "    spacingx = WIDTH // (len(colors)+1)\n",
        "    for i, color in enumerate(colors):\n",
        "        racer = ct.Turtle()\n",
        "        racer.color(color)\n",
        "        racer.shape('turtle2')\n",
        "        racer.left(90)\n",
        "        racer.penup()\n",
        "        racer.goto(-WIDTH//2 + (i+1)*spacingx,\n",
        "                   -HEIGHT//2+20)\n",
        "        racer.pendown()\n",
        "        racers.append(racer)\n",
        "\n",
        "\n",
        "\n",
        "create_turtles(colors)"
      ],
      "metadata": {
        "colab": {
          "base_uri": "https://localhost:8080/",
          "height": 521
        },
        "id": "Pmy1o4zwNk9Y",
        "outputId": "00f44943-6aea-4c58-ded0-7f59d398ea4f",
        "cellView": "form"
      },
      "execution_count": null,
      "outputs": [
        {
          "output_type": "display_data",
          "data": {
            "text/plain": [
              "<IPython.core.display.HTML object>"
            ],
            "text/html": [
              "\n",
              "      <svg width=\"500\" height=\"500\">  \n",
              "        <rect width=\"100%\" height=\"100%\" style=\"fill:white;stroke:;stroke-width:1\"/>\n",
              "        \n",
              "        \n",
              "        \n",
              "        \n",
              "        \n",
              "        <g id=\"turtle2\" visibility=\"visible\" transform=\"rotate(180,125.0,480.0) translate(125.0, 480.0)\">\n",
              "<polygon points=\"0,16 2,14 1,10 4,7 7,9 9,8 6,5 7,1 5,-3 8,-6 6,-8 4,-5 0,-7 -4,-5 -6,-8 -8,-6 -5,-3 -7,1 -6,5 -9,8 -7,9 -4,7 -1,10 -2,14\" transform=\"skewX(0) scale(1,1)\" style=\"stroke:red;stroke-width:1;fill:red\" />\n",
              "</g><g id=\"turtle2\" visibility=\"visible\" transform=\"rotate(180,250.0,480.0) translate(250.0, 480.0)\">\n",
              "<polygon points=\"0,16 2,14 1,10 4,7 7,9 9,8 6,5 7,1 5,-3 8,-6 6,-8 4,-5 0,-7 -4,-5 -6,-8 -8,-6 -5,-3 -7,1 -6,5 -9,8 -7,9 -4,7 -1,10 -2,14\" transform=\"skewX(0) scale(1,1)\" style=\"stroke:blue;stroke-width:1;fill:blue\" />\n",
              "</g><g id=\"turtle2\" visibility=\"visible\" transform=\"rotate(180.0,374.99999997267105,480.00000001010886) translate(374.99999997267105, 480.00000001010886)\">\n",
              "<polygon points=\"0,16 2,14 1,10 4,7 7,9 9,8 6,5 7,1 5,-3 8,-6 6,-8 4,-5 0,-7 -4,-5 -6,-8 -8,-6 -5,-3 -7,1 -6,5 -9,8 -7,9 -4,7 -1,10 -2,14\" transform=\"skewX(0) scale(1,1)\" style=\"stroke:green;stroke-width:1;fill:green\" />\n",
              "</g>\n",
              "      </svg>\n",
              "    "
            ]
          },
          "metadata": {}
        }
      ]
    },
    {
      "cell_type": "markdown",
      "source": [
        "YAAAAAAAY!"
      ],
      "metadata": {
        "id": "n_k2YvBMTYgf"
      }
    },
    {
      "cell_type": "markdown",
      "source": [
        "## Challenge 5: Turtle Race\n",
        "\n",
        "Now we will write the code to make the turtles race with each other.\n",
        "\n",
        "More precisely, we need to:\n",
        "- figure out a way of simulating a rather sporadic turtle movement in which each turtle can pace up and or slow down\n",
        "- Then, we need to check if either of the turtles has crossed the finish line, which in our application will be the Y upper boundary,\n",
        "- and finally, return the signifier of the winning turtle (can be their index or, better color).\n",
        "\n",
        "This time, we will use the `while loop` and conditional statements `if else`."
      ],
      "metadata": {
        "id": "OtSPGIn8Tv4j"
      }
    },
    {
      "cell_type": "markdown",
      "source": [
        "## A Note on Conditional Statements\n",
        "\n",
        "Python conditional statements, commonly known as \"if statements,\" allow you to execute different blocks of code based on certain conditions.\n",
        "\n",
        "These conditions are evaluated to True or False, determining which code block gets executed. Conditional statements are foundational in making decisions and controlling the flow of a Python program.\n",
        "\n"
      ],
      "metadata": {
        "id": "4vZnD4ZnWSmz"
      }
    },
    {
      "cell_type": "code",
      "source": [
        "age = 18\n",
        "if age >= 18:\n",
        "    print(\"You are an adult.\")"
      ],
      "metadata": {
        "colab": {
          "base_uri": "https://localhost:8080/"
        },
        "id": "UXCzSqSAWx_f",
        "outputId": "5c4dbf02-fe1d-4730-fcb3-0efc03e585a4"
      },
      "execution_count": null,
      "outputs": [
        {
          "output_type": "stream",
          "name": "stdout",
          "text": [
            "You are an adult.\n"
          ]
        }
      ]
    },
    {
      "cell_type": "code",
      "source": [
        "age = 16\n",
        "if age >= 18:\n",
        "    print(\"You are an adult.\")\n",
        "else:\n",
        "    print(\"You are a minor.\")"
      ],
      "metadata": {
        "colab": {
          "base_uri": "https://localhost:8080/"
        },
        "id": "uAP7jz84Wzyj",
        "outputId": "0a6f746b-25a3-48a5-ed73-191a7266c230"
      },
      "execution_count": null,
      "outputs": [
        {
          "output_type": "stream",
          "name": "stdout",
          "text": [
            "You are a minor.\n"
          ]
        }
      ]
    },
    {
      "cell_type": "code",
      "source": [
        "score = 75\n",
        "if score >= 70:\n",
        "    print(\"Grade: Distinction\")\n",
        "elif score >= 60:\n",
        "    print(\"Grade: Merit\")\n",
        "elif score >= 50:\n",
        "    print(\"Grade: Pass\")\n",
        "else:\n",
        "    print(\"Failed\")"
      ],
      "metadata": {
        "colab": {
          "base_uri": "https://localhost:8080/"
        },
        "id": "h8jBRp2JW30Y",
        "outputId": "02c7e6a3-1bb5-412f-a1b6-b8548d873d92"
      },
      "execution_count": null,
      "outputs": [
        {
          "output_type": "stream",
          "name": "stdout",
          "text": [
            "Grade: Distinction\n"
          ]
        }
      ]
    },
    {
      "cell_type": "markdown",
      "source": [
        "## Another Note on While Loops\n",
        "\n",
        "Below is the exmple of the `while loop` in action. This here is a function we will use to allow users determine the number of racing turtles, rather then setting this number in stone.\n",
        "\n",
        "A `while loop` in Python is used to repeatedly execute a block of statements as long as a given condition is true. It's a control flow statement that allows code to be executed repeatedly based on the value of a boolean condition.\n",
        "\n",
        "The `while True:` loop *creates an infinite loop*. These loops run continuously until they are interrupted by a break statement or an external event (like a user closing the program). This pattern is useful when you want to keep a program running until a specific condition is met, which is exactly our case here.\n",
        "\n",
        "**Interruptions**\n",
        "There are a few ways to interrupt or exit a while loop:\n",
        "\n",
        "- `break` Statement: Immediately exits the loop, resuming execution at the first statement after the loop.\n",
        "- `return` Statement: If the loop is inside a function, a return statement can be used to exit the loop and the function, optionally returning a value.\n",
        "- `continue` Statement: Skips the rest of the code inside the loop for the current iteration and goes back to the condition check. If the condition is still true, the loop continues with the next iteration.\n",
        "- `Exceptions`: An error or an exception raised inside the loop can also cause it to exit. This is often handled with try and except blocks."
      ],
      "metadata": {
        "id": "_u2WHIn8XC8E"
      }
    },
    {
      "cell_type": "code",
      "source": [
        "def get_number_of_turtles():\n",
        "    '''\n",
        "    function determining number of turtles\n",
        "    1. gets in user typed input\n",
        "    2. converts it to int\n",
        "    3. checks if it is valid\n",
        "    4. returns the number of turtles\n",
        "    '''\n",
        "    turtles = 0  # initialise number of turtles with 0\n",
        "    while True:\n",
        "        turtles = input('Enter the number of racing turtles (2-10): ') # user inputs are always converted to str\n",
        "        if turtles.isdigit(): # .isdigit() is a str method that checks if the string in question signifies a digit\n",
        "            turtles = int(turtles) # converts the digit str into and int object\n",
        "        else:\n",
        "            print('Please input a numeric value!')\n",
        "            continue\n",
        "\n",
        "        if 2 <= turtles <=10:\n",
        "            return turtles\n",
        "        else:\n",
        "            print(f'{turtles} not in range [2-10]. Try again!')"
      ],
      "metadata": {
        "id": "R0bOYWTkVubR"
      },
      "execution_count": null,
      "outputs": []
    },
    {
      "cell_type": "code",
      "source": [
        "get_number_of_turtles()"
      ],
      "metadata": {
        "id": "eGiKss42YZYO"
      },
      "execution_count": null,
      "outputs": []
    },
    {
      "cell_type": "markdown",
      "source": [
        "## Implementing Turtle Race Function\n",
        "\n",
        "With the aquired knowledge, let us code up the race function.\n",
        "\n",
        "1. using our `create_turtles` function, create initial turtles\n",
        "2. create a while loop that moves turtles untill one of them reaches the upper bound of the screen\n",
        "3. within the while loop, make a for loop iterating through every turtle\n",
        "4. find a way to move turtles by a random (but bounded) amount of pixels upwards*\n",
        "5. get the position coordinates (x,y) of each turtle at each step and store them in the designated variables\n",
        "6. check if these coordiantes are equal to or exceed the upper boundary to determine a turtle winner\n",
        "7. once one turtle reaches the boundary (our condition), return the turtle's color\n",
        "\n",
        "\n",
        "*Hint: use `randrage()` function from the `random` module.\n",
        "For more on `random`, see [documentation](https://docs.python.org/3/library/random.html)."
      ],
      "metadata": {
        "id": "kIADjdQAZtcl"
      }
    },
    {
      "cell_type": "code",
      "source": [
        "import random\n",
        "random.randrange(1,10) # choose a random item from a range (start, stop)"
      ],
      "metadata": {
        "colab": {
          "base_uri": "https://localhost:8080/"
        },
        "id": "pOJFioN6b_CL",
        "outputId": "e75392ab-49c1-4a40-c58a-f3f6944a6390"
      },
      "execution_count": null,
      "outputs": [
        {
          "output_type": "execute_result",
          "data": {
            "text/plain": [
              "7"
            ]
          },
          "metadata": {},
          "execution_count": 74
        }
      ]
    },
    {
      "cell_type": "code",
      "source": [
        "def race(colors: list):\n",
        "    '''\n",
        "    function that moves each turtle a random amount of distance,\n",
        "    checks their coordinates to determine if they crossed the upper boundary,\n",
        "    and returns the turtles color\n",
        "    '''\n",
        "    racers = create_turtles(colors)\n",
        "\n",
        "    # your code #"
      ],
      "metadata": {
        "id": "JvwStHmCTZ18"
      },
      "execution_count": null,
      "outputs": []
    },
    {
      "cell_type": "markdown",
      "source": [
        ".\n",
        "\n",
        ".\n",
        "\n",
        ".\n",
        "\n",
        ".\n",
        "\n",
        ".\n",
        "\n",
        "\n",
        "\n",
        "----"
      ],
      "metadata": {
        "id": "_K9-b7yqjmi8"
      }
    },
    {
      "cell_type": "code",
      "source": [
        "#@title Solution\n",
        "\n",
        "def race(colors: list):\n",
        "    '''\n",
        "    function that moves each turtle a random amount of distance,\n",
        "    checks their coordinates to determine if they crossed the upper boundary,\n",
        "    and returns the turtles color\n",
        "    '''\n",
        "    racers = create_turtles(colors)\n",
        "    positions = []\n",
        "    while True:\n",
        "        for racer in racers:\n",
        "            racer.speed(10) # this is animation drawing speed, not the moving speed!\n",
        "            move_by = random.randrange(1,20)\n",
        "            racer.forward(move_by)\n",
        "            x,y = racer.position()\n",
        "            if y >= HEIGHT // 2 - 10:\n",
        "                return racer.color()[0]"
      ],
      "metadata": {
        "id": "tdY3PehKckQ9",
        "cellView": "form"
      },
      "execution_count": null,
      "outputs": []
    },
    {
      "cell_type": "code",
      "source": [
        "ct.clearscreen()\n",
        "ct.initializeTurtle((WIDTH, HEIGHT))\n",
        "\n",
        "\n",
        "race(colors)"
      ],
      "metadata": {
        "colab": {
          "base_uri": "https://localhost:8080/",
          "height": 539
        },
        "id": "qOznSPbOe8Z4",
        "outputId": "d6e19f89-c0e6-4f07-86ad-1588eb37d746"
      },
      "execution_count": null,
      "outputs": [
        {
          "output_type": "display_data",
          "data": {
            "text/plain": [
              "<IPython.core.display.HTML object>"
            ],
            "text/html": [
              "\n",
              "      <svg width=\"500\" height=\"500\">  \n",
              "        <rect width=\"100%\" height=\"100%\" style=\"fill:white;stroke:;stroke-width:1\"/>\n",
              "        \n",
              "        \n",
              "        <line x1=\"125.0\" y1=\"480.0\" x2=\"125.0\" y2=\"461.0\" stroke-linecap=\"round\" style=\"stroke:red;stroke-width:1\" /><line x1=\"125.0\" y1=\"461.0\" x2=\"125.0\" y2=\"450.0\" stroke-linecap=\"round\" style=\"stroke:red;stroke-width:1\" /><line x1=\"125.0\" y1=\"450.0\" x2=\"125.0\" y2=\"439.0\" stroke-linecap=\"round\" style=\"stroke:red;stroke-width:1\" /><line x1=\"125.0\" y1=\"439.0\" x2=\"125.0\" y2=\"433.0\" stroke-linecap=\"round\" style=\"stroke:red;stroke-width:1\" /><line x1=\"125.0\" y1=\"433.0\" x2=\"125.0\" y2=\"432.0\" stroke-linecap=\"round\" style=\"stroke:red;stroke-width:1\" /><line x1=\"125.0\" y1=\"432.0\" x2=\"125.0\" y2=\"423.0\" stroke-linecap=\"round\" style=\"stroke:red;stroke-width:1\" /><line x1=\"125.0\" y1=\"423.0\" x2=\"125.0\" y2=\"419.0\" stroke-linecap=\"round\" style=\"stroke:red;stroke-width:1\" /><line x1=\"125.0\" y1=\"419.0\" x2=\"125.0\" y2=\"407.0\" stroke-linecap=\"round\" style=\"stroke:red;stroke-width:1\" /><line x1=\"125.0\" y1=\"407.0\" x2=\"125.0\" y2=\"394.0\" stroke-linecap=\"round\" style=\"stroke:red;stroke-width:1\" /><line x1=\"125.0\" y1=\"394.0\" x2=\"125.0\" y2=\"385.0\" stroke-linecap=\"round\" style=\"stroke:red;stroke-width:1\" /><line x1=\"125.0\" y1=\"385.0\" x2=\"125.0\" y2=\"368.0\" stroke-linecap=\"round\" style=\"stroke:red;stroke-width:1\" /><line x1=\"125.0\" y1=\"368.0\" x2=\"125.0\" y2=\"364.0\" stroke-linecap=\"round\" style=\"stroke:red;stroke-width:1\" /><line x1=\"125.0\" y1=\"364.0\" x2=\"125.0\" y2=\"346.0\" stroke-linecap=\"round\" style=\"stroke:red;stroke-width:1\" /><line x1=\"125.0\" y1=\"346.0\" x2=\"125.0\" y2=\"335.0\" stroke-linecap=\"round\" style=\"stroke:red;stroke-width:1\" /><line x1=\"125.0\" y1=\"335.0\" x2=\"125.0\" y2=\"326.0\" stroke-linecap=\"round\" style=\"stroke:red;stroke-width:1\" /><line x1=\"125.0\" y1=\"326.0\" x2=\"125.0\" y2=\"323.0\" stroke-linecap=\"round\" style=\"stroke:red;stroke-width:1\" /><line x1=\"125.0\" y1=\"323.0\" x2=\"125.0\" y2=\"307.0\" stroke-linecap=\"round\" style=\"stroke:red;stroke-width:1\" /><line x1=\"125.0\" y1=\"307.0\" x2=\"125.0\" y2=\"306.0\" stroke-linecap=\"round\" style=\"stroke:red;stroke-width:1\" /><line x1=\"125.0\" y1=\"306.0\" x2=\"125.0\" y2=\"296.0\" stroke-linecap=\"round\" style=\"stroke:red;stroke-width:1\" /><line x1=\"125.0\" y1=\"296.0\" x2=\"125.0\" y2=\"289.0\" stroke-linecap=\"round\" style=\"stroke:red;stroke-width:1\" /><line x1=\"125.0\" y1=\"289.0\" x2=\"125.0\" y2=\"288.0\" stroke-linecap=\"round\" style=\"stroke:red;stroke-width:1\" /><line x1=\"125.0\" y1=\"288.0\" x2=\"125.0\" y2=\"276.0\" stroke-linecap=\"round\" style=\"stroke:red;stroke-width:1\" /><line x1=\"125.0\" y1=\"276.0\" x2=\"125.0\" y2=\"258.0\" stroke-linecap=\"round\" style=\"stroke:red;stroke-width:1\" /><line x1=\"125.0\" y1=\"258.0\" x2=\"125.0\" y2=\"243.0\" stroke-linecap=\"round\" style=\"stroke:red;stroke-width:1\" /><line x1=\"125.0\" y1=\"243.0\" x2=\"125.0\" y2=\"238.0\" stroke-linecap=\"round\" style=\"stroke:red;stroke-width:1\" /><line x1=\"125.0\" y1=\"238.0\" x2=\"125.0\" y2=\"229.0\" stroke-linecap=\"round\" style=\"stroke:red;stroke-width:1\" /><line x1=\"125.0\" y1=\"229.0\" x2=\"125.0\" y2=\"227.0\" stroke-linecap=\"round\" style=\"stroke:red;stroke-width:1\" /><line x1=\"125.0\" y1=\"227.0\" x2=\"125.0\" y2=\"212.0\" stroke-linecap=\"round\" style=\"stroke:red;stroke-width:1\" /><line x1=\"125.0\" y1=\"212.0\" x2=\"125.0\" y2=\"193.0\" stroke-linecap=\"round\" style=\"stroke:red;stroke-width:1\" /><line x1=\"125.0\" y1=\"193.0\" x2=\"125.0\" y2=\"178.0\" stroke-linecap=\"round\" style=\"stroke:red;stroke-width:1\" /><line x1=\"125.0\" y1=\"178.0\" x2=\"125.0\" y2=\"176.0\" stroke-linecap=\"round\" style=\"stroke:red;stroke-width:1\" /><line x1=\"125.0\" y1=\"176.0\" x2=\"125.0\" y2=\"166.0\" stroke-linecap=\"round\" style=\"stroke:red;stroke-width:1\" /><line x1=\"125.0\" y1=\"166.0\" x2=\"125.0\" y2=\"147.0\" stroke-linecap=\"round\" style=\"stroke:red;stroke-width:1\" /><line x1=\"125.0\" y1=\"147.0\" x2=\"125.0\" y2=\"146.0\" stroke-linecap=\"round\" style=\"stroke:red;stroke-width:1\" /><line x1=\"125.0\" y1=\"146.0\" x2=\"125.0\" y2=\"135.0\" stroke-linecap=\"round\" style=\"stroke:red;stroke-width:1\" /><line x1=\"125.0\" y1=\"135.0\" x2=\"125.0\" y2=\"119.0\" stroke-linecap=\"round\" style=\"stroke:red;stroke-width:1\" /><line x1=\"125.0\" y1=\"119.0\" x2=\"125.0\" y2=\"112.0\" stroke-linecap=\"round\" style=\"stroke:red;stroke-width:1\" /><line x1=\"125.0\" y1=\"112.0\" x2=\"125.0\" y2=\"96.0\" stroke-linecap=\"round\" style=\"stroke:red;stroke-width:1\" /><line x1=\"125.0\" y1=\"96.0\" x2=\"125.0\" y2=\"80.0\" stroke-linecap=\"round\" style=\"stroke:red;stroke-width:1\" /><line x1=\"125.0\" y1=\"80.0\" x2=\"125.0\" y2=\"62.0\" stroke-linecap=\"round\" style=\"stroke:red;stroke-width:1\" /><line x1=\"125.0\" y1=\"62.0\" x2=\"125.0\" y2=\"52.0\" stroke-linecap=\"round\" style=\"stroke:red;stroke-width:1\" /><line x1=\"125.0\" y1=\"52.0\" x2=\"125.0\" y2=\"48.0\" stroke-linecap=\"round\" style=\"stroke:red;stroke-width:1\" /><line x1=\"125.0\" y1=\"48.0\" x2=\"125.0\" y2=\"30.0\" stroke-linecap=\"round\" style=\"stroke:red;stroke-width:1\" /><line x1=\"125.0\" y1=\"30.0\" x2=\"125.0\" y2=\"18.0\" stroke-linecap=\"round\" style=\"stroke:red;stroke-width:1\" /><line x1=\"250.0\" y1=\"480.0\" x2=\"250.0\" y2=\"479.0\" stroke-linecap=\"round\" style=\"stroke:blue;stroke-width:1\" /><line x1=\"250.0\" y1=\"479.0\" x2=\"250.0\" y2=\"461.0\" stroke-linecap=\"round\" style=\"stroke:blue;stroke-width:1\" /><line x1=\"250.0\" y1=\"461.0\" x2=\"250.0\" y2=\"442.0\" stroke-linecap=\"round\" style=\"stroke:blue;stroke-width:1\" /><line x1=\"250.0\" y1=\"442.0\" x2=\"250.0\" y2=\"424.0\" stroke-linecap=\"round\" style=\"stroke:blue;stroke-width:1\" /><line x1=\"250.0\" y1=\"424.0\" x2=\"250.0\" y2=\"415.0\" stroke-linecap=\"round\" style=\"stroke:blue;stroke-width:1\" /><line x1=\"250.0\" y1=\"415.0\" x2=\"250.0\" y2=\"412.0\" stroke-linecap=\"round\" style=\"stroke:blue;stroke-width:1\" /><line x1=\"250.0\" y1=\"412.0\" x2=\"250.0\" y2=\"397.0\" stroke-linecap=\"round\" style=\"stroke:blue;stroke-width:1\" /><line x1=\"250.0\" y1=\"397.0\" x2=\"250.0\" y2=\"381.0\" stroke-linecap=\"round\" style=\"stroke:blue;stroke-width:1\" /><line x1=\"250.0\" y1=\"381.0\" x2=\"250.0\" y2=\"366.0\" stroke-linecap=\"round\" style=\"stroke:blue;stroke-width:1\" /><line x1=\"250.0\" y1=\"366.0\" x2=\"250.0\" y2=\"355.0\" stroke-linecap=\"round\" style=\"stroke:blue;stroke-width:1\" /><line x1=\"250.0\" y1=\"355.0\" x2=\"250.0\" y2=\"351.0\" stroke-linecap=\"round\" style=\"stroke:blue;stroke-width:1\" /><line x1=\"250.0\" y1=\"351.0\" x2=\"250.0\" y2=\"341.0\" stroke-linecap=\"round\" style=\"stroke:blue;stroke-width:1\" /><line x1=\"250.0\" y1=\"341.0\" x2=\"250.0\" y2=\"324.0\" stroke-linecap=\"round\" style=\"stroke:blue;stroke-width:1\" /><line x1=\"250.0\" y1=\"324.0\" x2=\"250.0\" y2=\"309.0\" stroke-linecap=\"round\" style=\"stroke:blue;stroke-width:1\" /><line x1=\"250.0\" y1=\"309.0\" x2=\"250.0\" y2=\"301.0\" stroke-linecap=\"round\" style=\"stroke:blue;stroke-width:1\" /><line x1=\"250.0\" y1=\"301.0\" x2=\"250.0\" y2=\"296.0\" stroke-linecap=\"round\" style=\"stroke:blue;stroke-width:1\" /><line x1=\"250.0\" y1=\"296.0\" x2=\"250.0\" y2=\"295.0\" stroke-linecap=\"round\" style=\"stroke:blue;stroke-width:1\" /><line x1=\"250.0\" y1=\"295.0\" x2=\"250.0\" y2=\"276.0\" stroke-linecap=\"round\" style=\"stroke:blue;stroke-width:1\" /><line x1=\"250.0\" y1=\"276.0\" x2=\"250.0\" y2=\"268.0\" stroke-linecap=\"round\" style=\"stroke:blue;stroke-width:1\" /><line x1=\"250.0\" y1=\"268.0\" x2=\"250.0\" y2=\"251.0\" stroke-linecap=\"round\" style=\"stroke:blue;stroke-width:1\" /><line x1=\"250.0\" y1=\"251.0\" x2=\"250.0\" y2=\"238.0\" stroke-linecap=\"round\" style=\"stroke:blue;stroke-width:1\" /><line x1=\"250.0\" y1=\"238.0\" x2=\"250.0\" y2=\"231.0\" stroke-linecap=\"round\" style=\"stroke:blue;stroke-width:1\" /><line x1=\"250.0\" y1=\"231.0\" x2=\"250.0\" y2=\"213.0\" stroke-linecap=\"round\" style=\"stroke:blue;stroke-width:1\" /><line x1=\"250.0\" y1=\"213.0\" x2=\"250.0\" y2=\"207.0\" stroke-linecap=\"round\" style=\"stroke:blue;stroke-width:1\" /><line x1=\"250.0\" y1=\"207.0\" x2=\"250.0\" y2=\"200.0\" stroke-linecap=\"round\" style=\"stroke:blue;stroke-width:1\" /><line x1=\"250.0\" y1=\"200.0\" x2=\"250.0\" y2=\"188.0\" stroke-linecap=\"round\" style=\"stroke:blue;stroke-width:1\" /><line x1=\"250.0\" y1=\"188.0\" x2=\"250.0\" y2=\"186.0\" stroke-linecap=\"round\" style=\"stroke:blue;stroke-width:1\" /><line x1=\"250.0\" y1=\"186.0\" x2=\"250.0\" y2=\"175.0\" stroke-linecap=\"round\" style=\"stroke:blue;stroke-width:1\" /><line x1=\"250.0\" y1=\"175.0\" x2=\"250.0\" y2=\"162.0\" stroke-linecap=\"round\" style=\"stroke:blue;stroke-width:1\" /><line x1=\"250.0\" y1=\"162.0\" x2=\"250.0\" y2=\"149.0\" stroke-linecap=\"round\" style=\"stroke:blue;stroke-width:1\" /><line x1=\"250.0\" y1=\"149.0\" x2=\"250.0\" y2=\"130.0\" stroke-linecap=\"round\" style=\"stroke:blue;stroke-width:1\" /><line x1=\"250.0\" y1=\"130.0\" x2=\"250.0\" y2=\"114.0\" stroke-linecap=\"round\" style=\"stroke:blue;stroke-width:1\" /><line x1=\"250.0\" y1=\"114.0\" x2=\"250.0\" y2=\"97.0\" stroke-linecap=\"round\" style=\"stroke:blue;stroke-width:1\" /><line x1=\"250.0\" y1=\"97.0\" x2=\"250.0\" y2=\"96.0\" stroke-linecap=\"round\" style=\"stroke:blue;stroke-width:1\" /><line x1=\"250.0\" y1=\"96.0\" x2=\"250.0\" y2=\"90.0\" stroke-linecap=\"round\" style=\"stroke:blue;stroke-width:1\" /><line x1=\"250.0\" y1=\"90.0\" x2=\"250.0\" y2=\"74.0\" stroke-linecap=\"round\" style=\"stroke:blue;stroke-width:1\" /><line x1=\"250.0\" y1=\"74.0\" x2=\"250.0\" y2=\"57.0\" stroke-linecap=\"round\" style=\"stroke:blue;stroke-width:1\" /><line x1=\"250.0\" y1=\"57.0\" x2=\"250.0\" y2=\"54.0\" stroke-linecap=\"round\" style=\"stroke:blue;stroke-width:1\" /><line x1=\"250.0\" y1=\"54.0\" x2=\"250.0\" y2=\"44.0\" stroke-linecap=\"round\" style=\"stroke:blue;stroke-width:1\" /><line x1=\"250.0\" y1=\"44.0\" x2=\"250.0\" y2=\"34.0\" stroke-linecap=\"round\" style=\"stroke:blue;stroke-width:1\" /><line x1=\"250.0\" y1=\"34.0\" x2=\"250.0\" y2=\"26.0\" stroke-linecap=\"round\" style=\"stroke:blue;stroke-width:1\" /><line x1=\"250.0\" y1=\"26.0\" x2=\"250.0\" y2=\"24.0\" stroke-linecap=\"round\" style=\"stroke:blue;stroke-width:1\" /><line x1=\"250.0\" y1=\"24.0\" x2=\"250.0\" y2=\"11.0\" stroke-linecap=\"round\" style=\"stroke:blue;stroke-width:1\" /><line x1=\"250.0\" y1=\"11.0\" x2=\"250.0\" y2=\"1.0\" stroke-linecap=\"round\" style=\"stroke:blue;stroke-width:1\" /><line x1=\"250.0\" y1=\"1.0\" x2=\"250.0\" y2=\"-5.0\" stroke-linecap=\"round\" style=\"stroke:blue;stroke-width:1\" /><line x1=\"375.0\" y1=\"480.0\" x2=\"375.0\" y2=\"462.0\" stroke-linecap=\"round\" style=\"stroke:green;stroke-width:1\" /><line x1=\"375.0\" y1=\"462.0\" x2=\"375.0\" y2=\"446.0\" stroke-linecap=\"round\" style=\"stroke:green;stroke-width:1\" /><line x1=\"375.0\" y1=\"446.0\" x2=\"375.0\" y2=\"441.0\" stroke-linecap=\"round\" style=\"stroke:green;stroke-width:1\" /><line x1=\"375.0\" y1=\"441.0\" x2=\"375.0\" y2=\"437.0\" stroke-linecap=\"round\" style=\"stroke:green;stroke-width:1\" /><line x1=\"375.0\" y1=\"437.0\" x2=\"375.0\" y2=\"428.0\" stroke-linecap=\"round\" style=\"stroke:green;stroke-width:1\" /><line x1=\"375.0\" y1=\"428.0\" x2=\"375.0\" y2=\"426.0\" stroke-linecap=\"round\" style=\"stroke:green;stroke-width:1\" /><line x1=\"375.0\" y1=\"426.0\" x2=\"375.0\" y2=\"413.0\" stroke-linecap=\"round\" style=\"stroke:green;stroke-width:1\" /><line x1=\"375.0\" y1=\"413.0\" x2=\"375.0\" y2=\"412.0\" stroke-linecap=\"round\" style=\"stroke:green;stroke-width:1\" /><line x1=\"375.0\" y1=\"412.0\" x2=\"375.0\" y2=\"398.0\" stroke-linecap=\"round\" style=\"stroke:green;stroke-width:1\" /><line x1=\"375.0\" y1=\"398.0\" x2=\"375.0\" y2=\"387.0\" stroke-linecap=\"round\" style=\"stroke:green;stroke-width:1\" /><line x1=\"375.0\" y1=\"387.0\" x2=\"375.0\" y2=\"385.0\" stroke-linecap=\"round\" style=\"stroke:green;stroke-width:1\" /><line x1=\"375.0\" y1=\"385.0\" x2=\"375.0\" y2=\"374.0\" stroke-linecap=\"round\" style=\"stroke:green;stroke-width:1\" /><line x1=\"375.0\" y1=\"374.0\" x2=\"375.0\" y2=\"367.0\" stroke-linecap=\"round\" style=\"stroke:green;stroke-width:1\" /><line x1=\"375.0\" y1=\"367.0\" x2=\"375.0\" y2=\"350.0\" stroke-linecap=\"round\" style=\"stroke:green;stroke-width:1\" /><line x1=\"375.0\" y1=\"350.0\" x2=\"375.0\" y2=\"334.0\" stroke-linecap=\"round\" style=\"stroke:green;stroke-width:1\" /><line x1=\"375.0\" y1=\"334.0\" x2=\"375.0\" y2=\"328.0\" stroke-linecap=\"round\" style=\"stroke:green;stroke-width:1\" /><line x1=\"375.0\" y1=\"328.0\" x2=\"375.0\" y2=\"319.0\" stroke-linecap=\"round\" style=\"stroke:green;stroke-width:1\" /><line x1=\"375.0\" y1=\"319.0\" x2=\"375.0\" y2=\"318.0\" stroke-linecap=\"round\" style=\"stroke:green;stroke-width:1\" /><line x1=\"375.0\" y1=\"318.0\" x2=\"375.0\" y2=\"302.0\" stroke-linecap=\"round\" style=\"stroke:green;stroke-width:1\" /><line x1=\"375.0\" y1=\"302.0\" x2=\"375.0\" y2=\"284.0\" stroke-linecap=\"round\" style=\"stroke:green;stroke-width:1\" /><line x1=\"375.0\" y1=\"284.0\" x2=\"375.0\" y2=\"269.0\" stroke-linecap=\"round\" style=\"stroke:green;stroke-width:1\" /><line x1=\"375.0\" y1=\"269.0\" x2=\"375.0\" y2=\"250.0\" stroke-linecap=\"round\" style=\"stroke:green;stroke-width:1\" /><line x1=\"375.0\" y1=\"250.0\" x2=\"375.0\" y2=\"249.0\" stroke-linecap=\"round\" style=\"stroke:green;stroke-width:1\" /><line x1=\"375.0\" y1=\"249.0\" x2=\"375.0\" y2=\"236.0\" stroke-linecap=\"round\" style=\"stroke:green;stroke-width:1\" /><line x1=\"375.0\" y1=\"236.0\" x2=\"375.0\" y2=\"233.0\" stroke-linecap=\"round\" style=\"stroke:green;stroke-width:1\" /><line x1=\"375.0\" y1=\"233.0\" x2=\"375.0\" y2=\"229.0\" stroke-linecap=\"round\" style=\"stroke:green;stroke-width:1\" /><line x1=\"375.0\" y1=\"229.0\" x2=\"375.0\" y2=\"217.0\" stroke-linecap=\"round\" style=\"stroke:green;stroke-width:1\" /><line x1=\"375.0\" y1=\"217.0\" x2=\"375.0\" y2=\"206.0\" stroke-linecap=\"round\" style=\"stroke:green;stroke-width:1\" /><line x1=\"375.0\" y1=\"206.0\" x2=\"375.0\" y2=\"201.0\" stroke-linecap=\"round\" style=\"stroke:green;stroke-width:1\" /><line x1=\"375.0\" y1=\"201.0\" x2=\"375.0\" y2=\"182.0\" stroke-linecap=\"round\" style=\"stroke:green;stroke-width:1\" /><line x1=\"375.0\" y1=\"182.0\" x2=\"375.0\" y2=\"174.0\" stroke-linecap=\"round\" style=\"stroke:green;stroke-width:1\" /><line x1=\"375.0\" y1=\"174.0\" x2=\"375.0\" y2=\"159.0\" stroke-linecap=\"round\" style=\"stroke:green;stroke-width:1\" /><line x1=\"375.0\" y1=\"159.0\" x2=\"375.0\" y2=\"145.0\" stroke-linecap=\"round\" style=\"stroke:green;stroke-width:1\" /><line x1=\"375.0\" y1=\"145.0\" x2=\"375.0\" y2=\"138.0\" stroke-linecap=\"round\" style=\"stroke:green;stroke-width:1\" /><line x1=\"375.0\" y1=\"138.0\" x2=\"375.0\" y2=\"136.0\" stroke-linecap=\"round\" style=\"stroke:green;stroke-width:1\" /><line x1=\"375.0\" y1=\"136.0\" x2=\"375.0\" y2=\"132.0\" stroke-linecap=\"round\" style=\"stroke:green;stroke-width:1\" /><line x1=\"375.0\" y1=\"132.0\" x2=\"375.0\" y2=\"129.0\" stroke-linecap=\"round\" style=\"stroke:green;stroke-width:1\" /><line x1=\"375.0\" y1=\"129.0\" x2=\"375.0\" y2=\"120.0\" stroke-linecap=\"round\" style=\"stroke:green;stroke-width:1\" /><line x1=\"375.0\" y1=\"120.0\" x2=\"375.0\" y2=\"102.0\" stroke-linecap=\"round\" style=\"stroke:green;stroke-width:1\" /><line x1=\"375.0\" y1=\"102.0\" x2=\"375.0\" y2=\"101.0\" stroke-linecap=\"round\" style=\"stroke:green;stroke-width:1\" /><line x1=\"375.0\" y1=\"101.0\" x2=\"375.0\" y2=\"87.0\" stroke-linecap=\"round\" style=\"stroke:green;stroke-width:1\" /><line x1=\"375.0\" y1=\"87.0\" x2=\"375.0\" y2=\"71.0\" stroke-linecap=\"round\" style=\"stroke:green;stroke-width:1\" /><line x1=\"375.0\" y1=\"71.0\" x2=\"375.0\" y2=\"66.0\" stroke-linecap=\"round\" style=\"stroke:green;stroke-width:1\" />\n",
              "        \n",
              "        \n",
              "        <g id=\"turtle2\" visibility=\"visible\" transform=\"rotate(180,125.0,18.0) translate(125.0, 18.0)\">\n",
              "<polygon points=\"0,16 2,14 1,10 4,7 7,9 9,8 6,5 7,1 5,-3 8,-6 6,-8 4,-5 0,-7 -4,-5 -6,-8 -8,-6 -5,-3 -7,1 -6,5 -9,8 -7,9 -4,7 -1,10 -2,14\" transform=\"skewX(0) scale(1,1)\" style=\"stroke:red;stroke-width:1;fill:red\" />\n",
              "</g><g id=\"turtle2\" visibility=\"visible\" transform=\"rotate(180,250.0,-5.0) translate(250.0, -5.0)\">\n",
              "<polygon points=\"0,16 2,14 1,10 4,7 7,9 9,8 6,5 7,1 5,-3 8,-6 6,-8 4,-5 0,-7 -4,-5 -6,-8 -8,-6 -5,-3 -7,1 -6,5 -9,8 -7,9 -4,7 -1,10 -2,14\" transform=\"skewX(0) scale(1,1)\" style=\"stroke:blue;stroke-width:1;fill:blue\" />\n",
              "</g><g id=\"turtle2\" visibility=\"visible\" transform=\"rotate(180,375.0,66.0) translate(375.0, 66.0)\">\n",
              "<polygon points=\"0,16 2,14 1,10 4,7 7,9 9,8 6,5 7,1 5,-3 8,-6 6,-8 4,-5 0,-7 -4,-5 -6,-8 -8,-6 -5,-3 -7,1 -6,5 -9,8 -7,9 -4,7 -1,10 -2,14\" transform=\"skewX(0) scale(1,1)\" style=\"stroke:green;stroke-width:1;fill:green\" />\n",
              "</g>\n",
              "      </svg>\n",
              "    "
            ]
          },
          "metadata": {}
        },
        {
          "output_type": "execute_result",
          "data": {
            "text/plain": [
              "'blue'"
            ],
            "application/vnd.google.colaboratory.intrinsic+json": {
              "type": "string"
            }
          },
          "metadata": {},
          "execution_count": 80
        }
      ]
    },
    {
      "cell_type": "markdown",
      "source": [
        "## Putting Everyting Together\n",
        "\n",
        "Now, after few minor adjustments, we can put all functions together into a Turtle Race script.\n",
        "\n",
        "First, we will create a `constant` list of colors, now designated with all upercase letters (as convention). Then, we use the `.shuffle` method from our now familiar `random` module."
      ],
      "metadata": {
        "id": "0ToCykMGfeQi"
      }
    },
    {
      "cell_type": "code",
      "source": [
        "COLORS = ['green', 'blue', 'orange', 'yellow', 'red', 'pink', 'black', 'cyan','brown', 'purple']\n",
        "random.shuffle(COLORS)\n",
        "COLORS"
      ],
      "metadata": {
        "colab": {
          "base_uri": "https://localhost:8080/"
        },
        "id": "DlEsGBx0h7rI",
        "outputId": "34bb745e-1955-4a16-8be7-e3f3f71cd272"
      },
      "execution_count": null,
      "outputs": [
        {
          "output_type": "execute_result",
          "data": {
            "text/plain": [
              "['purple',\n",
              " 'red',\n",
              " 'brown',\n",
              " 'yellow',\n",
              " 'pink',\n",
              " 'orange',\n",
              " 'green',\n",
              " 'blue',\n",
              " 'cyan',\n",
              " 'black']"
            ]
          },
          "metadata": {},
          "execution_count": 151
        }
      ]
    },
    {
      "cell_type": "code",
      "source": [
        "# Put all your code together to launch a race!\n",
        "ct.clearscreen()\n",
        "\n",
        "# your code"
      ],
      "metadata": {
        "id": "DLOxufA8JoaQ"
      },
      "execution_count": null,
      "outputs": []
    },
    {
      "cell_type": "code",
      "source": [
        "#@title Solution\n",
        "ct.clearscreen()\n",
        "\n",
        "COLORS = ['green', 'blue', 'orange', 'yellow', 'red', 'pink', 'black', 'cyan','brown', 'purple']\n",
        "\n",
        "number_of_turtles = get_number_of_turtles()\n",
        "ct.initializeTurtle((WIDTH, HEIGHT))\n",
        "\n",
        "\n",
        "random.shuffle(COLORS)\n",
        "colors = COLORS[:number_of_turtles] # only get n colors that correspond to len of turtles\n",
        "\n",
        "winner = race(colors)\n",
        "print(f'{winner.capitalize()} turtle is the winner 🎉🎉🎉')"
      ],
      "metadata": {
        "colab": {
          "base_uri": "https://localhost:8080/",
          "height": 556
        },
        "id": "RLBbKvALfkBW",
        "outputId": "90704400-658e-4843-fb73-8bf5c092df9d",
        "cellView": "form"
      },
      "execution_count": null,
      "outputs": [
        {
          "name": "stdout",
          "output_type": "stream",
          "text": [
            "Enter the number of racing turtles (2-10): 5\n"
          ]
        },
        {
          "output_type": "display_data",
          "data": {
            "text/plain": [
              "<IPython.core.display.HTML object>"
            ],
            "text/html": [
              "\n",
              "      <svg width=\"500\" height=\"500\">  \n",
              "        <rect width=\"100%\" height=\"100%\" style=\"fill:white;stroke:;stroke-width:1\"/>\n",
              "        \n",
              "        \n",
              "        <line x1=\"83.0\" y1=\"480.0\" x2=\"83.0\" y2=\"470.0\" stroke-linecap=\"round\" style=\"stroke:pink;stroke-width:1\" /><line x1=\"83.0\" y1=\"470.0\" x2=\"83.0\" y2=\"454.0\" stroke-linecap=\"round\" style=\"stroke:pink;stroke-width:1\" /><line x1=\"83.0\" y1=\"454.0\" x2=\"83.0\" y2=\"440.0\" stroke-linecap=\"round\" style=\"stroke:pink;stroke-width:1\" /><line x1=\"83.0\" y1=\"440.0\" x2=\"83.0\" y2=\"431.0\" stroke-linecap=\"round\" style=\"stroke:pink;stroke-width:1\" /><line x1=\"83.0\" y1=\"431.0\" x2=\"83.0\" y2=\"422.0\" stroke-linecap=\"round\" style=\"stroke:pink;stroke-width:1\" /><line x1=\"83.0\" y1=\"422.0\" x2=\"83.0\" y2=\"406.0\" stroke-linecap=\"round\" style=\"stroke:pink;stroke-width:1\" /><line x1=\"83.0\" y1=\"406.0\" x2=\"83.0\" y2=\"399.0\" stroke-linecap=\"round\" style=\"stroke:pink;stroke-width:1\" /><line x1=\"83.0\" y1=\"399.0\" x2=\"83.0\" y2=\"381.0\" stroke-linecap=\"round\" style=\"stroke:pink;stroke-width:1\" /><line x1=\"83.0\" y1=\"381.0\" x2=\"83.0\" y2=\"373.0\" stroke-linecap=\"round\" style=\"stroke:pink;stroke-width:1\" /><line x1=\"83.0\" y1=\"373.0\" x2=\"83.0\" y2=\"360.0\" stroke-linecap=\"round\" style=\"stroke:pink;stroke-width:1\" /><line x1=\"83.0\" y1=\"360.0\" x2=\"83.0\" y2=\"353.0\" stroke-linecap=\"round\" style=\"stroke:pink;stroke-width:1\" /><line x1=\"83.0\" y1=\"353.0\" x2=\"83.0\" y2=\"347.0\" stroke-linecap=\"round\" style=\"stroke:pink;stroke-width:1\" /><line x1=\"83.0\" y1=\"347.0\" x2=\"83.0\" y2=\"340.0\" stroke-linecap=\"round\" style=\"stroke:pink;stroke-width:1\" /><line x1=\"83.0\" y1=\"340.0\" x2=\"83.0\" y2=\"336.0\" stroke-linecap=\"round\" style=\"stroke:pink;stroke-width:1\" /><line x1=\"83.0\" y1=\"336.0\" x2=\"83.0\" y2=\"332.0\" stroke-linecap=\"round\" style=\"stroke:pink;stroke-width:1\" /><line x1=\"83.0\" y1=\"332.0\" x2=\"83.0\" y2=\"329.0\" stroke-linecap=\"round\" style=\"stroke:pink;stroke-width:1\" /><line x1=\"83.0\" y1=\"329.0\" x2=\"83.0\" y2=\"311.0\" stroke-linecap=\"round\" style=\"stroke:pink;stroke-width:1\" /><line x1=\"83.0\" y1=\"311.0\" x2=\"83.0\" y2=\"296.0\" stroke-linecap=\"round\" style=\"stroke:pink;stroke-width:1\" /><line x1=\"83.0\" y1=\"296.0\" x2=\"83.0\" y2=\"293.0\" stroke-linecap=\"round\" style=\"stroke:pink;stroke-width:1\" /><line x1=\"83.0\" y1=\"293.0\" x2=\"83.0\" y2=\"278.0\" stroke-linecap=\"round\" style=\"stroke:pink;stroke-width:1\" /><line x1=\"83.0\" y1=\"278.0\" x2=\"83.0\" y2=\"259.0\" stroke-linecap=\"round\" style=\"stroke:pink;stroke-width:1\" /><line x1=\"83.0\" y1=\"259.0\" x2=\"83.0\" y2=\"255.0\" stroke-linecap=\"round\" style=\"stroke:pink;stroke-width:1\" /><line x1=\"83.0\" y1=\"255.0\" x2=\"83.0\" y2=\"249.0\" stroke-linecap=\"round\" style=\"stroke:pink;stroke-width:1\" /><line x1=\"83.0\" y1=\"249.0\" x2=\"83.0\" y2=\"243.0\" stroke-linecap=\"round\" style=\"stroke:pink;stroke-width:1\" /><line x1=\"83.0\" y1=\"243.0\" x2=\"83.0\" y2=\"230.0\" stroke-linecap=\"round\" style=\"stroke:pink;stroke-width:1\" /><line x1=\"83.0\" y1=\"230.0\" x2=\"83.0\" y2=\"211.0\" stroke-linecap=\"round\" style=\"stroke:pink;stroke-width:1\" /><line x1=\"83.0\" y1=\"211.0\" x2=\"83.0\" y2=\"198.0\" stroke-linecap=\"round\" style=\"stroke:pink;stroke-width:1\" /><line x1=\"83.0\" y1=\"198.0\" x2=\"83.0\" y2=\"192.0\" stroke-linecap=\"round\" style=\"stroke:pink;stroke-width:1\" /><line x1=\"83.0\" y1=\"192.0\" x2=\"83.0\" y2=\"178.0\" stroke-linecap=\"round\" style=\"stroke:pink;stroke-width:1\" /><line x1=\"83.0\" y1=\"178.0\" x2=\"83.0\" y2=\"159.0\" stroke-linecap=\"round\" style=\"stroke:pink;stroke-width:1\" /><line x1=\"83.0\" y1=\"159.0\" x2=\"83.0\" y2=\"153.0\" stroke-linecap=\"round\" style=\"stroke:pink;stroke-width:1\" /><line x1=\"83.0\" y1=\"153.0\" x2=\"83.0\" y2=\"146.0\" stroke-linecap=\"round\" style=\"stroke:pink;stroke-width:1\" /><line x1=\"83.0\" y1=\"146.0\" x2=\"83.0\" y2=\"130.0\" stroke-linecap=\"round\" style=\"stroke:pink;stroke-width:1\" /><line x1=\"83.0\" y1=\"130.0\" x2=\"83.0\" y2=\"125.0\" stroke-linecap=\"round\" style=\"stroke:pink;stroke-width:1\" /><line x1=\"83.0\" y1=\"125.0\" x2=\"83.0\" y2=\"121.0\" stroke-linecap=\"round\" style=\"stroke:pink;stroke-width:1\" /><line x1=\"83.0\" y1=\"121.0\" x2=\"83.0\" y2=\"112.0\" stroke-linecap=\"round\" style=\"stroke:pink;stroke-width:1\" /><line x1=\"83.0\" y1=\"112.0\" x2=\"83.0\" y2=\"108.0\" stroke-linecap=\"round\" style=\"stroke:pink;stroke-width:1\" /><line x1=\"83.0\" y1=\"108.0\" x2=\"83.0\" y2=\"104.0\" stroke-linecap=\"round\" style=\"stroke:pink;stroke-width:1\" /><line x1=\"83.0\" y1=\"104.0\" x2=\"83.0\" y2=\"98.0\" stroke-linecap=\"round\" style=\"stroke:pink;stroke-width:1\" /><line x1=\"83.0\" y1=\"98.0\" x2=\"83.0\" y2=\"82.0\" stroke-linecap=\"round\" style=\"stroke:pink;stroke-width:1\" /><line x1=\"83.0\" y1=\"82.0\" x2=\"83.0\" y2=\"73.0\" stroke-linecap=\"round\" style=\"stroke:pink;stroke-width:1\" /><line x1=\"83.0\" y1=\"73.0\" x2=\"83.0\" y2=\"62.0\" stroke-linecap=\"round\" style=\"stroke:pink;stroke-width:1\" /><line x1=\"83.0\" y1=\"62.0\" x2=\"83.0\" y2=\"56.0\" stroke-linecap=\"round\" style=\"stroke:pink;stroke-width:1\" /><line x1=\"83.0\" y1=\"56.0\" x2=\"83.0\" y2=\"45.0\" stroke-linecap=\"round\" style=\"stroke:pink;stroke-width:1\" /><line x1=\"166.0\" y1=\"480.0\" x2=\"166.0\" y2=\"462.0\" stroke-linecap=\"round\" style=\"stroke:cyan;stroke-width:1\" /><line x1=\"166.0\" y1=\"462.0\" x2=\"166.0\" y2=\"453.0\" stroke-linecap=\"round\" style=\"stroke:cyan;stroke-width:1\" /><line x1=\"166.0\" y1=\"453.0\" x2=\"166.0\" y2=\"436.0\" stroke-linecap=\"round\" style=\"stroke:cyan;stroke-width:1\" /><line x1=\"166.0\" y1=\"436.0\" x2=\"166.0\" y2=\"417.0\" stroke-linecap=\"round\" style=\"stroke:cyan;stroke-width:1\" /><line x1=\"166.0\" y1=\"417.0\" x2=\"166.0\" y2=\"401.0\" stroke-linecap=\"round\" style=\"stroke:cyan;stroke-width:1\" /><line x1=\"166.0\" y1=\"401.0\" x2=\"166.0\" y2=\"386.0\" stroke-linecap=\"round\" style=\"stroke:cyan;stroke-width:1\" /><line x1=\"166.0\" y1=\"386.0\" x2=\"166.0\" y2=\"385.0\" stroke-linecap=\"round\" style=\"stroke:cyan;stroke-width:1\" /><line x1=\"166.0\" y1=\"385.0\" x2=\"166.0\" y2=\"372.0\" stroke-linecap=\"round\" style=\"stroke:cyan;stroke-width:1\" /><line x1=\"166.0\" y1=\"372.0\" x2=\"166.0\" y2=\"369.0\" stroke-linecap=\"round\" style=\"stroke:cyan;stroke-width:1\" /><line x1=\"166.0\" y1=\"369.0\" x2=\"166.0\" y2=\"350.0\" stroke-linecap=\"round\" style=\"stroke:cyan;stroke-width:1\" /><line x1=\"166.0\" y1=\"350.0\" x2=\"166.0\" y2=\"334.0\" stroke-linecap=\"round\" style=\"stroke:cyan;stroke-width:1\" /><line x1=\"166.0\" y1=\"334.0\" x2=\"166.0\" y2=\"332.0\" stroke-linecap=\"round\" style=\"stroke:cyan;stroke-width:1\" /><line x1=\"166.0\" y1=\"332.0\" x2=\"166.0\" y2=\"323.0\" stroke-linecap=\"round\" style=\"stroke:cyan;stroke-width:1\" /><line x1=\"166.0\" y1=\"323.0\" x2=\"166.0\" y2=\"309.0\" stroke-linecap=\"round\" style=\"stroke:cyan;stroke-width:1\" /><line x1=\"166.0\" y1=\"309.0\" x2=\"166.0\" y2=\"297.0\" stroke-linecap=\"round\" style=\"stroke:cyan;stroke-width:1\" /><line x1=\"166.0\" y1=\"297.0\" x2=\"166.0\" y2=\"296.0\" stroke-linecap=\"round\" style=\"stroke:cyan;stroke-width:1\" /><line x1=\"166.0\" y1=\"296.0\" x2=\"166.0\" y2=\"290.0\" stroke-linecap=\"round\" style=\"stroke:cyan;stroke-width:1\" /><line x1=\"166.0\" y1=\"290.0\" x2=\"166.0\" y2=\"286.0\" stroke-linecap=\"round\" style=\"stroke:cyan;stroke-width:1\" /><line x1=\"166.0\" y1=\"286.0\" x2=\"166.0\" y2=\"283.0\" stroke-linecap=\"round\" style=\"stroke:cyan;stroke-width:1\" /><line x1=\"166.0\" y1=\"283.0\" x2=\"166.0\" y2=\"269.0\" stroke-linecap=\"round\" style=\"stroke:cyan;stroke-width:1\" /><line x1=\"166.0\" y1=\"269.0\" x2=\"166.0\" y2=\"265.0\" stroke-linecap=\"round\" style=\"stroke:cyan;stroke-width:1\" /><line x1=\"166.0\" y1=\"265.0\" x2=\"166.0\" y2=\"254.0\" stroke-linecap=\"round\" style=\"stroke:cyan;stroke-width:1\" /><line x1=\"166.0\" y1=\"254.0\" x2=\"166.0\" y2=\"237.0\" stroke-linecap=\"round\" style=\"stroke:cyan;stroke-width:1\" /><line x1=\"166.0\" y1=\"237.0\" x2=\"166.0\" y2=\"225.0\" stroke-linecap=\"round\" style=\"stroke:cyan;stroke-width:1\" /><line x1=\"166.0\" y1=\"225.0\" x2=\"166.0\" y2=\"221.0\" stroke-linecap=\"round\" style=\"stroke:cyan;stroke-width:1\" /><line x1=\"166.0\" y1=\"221.0\" x2=\"166.0\" y2=\"202.0\" stroke-linecap=\"round\" style=\"stroke:cyan;stroke-width:1\" /><line x1=\"166.0\" y1=\"202.0\" x2=\"166.0\" y2=\"190.0\" stroke-linecap=\"round\" style=\"stroke:cyan;stroke-width:1\" /><line x1=\"166.0\" y1=\"190.0\" x2=\"166.0\" y2=\"187.0\" stroke-linecap=\"round\" style=\"stroke:cyan;stroke-width:1\" /><line x1=\"166.0\" y1=\"187.0\" x2=\"166.0\" y2=\"168.0\" stroke-linecap=\"round\" style=\"stroke:cyan;stroke-width:1\" /><line x1=\"166.0\" y1=\"168.0\" x2=\"166.0\" y2=\"163.0\" stroke-linecap=\"round\" style=\"stroke:cyan;stroke-width:1\" /><line x1=\"166.0\" y1=\"163.0\" x2=\"166.0\" y2=\"148.0\" stroke-linecap=\"round\" style=\"stroke:cyan;stroke-width:1\" /><line x1=\"166.0\" y1=\"148.0\" x2=\"166.0\" y2=\"132.0\" stroke-linecap=\"round\" style=\"stroke:cyan;stroke-width:1\" /><line x1=\"166.0\" y1=\"132.0\" x2=\"166.0\" y2=\"115.0\" stroke-linecap=\"round\" style=\"stroke:cyan;stroke-width:1\" /><line x1=\"166.0\" y1=\"115.0\" x2=\"166.0\" y2=\"112.0\" stroke-linecap=\"round\" style=\"stroke:cyan;stroke-width:1\" /><line x1=\"166.0\" y1=\"112.0\" x2=\"166.0\" y2=\"98.0\" stroke-linecap=\"round\" style=\"stroke:cyan;stroke-width:1\" /><line x1=\"166.0\" y1=\"98.0\" x2=\"166.0\" y2=\"95.0\" stroke-linecap=\"round\" style=\"stroke:cyan;stroke-width:1\" /><line x1=\"166.0\" y1=\"95.0\" x2=\"166.0\" y2=\"83.0\" stroke-linecap=\"round\" style=\"stroke:cyan;stroke-width:1\" /><line x1=\"166.0\" y1=\"83.0\" x2=\"166.0\" y2=\"70.0\" stroke-linecap=\"round\" style=\"stroke:cyan;stroke-width:1\" /><line x1=\"166.0\" y1=\"70.0\" x2=\"166.0\" y2=\"64.0\" stroke-linecap=\"round\" style=\"stroke:cyan;stroke-width:1\" /><line x1=\"166.0\" y1=\"64.0\" x2=\"166.0\" y2=\"50.0\" stroke-linecap=\"round\" style=\"stroke:cyan;stroke-width:1\" /><line x1=\"166.0\" y1=\"50.0\" x2=\"166.0\" y2=\"48.0\" stroke-linecap=\"round\" style=\"stroke:cyan;stroke-width:1\" /><line x1=\"166.0\" y1=\"48.0\" x2=\"166.0\" y2=\"41.0\" stroke-linecap=\"round\" style=\"stroke:cyan;stroke-width:1\" /><line x1=\"166.0\" y1=\"41.0\" x2=\"166.0\" y2=\"35.0\" stroke-linecap=\"round\" style=\"stroke:cyan;stroke-width:1\" /><line x1=\"166.0\" y1=\"35.0\" x2=\"166.0\" y2=\"26.0\" stroke-linecap=\"round\" style=\"stroke:cyan;stroke-width:1\" /><line x1=\"249.0\" y1=\"480.0\" x2=\"249.0\" y2=\"479.0\" stroke-linecap=\"round\" style=\"stroke:blue;stroke-width:1\" /><line x1=\"249.0\" y1=\"479.0\" x2=\"249.0\" y2=\"469.0\" stroke-linecap=\"round\" style=\"stroke:blue;stroke-width:1\" /><line x1=\"249.0\" y1=\"469.0\" x2=\"249.0\" y2=\"450.0\" stroke-linecap=\"round\" style=\"stroke:blue;stroke-width:1\" /><line x1=\"249.0\" y1=\"450.0\" x2=\"249.0\" y2=\"438.0\" stroke-linecap=\"round\" style=\"stroke:blue;stroke-width:1\" /><line x1=\"249.0\" y1=\"438.0\" x2=\"249.0\" y2=\"428.0\" stroke-linecap=\"round\" style=\"stroke:blue;stroke-width:1\" /><line x1=\"249.0\" y1=\"428.0\" x2=\"249.0\" y2=\"427.0\" stroke-linecap=\"round\" style=\"stroke:blue;stroke-width:1\" /><line x1=\"249.0\" y1=\"427.0\" x2=\"249.0\" y2=\"409.0\" stroke-linecap=\"round\" style=\"stroke:blue;stroke-width:1\" /><line x1=\"249.0\" y1=\"409.0\" x2=\"249.0\" y2=\"396.0\" stroke-linecap=\"round\" style=\"stroke:blue;stroke-width:1\" /><line x1=\"249.0\" y1=\"396.0\" x2=\"249.0\" y2=\"377.0\" stroke-linecap=\"round\" style=\"stroke:blue;stroke-width:1\" /><line x1=\"249.0\" y1=\"377.0\" x2=\"249.0\" y2=\"363.0\" stroke-linecap=\"round\" style=\"stroke:blue;stroke-width:1\" /><line x1=\"249.0\" y1=\"363.0\" x2=\"249.0\" y2=\"345.0\" stroke-linecap=\"round\" style=\"stroke:blue;stroke-width:1\" /><line x1=\"249.0\" y1=\"345.0\" x2=\"249.0\" y2=\"337.0\" stroke-linecap=\"round\" style=\"stroke:blue;stroke-width:1\" /><line x1=\"249.0\" y1=\"337.0\" x2=\"249.0\" y2=\"322.0\" stroke-linecap=\"round\" style=\"stroke:blue;stroke-width:1\" /><line x1=\"249.0\" y1=\"322.0\" x2=\"249.0\" y2=\"311.0\" stroke-linecap=\"round\" style=\"stroke:blue;stroke-width:1\" /><line x1=\"249.0\" y1=\"311.0\" x2=\"249.0\" y2=\"296.0\" stroke-linecap=\"round\" style=\"stroke:blue;stroke-width:1\" /><line x1=\"249.0\" y1=\"296.0\" x2=\"249.0\" y2=\"285.0\" stroke-linecap=\"round\" style=\"stroke:blue;stroke-width:1\" /><line x1=\"249.0\" y1=\"285.0\" x2=\"249.0\" y2=\"284.0\" stroke-linecap=\"round\" style=\"stroke:blue;stroke-width:1\" /><line x1=\"249.0\" y1=\"284.0\" x2=\"249.0\" y2=\"271.0\" stroke-linecap=\"round\" style=\"stroke:blue;stroke-width:1\" /><line x1=\"249.0\" y1=\"271.0\" x2=\"249.0\" y2=\"262.0\" stroke-linecap=\"round\" style=\"stroke:blue;stroke-width:1\" /><line x1=\"249.0\" y1=\"262.0\" x2=\"249.0\" y2=\"251.0\" stroke-linecap=\"round\" style=\"stroke:blue;stroke-width:1\" /><line x1=\"249.0\" y1=\"251.0\" x2=\"249.0\" y2=\"238.0\" stroke-linecap=\"round\" style=\"stroke:blue;stroke-width:1\" /><line x1=\"249.0\" y1=\"238.0\" x2=\"249.0\" y2=\"229.0\" stroke-linecap=\"round\" style=\"stroke:blue;stroke-width:1\" /><line x1=\"249.0\" y1=\"229.0\" x2=\"249.0\" y2=\"220.0\" stroke-linecap=\"round\" style=\"stroke:blue;stroke-width:1\" /><line x1=\"249.0\" y1=\"220.0\" x2=\"249.0\" y2=\"203.0\" stroke-linecap=\"round\" style=\"stroke:blue;stroke-width:1\" /><line x1=\"249.0\" y1=\"203.0\" x2=\"249.0\" y2=\"193.0\" stroke-linecap=\"round\" style=\"stroke:blue;stroke-width:1\" /><line x1=\"249.0\" y1=\"193.0\" x2=\"249.0\" y2=\"182.0\" stroke-linecap=\"round\" style=\"stroke:blue;stroke-width:1\" /><line x1=\"249.0\" y1=\"182.0\" x2=\"249.0\" y2=\"172.0\" stroke-linecap=\"round\" style=\"stroke:blue;stroke-width:1\" /><line x1=\"249.0\" y1=\"172.0\" x2=\"249.0\" y2=\"168.0\" stroke-linecap=\"round\" style=\"stroke:blue;stroke-width:1\" /><line x1=\"249.0\" y1=\"168.0\" x2=\"249.0\" y2=\"166.0\" stroke-linecap=\"round\" style=\"stroke:blue;stroke-width:1\" /><line x1=\"249.0\" y1=\"166.0\" x2=\"249.0\" y2=\"165.0\" stroke-linecap=\"round\" style=\"stroke:blue;stroke-width:1\" /><line x1=\"249.0\" y1=\"165.0\" x2=\"249.0\" y2=\"148.0\" stroke-linecap=\"round\" style=\"stroke:blue;stroke-width:1\" /><line x1=\"249.0\" y1=\"148.0\" x2=\"249.0\" y2=\"130.0\" stroke-linecap=\"round\" style=\"stroke:blue;stroke-width:1\" /><line x1=\"249.0\" y1=\"130.0\" x2=\"249.0\" y2=\"114.0\" stroke-linecap=\"round\" style=\"stroke:blue;stroke-width:1\" /><line x1=\"249.0\" y1=\"114.0\" x2=\"249.0\" y2=\"110.0\" stroke-linecap=\"round\" style=\"stroke:blue;stroke-width:1\" /><line x1=\"249.0\" y1=\"110.0\" x2=\"249.0\" y2=\"100.0\" stroke-linecap=\"round\" style=\"stroke:blue;stroke-width:1\" /><line x1=\"249.0\" y1=\"100.0\" x2=\"249.0\" y2=\"87.0\" stroke-linecap=\"round\" style=\"stroke:blue;stroke-width:1\" /><line x1=\"249.0\" y1=\"87.0\" x2=\"249.0\" y2=\"82.0\" stroke-linecap=\"round\" style=\"stroke:blue;stroke-width:1\" /><line x1=\"249.0\" y1=\"82.0\" x2=\"249.0\" y2=\"77.0\" stroke-linecap=\"round\" style=\"stroke:blue;stroke-width:1\" /><line x1=\"249.0\" y1=\"77.0\" x2=\"249.0\" y2=\"65.0\" stroke-linecap=\"round\" style=\"stroke:blue;stroke-width:1\" /><line x1=\"249.0\" y1=\"65.0\" x2=\"249.0\" y2=\"60.0\" stroke-linecap=\"round\" style=\"stroke:blue;stroke-width:1\" /><line x1=\"249.0\" y1=\"60.0\" x2=\"249.0\" y2=\"41.0\" stroke-linecap=\"round\" style=\"stroke:blue;stroke-width:1\" /><line x1=\"249.0\" y1=\"41.0\" x2=\"249.0\" y2=\"27.0\" stroke-linecap=\"round\" style=\"stroke:blue;stroke-width:1\" /><line x1=\"249.0\" y1=\"27.0\" x2=\"249.0\" y2=\"20.0\" stroke-linecap=\"round\" style=\"stroke:blue;stroke-width:1\" /><line x1=\"249.0\" y1=\"20.0\" x2=\"249.0\" y2=\"10.0\" stroke-linecap=\"round\" style=\"stroke:blue;stroke-width:1\" /><line x1=\"249.0\" y1=\"10.0\" x2=\"249.0\" y2=\"4.0\" stroke-linecap=\"round\" style=\"stroke:blue;stroke-width:1\" /><line x1=\"332.0\" y1=\"480.0\" x2=\"332.0\" y2=\"462.0\" stroke-linecap=\"round\" style=\"stroke:red;stroke-width:1\" /><line x1=\"332.0\" y1=\"462.0\" x2=\"332.0\" y2=\"459.0\" stroke-linecap=\"round\" style=\"stroke:red;stroke-width:1\" /><line x1=\"332.0\" y1=\"459.0\" x2=\"332.0\" y2=\"458.0\" stroke-linecap=\"round\" style=\"stroke:red;stroke-width:1\" /><line x1=\"332.0\" y1=\"458.0\" x2=\"332.0\" y2=\"454.0\" stroke-linecap=\"round\" style=\"stroke:red;stroke-width:1\" /><line x1=\"332.0\" y1=\"454.0\" x2=\"332.0\" y2=\"448.0\" stroke-linecap=\"round\" style=\"stroke:red;stroke-width:1\" /><line x1=\"332.0\" y1=\"448.0\" x2=\"332.0\" y2=\"442.0\" stroke-linecap=\"round\" style=\"stroke:red;stroke-width:1\" /><line x1=\"332.0\" y1=\"442.0\" x2=\"332.0\" y2=\"435.0\" stroke-linecap=\"round\" style=\"stroke:red;stroke-width:1\" /><line x1=\"332.0\" y1=\"435.0\" x2=\"332.0\" y2=\"425.0\" stroke-linecap=\"round\" style=\"stroke:red;stroke-width:1\" /><line x1=\"332.0\" y1=\"425.0\" x2=\"332.0\" y2=\"410.0\" stroke-linecap=\"round\" style=\"stroke:red;stroke-width:1\" /><line x1=\"332.0\" y1=\"410.0\" x2=\"332.0\" y2=\"391.0\" stroke-linecap=\"round\" style=\"stroke:red;stroke-width:1\" /><line x1=\"332.0\" y1=\"391.0\" x2=\"332.0\" y2=\"383.0\" stroke-linecap=\"round\" style=\"stroke:red;stroke-width:1\" /><line x1=\"332.0\" y1=\"383.0\" x2=\"332.0\" y2=\"379.0\" stroke-linecap=\"round\" style=\"stroke:red;stroke-width:1\" /><line x1=\"332.0\" y1=\"379.0\" x2=\"332.0\" y2=\"375.0\" stroke-linecap=\"round\" style=\"stroke:red;stroke-width:1\" /><line x1=\"332.0\" y1=\"375.0\" x2=\"332.0\" y2=\"357.0\" stroke-linecap=\"round\" style=\"stroke:red;stroke-width:1\" /><line x1=\"332.0\" y1=\"357.0\" x2=\"332.0\" y2=\"345.0\" stroke-linecap=\"round\" style=\"stroke:red;stroke-width:1\" /><line x1=\"332.0\" y1=\"345.0\" x2=\"332.0\" y2=\"339.0\" stroke-linecap=\"round\" style=\"stroke:red;stroke-width:1\" /><line x1=\"332.0\" y1=\"339.0\" x2=\"332.0\" y2=\"328.0\" stroke-linecap=\"round\" style=\"stroke:red;stroke-width:1\" /><line x1=\"332.0\" y1=\"328.0\" x2=\"332.0\" y2=\"312.0\" stroke-linecap=\"round\" style=\"stroke:red;stroke-width:1\" /><line x1=\"332.0\" y1=\"312.0\" x2=\"332.0\" y2=\"302.0\" stroke-linecap=\"round\" style=\"stroke:red;stroke-width:1\" /><line x1=\"332.0\" y1=\"302.0\" x2=\"332.0\" y2=\"297.0\" stroke-linecap=\"round\" style=\"stroke:red;stroke-width:1\" /><line x1=\"332.0\" y1=\"297.0\" x2=\"332.0\" y2=\"288.0\" stroke-linecap=\"round\" style=\"stroke:red;stroke-width:1\" /><line x1=\"332.0\" y1=\"288.0\" x2=\"332.0\" y2=\"285.0\" stroke-linecap=\"round\" style=\"stroke:red;stroke-width:1\" /><line x1=\"332.0\" y1=\"285.0\" x2=\"332.0\" y2=\"274.0\" stroke-linecap=\"round\" style=\"stroke:red;stroke-width:1\" /><line x1=\"332.0\" y1=\"274.0\" x2=\"332.0\" y2=\"256.0\" stroke-linecap=\"round\" style=\"stroke:red;stroke-width:1\" /><line x1=\"332.0\" y1=\"256.0\" x2=\"332.0\" y2=\"254.0\" stroke-linecap=\"round\" style=\"stroke:red;stroke-width:1\" /><line x1=\"332.0\" y1=\"254.0\" x2=\"332.0\" y2=\"243.0\" stroke-linecap=\"round\" style=\"stroke:red;stroke-width:1\" /><line x1=\"332.0\" y1=\"243.0\" x2=\"332.0\" y2=\"238.0\" stroke-linecap=\"round\" style=\"stroke:red;stroke-width:1\" /><line x1=\"332.0\" y1=\"238.0\" x2=\"332.0\" y2=\"224.0\" stroke-linecap=\"round\" style=\"stroke:red;stroke-width:1\" /><line x1=\"332.0\" y1=\"224.0\" x2=\"332.0\" y2=\"219.0\" stroke-linecap=\"round\" style=\"stroke:red;stroke-width:1\" /><line x1=\"332.0\" y1=\"219.0\" x2=\"332.0\" y2=\"214.0\" stroke-linecap=\"round\" style=\"stroke:red;stroke-width:1\" /><line x1=\"332.0\" y1=\"214.0\" x2=\"332.0\" y2=\"209.0\" stroke-linecap=\"round\" style=\"stroke:red;stroke-width:1\" /><line x1=\"332.0\" y1=\"209.0\" x2=\"332.0\" y2=\"190.0\" stroke-linecap=\"round\" style=\"stroke:red;stroke-width:1\" /><line x1=\"332.0\" y1=\"190.0\" x2=\"332.0\" y2=\"180.0\" stroke-linecap=\"round\" style=\"stroke:red;stroke-width:1\" /><line x1=\"332.0\" y1=\"180.0\" x2=\"332.0\" y2=\"175.0\" stroke-linecap=\"round\" style=\"stroke:red;stroke-width:1\" /><line x1=\"332.0\" y1=\"175.0\" x2=\"332.0\" y2=\"172.0\" stroke-linecap=\"round\" style=\"stroke:red;stroke-width:1\" /><line x1=\"332.0\" y1=\"172.0\" x2=\"332.0\" y2=\"164.0\" stroke-linecap=\"round\" style=\"stroke:red;stroke-width:1\" /><line x1=\"332.0\" y1=\"164.0\" x2=\"332.0\" y2=\"154.0\" stroke-linecap=\"round\" style=\"stroke:red;stroke-width:1\" /><line x1=\"332.0\" y1=\"154.0\" x2=\"332.0\" y2=\"149.0\" stroke-linecap=\"round\" style=\"stroke:red;stroke-width:1\" /><line x1=\"332.0\" y1=\"149.0\" x2=\"332.0\" y2=\"141.0\" stroke-linecap=\"round\" style=\"stroke:red;stroke-width:1\" /><line x1=\"332.0\" y1=\"141.0\" x2=\"332.0\" y2=\"133.0\" stroke-linecap=\"round\" style=\"stroke:red;stroke-width:1\" /><line x1=\"332.0\" y1=\"133.0\" x2=\"332.0\" y2=\"118.0\" stroke-linecap=\"round\" style=\"stroke:red;stroke-width:1\" /><line x1=\"332.0\" y1=\"118.0\" x2=\"332.0\" y2=\"102.0\" stroke-linecap=\"round\" style=\"stroke:red;stroke-width:1\" /><line x1=\"332.0\" y1=\"102.0\" x2=\"332.0\" y2=\"95.0\" stroke-linecap=\"round\" style=\"stroke:red;stroke-width:1\" /><line x1=\"415.0\" y1=\"480.0\" x2=\"415.0\" y2=\"479.0\" stroke-linecap=\"round\" style=\"stroke:green;stroke-width:1\" /><line x1=\"415.0\" y1=\"479.0\" x2=\"415.0\" y2=\"474.0\" stroke-linecap=\"round\" style=\"stroke:green;stroke-width:1\" /><line x1=\"415.0\" y1=\"474.0\" x2=\"415.0\" y2=\"472.0\" stroke-linecap=\"round\" style=\"stroke:green;stroke-width:1\" /><line x1=\"415.0\" y1=\"472.0\" x2=\"415.0\" y2=\"459.0\" stroke-linecap=\"round\" style=\"stroke:green;stroke-width:1\" /><line x1=\"415.0\" y1=\"459.0\" x2=\"415.0\" y2=\"450.0\" stroke-linecap=\"round\" style=\"stroke:green;stroke-width:1\" /><line x1=\"415.0\" y1=\"450.0\" x2=\"415.0\" y2=\"438.0\" stroke-linecap=\"round\" style=\"stroke:green;stroke-width:1\" /><line x1=\"415.0\" y1=\"438.0\" x2=\"415.0\" y2=\"420.0\" stroke-linecap=\"round\" style=\"stroke:green;stroke-width:1\" /><line x1=\"415.0\" y1=\"420.0\" x2=\"415.0\" y2=\"418.0\" stroke-linecap=\"round\" style=\"stroke:green;stroke-width:1\" /><line x1=\"415.0\" y1=\"418.0\" x2=\"415.0\" y2=\"408.0\" stroke-linecap=\"round\" style=\"stroke:green;stroke-width:1\" /><line x1=\"415.0\" y1=\"408.0\" x2=\"415.0\" y2=\"391.0\" stroke-linecap=\"round\" style=\"stroke:green;stroke-width:1\" /><line x1=\"415.0\" y1=\"391.0\" x2=\"415.0\" y2=\"384.0\" stroke-linecap=\"round\" style=\"stroke:green;stroke-width:1\" /><line x1=\"415.0\" y1=\"384.0\" x2=\"415.0\" y2=\"372.0\" stroke-linecap=\"round\" style=\"stroke:green;stroke-width:1\" /><line x1=\"415.0\" y1=\"372.0\" x2=\"415.0\" y2=\"355.0\" stroke-linecap=\"round\" style=\"stroke:green;stroke-width:1\" /><line x1=\"415.0\" y1=\"355.0\" x2=\"415.0\" y2=\"344.0\" stroke-linecap=\"round\" style=\"stroke:green;stroke-width:1\" /><line x1=\"415.0\" y1=\"344.0\" x2=\"415.0\" y2=\"330.0\" stroke-linecap=\"round\" style=\"stroke:green;stroke-width:1\" /><line x1=\"415.0\" y1=\"330.0\" x2=\"415.0\" y2=\"324.0\" stroke-linecap=\"round\" style=\"stroke:green;stroke-width:1\" /><line x1=\"415.0\" y1=\"324.0\" x2=\"415.0\" y2=\"313.0\" stroke-linecap=\"round\" style=\"stroke:green;stroke-width:1\" /><line x1=\"415.0\" y1=\"313.0\" x2=\"415.0\" y2=\"298.0\" stroke-linecap=\"round\" style=\"stroke:green;stroke-width:1\" /><line x1=\"415.0\" y1=\"298.0\" x2=\"415.0\" y2=\"285.0\" stroke-linecap=\"round\" style=\"stroke:green;stroke-width:1\" /><line x1=\"415.0\" y1=\"285.0\" x2=\"415.0\" y2=\"278.0\" stroke-linecap=\"round\" style=\"stroke:green;stroke-width:1\" /><line x1=\"415.0\" y1=\"278.0\" x2=\"415.0\" y2=\"274.0\" stroke-linecap=\"round\" style=\"stroke:green;stroke-width:1\" /><line x1=\"415.0\" y1=\"274.0\" x2=\"415.0\" y2=\"272.0\" stroke-linecap=\"round\" style=\"stroke:green;stroke-width:1\" /><line x1=\"415.0\" y1=\"272.0\" x2=\"415.0\" y2=\"268.0\" stroke-linecap=\"round\" style=\"stroke:green;stroke-width:1\" /><line x1=\"415.0\" y1=\"268.0\" x2=\"415.0\" y2=\"261.0\" stroke-linecap=\"round\" style=\"stroke:green;stroke-width:1\" /><line x1=\"415.0\" y1=\"261.0\" x2=\"415.0\" y2=\"242.0\" stroke-linecap=\"round\" style=\"stroke:green;stroke-width:1\" /><line x1=\"415.0\" y1=\"242.0\" x2=\"415.0\" y2=\"240.0\" stroke-linecap=\"round\" style=\"stroke:green;stroke-width:1\" /><line x1=\"415.0\" y1=\"240.0\" x2=\"415.0\" y2=\"226.0\" stroke-linecap=\"round\" style=\"stroke:green;stroke-width:1\" /><line x1=\"415.0\" y1=\"226.0\" x2=\"415.0\" y2=\"222.0\" stroke-linecap=\"round\" style=\"stroke:green;stroke-width:1\" /><line x1=\"415.0\" y1=\"222.0\" x2=\"415.0\" y2=\"216.0\" stroke-linecap=\"round\" style=\"stroke:green;stroke-width:1\" /><line x1=\"415.0\" y1=\"216.0\" x2=\"415.0\" y2=\"215.0\" stroke-linecap=\"round\" style=\"stroke:green;stroke-width:1\" /><line x1=\"415.0\" y1=\"215.0\" x2=\"415.0\" y2=\"211.0\" stroke-linecap=\"round\" style=\"stroke:green;stroke-width:1\" /><line x1=\"415.0\" y1=\"211.0\" x2=\"415.0\" y2=\"207.0\" stroke-linecap=\"round\" style=\"stroke:green;stroke-width:1\" /><line x1=\"415.0\" y1=\"207.0\" x2=\"415.0\" y2=\"200.0\" stroke-linecap=\"round\" style=\"stroke:green;stroke-width:1\" /><line x1=\"415.0\" y1=\"200.0\" x2=\"415.0\" y2=\"198.0\" stroke-linecap=\"round\" style=\"stroke:green;stroke-width:1\" /><line x1=\"415.0\" y1=\"198.0\" x2=\"415.0\" y2=\"195.0\" stroke-linecap=\"round\" style=\"stroke:green;stroke-width:1\" /><line x1=\"415.0\" y1=\"195.0\" x2=\"415.0\" y2=\"178.0\" stroke-linecap=\"round\" style=\"stroke:green;stroke-width:1\" /><line x1=\"415.0\" y1=\"178.0\" x2=\"415.0\" y2=\"171.0\" stroke-linecap=\"round\" style=\"stroke:green;stroke-width:1\" /><line x1=\"415.0\" y1=\"171.0\" x2=\"415.0\" y2=\"170.0\" stroke-linecap=\"round\" style=\"stroke:green;stroke-width:1\" /><line x1=\"415.0\" y1=\"170.0\" x2=\"415.0\" y2=\"155.0\" stroke-linecap=\"round\" style=\"stroke:green;stroke-width:1\" /><line x1=\"415.0\" y1=\"155.0\" x2=\"415.0\" y2=\"138.0\" stroke-linecap=\"round\" style=\"stroke:green;stroke-width:1\" /><line x1=\"415.0\" y1=\"138.0\" x2=\"415.0\" y2=\"126.0\" stroke-linecap=\"round\" style=\"stroke:green;stroke-width:1\" /><line x1=\"415.0\" y1=\"126.0\" x2=\"415.0\" y2=\"108.0\" stroke-linecap=\"round\" style=\"stroke:green;stroke-width:1\" /><line x1=\"415.0\" y1=\"108.0\" x2=\"415.0\" y2=\"95.0\" stroke-linecap=\"round\" style=\"stroke:green;stroke-width:1\" />\n",
              "        \n",
              "        \n",
              "        <g id=\"turtle2\" visibility=\"visible\" transform=\"rotate(180,83.0,45.0) translate(83.0, 45.0)\">\n",
              "<polygon points=\"0,16 2,14 1,10 4,7 7,9 9,8 6,5 7,1 5,-3 8,-6 6,-8 4,-5 0,-7 -4,-5 -6,-8 -8,-6 -5,-3 -7,1 -6,5 -9,8 -7,9 -4,7 -1,10 -2,14\" transform=\"skewX(0) scale(1,1)\" style=\"stroke:pink;stroke-width:1;fill:pink\" />\n",
              "</g><g id=\"turtle2\" visibility=\"visible\" transform=\"rotate(180,166.0,26.0) translate(166.0, 26.0)\">\n",
              "<polygon points=\"0,16 2,14 1,10 4,7 7,9 9,8 6,5 7,1 5,-3 8,-6 6,-8 4,-5 0,-7 -4,-5 -6,-8 -8,-6 -5,-3 -7,1 -6,5 -9,8 -7,9 -4,7 -1,10 -2,14\" transform=\"skewX(0) scale(1,1)\" style=\"stroke:cyan;stroke-width:1;fill:cyan\" />\n",
              "</g><g id=\"turtle2\" visibility=\"visible\" transform=\"rotate(180,249.0,4.0) translate(249.0, 4.0)\">\n",
              "<polygon points=\"0,16 2,14 1,10 4,7 7,9 9,8 6,5 7,1 5,-3 8,-6 6,-8 4,-5 0,-7 -4,-5 -6,-8 -8,-6 -5,-3 -7,1 -6,5 -9,8 -7,9 -4,7 -1,10 -2,14\" transform=\"skewX(0) scale(1,1)\" style=\"stroke:blue;stroke-width:1;fill:blue\" />\n",
              "</g><g id=\"turtle2\" visibility=\"visible\" transform=\"rotate(180,332.0,95.0) translate(332.0, 95.0)\">\n",
              "<polygon points=\"0,16 2,14 1,10 4,7 7,9 9,8 6,5 7,1 5,-3 8,-6 6,-8 4,-5 0,-7 -4,-5 -6,-8 -8,-6 -5,-3 -7,1 -6,5 -9,8 -7,9 -4,7 -1,10 -2,14\" transform=\"skewX(0) scale(1,1)\" style=\"stroke:red;stroke-width:1;fill:red\" />\n",
              "</g><g id=\"turtle2\" visibility=\"visible\" transform=\"rotate(180,415.0,95.0) translate(415.0, 95.0)\">\n",
              "<polygon points=\"0,16 2,14 1,10 4,7 7,9 9,8 6,5 7,1 5,-3 8,-6 6,-8 4,-5 0,-7 -4,-5 -6,-8 -8,-6 -5,-3 -7,1 -6,5 -9,8 -7,9 -4,7 -1,10 -2,14\" transform=\"skewX(0) scale(1,1)\" style=\"stroke:green;stroke-width:1;fill:green\" />\n",
              "</g>\n",
              "      </svg>\n",
              "    "
            ]
          },
          "metadata": {}
        },
        {
          "output_type": "stream",
          "name": "stdout",
          "text": [
            "Blue turtle is the winner 🎉🎉🎉\n"
          ]
        }
      ]
    },
    {
      "cell_type": "markdown",
      "source": [
        "## Beware! Errors\n",
        "\n",
        "Due to the nature of this tutorial I will not be able to help you troubleshoot errors. If you face an error and get stuck, try one of the following:\n",
        "\n",
        "- Check error message. Many times an error message will point clearly towards the root of the problem. For instance, `NameError: name 'bo0b' is not defined` indicates you made a spelling error.\n",
        "- Do not panic and take your time! If you are lost in code, try locate where things go wrong by going back and implementing the task from scratch, carefully observing each step until you find where things go wrong.\n",
        "- Very frequent errors are spelling mistakes and indentation errors. Check if you made one!\n",
        "- Search StackOverflow or ask ChatGPt to debug your error\n",
        "\n",
        "\n",
        "See this [tutorial](https://realpython.com/python-traceback/) on understanding Python Traceback.\n",
        "\n",
        "See this [tutorial](https://realpython.com/invalid-syntax-python/) on understanding Python Syntax Errors."
      ],
      "metadata": {
        "id": "AfPwQ3-k45FD"
      }
    },
    {
      "cell_type": "markdown",
      "source": [
        "# Homework\n",
        "\n",
        "## Task one (easy)\n",
        "\n",
        "Create Starburst.\n",
        "\n",
        "<img src=\"https://cdn.githubraw.com/antndlcrx/Intro-to-Python-DPIR/main/images/hw_easy.png?raw=true:,  width=35\" alt=\"My Image\" width=350>\n",
        "\n",
        "\n",
        "## Task two (intermediate)\n",
        "\n",
        "Create a brunching tree.\n",
        "\n",
        "<img src=\"https://cdn.githubraw.com/antndlcrx/Intro-to-Python-DPIR/main/images/hw_intermediate.png?raw=true:,  width=35\" alt=\"My Image\" width=350>"
      ],
      "metadata": {
        "id": "1HOK2ng9Al-h"
      }
    },
    {
      "cell_type": "markdown",
      "source": [
        "# Python Operands\n",
        "\n",
        "These are the most common operands in Python and their functions:\n",
        "\n",
        "| Operand | Description | Example |\n",
        "|---------|-------------|---------|\n",
        "| `+`     | Addition | `a + b` Adds the values on either side of the operator. |\n",
        "| `-`     | Subtraction | `a - b` Subtracts right-hand operand from left-hand operand. |\n",
        "| `*`     | Multiplication | `a * b` Multiplies values on either side of the operator. |\n",
        "| `/`     | Division | `a / b` Divides left-hand operand by right-hand operand. |\n",
        "| `//`    | Floor Division | `a // b` Divides and returns the integer part of the quotient. Ignores the decimal part. |\n",
        "| `%`     | Modulus | `a % b` Divides left-hand operand by right-hand operand and returns remainder. |\n",
        "| `**`    | Exponentiation | `a ** b` Raises left-hand operand to the power of right-hand operand. |\n",
        "| `=`     | Assignment | `a = b` Assigns right-hand operand's value to the left-hand operand. |\n",
        "| `==`    | Equality | `a == b` Checks if the value of two operands is equal. |\n",
        "| `!=`    | Inequality | `a != b` Checks if the value of two operands is not equal. |\n",
        "| `>`     | Greater than | `a > b` Checks if left-hand operand is greater than the right-hand operand. |\n",
        "| `<`     | Less than | `a < b` Checks if left-hand operand is less than the right-hand operand. |\n",
        "| `>=`    | Greater than or equal to | `a >= b` Checks if left-hand operand is greater than or equal to the right-hand operand. |\n",
        "| `<=`    | Less than or equal to | `a <= b` Checks if left-hand operand is less than or equal to the right-hand operand. |\n",
        "| `and`   | Logical AND | `a and b` True if both a and b are true. |\n",
        "| `or`    | Logical OR | `a or b` True if either a or b is true. |\n",
        "| `not`   | Logical NOT | `not a` True if operand is false (complements the operand). |\n",
        "\n"
      ],
      "metadata": {
        "id": "S0Ti_xgUYGQL"
      }
    },
    {
      "cell_type": "markdown",
      "source": [
        "# Python Built-In Functions\n",
        "\n",
        "Python offers several built-in funcitons. You can read about them in the [official documentation](https://docs.python.org/3.6/library/functions.html).\n",
        "\n",
        "You can also find this [tutorial](https://realpython.com/python-data-types/) useful.\n",
        "\n",
        "Some examples:\n",
        "\n",
        "#### Math\n",
        "\n",
        "| Function  | Description                                         |\n",
        "|-----------|-----------------------------------------------------|\n",
        "| `abs()`   | Returns absolute value of a number                  |\n",
        "| `max()`   | Returns the largest of the given arguments or items in an iterable |\n",
        "| `min()`   | Returns the smallest of the given arguments or items in an iterable |\n",
        "| `pow()`   | Raises a number to a power                          |\n",
        "| `round()` | Rounds a floating-point value                       |\n",
        "| `sum()`   | Sums the items of an iterable                       |\n",
        "\n",
        "#### Type Convertion\n",
        "\n",
        "| Function     | Description                                                                |\n",
        "|--------------|----------------------------------------------------------------------------|\n",
        "| `bin()`      | Converts an integer to a binary string                                     |\n",
        "| `bool()`     | Converts an argument to a Boolean value                                   |\n",
        "| `chr()`      | Returns string representation of character given by integer argument      |\n",
        "| `float()`    | Returns a floating-point object constructed from a number or string       |\n",
        "| `int()`      | Returns an integer object constructed from a number or string             |\n",
        "| `str()`      | Returns a string version of an object                                     |\n",
        "| `type()`     | Returns the type of an object or creates a new type object                |\n",
        "\n",
        "\n",
        "#### Iterables and Iterators\n",
        "| Function     | Description                                                           |\n",
        "|--------------|-----------------------------------------------------------------------|\n",
        "| `all()`      | Returns True if all elements of an iterable are true                  |\n",
        "| `any()`      | Returns True if any elements of an iterable are true                  |\n",
        "| `enumerate()`| Returns a list of tuples containing indices and values from an iterable |\n",
        "| `filter()`   | Filters elements from an iterable                                     |\n",
        "| `iter()`     | Returns an iterator object                                            |\n",
        "| `len()`      | Returns the length of an object                                       |\n",
        "| `map()`      | Applies a function to every item of an iterable                       |\n",
        "| `next()`     | Retrieves the next item from an iterator                              |\n",
        "| `range()`    | Generates a range of integer values                                   |\n",
        "| `reversed()` | Returns a reverse iterator                                            |\n",
        "| `slice()`    | Returns a slice object                                                |\n",
        "| `sorted()`   | Returns a sorted list from an iterable                                |\n",
        "| `zip()`      | Creates an iterator that aggregates elements from iterables           |"
      ],
      "metadata": {
        "id": "slQhh6SKfrp5"
      }
    },
    {
      "cell_type": "markdown",
      "source": [
        "# Further Resources\n",
        "\n",
        "- [Object Oriented Programming](https://realpython.com/python3-object-oriented-programming/)\n",
        "\n",
        "- [Understanding Python Traceback](https://realpython.com/python-traceback/)\n",
        "- [Invalid Syntax in Python: Common Reasons for SyntaxError](https://realpython.com/invalid-syntax-python/)\n",
        "\n",
        "- [Python Variables](https://realpython.com/python-variables/)\n",
        "-[Python Data Types](https://realpython.com/python-data-types/)\n",
        "- [String and Character Data in Python](https://realpython.com/python-strings/)\n",
        "- [Python Random Module](https://docs.python.org/3/library/random.html)\n",
        "- [Tech With Tim YouTube Channel](https://www.youtube.com/@TechWithTim)"
      ],
      "metadata": {
        "id": "DMJJiVCDfjVR"
      }
    }
  ]
}