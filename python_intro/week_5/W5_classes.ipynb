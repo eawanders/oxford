{
  "cells": [
    {
      "cell_type": "markdown",
      "metadata": {
        "colab_type": "text",
        "id": "view-in-github"
      },
      "source": [
        "<a href=\"https://colab.research.google.com/github/antndlcrx/Intro-to-Python-DPIR/blob/main/Week%205/W5_classes.ipynb\" target=\"_parent\"><img src=\"https://colab.research.google.com/assets/colab-badge.svg\" alt=\"Open In Colab\"/></a>"
      ]
    },
    {
      "cell_type": "markdown",
      "metadata": {
        "id": "rMxAjMsVFTmd"
      },
      "source": [
        "<img src=\"https://cdn.githubraw.com/antndlcrx/Intro-to-Python-DPIR/main/images/logo_dpir.png?raw=true:,  width=35\" alt=\"My Image\" width=175>\n",
        "\n",
        "# **Python Classes**"
      ]
    },
    {
      "cell_type": "markdown",
      "metadata": {
        "id": "riLMiV5muCwP"
      },
      "source": [
        "## **1**.&nbsp; **Why do we need Classes?**"
      ]
    },
    {
      "cell_type": "markdown",
      "metadata": {
        "id": "q-HpDsdyzEb3"
      },
      "source": [
        "One of the biggest challenges in programming is managing complexity, and *object-oriented programming* (OOP) is designed to address that. By defining *classes*, you can bundle data (attributes) and behaviors (methods) into cohesive units that clearly represent the real-world or conceptual entities in your program. This makes code more readable, easier to extend, and often more intuitive to work with—especially when projects grow large.\n",
        "\n",
        "In Python, classes are optional—you can write perfectly fine code using just functions and modules—but classes shine when you want to group related data and functionality in one place and leverage features like *inheritance*. This approach lets you create specialised classes that build on existing ones without repeating code. Ultimately, classes help organise and model your program in a logical, human-friendly way, making it simpler for you (and others) to understand, maintain, and reuse what you have written.\n",
        "\n",
        "This tutorial is based on two excellent resources:\n",
        "\n",
        "1. [Python Crash Course](https://learning.oreilly.com/library/view/python-crash-course/9781098156664/).\n",
        "2. [Python in a Nutshell ch. 4](https://learning.oreilly.com/library/view/python-in-a/9781098113544/ch04.html#descriptors)."
      ]
    },
    {
      "cell_type": "markdown",
      "metadata": {
        "id": "XIpWvbrOuO_b"
      },
      "source": [
        "## **2**.&nbsp; **Define a Class; Instance vs Class Attributes**"
      ]
    },
    {
      "cell_type": "markdown",
      "metadata": {
        "id": "srngVWv8FV1C"
      },
      "source": [
        "A *class* in Python serves as a blueprint for creating objects, also known as *instances*. When you call a class like a function, it instantiates an object of that type. Each class can have attributes—variables bound to the class or its instances—that store data or define behavior through methods. Additionally, a class can inherit from other classes, allowing it to reuse and extend existing functionality. In essence, **a class provides a structured way to define and organise related data and behaviors, guiding how its instances are created and interact**."
      ]
    },
    {
      "cell_type": "code",
      "execution_count": 1,
      "metadata": {
        "id": "SaieZpcuCQy5"
      },
      "outputs": [
        {
          "name": "stdout",
          "output_type": "stream",
          "text": [
            "Hello World\n"
          ]
        }
      ],
      "source": [
        "def cus():\n",
        "    print(\"Hello World\")\n",
        "cus()"
      ]
    },
    {
      "cell_type": "code",
      "execution_count": 3,
      "metadata": {
        "cellView": "form",
        "colab": {
          "base_uri": "https://localhost:8080/"
        },
        "id": "mB-cHX5768Ao",
        "outputId": "db3e2365-6344-4c79-de07-0139dd4fa411"
      },
      "outputs": [
        {
          "data": {
            "text/plain": [
              "True"
            ]
          },
          "execution_count": 3,
          "metadata": {},
          "output_type": "execute_result"
        }
      ],
      "source": [
        "#@title Example class definiton\n",
        "\n",
        "class Politican:\n",
        "    \"\"\"\n",
        "    Defines politician attributes and behaviours.\n",
        "    \"\"\"\n",
        "\n",
        "    instance_count = 0\n",
        "\n",
        "    def __init__(self, party, age):\n",
        "        self.party = party\n",
        "        self.age = age\n",
        "        self.name = \"generic_name\"\n",
        "        Politican.instance_count += 1\n",
        "\n",
        "    def make_speech(self):\n",
        "        print(f\"Vote for {self.party}!\")\n",
        "\n",
        "\n",
        "\n",
        "p1 = Politican(35, \"A\")\n",
        "\n",
        "\n",
        "# example get attribute\n",
        "p1.age\n",
        "\n",
        "# creating an instance of a class\n",
        "isinstance(p1, Politican)\n",
        "\n",
        " # access class attribute x\n",
        "# p1.counciousness = \"absent\"\n",
        "# p1.counciousness\n",
        "# p1.__class__.counciousness"
      ]
    },
    {
      "cell_type": "code",
      "execution_count": 6,
      "metadata": {
        "id": "IyiQPtmM-AEA"
      },
      "outputs": [
        {
          "name": "stdout",
          "output_type": "stream",
          "text": [
            "3\n"
          ]
        },
        {
          "data": {
            "text/plain": [
              "['Jane']"
            ]
          },
          "execution_count": 6,
          "metadata": {},
          "output_type": "execute_result"
        }
      ],
      "source": [
        "#@title Exercises Class definition and attributes\n",
        "\n",
        "# 1: Create a \"Book\" class with instance attributes title, author, and pages.\n",
        "# Instantiate at least three books and print each one's attributes.\n",
        "\n",
        "class Book:\n",
        "    book_count = 0\n",
        "    def __init__(self, title, author, pages):\n",
        "        self.title = title\n",
        "        self.author = author\n",
        "        self.pages = pages\n",
        "        Book.book_count += 1\n",
        "\n",
        "book1 = Book(\"The Alchemist\", \"Paulo Coelho\", 300)\n",
        "book2 = Book(\"The Secret\", \"Rhonda Byrne\", 200)\n",
        "book3 = Book(\"The Monk who sold his Ferrari\", \"Robin Sharma\", 250)\n",
        "\n",
        "# 2: Add a class attribute \"book_count\" to Book class, which tracks how many book\n",
        "# objects have been created. Increment it in the constructor (__init__()).\n",
        "# Print Book.book_count after creating multiple books.\n",
        "\n",
        "print(Book.book_count)\n",
        "\n",
        "# 3: Create a class \"Team\" with a class attribute \"members = []\".\n",
        "# In __init__(), attempt to append a new member to members. Instantiate multiple teams\n",
        "# with different members and see how they share the same list.\n",
        "\n",
        "class Team:\n",
        "    # members = []\n",
        "    def __init__(self, member):\n",
        "        self.member = member\n",
        "        self.members = []\n",
        "        self.members.append(self.member)\n",
        "\n",
        "team1 = Team(\"John\")\n",
        "team2 = Team(\"Jane\")\n",
        "team2.members\n",
        "\n",
        "# 4: Modify Team so that each instance has its own list of members, while still\n",
        "# keeping a class attribute that tracks the total number of teams created."
      ]
    },
    {
      "cell_type": "markdown",
      "metadata": {
        "id": "gtB11GHUqM_u"
      },
      "source": [
        "### A note on styling conventions when defining classes:\n",
        "\n"
      ]
    },
    {
      "cell_type": "markdown",
      "metadata": {
        "id": "SbhqXWalB58J"
      },
      "source": [
        "- **Class names should be written in CamelCase**. To do this, capitalise the first letter of each word in the name, and don't use underscores. Instance and module names should be written in lowercase, with underscores between words.\n",
        "\n",
        "- **Every class should have a docstring** immediately following the class definition. The docstring should be a brief description of what the class does, and you should follow the same formatting conventions you used for writing docstrings in functions. Each module should also have a docstring describing what the classes in a module can be used for.\n",
        "\n",
        "- You can use blank lines to organise code, but don't use them excessively. Within a class you can use one blank line between methods, and within a module you can use two blank lines to separate classes.\n",
        "\n",
        "- If you need to import a module from the standard library and a module that you wrote, place the import statement for the standard library module first. Then add a blank line and the import statement for the module you wrote. In programs with multiple import statements, this convention makes it easier to see where the different modules used in the program come from.\n",
        "\n",
        "Source: [Python Crash Course](https://learning.oreilly.com/library/view/python-crash-course/9781098156664/).\n",
        "See also: [PEP8 Style Guide for Python Code](https://peps.python.org/pep-0008/).\n"
      ]
    },
    {
      "cell_type": "markdown",
      "metadata": {
        "id": "2bdDwDGxuZoN"
      },
      "source": [
        "## **3**.&nbsp; **Methods and Special Methods**"
      ]
    },
    {
      "cell_type": "markdown",
      "metadata": {
        "id": "5mPUormLP3b1"
      },
      "source": [
        "In Python, **methods are functions that belong to a class and operate on its instances**. They allow objects to interact with their data and perform actions. There are two key types of methods:\n",
        "- **regular methods**, which explicitly define behavior.\n",
        "- **special methods**, which enable built-in operations and object customisation.\n",
        "\n"
      ]
    },
    {
      "cell_type": "markdown",
      "metadata": {
        "id": "IuqHMwba-SSa"
      },
      "source": [
        "### **The `__init__()` Method**\n",
        "\n",
        "The `__init__()` method (pronounced \"dunder init\", short for double underscore init) is a special method that performs instance initialisation. Its primary role is to bind attributes to a newly created instance. The double underscores in `__init__` prevent name conflicts with Pythonss built-in identifiers.\n",
        "\n",
        "The first parameter of `__init__()` must always be self, which represents the instance being created. When an object is instantiated, Python automatically calls `__init__()`, passing the new instance as self. This ensures that each instance has its own independent attributes.\n",
        "\n"
      ]
    },
    {
      "cell_type": "code",
      "execution_count": null,
      "metadata": {
        "id": "5B8hFilU9mbp"
      },
      "outputs": [],
      "source": [
        "class Politician:\n",
        "    def __init__(self, age, party):\n",
        "        self.age = age # instance attribute\n",
        "        self.party = party # instance attribute\n",
        "\n",
        "p1 = Politician(35, \"A\") # __init__() is called automatically"
      ]
    },
    {
      "cell_type": "markdown",
      "metadata": {
        "id": "Sty-NJin-xqm"
      },
      "source": [
        "While instance attributes are usually bound in `__init__()`, you can modify or add attributes outside of it. However, initialising all attributes in `__init__()` improves readability and ensures consistency.\n",
        "\n"
      ]
    },
    {
      "cell_type": "markdown",
      "metadata": {
        "id": "qK0kf4gE-7oq"
      },
      "source": [
        "### **Special Methods `__method__()`**\n",
        "\n",
        "Python provides a set of predefined special methods (also known as dunder methods, short for double underscore methods). These methods enable classes to integrate with Pythonss built-in operations. Special methods are automatically called when their corresponding operations are used.\n",
        "\n",
        "Example:\n",
        "\n",
        "- `__str__()` defines how an instance is represented as a string `str(obj)` or `print(obj)`.\n",
        "- `__len__()` allows an instance to be used with `len()`.\n",
        "- `__call__()` makes an instance callable like a function."
      ]
    },
    {
      "cell_type": "code",
      "execution_count": 7,
      "metadata": {
        "colab": {
          "base_uri": "https://localhost:8080/"
        },
        "id": "juR7QS9i9nIC",
        "outputId": "c19e84e2-1ebc-4e2a-c871-af23c064e5b6"
      },
      "outputs": [
        {
          "name": "stdout",
          "output_type": "stream",
          "text": [
            "age: A, party: 35\n"
          ]
        },
        {
          "data": {
            "text/plain": [
              "3"
            ]
          },
          "execution_count": 7,
          "metadata": {},
          "output_type": "execute_result"
        }
      ],
      "source": [
        "class Politician:\n",
        "    \"\"\"\n",
        "    Defines politician attributes and behaviours.\n",
        "    \"\"\"\n",
        "\n",
        "    instance_count = 0\n",
        "\n",
        "    def __init__(self, party, age):\n",
        "        self.party = party\n",
        "        self.age = age\n",
        "        self.name = \"generic_name\"\n",
        "        Politican.instance_count += 1\n",
        "\n",
        "    def make_speech(self):\n",
        "        print(f\"Vote for {self.party}!\")\n",
        "\n",
        "    def __str__(self):\n",
        "        return f\"age: {self.age}, party: {self.party}\"\n",
        "\n",
        "    def __len__(self):\n",
        "        return len(self.__dict__)\n",
        "\n",
        "\n",
        "p1 = Politician(35, \"A\") # __init__() is called automatically\n",
        "print(str(p1))\n",
        "len(p1)"
      ]
    },
    {
      "cell_type": "markdown",
      "metadata": {
        "id": "lENCkAUzEKSm"
      },
      "source": [
        "### **Instance Methods**\n",
        "\n",
        "Instance methods are functions defined within a class that operate on an instance. They always include self as the first parameter, allowing access to the instance's attributes and other methods.\n",
        "\n"
      ]
    },
    {
      "cell_type": "code",
      "execution_count": null,
      "metadata": {
        "id": "lkUFwUWJEk_U"
      },
      "outputs": [],
      "source": []
    },
    {
      "cell_type": "markdown",
      "metadata": {
        "id": "yqyCL5KAVIP7"
      },
      "source": [
        "### Class Methods\n",
        "\n",
        "Class methods are functions defined within a class that operate on the class itself rather than on an instance. They always include `cls` as the first parameter, allowing access to the class's attributes and other class-level methods. Class methods are defined using the `@classmethod` decorator and are useful when behavior needs to be shared across all instances or when modifying class attributes."
      ]
    },
    {
      "cell_type": "code",
      "execution_count": null,
      "metadata": {
        "id": "JKt0I2yBVHmo"
      },
      "outputs": [],
      "source": []
    },
    {
      "cell_type": "code",
      "execution_count": 8,
      "metadata": {
        "cellView": "form",
        "colab": {
          "base_uri": "https://localhost:8080/"
        },
        "id": "AKoM7iAFEK8Y",
        "outputId": "1df9d4c4-e7f0-4818-c200-34ce8df25a5b"
      },
      "outputs": [
        {
          "data": {
            "text/plain": [
              "2"
            ]
          },
          "execution_count": 8,
          "metadata": {},
          "output_type": "execute_result"
        }
      ],
      "source": [
        "#@title Example Instance and Class Methods\n",
        "class Politician:\n",
        "    \"\"\"\n",
        "    Defines politician attributes and behaviours.\n",
        "    \"\"\"\n",
        "\n",
        "    instance_count = 0\n",
        "\n",
        "    def __init__(self, party, age):\n",
        "        self.party = party\n",
        "        self.age = age\n",
        "        self.name = \"generic_name\"\n",
        "        Politician.instance_count += 1\n",
        "\n",
        "    def make_speech(self):\n",
        "        print(f\"Vote for {self.party}!\")\n",
        "\n",
        "    def __str__(self):\n",
        "        return f\"age: {self.age}, party: {self.party}\"\n",
        "\n",
        "    def __len__(self):\n",
        "        return len(self.__dict__)\n",
        "\n",
        "    @classmethod\n",
        "    def show_count(cls):\n",
        "        return cls.instance_count\n",
        "\n",
        "p1 = Politician(35, \"A\")\n",
        "p2 = Politician(32, \"A\")\n",
        "\n",
        "\n",
        "Politician.show_count()"
      ]
    },
    {
      "cell_type": "code",
      "execution_count": null,
      "metadata": {
        "cellView": "form",
        "id": "jr18MzKS9oUG"
      },
      "outputs": [
        {
          "name": "stdout",
          "output_type": "stream",
          "text": [
            "Beep boop! I am a robot.\n"
          ]
        }
      ],
      "source": [
        "#@title Exercises Methods\n",
        "\n",
        "# 1: Create a \"Robot\" class with an instance method \"greet()\" that prints\n",
        "# \"Beep boop! I am a robot.\". Instantiate a Robot and call greet().\n",
        "\n",
        "class Robot:\n",
        "    def greet(self):\n",
        "        print(\"Beep boop! I am a robot.\")\n",
        "\n",
        "robot = Robot()\n",
        "robot.greet()\n",
        "\n",
        "# 2: Extend Robot with a constructor that takes parameters like model_number and\n",
        "# year_built. Print these attributes in greet().\n",
        "\n",
        "class Robot:\n",
        "    def __init__(self, model_number, year_built):\n",
        "        self.model_number = model_number\n",
        "        self.year_built = year_built\n",
        "\n",
        "    def greet(self):\n",
        "        print(f\"Beep boop! I am a robot. Model number: {self.model_number}, Year built: {self.year_built}\")\n",
        "\n",
        "# 3: Give Robot a __str__() method that returns something like \"Robot(model_number=XYZ, year_built=2025)\".\n",
        "# Print the robot object directly to see the output.\n",
        "\n",
        "class Robot:\n",
        "    def __init__(self, model_number, year_built):\n",
        "        self.model_number = model_number\n",
        "        self.year_built = year_built\n",
        "\n",
        "    def greet(self):\n",
        "        print(f\"Beep boop! I am a robot. Model number: {self.model_number}, Year built: {self.year_built}\")\n",
        "\n",
        "    def __str__(self):\n",
        "        return f\"Robot(model_number={self.model_number}, year_built={self.year_built})\"\n",
        "\n",
        "# 4: Give Robot a __len__() method that returns the number of attributes each instance has.\n",
        "# Print len(robot object) to see the output.\n",
        "\n",
        "class Robot:\n",
        "    def __init__(self, model_number, year_built):\n",
        "        self.model_number = model_number\n",
        "        self.year_built = year_built\n",
        "\n",
        "    def greet(self):\n",
        "        print(f\"Beep boop! I am a robot. Model number: {self.model_number}, Year built: {self.year_built}\")\n",
        "\n",
        "    def __str__(self):\n",
        "        return f\"Robot(model_number={self.model_number}, year_built={self.year_built})\"\n",
        "\n",
        "    def __len__(self):\n",
        "        return len(self.__dict__)\n"
      ]
    },
    {
      "cell_type": "markdown",
      "metadata": {
        "id": "bRdFRnpzjP1h"
      },
      "source": [
        "## **4**.&nbsp; **Inheritance**"
      ]
    },
    {
      "cell_type": "markdown",
      "metadata": {
        "id": "DFsGJ7kZjVdI"
      },
      "source": [
        "When one class *inherits* from another, it *takes on the attributes and methods of the first class*. The original class is called the parent class (or superclass), and the new class is the child class (or subclass). The child class can inherit any or all of the attributes and methods of its parent class, but it's also free to define new attributes and methods of its own.\n",
        "\n"
      ]
    },
    {
      "cell_type": "code",
      "execution_count": null,
      "metadata": {
        "id": "Gln9eSdEQlgT"
      },
      "outputs": [],
      "source": []
    },
    {
      "cell_type": "code",
      "execution_count": 11,
      "metadata": {
        "cellView": "form",
        "id": "2bFuKQGszvGA"
      },
      "outputs": [],
      "source": [
        "#@title Example Inheritance\n",
        "\n",
        "class Politician:\n",
        "    \"\"\"\n",
        "    Defines politician attributes and behaviours.\n",
        "    \"\"\"\n",
        "\n",
        "    instance_count = 0\n",
        "\n",
        "    def __init__(self, party, age):\n",
        "        self.party = party\n",
        "        self.age = age\n",
        "        self.name = \"generic_name\"\n",
        "        Politician.instance_count += 1\n",
        "\n",
        "    def make_speech(self):\n",
        "        print(f\"Vote for {self.party}!\")\n",
        "\n",
        "    def __str__(self):\n",
        "        return f\"age: {self.age}, party: {self.party}\"\n",
        "\n",
        "    def __len__(self):\n",
        "        return len(self.__dict__)\n",
        "\n",
        "    @classmethod\n",
        "    def show_count(cls):\n",
        "        return cls.instance_count\n",
        "\n",
        "\n",
        "class President(Politician):\n",
        "    \"\"\"\n",
        "    Defines president attributes and behaviours.\n",
        "    \"\"\"\n",
        "\n",
        "    def __init__(self, party, age):\n",
        "        super().__init__(party, age)\n",
        "        tenure = 0\n",
        "\n",
        "    def make_policy(self):\n",
        "        return f\"President signed some policy\""
      ]
    },
    {
      "cell_type": "markdown",
      "metadata": {
        "id": "lWPq2b4FQmGV"
      },
      "source": [
        "### **The `super()` function**\n",
        "\n",
        "The `super()` function in Python is used to call a method from the parent class inside a child class. It is most commonly used in the `__init__()` method to ensure the parent's initialisation logic runs properly. However, it can also be used to call any method from the parent class.\n"
      ]
    },
    {
      "cell_type": "markdown",
      "metadata": {
        "id": "aTVQXZH4jwEV"
      },
      "source": [
        "**Override Methods from the Parent Class**\n",
        "\n",
        "You can override any method from the parent class that doesn’t fit what you’re trying to model with the child class. To do this, you define a method in the child class with the same name as the method you want to override in the parent class. Python will disregard the parent class method and only pay attention to the method you define in the child class.\n",
        "\n",
        "Source: [Python Crash Course](https://learning.oreilly.com/library/view/python-crash-course/9781098156664/)."
      ]
    },
    {
      "cell_type": "code",
      "execution_count": null,
      "metadata": {
        "id": "pba-IHVYSONX"
      },
      "outputs": [],
      "source": []
    },
    {
      "cell_type": "code",
      "execution_count": 12,
      "metadata": {
        "cellView": "form",
        "id": "jcdh1sGJSOcN"
      },
      "outputs": [],
      "source": [
        "#@title Example Override\n",
        "\n",
        "class Politician:\n",
        "    \"\"\"\n",
        "    Defines politician attributes and behaviours.\n",
        "    \"\"\"\n",
        "\n",
        "    instance_count = 0\n",
        "\n",
        "    def __init__(self, party, age):\n",
        "        self.party = party\n",
        "        self.age = age\n",
        "        self.name = \"generic_name\"\n",
        "        Politician.instance_count += 1\n",
        "\n",
        "    def make_speech(self):\n",
        "        print(f\"Vote for {self.party}!\")\n",
        "\n",
        "    def __str__(self):\n",
        "        return f\"age: {self.age}, party: {self.party}\"\n",
        "\n",
        "    def __len__(self):\n",
        "        return len(self.__dict__)\n",
        "\n",
        "    @classmethod\n",
        "    def show_count(cls):\n",
        "        return cls.instance_count\n",
        "\n",
        "\n",
        "class President(Politician):\n",
        "    \"\"\"\n",
        "    Defines president attributes and behaviours.\n",
        "    \"\"\"\n",
        "\n",
        "    def __init__(self, party, age):\n",
        "        super().__init__(party, age)\n",
        "        tenure = 0\n",
        "\n",
        "    def make_policy(self):\n",
        "        return f\"President signed some policy\"\n",
        "\n",
        "    def __str__(self):\n",
        "        return \"Im the President!\""
      ]
    },
    {
      "cell_type": "code",
      "execution_count": null,
      "metadata": {
        "id": "Me0HoZS_O3JD"
      },
      "outputs": [],
      "source": [
        "#@title Exercises Inheritance\n",
        "\n",
        "# 1: Create a base class \"Animal\" with an instance attribute \"name\" and a method \"make_sound()\".\n",
        "# Create a subclass Dog that overrides make_sound() to print \"Woof!\". Create two Dog instances and call make_sound() for each.\n",
        "\n",
        "class Animal:\n",
        "    def __init__(self, name):\n",
        "        self.name = name\n",
        "\n",
        "    def make_sound(self):\n",
        "        print(\"Generic animal sound\")\n",
        "\n",
        "class Dog(Animal): # Dog inherits from Animal as a subclass\n",
        "    def make_sound(self):\n",
        "        print(\"Woof!\")\n",
        "\n",
        "# 2: In Dog.__init__(), call super().__init__() to initialise name. Add an additional dog-specific attribute, like breed.\n",
        "# Show that Dog objects have both name and breed.\n",
        "\n",
        "class Animal:\n",
        "    def __init__(self, name):\n",
        "        self.name = name\n",
        "\n",
        "    def make_sound(self):\n",
        "        print(\"Generic animal sound\")\n",
        "\n",
        "class Dog(Animal): # Dog inherits from Animal as a subclass\n",
        "    def __init__(self, name, breed):\n",
        "        super().__init__(name)\n",
        "        self.breed = breed\n",
        "\n",
        "    def make_sound(self):\n",
        "        print(\"Woof!\")\n",
        "\n",
        "a1 = Animal(\"Cat\")\n",
        "d1 = Dog(\"Buddy\", \"Golden Retriever\")\n",
        "\n",
        "# 3: Make an Animal method named \"describe()\", which prints a generic description. Have Dog override describe(),\n",
        "# but first call the parent’s version (e.g., super().describe()) and then add something specific to dogs.\n",
        "\n",
        "class Animal:\n",
        "    def __init__(self, name):\n",
        "        self.name = name\n",
        "\n",
        "    def make_sound(self):\n",
        "        print(\"Generic animal sound\")\n",
        "\n",
        "    def describe(self):\n",
        "        print(\"Generic animal description\")\n",
        "\n",
        "c1 = Cat(\"Diff name\")\n",
        "\n",
        "\n",
        "# 4: Create another subclass Cat(Animal) with a different make_sound().\n",
        "# Put instances of Dog and Cat in a list, loop over them, and call make_sound() on each.\n",
        "\n",
        "test = [a1, d1, c1]\n",
        "for a in test:\n",
        "    a.make_sound()\n"
      ]
    },
    {
      "cell_type": "markdown",
      "metadata": {
        "id": "Wnn7ZcNDng48"
      },
      "source": [
        "## **5**.&nbsp; **Composition**"
      ]
    },
    {
      "cell_type": "markdown",
      "metadata": {
        "id": "_wSjysBnu0NG"
      },
      "source": [
        "**Composition** is a fundamental design principle in object-oriented programming that **allows objects to be built by combining other objects**, rather than inheriting from them. Instead of creating a rigid hierarchy using inheritance, composition models relationships more flexibly by letting one class contain instances of another as attributes.\n",
        "\n",
        "This is useful when an object \"*has a*\" relationship with another object, rather than an \"*is a*\" relationship. For example, a Car has an Engine, but a Car is not an Engine. This distinction is key—inheritance forces a parent-child structure, while composition allows objects to work together without being tightly coupled."
      ]
    },
    {
      "cell_type": "code",
      "execution_count": null,
      "metadata": {
        "id": "x5ilKp51kXlC"
      },
      "outputs": [],
      "source": []
    },
    {
      "cell_type": "code",
      "execution_count": 14,
      "metadata": {
        "cellView": "form",
        "id": "agwlWDtHnk87"
      },
      "outputs": [],
      "source": [
        "#@title Example Composition\n",
        "\n",
        "class Party:\n",
        "\n",
        "    def __init__(self, name, policy_preference):\n",
        "        self.name = name\n",
        "        self.policy_preference = policy_preference\n",
        "\n",
        "\n",
        "class Politician:\n",
        "    \"\"\"\n",
        "    Defines politician attributes and behaviours.\n",
        "    \"\"\"\n",
        "\n",
        "    instance_count = 0\n",
        "\n",
        "    def __init__(self, party, age):\n",
        "        self.party = party\n",
        "        self.age = age\n",
        "        self.name = \"generic_name\"\n",
        "        Politician.instance_count += 1\n",
        "        self.vote = False\n",
        "\n",
        "    def cast_vote(self, proposition):\n",
        "        if proposition == self.party.policy_preference:\n",
        "            self.vote = True\n",
        "\n",
        "    def make_speech(self):\n",
        "        print(f\"Vote for {self.party.name}!\")\n",
        "\n",
        "    def __str__(self):\n",
        "        return f\"age: {self.age}, party: {self.party}\"\n",
        "\n",
        "    def __len__(self):\n",
        "        return len(self.__dict__)\n",
        "\n",
        "    @classmethod\n",
        "    def show_count(cls):\n",
        "        return cls.instance_count\n",
        "\n",
        "\n",
        "class Parliament:\n",
        "\n",
        "    max_polits = 7\n",
        "    majority = max_polits // 2\n",
        "\n",
        "    def __init__(self, proposition):\n",
        "        self.proposition = proposition\n",
        "        self.parlms = []\n",
        "        self.votes = []\n",
        "\n",
        "    def add_politician(self, polit):\n",
        "        self.parlms.append(polit)\n",
        "        if isinstance(polit, President):\n",
        "            self.president = polit\n",
        "\n",
        "    def calculate_votes(self):\n",
        "        for pol in self.parlms:\n",
        "            pol.cast_vote(self.proposition)\n",
        "            vote = pol.vote\n",
        "            self.votes.append(vote)\n",
        "        return sum(self.votes)\n",
        "\n",
        "\n",
        "    def make_law(self):\n",
        "        if sum(self.votes) > Parliament.majority:\n",
        "            return f\"{self.proposition} is now a law\"\n",
        "        else:\n",
        "            return f\"{self.proposition} rejected\"\n",
        "\n",
        "\n",
        "class President(Politician):\n",
        "    \"\"\"\n",
        "    Defines president attributes and behaviours.\n",
        "    \"\"\"\n",
        "\n",
        "    def __init__(self, party, age):\n",
        "        super().__init__(party, age)\n",
        "        tenure = 0\n",
        "\n",
        "    def make_policy(self):\n",
        "        return f\"President signed some policy\"\n",
        "\n",
        "    def __str__(self):\n",
        "        return \"Im the President!\"\n",
        "\n",
        "\n",
        "###\n",
        "\n",
        "# parl = Parliament(\"No Ban\")\n",
        "\n",
        "# party1 = Party(\"A\", \"Ban\")\n",
        "# party2 = Party(\"B\", \"No Ban\")\n",
        "# party3 = Party(\"C\", \"No Ban\")\n",
        "\n",
        "\n",
        "# p1 = Politician(33, party1)\n",
        "# p2 = Politician(33, party2)\n",
        "# p3 = Politician(33, party3)\n",
        "# p4 = Politician(33, party1)\n",
        "# p5 = President(33, party1)\n",
        "\n",
        "# parl.add_politician(p1)\n",
        "# parl.add_politician(p2)\n",
        "# parl.add_politician(p3)\n",
        "# parl.add_politician(p4)\n",
        "# parl.add_politician(p5)\n",
        "\n",
        "\n",
        "# parl.calculate_votes()\n",
        "# parl.make_law()"
      ]
    },
    {
      "cell_type": "code",
      "execution_count": 15,
      "metadata": {
        "id": "EiK7HEjczv7h"
      },
      "outputs": [],
      "source": [
        "#title Exercises Composition\n",
        "\n",
        "# 1: Make a \"Car\" class that has an instance of \"Engine\" as an attribute.\n",
        "# Give Engine a method like \"start()\", and have the Car class call self.engine.start()\n",
        "# in a Car method \"turn_on_ignition()\".\n",
        "\n",
        "# 2: Create two subclasses of Engine: GasEngine and ElectricEngine.\n",
        "# Both should implement a start() method, but return or print different messages.\n",
        "# Modify the Car class so it can accept an Engine object in its constructor.\n",
        "# Pass in either a GasEngine or an ElectricEngine.\n",
        "# Show how calling car.turn_on_ignition() behaves differently depending on the engine type.\n",
        "\n",
        "# 3: Add a \"Transmission\" class with a method \"engage()\".\n",
        "# Extend the Car class to include a Transmission attribute, along with the Engine.\n",
        "# Create a \"drive()\" method in Car that calls both self.engine.start() and self.transmission.engage() in the correct sequence.\n",
        "# Print or return a combined message indicating both actions have succeeded."
      ]
    },
    {
      "cell_type": "markdown",
      "metadata": {
        "id": "HCMTL0jxvKpc"
      },
      "source": [
        "## **6**.&nbsp; **Back to Modules and Importing**"
      ]
    },
    {
      "cell_type": "markdown",
      "metadata": {
        "id": "mvtcBmFL6E4t"
      },
      "source": [
        " > A **module** in Python is simply a file containing definitions—such as functions, classes, and variables—that you can **reuse** in other programs.\n",
        "\n",
        "By splitting code into modules, you make it easier to **organise**, **test**, and **maintain** larger projects. To access the contents of a module, you use import statements: for instance, `from mymodule import MyClass` brings a specific class or function directly into your namespace, while `import mymodule as mod` imports everything under the alias `mod`.\n",
        "\n",
        "This modular approach, combined with **object-oriented** features like classes, is what makes Python so powerful and flexible for building both small scripts and large-scale applications."
      ]
    },
    {
      "cell_type": "code",
      "execution_count": 16,
      "metadata": {
        "id": "53oql3pdzwNZ"
      },
      "outputs": [
        {
          "ename": "ModuleNotFoundError",
          "evalue": "No module named 'politics'",
          "output_type": "error",
          "traceback": [
            "\u001b[0;31m---------------------------------------------------------------------------\u001b[0m",
            "\u001b[0;31mModuleNotFoundError\u001b[0m                       Traceback (most recent call last)",
            "Cell \u001b[0;32mIn[16], line 1\u001b[0m\n\u001b[0;32m----> 1\u001b[0m \u001b[38;5;28;01mimport\u001b[39;00m \u001b[38;5;21;01mpolitics\u001b[39;00m \u001b[38;5;28;01mas\u001b[39;00m \u001b[38;5;21;01mpcs\u001b[39;00m\n",
            "\u001b[0;31mModuleNotFoundError\u001b[0m: No module named 'politics'"
          ]
        }
      ],
      "source": [
        "import politics as pcs"
      ]
    },
    {
      "cell_type": "code",
      "execution_count": null,
      "metadata": {
        "colab": {
          "base_uri": "https://localhost:8080/",
          "height": 35
        },
        "id": "wYlolZ_M5Ev8",
        "outputId": "8cb3ce08-f0b8-4ba8-e14d-b139f8e7d2c4"
      },
      "outputs": [
        {
          "data": {
            "application/vnd.google.colaboratory.intrinsic+json": {
              "type": "string"
            },
            "text/plain": [
              "'No'"
            ]
          },
          "execution_count": 3,
          "metadata": {},
          "output_type": "execute_result"
        }
      ],
      "source": [
        "parl = pcs.Parliament(\"No Ban\")\n",
        "\n",
        "party1 = pcs.Party(\"A\", \"Ban\")\n",
        "party2 = pcs.Party(\"B\", \"No Ban\")\n",
        "party3 = pcs.Party(\"C\", \"No Ban\")\n",
        "\n",
        "\n",
        "p1 = pcs.Politician(33, party1)\n",
        "p2 = pcs.Politician(33, party2)\n",
        "p3 = pcs.Politician(33, party3)\n",
        "p4 = pcs.Politician(33, party1)\n",
        "p5 = pcs.President(33, party1)\n",
        "\n",
        "parl.add_politician(p1)\n",
        "parl.add_politician(p2)\n",
        "parl.add_politician(p3)\n",
        "parl.add_politician(p4)\n",
        "parl.add_politician(p5)\n",
        "\n",
        "\n",
        "parl.calculate_votes()\n",
        "parl.make_law()"
      ]
    }
  ],
  "metadata": {
    "colab": {
      "authorship_tag": "ABX9TyO/tT20OacCVLPxRgfK5SJr",
      "include_colab_link": true,
      "provenance": []
    },
    "kernelspec": {
      "display_name": "Python 3",
      "name": "python3"
    },
    "language_info": {
      "codemirror_mode": {
        "name": "ipython",
        "version": 3
      },
      "file_extension": ".py",
      "mimetype": "text/x-python",
      "name": "python",
      "nbconvert_exporter": "python",
      "pygments_lexer": "ipython3",
      "version": "3.9.6"
    }
  },
  "nbformat": 4,
  "nbformat_minor": 0
}
