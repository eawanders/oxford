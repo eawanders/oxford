{
  "cells": [
    {
      "cell_type": "markdown",
      "metadata": {
        "colab_type": "text",
        "id": "view-in-github"
      },
      "source": [
        "<a href=\"https://colab.research.google.com/github/antndlcrx/Intro-to-Python-DPIR/blob/main/Week%202/W2_numpy.ipynb\" target=\"_parent\"><img src=\"https://colab.research.google.com/assets/colab-badge.svg\" alt=\"Open In Colab\"/></a>"
      ]
    },
    {
      "cell_type": "markdown",
      "metadata": {
        "id": "EaM4xnQr2ssT"
      },
      "source": [
        "<img src=\"https://cdn.githubraw.com/antndlcrx/Intro-to-Python-DPIR/main/images/logo_dpir.png?raw=true:,  width=35\" alt=\"My Image\" width=175>  \n",
        "\n",
        "# **Getting Familiar with NumPy**\n",
        "\n",
        " <img src=\"https://cdn.githubraw.com/antndlcrx/Intro-to-Python-DPIR/main/images/W2/numpy_logo.png?raw=true:,  width=25\" alt=\"My Image\" width=175>"
      ]
    },
    {
      "cell_type": "markdown",
      "metadata": {
        "id": "oU26FDEG3J35"
      },
      "source": [
        "NumPy (Numerical Python) is an open-source library that is updated frequently and very well documented. For your reference, see [NumPy Documentation and Tutorials](https://numpy.org/doc/stable/).\n",
        "\n",
        "## **1**.&nbsp; **Why do we need NumPy?**\n",
        "\n",
        "When working with large datasets in Python, performance matters. Standard Python data containers - lists are flexible but can be slow for complex numerical computations.\n",
        "\n",
        "NumPy brings a different data container - `ndarray` that is tailor-made for numerical computations. Through `ndarray`, NumPy greatly improves computation speed, reduces memory consumption, and offers syntax for performing a variety of data processing and computation operations.\n",
        "\n",
        "Many scientific computing libraries (Pandas, Matplotlib, Scikit-Learn) are built on NumPy. Learning it opens doors to data science, machine learning, and scientific computing.\n",
        "\n",
        "\n",
        "\n",
        "\n",
        "\n",
        "### **What makes NumPy special?**\n",
        "\n",
        "Remember that Python is dynamically typed. That means, when creating variables you do not have to explicitly declare whether you are creating an integer or a string, python determines this for you.\n",
        "\n",
        "Python's dynamic typing is great for readability but comes with a performance cost. Each element carries extra information about its type and reference, which adds overhead. In large datasets, this becomes a major problem: overhead requires more memory to process data, and computations turn slower because of extra operations (type-checking) that need to be performed.\n",
        "\n",
        "NumPy allows to store information in fixed-type arrays that do not store all additional information that python objects have. This makes **numpy arrays much more efficient in data storage and manipulation, at cost of flexibility**. NumPy arrays are statically typed.\n",
        "\n",
        "\n",
        "\n",
        "\n",
        "\n"
      ]
    },
    {
      "cell_type": "code",
      "execution_count": 2,
      "metadata": {
        "id": "IYo7-IQNOUtQ"
      },
      "outputs": [],
      "source": [
        "import numpy as np # \"np\" is the standard alias for numpy"
      ]
    },
    {
      "cell_type": "code",
      "execution_count": 3,
      "metadata": {
        "colab": {
          "base_uri": "https://localhost:8080/"
        },
        "id": "UWsSnPafAvRK",
        "outputId": "86193a6e-6cce-416c-a2d0-5b7a6771b37e"
      },
      "outputs": [
        {
          "name": "stdout",
          "output_type": "stream",
          "text": [
            "36.7 ms ± 83.1 µs per loop (mean ± std. dev. of 7 runs, 10 loops each)\n",
            "1.06 ms ± 43.5 µs per loop (mean ± std. dev. of 7 runs, 1,000 loops each)\n"
          ]
        }
      ],
      "source": [
        "#@title Difference between python list and an np ndarray\n",
        "\n",
        "example_list = list(range(1_000_000)) # Standard python list\n",
        "\n",
        "example_array = np.arange(1_000_000) # Numpy array is much faster in terms of computation\n",
        "\n",
        "# mutiply each element by 2\n",
        "%timeit example_list_multipled = [e * 2 for e in example_list]\n",
        "%timeit example_array_multiplied = example_array * 2"
      ]
    },
    {
      "cell_type": "code",
      "execution_count": null,
      "metadata": {},
      "outputs": [],
      "source": []
    },
    {
      "cell_type": "markdown",
      "metadata": {},
      "source": []
    },
    {
      "cell_type": "markdown",
      "metadata": {
        "id": "3zZ87W0IS71C"
      },
      "source": [
        "## **2**.&nbsp; **ndarray: the core NumPy data structure**\n",
        "\n",
        "> **An array is a structure for storing and retrieving data.** You can imagine an array as if it were a grid in space, with each cell storing one element of the data.\n",
        "\n",
        "Has following attributes:\n",
        "- `ndim`: number of dimensions.\n",
        "- `shape`: number of elements across each dimension.\n",
        "- `size`: total number of attributes.\n",
        "- `dtype`: data type of all elements in array.\n",
        "\n"
      ]
    },
    {
      "cell_type": "markdown",
      "metadata": {
        "id": "A_PUOf0JfD3V"
      },
      "source": [
        "### **Creating arrays**"
      ]
    },
    {
      "cell_type": "code",
      "execution_count": 4,
      "metadata": {
        "colab": {
          "base_uri": "https://localhost:8080/"
        },
        "id": "MnS9e4s-d6FI",
        "outputId": "1e3452f5-75dc-46fd-aeaa-0f40612dd45d"
      },
      "outputs": [
        {
          "data": {
            "text/plain": [
              "array([1, 2, 3])"
            ]
          },
          "execution_count": 4,
          "metadata": {},
          "output_type": "execute_result"
        }
      ],
      "source": [
        "# from lists\n",
        "my_list = [1, 2, 3] # this is how you create a list in python\n",
        "my_arr = np.array(my_list)\n",
        "my_arr"
      ]
    },
    {
      "cell_type": "code",
      "execution_count": 5,
      "metadata": {
        "colab": {
          "base_uri": "https://localhost:8080/"
        },
        "id": "k2IT1dpkeBdG",
        "outputId": "49c600ca-afd6-464c-c8a0-8a1f42669216"
      },
      "outputs": [
        {
          "data": {
            "text/plain": [
              "array([0, 1, 2, 3])"
            ]
          },
          "execution_count": 5,
          "metadata": {},
          "output_type": "execute_result"
        }
      ],
      "source": [
        "# from np.arange()\n",
        "my_arr2 = np.arange(4) # similar to python list: my_list = list(range(4))\n",
        "my_arr2"
      ]
    },
    {
      "cell_type": "code",
      "execution_count": 6,
      "metadata": {
        "colab": {
          "base_uri": "https://localhost:8080/"
        },
        "id": "2ZxwszdNeWCm",
        "outputId": "e754b40e-ef07-43af-d650-ce90e2034f54"
      },
      "outputs": [
        {
          "data": {
            "text/plain": [
              "array([0., 0., 0., 0., 0.])"
            ]
          },
          "execution_count": 6,
          "metadata": {},
          "output_type": "execute_result"
        }
      ],
      "source": [
        "# fixed value arrays: zeros\n",
        "zeros = np.zeros(5)\n",
        "zeros"
      ]
    },
    {
      "cell_type": "code",
      "execution_count": 7,
      "metadata": {
        "colab": {
          "base_uri": "https://localhost:8080/"
        },
        "id": "GwO9ucbLeeKt",
        "outputId": "4441192f-be4c-4249-daad-141850c97896"
      },
      "outputs": [
        {
          "data": {
            "text/plain": [
              "array([[[1, 1, 1],\n",
              "        [1, 1, 1],\n",
              "        [1, 1, 1]],\n",
              "\n",
              "       [[1, 1, 1],\n",
              "        [1, 1, 1],\n",
              "        [1, 1, 1]],\n",
              "\n",
              "       [[1, 1, 1],\n",
              "        [1, 1, 1],\n",
              "        [1, 1, 1]]], dtype=int16)"
            ]
          },
          "execution_count": 7,
          "metadata": {},
          "output_type": "execute_result"
        }
      ],
      "source": [
        "# fixed value arrays: ones\n",
        "ones = np.ones((3, 3, 3), dtype=np.int16) # dtype=np.int16 is optional arg specifying your desired data type. Default float64\n",
        "ones"
      ]
    },
    {
      "cell_type": "code",
      "execution_count": 8,
      "metadata": {
        "colab": {
          "base_uri": "https://localhost:8080/"
        },
        "id": "IRLl678me0AJ",
        "outputId": "a6590053-6a7d-40bb-f88c-c42268299409"
      },
      "outputs": [
        {
          "data": {
            "text/plain": [
              "array([7.645, 7.645])"
            ]
          },
          "execution_count": 8,
          "metadata": {},
          "output_type": "execute_result"
        }
      ],
      "source": [
        "# fixed value arrays: custom value\n",
        "arr_custom = np.full((2), 7.645)\n",
        "arr_custom"
      ]
    },
    {
      "cell_type": "code",
      "execution_count": null,
      "metadata": {
        "colab": {
          "base_uri": "https://localhost:8080/"
        },
        "id": "0wztga21fJ36",
        "outputId": "903088b5-4f4e-49e9-9bd9-951a18a07b50"
      },
      "outputs": [],
      "source": [
        "# multi dimensional arrays\n",
        "zeros2d = np.zeros((2, 5)) # creates 2 by 5 array of zeroes\n",
        "zeros2d"
      ]
    },
    {
      "cell_type": "code",
      "execution_count": null,
      "metadata": {
        "colab": {
          "base_uri": "https://localhost:8080/"
        },
        "id": "BC3HgNePfVJ7",
        "outputId": "2c3bad24-7549-42a2-ebf9-6cf4636b9060"
      },
      "outputs": [],
      "source": [
        "arr_custom_nd = np.full((2, 3, 4), 7) # creates a 2 by 3 by 4 array of 7\n",
        "arr_custom_nd"
      ]
    },
    {
      "cell_type": "markdown",
      "metadata": {
        "id": "DzA3R0yj4fHy"
      },
      "source": [
        "#### Excersises"
      ]
    },
    {
      "cell_type": "code",
      "execution_count": 12,
      "metadata": {
        "id": "o9Vt2XRaTKaa"
      },
      "outputs": [
        {
          "data": {
            "text/plain": [
              "3"
            ]
          },
          "execution_count": 12,
          "metadata": {},
          "output_type": "execute_result"
        }
      ],
      "source": [
        "\n",
        "# 1. create an array storing numbers from 0 to 98, skipping every odd number\n",
        "array_even = np.arange(0, 100, 2)\n",
        "array_even\n",
        "\n",
        "# 2. create an array storing numbers from 1 to 99, skipping every even number\n",
        "array_odd = np.arange(1, 100, 2)\n",
        "array_odd\n",
        "\n",
        "# 3. create a 2d array storing eight zeroes\n",
        "array_zeros = np.zeros((2, 4)) # We could also do np.zeros((8, 1)). If we were to append .ndim we would get a 2-dimensional array\n",
        "array_zeros\n",
        "\n",
        "# 4. create a 3d array storing nine ones\n",
        "array_ones = np.ones((3, 3, 1)).ndim # We could also do np.ones((9, 1, 1)). If we were to append .ndim we would get a 3-dimensional\n",
        "array_ones\n",
        "\n",
        "## Hint: you can use np.info() to check documentation of any numpy function\n",
        "\n",
        "# your code:\n"
      ]
    },
    {
      "cell_type": "markdown",
      "metadata": {
        "id": "T0CYhJaAUbc4"
      },
      "source": [
        "### **Manipulating arrays I: indexing and slicing**"
      ]
    },
    {
      "cell_type": "markdown",
      "metadata": {
        "id": "c-U4aSAVQsXg"
      },
      "source": [
        "#### **Indexing**\n",
        "\n",
        "To select an element from an array, use square brakets to specify the desired element by refering to its index (counting from zero).\n",
        "\n",
        "```\n",
        "array[index]\n",
        "```\n",
        "\n",
        "1d-arrays can be indexed similar to python lists.\n"
      ]
    },
    {
      "cell_type": "code",
      "execution_count": 13,
      "metadata": {
        "colab": {
          "base_uri": "https://localhost:8080/"
        },
        "id": "UpHtYCp1TJ-2",
        "outputId": "a3aa3ab5-9f6f-4e1b-e73e-c934eb8372f7"
      },
      "outputs": [
        {
          "data": {
            "text/plain": [
              "np.int64(1)"
            ]
          },
          "execution_count": 13,
          "metadata": {},
          "output_type": "execute_result"
        }
      ],
      "source": [
        "arr = np.array([1, 3, 5, 2, 6])\n",
        "arr[0] # get first element of the array"
      ]
    },
    {
      "cell_type": "code",
      "execution_count": 14,
      "metadata": {
        "colab": {
          "base_uri": "https://localhost:8080/"
        },
        "id": "YhQe_PK-T0gh",
        "outputId": "6f82d323-f9ef-48bf-c9f1-05630ede2648"
      },
      "outputs": [
        {
          "data": {
            "text/plain": [
              "np.int64(6)"
            ]
          },
          "execution_count": 14,
          "metadata": {},
          "output_type": "execute_result"
        }
      ],
      "source": [
        "arr[-1] # get last element"
      ]
    },
    {
      "cell_type": "markdown",
      "metadata": {
        "id": "NPuw5C2nT8le"
      },
      "source": [
        "Get an element from a multidimensional array, provide multiple inceces, one for each dimension of the array. For a matrix (2d array), provide a `(row, column)` pair of indexes.\n",
        "\n",
        "\n",
        "\n",
        "```\n",
        "array[row, column]\n",
        "```\n",
        "\n",
        "\n",
        "For arrays with larger number of dimensions, think of column index as the last one, and row index second to last.\n",
        "\n",
        "```\n",
        "array[:, :, row, column] # for a 4d array\n",
        "```"
      ]
    },
    {
      "cell_type": "code",
      "execution_count": 15,
      "metadata": {
        "colab": {
          "base_uri": "https://localhost:8080/"
        },
        "id": "gnEh2lZdUJbS",
        "outputId": "81ffab1e-9afd-4e0a-9e9f-63bedcff6adc"
      },
      "outputs": [
        {
          "data": {
            "text/plain": [
              "array([[ 0,  1,  2],\n",
              "       [ 3,  4,  5],\n",
              "       [ 6,  7,  8],\n",
              "       [ 9, 10, 11],\n",
              "       [12, 13, 14],\n",
              "       [15, 16, 17],\n",
              "       [18, 19, 20],\n",
              "       [21, 22, 23],\n",
              "       [24, 25, 26]])"
            ]
          },
          "execution_count": 15,
          "metadata": {},
          "output_type": "execute_result"
        }
      ],
      "source": [
        "arr_2d = np.arange(27).reshape((9,3))\n",
        "arr_2d"
      ]
    },
    {
      "cell_type": "code",
      "execution_count": 16,
      "metadata": {
        "colab": {
          "base_uri": "https://localhost:8080/"
        },
        "id": "xXr8LWB0Ucq-",
        "outputId": "11a4d29c-152d-4124-c33a-b6fa47c9308a"
      },
      "outputs": [
        {
          "data": {
            "text/plain": [
              "np.int64(0)"
            ]
          },
          "execution_count": 16,
          "metadata": {},
          "output_type": "execute_result"
        }
      ],
      "source": [
        "arr_2d[0, 0] # get first row first column value"
      ]
    },
    {
      "cell_type": "code",
      "execution_count": 17,
      "metadata": {
        "colab": {
          "base_uri": "https://localhost:8080/"
        },
        "id": "DNnKNeLgU_iC",
        "outputId": "d8dfe668-3212-4945-877c-ffd864626913"
      },
      "outputs": [
        {
          "data": {
            "text/plain": [
              "np.int64(2)"
            ]
          },
          "execution_count": 17,
          "metadata": {},
          "output_type": "execute_result"
        }
      ],
      "source": [
        "arr_2d[0, -1] # last column of first row"
      ]
    },
    {
      "cell_type": "code",
      "execution_count": 18,
      "metadata": {
        "colab": {
          "base_uri": "https://localhost:8080/"
        },
        "id": "M0EQfTEIVGSs",
        "outputId": "567c8024-4f8e-4b51-978b-edf78cee90d6"
      },
      "outputs": [
        {
          "data": {
            "text/plain": [
              "array([3, 4, 5])"
            ]
          },
          "execution_count": 18,
          "metadata": {},
          "output_type": "execute_result"
        }
      ],
      "source": [
        "arr_2d[1, ] # all of second row"
      ]
    },
    {
      "cell_type": "code",
      "execution_count": 22,
      "metadata": {
        "colab": {
          "base_uri": "https://localhost:8080/"
        },
        "id": "wk-nclTRV1-L",
        "outputId": "4bec61d0-0d3a-49aa-89a4-c55e6ee60086"
      },
      "outputs": [
        {
          "data": {
            "text/plain": [
              "array([[[ 0,  1,  2],\n",
              "        [ 3,  4,  5],\n",
              "        [ 6,  7,  8]],\n",
              "\n",
              "       [[ 9, 10, 11],\n",
              "        [12, 13, 14],\n",
              "        [15, 16, 17]],\n",
              "\n",
              "       [[18, 19, 20],\n",
              "        [21, 22, 23],\n",
              "        [24, 25, 26]]])"
            ]
          },
          "execution_count": 22,
          "metadata": {},
          "output_type": "execute_result"
        }
      ],
      "source": [
        "arr_3d = np.arange(27).reshape((3,3,3))\n",
        "arr_3d"
      ]
    },
    {
      "cell_type": "code",
      "execution_count": 23,
      "metadata": {
        "colab": {
          "base_uri": "https://localhost:8080/"
        },
        "id": "PERAErt0-b-e",
        "outputId": "8105673a-4466-4116-92c8-ef77c6fab538"
      },
      "outputs": [
        {
          "data": {
            "text/plain": [
              "array([[ 9, 10, 11],\n",
              "       [12, 13, 14],\n",
              "       [15, 16, 17]])"
            ]
          },
          "execution_count": 23,
          "metadata": {},
          "output_type": "execute_result"
        }
      ],
      "source": [
        "arr_3d[1] # get second element of first dimension (matrix)"
      ]
    },
    {
      "cell_type": "code",
      "execution_count": 24,
      "metadata": {
        "colab": {
          "base_uri": "https://localhost:8080/"
        },
        "id": "j75X7knx-eTw",
        "outputId": "a5ca1ddd-b8de-47a0-b522-2ceb110c48ce"
      },
      "outputs": [
        {
          "data": {
            "text/plain": [
              "array([12, 13, 14])"
            ]
          },
          "execution_count": 24,
          "metadata": {},
          "output_type": "execute_result"
        }
      ],
      "source": [
        "arr_3d[1, 1] # get second matrix, second row"
      ]
    },
    {
      "cell_type": "code",
      "execution_count": 27,
      "metadata": {
        "colab": {
          "base_uri": "https://localhost:8080/"
        },
        "id": "L2QExKlmWFHC",
        "outputId": "dbacb8dc-6fe7-4f0f-cde0-069ee249fab7"
      },
      "outputs": [
        {
          "data": {
            "text/plain": [
              "array([ 8, 17, 26])"
            ]
          },
          "execution_count": 27,
          "metadata": {},
          "output_type": "execute_result"
        }
      ],
      "source": [
        "arr_3d[:, -1, -1] # get second matrix, second row, third column value; the colon means all elements in that dimension"
      ]
    },
    {
      "cell_type": "markdown",
      "metadata": {
        "id": "3SgOt8OEaA3J"
      },
      "source": [
        "#### **Slicing**\n",
        "\n",
        "To get multiple elements or subarrays, you also use square brakets and the slicing notation.\n",
        "\n",
        "\n",
        "```\n",
        "array[start:stop:step]\n",
        "```\n",
        "\n",
        "The default values are `start=0`, `stop=<size of dimension>`, `step=1`. If you pass a negative value to `step`, the defaults of `start` and `stop` are swapped. This is a good way to reverse the array.\n",
        "\n",
        "> NumPy silicing creates a **view** of a sliced array.\n",
        "\n"
      ]
    },
    {
      "cell_type": "code",
      "execution_count": 28,
      "metadata": {
        "colab": {
          "base_uri": "https://localhost:8080/"
        },
        "id": "4ldji6Q159qb",
        "outputId": "2086d9bc-9744-40af-a8ea-207689bd670a"
      },
      "outputs": [
        {
          "data": {
            "text/plain": [
              "array([1, 3, 5, 2, 6, 7])"
            ]
          },
          "execution_count": 28,
          "metadata": {},
          "output_type": "execute_result"
        }
      ],
      "source": [
        "arr = np.array([1, 3, 5, 2, 6, 7])\n",
        "arr[:] # get the first three elements"
      ]
    },
    {
      "cell_type": "code",
      "execution_count": 29,
      "metadata": {
        "colab": {
          "base_uri": "https://localhost:8080/"
        },
        "id": "cG3z1U516PpN",
        "outputId": "6ab5987a-655b-4912-e3ec-57ec0b2d8b4d"
      },
      "outputs": [
        {
          "data": {
            "text/plain": [
              "array([2, 6, 7])"
            ]
          },
          "execution_count": 29,
          "metadata": {},
          "output_type": "execute_result"
        }
      ],
      "source": [
        "arr[-3:] # get the last three elements"
      ]
    },
    {
      "cell_type": "code",
      "execution_count": 30,
      "metadata": {
        "colab": {
          "base_uri": "https://localhost:8080/"
        },
        "id": "Hkmtr5g06bzO",
        "outputId": "00a7a352-30bf-4476-ef4b-d9ae1de7659b"
      },
      "outputs": [
        {
          "data": {
            "text/plain": [
              "array([1, 5, 6])"
            ]
          },
          "execution_count": 30,
          "metadata": {},
          "output_type": "execute_result"
        }
      ],
      "source": [
        "arr[::2] # get every second element starting from idx 0"
      ]
    },
    {
      "cell_type": "code",
      "execution_count": 31,
      "metadata": {
        "colab": {
          "base_uri": "https://localhost:8080/"
        },
        "id": "zqNr7_-fYOtW",
        "outputId": "3cf17445-fdb1-4348-e8d8-3a0ab00d1029"
      },
      "outputs": [
        {
          "data": {
            "text/plain": [
              "array([7, 6, 2, 5, 3, 1])"
            ]
          },
          "execution_count": 31,
          "metadata": {},
          "output_type": "execute_result"
        }
      ],
      "source": [
        "arr[::-1] # reverse an array"
      ]
    },
    {
      "cell_type": "code",
      "execution_count": 32,
      "metadata": {
        "colab": {
          "base_uri": "https://localhost:8080/"
        },
        "id": "b7HGfHeF6n9b",
        "outputId": "9f94b241-4f2b-4040-ea71-a233cba02386"
      },
      "outputs": [
        {
          "data": {
            "text/plain": [
              "array([7, 2, 3])"
            ]
          },
          "execution_count": 32,
          "metadata": {},
          "output_type": "execute_result"
        }
      ],
      "source": [
        "arr[5::-2] # every second element from idx 5, reversed"
      ]
    },
    {
      "cell_type": "markdown",
      "metadata": {
        "id": "p9B4dZwx7SR8"
      },
      "source": [
        "**nd-arrays**"
      ]
    },
    {
      "cell_type": "code",
      "execution_count": 33,
      "metadata": {
        "colab": {
          "base_uri": "https://localhost:8080/"
        },
        "id": "Y0crNPav7hYE",
        "outputId": "452721bc-cf3f-4042-9e7f-e249dd8c8aad"
      },
      "outputs": [
        {
          "data": {
            "text/plain": [
              "array([[ 0,  1,  2,  3,  4,  5,  6,  7,  8],\n",
              "       [ 9, 10, 11, 12, 13, 14, 15, 16, 17],\n",
              "       [18, 19, 20, 21, 22, 23, 24, 25, 26]])"
            ]
          },
          "execution_count": 33,
          "metadata": {},
          "output_type": "execute_result"
        }
      ],
      "source": [
        "arr_2d = np.arange(27).reshape((3, 9))\n",
        "arr_2d"
      ]
    },
    {
      "cell_type": "code",
      "execution_count": 34,
      "metadata": {
        "colab": {
          "base_uri": "https://localhost:8080/"
        },
        "id": "92MALCJR_ri_",
        "outputId": "d3954549-c672-4aba-e1ad-844768c115ab"
      },
      "outputs": [
        {
          "data": {
            "text/plain": [
              "array([ 9, 10, 11, 12])"
            ]
          },
          "execution_count": 34,
          "metadata": {},
          "output_type": "execute_result"
        }
      ],
      "source": [
        "arr_2d[1, :4] # second row, all columns up to idx 4"
      ]
    },
    {
      "cell_type": "code",
      "execution_count": 35,
      "metadata": {
        "colab": {
          "base_uri": "https://localhost:8080/"
        },
        "id": "z22GgsPI79p_",
        "outputId": "1084c4be-7b43-416e-f9f3-69b70ee33b4c"
      },
      "outputs": [
        {
          "data": {
            "text/plain": [
              "array([ 9, 11, 13, 15, 17])"
            ]
          },
          "execution_count": 35,
          "metadata": {},
          "output_type": "execute_result"
        }
      ],
      "source": [
        "arr_2d[1, ::2] # second row every second column starting from the first"
      ]
    },
    {
      "cell_type": "code",
      "execution_count": 36,
      "metadata": {
        "colab": {
          "base_uri": "https://localhost:8080/"
        },
        "id": "fkVZ9OlF_HRa",
        "outputId": "04a40ff5-764e-4ade-90cf-9bb15c2c0b68"
      },
      "outputs": [
        {
          "data": {
            "text/plain": [
              "array([[ 0,  2,  4,  6,  8],\n",
              "       [18, 20, 22, 24, 26]])"
            ]
          },
          "execution_count": 36,
          "metadata": {},
          "output_type": "execute_result"
        }
      ],
      "source": [
        "arr_2d[::2, ::2] # every second row starting from first, every second column"
      ]
    },
    {
      "cell_type": "code",
      "execution_count": 37,
      "metadata": {
        "colab": {
          "base_uri": "https://localhost:8080/"
        },
        "id": "ovFSwzmYAHfA",
        "outputId": "81d1f72b-70d3-4ba1-f41f-7f2c12bbeaf1"
      },
      "outputs": [
        {
          "data": {
            "text/plain": [
              "array([[18, 19, 20, 21, 22, 23, 24, 25, 26],\n",
              "       [ 9, 10, 11, 12, 13, 14, 15, 16, 17],\n",
              "       [ 0,  1,  2,  3,  4,  5,  6,  7,  8]])"
            ]
          },
          "execution_count": 37,
          "metadata": {},
          "output_type": "execute_result"
        }
      ],
      "source": [
        "arr_2d[::-1, ] # all rows reversed"
      ]
    },
    {
      "cell_type": "code",
      "execution_count": 38,
      "metadata": {
        "colab": {
          "base_uri": "https://localhost:8080/"
        },
        "id": "Ee1L8TR4AS6w",
        "outputId": "f004c45f-35b2-430c-d4ce-f545dffea6b5"
      },
      "outputs": [
        {
          "data": {
            "text/plain": [
              "array([[26, 25, 24, 23, 22, 21, 20, 19, 18],\n",
              "       [17, 16, 15, 14, 13, 12, 11, 10,  9],\n",
              "       [ 8,  7,  6,  5,  4,  3,  2,  1,  0]])"
            ]
          },
          "execution_count": 38,
          "metadata": {},
          "output_type": "execute_result"
        }
      ],
      "source": [
        "arr_2d[::-1, ::-1] # all rows and columns reversed"
      ]
    },
    {
      "cell_type": "code",
      "execution_count": 39,
      "metadata": {
        "colab": {
          "base_uri": "https://localhost:8080/"
        },
        "id": "99uxz4k1EVNG",
        "outputId": "bbecbd46-bd1d-42f1-dd32-7baca15e7aaf"
      },
      "outputs": [
        {
          "data": {
            "text/plain": [
              "array([ 9, 10, 11, 12, 13, 14, 15, 16, 17])"
            ]
          },
          "execution_count": 39,
          "metadata": {},
          "output_type": "execute_result"
        }
      ],
      "source": [
        "second_row = arr_2d[1]\n",
        "second_row # is a view of arr_2d"
      ]
    },
    {
      "cell_type": "code",
      "execution_count": 40,
      "metadata": {
        "colab": {
          "base_uri": "https://localhost:8080/"
        },
        "id": "fZPCCXUtEfAu",
        "outputId": "133bc06e-1a6b-4a85-f886-a2da7822cb68"
      },
      "outputs": [
        {
          "data": {
            "text/plain": [
              "array([999, 999,  11,  12,  13,  14,  15,  16,  17])"
            ]
          },
          "execution_count": 40,
          "metadata": {},
          "output_type": "execute_result"
        }
      ],
      "source": [
        "second_row[:2] = 999 # assign new values\n",
        "second_row"
      ]
    },
    {
      "cell_type": "code",
      "execution_count": 41,
      "metadata": {
        "colab": {
          "base_uri": "https://localhost:8080/"
        },
        "id": "_Dto8tJKEmsA",
        "outputId": "ab1c7606-3e52-4f8d-b04b-327b8c39b4ef"
      },
      "outputs": [
        {
          "data": {
            "text/plain": [
              "array([[  0,   1,   2,   3,   4,   5,   6,   7,   8],\n",
              "       [999, 999,  11,  12,  13,  14,  15,  16,  17],\n",
              "       [ 18,  19,  20,  21,  22,  23,  24,  25,  26]])"
            ]
          },
          "execution_count": 41,
          "metadata": {},
          "output_type": "execute_result"
        }
      ],
      "source": [
        "arr_2d"
      ]
    },
    {
      "cell_type": "code",
      "execution_count": 42,
      "metadata": {
        "colab": {
          "base_uri": "https://localhost:8080/"
        },
        "id": "LvBVBNft7Wrg",
        "outputId": "f32151e4-9a68-4517-9cb6-4cbcdbf2cf10"
      },
      "outputs": [
        {
          "data": {
            "text/plain": [
              "array([[[ 0,  1,  2],\n",
              "        [ 3,  4,  5],\n",
              "        [ 6,  7,  8]],\n",
              "\n",
              "       [[ 9, 10, 11],\n",
              "        [12, 13, 14],\n",
              "        [15, 16, 17]],\n",
              "\n",
              "       [[18, 19, 20],\n",
              "        [21, 22, 23],\n",
              "        [24, 25, 26]]])"
            ]
          },
          "execution_count": 42,
          "metadata": {},
          "output_type": "execute_result"
        }
      ],
      "source": [
        "arr_3d = np.arange(27).reshape((3,3,3)) # 3d array where each matrix is 3x3 and np.arange(27) fills the array and .reshape reshapes it\n",
        "arr_3d"
      ]
    },
    {
      "cell_type": "code",
      "execution_count": 43,
      "metadata": {
        "colab": {
          "base_uri": "https://localhost:8080/"
        },
        "id": "3ZxgMPX--Avw",
        "outputId": "2fec8a4c-1278-4b66-917c-ce72e66d589b"
      },
      "outputs": [
        {
          "data": {
            "text/plain": [
              "array([12, 14])"
            ]
          },
          "execution_count": 43,
          "metadata": {},
          "output_type": "execute_result"
        }
      ],
      "source": [
        "arr_3d[1, 1, ::2] # second matrix, second row, every second column"
      ]
    },
    {
      "cell_type": "markdown",
      "metadata": {
        "id": "0m9EqkUM4al5"
      },
      "source": [
        "#### Excersies"
      ]
    },
    {
      "cell_type": "code",
      "execution_count": 50,
      "metadata": {
        "id": "7XPfuTqJYtdq"
      },
      "outputs": [
        {
          "data": {
            "text/plain": [
              "np.int64(7)"
            ]
          },
          "execution_count": 50,
          "metadata": {},
          "output_type": "execute_result"
        }
      ],
      "source": [
        "# 1: get the third column across the entirery of arr_3d\n",
        "column_1 = arr_3d[:, :, 2] # all matrices, all rows, third column\n",
        "column_1\n",
        "\n",
        "# 2: get the entire second row of the third matrix of arr_3d\n",
        "row_2 = arr_3d[2, 1, :] # third matrix, second row, all columns\n",
        "\n",
        "# 3: get the first matrix, last row, middle column of arr_3d\n",
        "last_row = arr_3d[0, 2, 1] # first matrix, last row, second column\n",
        "last_row\n",
        "\n",
        "# 4: extract every other column from the second matrix of arr_3d\n",
        "\n",
        "# 5: get the diagonal elements of the first matrix in arr_3d: hint: use np.diag()\n",
        "\n",
        "# 6: get the elements just below diagonal of the second matrix in arr_3d\n"
      ]
    },
    {
      "cell_type": "markdown",
      "metadata": {
        "id": "7vQHFsm_6bS5"
      },
      "source": [
        "### **Manipulating Arrays II: advanced indexing, boolean indexing**\n",
        "\n",
        "\n",
        "\n"
      ]
    },
    {
      "cell_type": "markdown",
      "metadata": {
        "id": "pAmlQyhjXnY-"
      },
      "source": [
        "#### **Advanced Indexing**\n",
        "\n",
        "“Advanced” indexing, also called “fancy” indexing, includes all cases where arrays are indexed by other arrays. **Advanced indexing always makes a copy, not a view of existing data array.**\n",
        "\n",
        "Advanced indexing allows to quickly access and modify subsets of array's values."
      ]
    },
    {
      "cell_type": "code",
      "execution_count": 51,
      "metadata": {
        "colab": {
          "base_uri": "https://localhost:8080/"
        },
        "id": "Trh0NYJTNvyF",
        "outputId": "b968233f-e689-461b-8185-4878f9c6dd7c"
      },
      "outputs": [
        {
          "data": {
            "text/plain": [
              "array([ 0,  1,  2,  3,  4,  5,  6,  7,  8,  9, 10, 11, 12, 13, 14])"
            ]
          },
          "execution_count": 51,
          "metadata": {},
          "output_type": "execute_result"
        }
      ],
      "source": [
        "arr = np.arange(15)\n",
        "arr"
      ]
    },
    {
      "cell_type": "code",
      "execution_count": 52,
      "metadata": {
        "colab": {
          "base_uri": "https://localhost:8080/"
        },
        "id": "hNGgiIEENvhV",
        "outputId": "d2f86d54-aa52-4de1-8567-1c1935bb3aa3"
      },
      "outputs": [
        {
          "data": {
            "text/plain": [
              "array([[ 1, 14,  4]])"
            ]
          },
          "execution_count": 52,
          "metadata": {},
          "output_type": "execute_result"
        }
      ],
      "source": [
        "idx = [1, -1, 4]\n",
        "arr[[idx]]"
      ]
    },
    {
      "cell_type": "code",
      "execution_count": 53,
      "metadata": {
        "colab": {
          "base_uri": "https://localhost:8080/"
        },
        "id": "mmq5EgXIOaYl",
        "outputId": "5552b611-5d16-4164-fa96-536238c6ed95"
      },
      "outputs": [
        {
          "data": {
            "text/plain": [
              "array([[ 0,  1,  2],\n",
              "       [ 3,  4,  5],\n",
              "       [ 6,  7,  8],\n",
              "       [ 9, 10, 11],\n",
              "       [12, 13, 14]])"
            ]
          },
          "execution_count": 53,
          "metadata": {},
          "output_type": "execute_result"
        }
      ],
      "source": [
        "arr_2d = np.arange(15).reshape(5,3)\n",
        "arr_2d"
      ]
    },
    {
      "cell_type": "code",
      "execution_count": 54,
      "metadata": {
        "colab": {
          "base_uri": "https://localhost:8080/"
        },
        "id": "cZMUFk6HOgVz",
        "outputId": "7d94950e-304e-4140-867b-bbc2a8d4246e"
      },
      "outputs": [
        {
          "data": {
            "text/plain": [
              "array([[3, 4, 5],\n",
              "       [6, 7, 8]])"
            ]
          },
          "execution_count": 54,
          "metadata": {},
          "output_type": "execute_result"
        }
      ],
      "source": [
        "idx = [1,2]\n",
        "\n",
        "arr_2d[idx] # select indexed rows"
      ]
    },
    {
      "cell_type": "code",
      "execution_count": 55,
      "metadata": {
        "colab": {
          "base_uri": "https://localhost:8080/"
        },
        "id": "RdWY8UkbOq4v",
        "outputId": "44f7d9d8-5e58-49d5-bfbc-537e5a4e0737"
      },
      "outputs": [
        {
          "data": {
            "text/plain": [
              "array([[ 1,  2],\n",
              "       [ 4,  5],\n",
              "       [ 7,  8],\n",
              "       [10, 11],\n",
              "       [13, 14]])"
            ]
          },
          "execution_count": 55,
          "metadata": {},
          "output_type": "execute_result"
        }
      ],
      "source": [
        "arr_2d[:, idx] # select indexed columns"
      ]
    },
    {
      "cell_type": "code",
      "execution_count": 56,
      "metadata": {
        "colab": {
          "base_uri": "https://localhost:8080/"
        },
        "id": "EE3zUhhrO2C2",
        "outputId": "b65d5207-71a4-4e12-f8d5-3de127f1567f"
      },
      "outputs": [
        {
          "data": {
            "text/plain": [
              "array([[1, 2],\n",
              "       [4, 5]])"
            ]
          },
          "execution_count": 56,
          "metadata": {},
          "output_type": "execute_result"
        }
      ],
      "source": [
        "arr_2d[:2, idx] # select indexed columns from first two rows"
      ]
    },
    {
      "cell_type": "code",
      "execution_count": 57,
      "metadata": {
        "colab": {
          "base_uri": "https://localhost:8080/"
        },
        "id": "Xa6e9ZoDPgoc",
        "outputId": "6932d867-4490-4b9d-eb4c-043c5f0dbd2a"
      },
      "outputs": [
        {
          "data": {
            "text/plain": [
              "array([4, 8])"
            ]
          },
          "execution_count": 57,
          "metadata": {},
          "output_type": "execute_result"
        }
      ],
      "source": [
        "arr_2d[idx, idx] # select elements at coordinates [1, 1] and [2, 2]"
      ]
    },
    {
      "cell_type": "code",
      "execution_count": 58,
      "metadata": {
        "colab": {
          "base_uri": "https://localhost:8080/"
        },
        "id": "RJH0SREgd_oj",
        "outputId": "9bda5d82-6f14-4f81-deab-29f5abda1c64"
      },
      "outputs": [
        {
          "data": {
            "text/plain": [
              "array([1, 5])"
            ]
          },
          "execution_count": 58,
          "metadata": {},
          "output_type": "execute_result"
        }
      ],
      "source": [
        "rows = [0, 1]\n",
        "cols = [1, 2]\n",
        "\n",
        "arr_2d[rows, cols]"
      ]
    },
    {
      "cell_type": "markdown",
      "metadata": {
        "id": "GECSUFpMT_Xa"
      },
      "source": [
        "#### **Boolean indexing**\n",
        "\n",
        "Boolean Indexing operators in NumPy:\n",
        "\n",
        "| Operator | Operation | Example | Description |\n",
        "|----------|-----------|---------|-------------|\n",
        "| `&` | Bitwise AND | `(arr > 5) & (arr < 10)` | Element-wise logical AND |\n",
        "| `\\|` | Bitwise OR | `(arr < 3) \\| (arr > 8)` | Element-wise logical OR |\n",
        "| `~` | Bitwise NOT | `~(arr > 5)` | Invert boolean mask |\n",
        "| `!=` | Not Equal | `arr != 0` | Elements not equal to value |\n",
        "| `==` | Equal | `arr == 10` | Elements equal to value |\n",
        "| `>` | Greater Than | `arr > 5` | Elements greater than value |\n",
        "| `<` | Less Than | `arr < 5` | Elements less than value |\n",
        "| `>=` | Greater or Equal | `arr >= 5` | Elements greater than or equal |\n",
        "| `<=` | Less or Equal | `arr <= 5` | Elements less than or equal |"
      ]
    },
    {
      "cell_type": "code",
      "execution_count": 59,
      "metadata": {
        "colab": {
          "base_uri": "https://localhost:8080/"
        },
        "id": "fhLwmbE3N768",
        "outputId": "3ecfd3df-fedb-4b0a-87b9-c71e667e99e7"
      },
      "outputs": [
        {
          "data": {
            "text/plain": [
              "array([11, 12, 13, 14])"
            ]
          },
          "execution_count": 59,
          "metadata": {},
          "output_type": "execute_result"
        }
      ],
      "source": [
        "mask = arr > 10\n",
        "arr[arr > 10]"
      ]
    },
    {
      "cell_type": "code",
      "execution_count": 60,
      "metadata": {
        "colab": {
          "base_uri": "https://localhost:8080/"
        },
        "id": "WW2yP5qRQExt",
        "outputId": "d273a737-7027-476d-d0a5-a768f795feb1"
      },
      "outputs": [
        {
          "data": {
            "text/plain": [
              "array([[  0,   1,   2],\n",
              "       [  3,   4,   5],\n",
              "       [  6,   7, 100],\n",
              "       [100, 100, 100],\n",
              "       [100, 100, 100]])"
            ]
          },
          "execution_count": 60,
          "metadata": {},
          "output_type": "execute_result"
        }
      ],
      "source": [
        "arr_2d[arr_2d > 7] = 100 # element modification\n",
        "arr_2d"
      ]
    },
    {
      "cell_type": "code",
      "execution_count": 61,
      "metadata": {
        "colab": {
          "base_uri": "https://localhost:8080/"
        },
        "id": "gg3ai-jHUJvR",
        "outputId": "5e4162f6-9da5-477c-f915-ec8a6e77ed73"
      },
      "outputs": [
        {
          "data": {
            "text/plain": [
              "array([6, 3, 7, 4, 6, 9, 2, 6, 7, 4])"
            ]
          },
          "execution_count": 61,
          "metadata": {},
          "output_type": "execute_result"
        }
      ],
      "source": [
        "np.random.seed(42)\n",
        "rand_arr = np.random.randint(10, size=10)\n",
        "rand_arr"
      ]
    },
    {
      "cell_type": "code",
      "execution_count": 62,
      "metadata": {
        "colab": {
          "base_uri": "https://localhost:8080/"
        },
        "id": "v0Tlz5DHUid0",
        "outputId": "9edbf64c-cace-4964-abf5-2df0d1e55694"
      },
      "outputs": [
        {
          "data": {
            "text/plain": [
              "array([3])"
            ]
          },
          "execution_count": 62,
          "metadata": {},
          "output_type": "execute_result"
        }
      ],
      "source": [
        "rand_arr[rand_arr==3] # pick up elements equal to the specified value"
      ]
    },
    {
      "cell_type": "code",
      "execution_count": 63,
      "metadata": {
        "colab": {
          "base_uri": "https://localhost:8080/"
        },
        "id": "YhqXbrrRUuN-",
        "outputId": "4a58e1aa-93cb-4de5-c931-1ff2a39479cd"
      },
      "outputs": [
        {
          "data": {
            "text/plain": [
              "array([6, 7, 4, 6, 9, 2, 6, 7, 4])"
            ]
          },
          "execution_count": 63,
          "metadata": {},
          "output_type": "execute_result"
        }
      ],
      "source": [
        "rand_arr[rand_arr!=3] # pick up elements that are not equal to the specified value"
      ]
    },
    {
      "cell_type": "code",
      "execution_count": 64,
      "metadata": {
        "colab": {
          "base_uri": "https://localhost:8080/"
        },
        "id": "CFkPKALePiGb",
        "outputId": "b75aba8b-dd3f-4e87-a7de-70e8a3ee903e"
      },
      "outputs": [
        {
          "data": {
            "text/plain": [
              "array([6, 4, 6, 6, 4])"
            ]
          },
          "execution_count": 64,
          "metadata": {},
          "output_type": "execute_result"
        }
      ],
      "source": [
        "mask = (rand_arr > 3) & (rand_arr < 7) # multiple conditions\n",
        "rand_arr[mask]"
      ]
    },
    {
      "cell_type": "markdown",
      "metadata": {
        "id": "bySmrc8aX1t7"
      },
      "source": [
        "#### Excersies"
      ]
    },
    {
      "cell_type": "code",
      "execution_count": 67,
      "metadata": {
        "colab": {
          "base_uri": "https://localhost:8080/"
        },
        "id": "HeKgB8YkX2_c",
        "outputId": "effebce4-4e3f-4a27-e778-b031ac930941"
      },
      "outputs": [
        {
          "data": {
            "text/plain": [
              "array([[[ 6,  3, 12, 14, 10,  7, 12,  4,  6],\n",
              "        [ 9,  2,  6, 10, 10,  7,  4,  3,  7],\n",
              "        [ 7,  2,  5,  4,  1,  7, 11, 13,  5]],\n",
              "\n",
              "       [[ 1, 11,  4,  0, 11,  9,  5, 12, 11],\n",
              "        [ 8,  0, 10, 10, 14,  9, 11, 11, 14],\n",
              "        [13, 13, 14, 13,  2, 11,  6,  3,  8]],\n",
              "\n",
              "       [[ 2,  4,  2,  6,  4,  8,  6,  1,  3],\n",
              "        [ 8, 11, 13,  1,  9,  8,  9,  4,  1],\n",
              "        [ 3, 11, 14, 11,  6, 11, 12,  7, 14]]])"
            ]
          },
          "execution_count": 67,
          "metadata": {},
          "output_type": "execute_result"
        }
      ],
      "source": [
        "np.random.seed(42)\n",
        "rand_arr_3d = np.random.randint(15, size=81).reshape(3,3,9)\n",
        "rand_arr_3d"
      ]
    },
    {
      "cell_type": "code",
      "execution_count": 71,
      "metadata": {
        "id": "I68Q-Bb2Y3tB"
      },
      "outputs": [
        {
          "data": {
            "text/plain": [
              "array([[[ True,  True, False, False, False,  True, False,  True,  True],\n",
              "        [False, False,  True, False, False,  True,  True,  True,  True],\n",
              "        [ True, False,  True,  True, False,  True, False, False,  True]],\n",
              "\n",
              "       [[False,  True,  True, False,  True,  True,  True, False,  True],\n",
              "        [ True, False,  True,  True, False,  True,  True,  True, False],\n",
              "        [False, False, False, False, False,  True,  True,  True,  True]],\n",
              "\n",
              "       [[False,  True, False,  True,  True,  True,  True, False,  True],\n",
              "        [ True,  True, False, False,  True,  True,  True,  True, False],\n",
              "        [ True,  True, False,  True,  True,  True, False,  True, False]]])"
            ]
          },
          "execution_count": 71,
          "metadata": {},
          "output_type": "execute_result"
        }
      ],
      "source": [
        "# 1: replace all elements in the first matrix that are greater than 8 with zero\n",
        "greater_eight = rand_arr_3d[0]\n",
        "greater_eight[greater_eight > 8] = 0\n",
        "greater_eight\n",
        "\n",
        "# 2: select all odd-indexed columns from the second matrix\n",
        "odd_cols = rand_arr_3d[1, :, 1::2]\n",
        "odd_cols\n",
        "\n",
        "# 3: create a mask to select elements that are both greater than 2 and less than 12\n",
        "mask = (rand_arr_3d > 2) & (rand_arr_3d < 12)\n",
        "mask\n"
      ]
    },
    {
      "cell_type": "markdown",
      "metadata": {
        "id": "_Mm624eV4P5f"
      },
      "source": [
        "## **3**.&nbsp; **Operations on Arrays**\n",
        "\n",
        "Arrays are great because they allow to express batch operations without specifying any for loops."
      ]
    },
    {
      "cell_type": "markdown",
      "metadata": {
        "id": "4XpjRhGW-Fa6"
      },
      "source": [
        "#### **Universal functions (ufuncs)**\n",
        "\n",
        "Fast universal functions that perform element-wise operations on data in arrays.\n",
        "\n",
        "> **Vectorisation** is a computational technique in NumPy where operations are applied simultaneously to entire arrays without explicitly writing `for` loops.\n",
        "\n",
        "\n",
        "Here is a list of ufuncs for basic arithmetic operations:\n",
        "\n",
        "| Ufunc | Operation | Example | Description |\n",
        "|-------|-----------|---------|-------------|\n",
        "| `np.add()` | Addition | `arr1 + arr2` | Element-wise addition |\n",
        "| `np.subtract()` | Subtraction | `arr1 - arr2` | Element-wise subtraction |\n",
        "| `np.multiply()` | Multiplication | `arr1 * arr2` | Element-wise multiplication |\n",
        "| `np.divide()` | Division | `arr1 / arr2` | Element-wise division |\n",
        "| `np.power()` | Exponentiation | `arr**2` | Element-wise power |\n",
        "| `np.sqrt()` | Square Root | `np.sqrt(arr)` | Element-wise square root |\n",
        "| `np.exp()` | Exponential | `np.exp(arr)` | e raised to each element |\n",
        "| `np.abs()` | Absolute Value | `np.abs(arr)` | Computes the absolute value of each element |\n",
        "\n",
        "And ones for summary statistics:\n",
        "\n",
        "| Ufunc | Operation | Example | Description |\n",
        "|-------|-----------|---------|-------------|\n",
        "| `np.mean()` | Average | `arr.mean()` | Calculates arithmetic mean |\n",
        "| `np.median()` | Median | `np.median(arr)` | Middle value of sorted array |\n",
        "| `np.std()` | Standard Deviation | `arr.std()` | Measure of data spread |\n",
        "| `np.var()` | Variance | `arr.var()` | Squared deviation from mean |\n",
        "| `np.sum()` | Total Sum | `arr.sum()` | Adds all array elements |\n",
        "| `np.min()` | Minimum | `arr.min()` | Smallest element |\n",
        "| `np.max()` | Maximum | `arr.max()` | Largest element |\n",
        "\n",
        "\n",
        "For more, see:\n",
        "- [NumPy ufuncs basics](https://numpy.org/doc/2.1/user/basics.ufuncs.html#ufuncs-basics)\n",
        "- [NumPy ufuncs](https://numpy.org/doc/2.1/reference/ufuncs.html#ufuncs)"
      ]
    },
    {
      "cell_type": "code",
      "execution_count": 82,
      "metadata": {
        "colab": {
          "base_uri": "https://localhost:8080/"
        },
        "id": "l_noELzA4PhE",
        "outputId": "5baedc2d-b61f-4052-b647-b0636d493cd1"
      },
      "outputs": [
        {
          "data": {
            "text/plain": [
              "array([0, 1, 2, 3, 4, 5, 6, 7, 8, 9])"
            ]
          },
          "execution_count": 82,
          "metadata": {},
          "output_type": "execute_result"
        }
      ],
      "source": [
        "arr = np.arange(10)\n",
        "arr"
      ]
    },
    {
      "cell_type": "code",
      "execution_count": 83,
      "metadata": {
        "colab": {
          "base_uri": "https://localhost:8080/"
        },
        "id": "3N686rUYTBGx",
        "outputId": "c6e99d8a-0bca-49c2-f3d7-0e21d223863a"
      },
      "outputs": [
        {
          "data": {
            "text/plain": [
              "array([ 5,  6,  7,  8,  9, 10, 11, 12, 13, 14])"
            ]
          },
          "execution_count": 83,
          "metadata": {},
          "output_type": "execute_result"
        }
      ],
      "source": [
        "np.add(arr, 5) # add five to every element"
      ]
    },
    {
      "cell_type": "code",
      "execution_count": 84,
      "metadata": {
        "colab": {
          "base_uri": "https://localhost:8080/"
        },
        "id": "5O6OMC43TJga",
        "outputId": "6c80da1d-0c8f-48bb-c8fb-c5cdca830676"
      },
      "outputs": [
        {
          "data": {
            "text/plain": [
              "array([ 5,  6,  7,  8,  9, 10, 11, 12, 13, 14])"
            ]
          },
          "execution_count": 84,
          "metadata": {},
          "output_type": "execute_result"
        }
      ],
      "source": [
        "arr + 5 # equivalent"
      ]
    },
    {
      "cell_type": "code",
      "execution_count": 85,
      "metadata": {
        "colab": {
          "base_uri": "https://localhost:8080/"
        },
        "id": "mFK86BGZTOUm",
        "outputId": "f4a83268-7a83-4cfb-b329-a0f4397529a4"
      },
      "outputs": [
        {
          "data": {
            "text/plain": [
              "array([9, 8, 7, 6, 5, 4, 3, 2, 1, 0])"
            ]
          },
          "execution_count": 85,
          "metadata": {},
          "output_type": "execute_result"
        }
      ],
      "source": [
        "#\n",
        "arr2 = arr[::-1]\n",
        "arr2"
      ]
    },
    {
      "cell_type": "code",
      "execution_count": 86,
      "metadata": {
        "colab": {
          "base_uri": "https://localhost:8080/"
        },
        "id": "sLkmqbYwV1dl",
        "outputId": "3b2b9318-577a-49f3-b4dd-3a30b3cd78bd"
      },
      "outputs": [
        {
          "data": {
            "text/plain": [
              "array([ 0,  8, 14, 18, 20, 20, 18, 14,  8,  0])"
            ]
          },
          "execution_count": 86,
          "metadata": {},
          "output_type": "execute_result"
        }
      ],
      "source": [
        "arr * arr2 # multiply corresponding elements"
      ]
    },
    {
      "cell_type": "code",
      "execution_count": 87,
      "metadata": {
        "colab": {
          "base_uri": "https://localhost:8080/"
        },
        "id": "B5jnF1v8W1cA",
        "outputId": "b65ca26a-c934-4260-b15d-be2e3b4431f0"
      },
      "outputs": [
        {
          "data": {
            "text/plain": [
              "np.float64(4.5)"
            ]
          },
          "execution_count": 87,
          "metadata": {},
          "output_type": "execute_result"
        }
      ],
      "source": [
        "arr.mean() # mean of arr"
      ]
    },
    {
      "cell_type": "code",
      "execution_count": 88,
      "metadata": {
        "colab": {
          "base_uri": "https://localhost:8080/"
        },
        "id": "rFuXiNAVW4rp",
        "outputId": "f8becad7-0a6e-4ceb-9f1d-c04ddb648a64"
      },
      "outputs": [
        {
          "data": {
            "text/plain": [
              "np.float64(2.8722813232690143)"
            ]
          },
          "execution_count": 88,
          "metadata": {},
          "output_type": "execute_result"
        }
      ],
      "source": [
        "arr.std() # std, by default population std\n",
        "# arr.std(ddof=1) # std with bessels correction"
      ]
    },
    {
      "cell_type": "code",
      "execution_count": 89,
      "metadata": {
        "colab": {
          "base_uri": "https://localhost:8080/"
        },
        "id": "HfI12gqpXF0H",
        "outputId": "0e11db2b-74f2-42ca-e40d-4cee178fef2f"
      },
      "outputs": [
        {
          "data": {
            "text/plain": [
              "array([[0, 1],\n",
              "       [2, 3],\n",
              "       [4, 5],\n",
              "       [6, 7],\n",
              "       [8, 9]])"
            ]
          },
          "execution_count": 89,
          "metadata": {},
          "output_type": "execute_result"
        }
      ],
      "source": [
        "arr = arr.reshape(5,2)\n",
        "arr"
      ]
    },
    {
      "cell_type": "code",
      "execution_count": 90,
      "metadata": {
        "colab": {
          "base_uri": "https://localhost:8080/"
        },
        "id": "bPSRY6_nXJe9",
        "outputId": "1c8fb3e4-5956-4cfd-8fb3-fe813c0d565a"
      },
      "outputs": [
        {
          "data": {
            "text/plain": [
              "array([20, 25])"
            ]
          },
          "execution_count": 90,
          "metadata": {},
          "output_type": "execute_result"
        }
      ],
      "source": [
        "# arr.sum() # summs all elements\n",
        "# arr.sum(axis = 1) # sum over rows (across axis 1 which is columns)\n",
        "arr.sum(axis = 0) # sum over cols (across axis 0 which are rows)"
      ]
    },
    {
      "cell_type": "code",
      "execution_count": 91,
      "metadata": {
        "colab": {
          "base_uri": "https://localhost:8080/"
        },
        "id": "Ou5HfDHApAu4",
        "outputId": "2281b862-ab90-4cf0-e4f4-5d2ba82f70f9"
      },
      "outputs": [
        {
          "data": {
            "text/plain": [
              "2"
            ]
          },
          "execution_count": 91,
          "metadata": {},
          "output_type": "execute_result"
        }
      ],
      "source": [
        "arr.shape[1]"
      ]
    },
    {
      "cell_type": "markdown",
      "metadata": {
        "id": "0HPQ70RhwWiR"
      },
      "source": [
        "<img src=\"https://cdn.githubraw.com/antndlcrx/Intro-to-Python-DPIR/main/images/W2/np_matrix_aggregation_row.png?raw=true:,  width=150\" alt=\"My Image\" width=475>\n",
        "\n",
        "[Img source: NumPy basics](https://numpy.org/doc/stable/user/basics.broadcasting.html)"
      ]
    },
    {
      "cell_type": "markdown",
      "metadata": {
        "id": "minuCVKV9kpX"
      },
      "source": [
        "#### **Broadcasting**\n",
        "\n",
        "Imagine you have two arrays of different shapes, and you want to perform an operation on them (like adding them together). To do that, you would need to bring the arrays to equal shapes.\n",
        "\n",
        "> **Broadcasting** is NumPy’s way of *stretching* or replicating arrays with smaller shapes so that they have compatible shapes for element-wise operations\n",
        "\n",
        "\n",
        "\n",
        "**Two dimensions are compatible when:**\n",
        "1. **they are equal, or**\n",
        "2. **one of them is 1**\n",
        "\n",
        "\n",
        "**Broadcasting works by comparing the shapes of the arrays from right to left** (i.e., starting with the last dimension and moving to the first).\n",
        "\n",
        "How broadcasting is done:\n",
        "\n",
        "1. **Align Dims**: If two arrays have a different number of dimensions, prepend `1`s to the shape of the smaller array until both arrays have the same number of dimensions.\n",
        "\n",
        "```\n",
        "a.shape = (3, 4, 5)\n",
        "b.shape = (4, 5) → prepend 1 to make (1, 4, 5)\n",
        "\n",
        "```\n",
        "\n",
        "2. **Check Compatibility**: for each respective dim, check if they are equal or if one is `1`. For any dimension where one array has size `1`, that array's size is stretched (replicated) to match the size of the other array in that dimension.\n",
        "\n",
        "```\n",
        "a.shape = (3, 4, 5)\n",
        "b.shape = (1, 4, 5) broadcast to (3, 4, 5)\n",
        "```\n",
        "\n",
        "3. if all other dimensions have mathching lenghts, the arrays now are of equal shape and we can perform element-wise operations on them.\n",
        "\n",
        "\n",
        "\n",
        "References:\n",
        "- [NumPy Broadcasting Explained (mCoding)](https://www.youtube.com/watch?v=oG1t3qlzq14&t=354s)\n",
        "- [NumPy Website on Broadcasting](https://numpy.org/doc/stable/user/basics.broadcasting.html)\n",
        "\n"
      ]
    },
    {
      "cell_type": "code",
      "execution_count": null,
      "metadata": {
        "colab": {
          "base_uri": "https://localhost:8080/"
        },
        "id": "dlP-7CWE-FFc",
        "outputId": "b4346dca-5f12-4c26-91b7-6dd3d150a15d"
      },
      "outputs": [],
      "source": [
        "a = np.array([1,2,3])\n",
        "b = 2\n",
        "print(a.shape)"
      ]
    },
    {
      "cell_type": "code",
      "execution_count": null,
      "metadata": {
        "colab": {
          "base_uri": "https://localhost:8080/"
        },
        "id": "UYMj6P7Sus-n",
        "outputId": "86c8c811-d628-479f-8f15-e0669da99800"
      },
      "outputs": [],
      "source": [
        "a * b"
      ]
    },
    {
      "cell_type": "markdown",
      "metadata": {
        "id": "E6rpO7icsSn5"
      },
      "source": [
        "<img src=\"https://cdn.githubraw.com/antndlcrx/Intro-to-Python-DPIR/main/images/W2/broadcasting_one.png?raw=true:,  width=150\" alt=\"My Image\" width=475>\n",
        "\n",
        "[Img source: NumPy broadcasting](https://numpy.org/doc/stable/user/basics.broadcasting.html)"
      ]
    },
    {
      "cell_type": "code",
      "execution_count": null,
      "metadata": {
        "colab": {
          "base_uri": "https://localhost:8080/"
        },
        "id": "3xjrpwpdjwR9",
        "outputId": "1abbc5a5-9081-453d-dc86-cde558710346"
      },
      "outputs": [],
      "source": [
        "a = np.array([[0, 0, 0],\n",
        "            [10, 10, 10],\n",
        "            [20, 20, 20],\n",
        "            [30, 30, 30]])\n",
        "\n",
        "b = np.array([1, 2, 3])\n",
        "\n",
        "print(a.shape, b.shape)"
      ]
    },
    {
      "cell_type": "code",
      "execution_count": null,
      "metadata": {
        "colab": {
          "base_uri": "https://localhost:8080/"
        },
        "id": "_BB5hTF6j96l",
        "outputId": "455f95c4-d89c-4790-a312-f28d501e9155"
      },
      "outputs": [],
      "source": [
        "a + b # shapes: (4, 3) + (1, 3)"
      ]
    },
    {
      "cell_type": "markdown",
      "metadata": {
        "id": "UhmOehmltBjE"
      },
      "source": [
        "<img src=\"https://cdn.githubraw.com/antndlcrx/Intro-to-Python-DPIR/main/images/W2/broadcasting_two.png?raw=true:,  width=150\" alt=\"My Image\" width=475>\n",
        "\n",
        "[Img source: NumPy broadcasting](https://numpy.org/doc/stable/user/basics.broadcasting.html)"
      ]
    },
    {
      "cell_type": "code",
      "execution_count": null,
      "metadata": {
        "colab": {
          "base_uri": "https://localhost:8080/"
        },
        "id": "s0xkhKEmsjOG",
        "outputId": "abbff878-7e48-4d9e-dbbb-43e0bbbb4511"
      },
      "outputs": [],
      "source": [
        "a = np.array([[0, 0, 0],\n",
        "            [10, 10, 10],\n",
        "            [20, 20, 20],\n",
        "            [30, 30, 30]])\n",
        "\n",
        "b = np.array([1, 2, 3, 4]) # added one more element!\n",
        "\n",
        "print(a.shape, b.shape)"
      ]
    },
    {
      "cell_type": "code",
      "execution_count": null,
      "metadata": {
        "colab": {
          "base_uri": "https://localhost:8080/",
          "height": 141
        },
        "id": "m3ALG2tsvCxe",
        "outputId": "ea75d939-895c-48d7-e243-682b2f18168e"
      },
      "outputs": [],
      "source": [
        "a + b # shapes: (4, 3) + (1, 4) will give error bc 3 and 4 not match"
      ]
    },
    {
      "cell_type": "markdown",
      "metadata": {
        "id": "yskGjUwqu6Mp"
      },
      "source": [
        "<img src=\"https://cdn.githubraw.com/antndlcrx/Intro-to-Python-DPIR/main/images/W2/broadcasting_three.png?raw=true:,  width=150\" alt=\"My Image\" width=475>\n",
        "\n",
        "[Img source: NumPy broadcasting](https://numpy.org/doc/stable/user/basics.broadcasting.html)"
      ]
    },
    {
      "cell_type": "code",
      "execution_count": null,
      "metadata": {
        "colab": {
          "base_uri": "https://localhost:8080/"
        },
        "id": "Fwu1ZBnCvVU-",
        "outputId": "1953e679-eec9-4f68-d3ed-f12b9cf0d4b3"
      },
      "outputs": [],
      "source": [
        "a = np.array([[0], [10], [20], [30]])\n",
        "\n",
        "b = np.array([1, 2, 3])\n",
        "\n",
        "print(a.shape, b.shape)"
      ]
    },
    {
      "cell_type": "code",
      "execution_count": null,
      "metadata": {
        "colab": {
          "base_uri": "https://localhost:8080/"
        },
        "id": "g02MHHLtlDyI",
        "outputId": "535b4d2e-394c-4e88-d52c-63a008e2629c"
      },
      "outputs": [],
      "source": [
        "a"
      ]
    },
    {
      "cell_type": "code",
      "execution_count": null,
      "metadata": {
        "colab": {
          "base_uri": "https://localhost:8080/"
        },
        "id": "0TIEpIR4k1sz",
        "outputId": "f8dae8db-ac32-4ad6-edd5-2662d578bcf2"
      },
      "outputs": [],
      "source": [
        "b"
      ]
    },
    {
      "cell_type": "code",
      "execution_count": null,
      "metadata": {
        "colab": {
          "base_uri": "https://localhost:8080/"
        },
        "id": "5XS5vuVRvVp7",
        "outputId": "5468bff3-3b42-468d-8e19-419e446b19c1"
      },
      "outputs": [],
      "source": [
        "a + b # shapes (4, 1) + (1, 3) compatible!"
      ]
    },
    {
      "cell_type": "markdown",
      "metadata": {
        "id": "xjYINz7wvV_A"
      },
      "source": [
        "<img src=\"https://cdn.githubraw.com/antndlcrx/Intro-to-Python-DPIR/main/images/W2/broadcasting_four.png?raw=true:,  width=150\" alt=\"My Image\" width=475>\n",
        "\n",
        "[Img source: NumPy broadcasting](https://numpy.org/doc/stable/user/basics.broadcasting.html)"
      ]
    },
    {
      "cell_type": "markdown",
      "metadata": {
        "id": "TOJ0wj88iGDM"
      },
      "source": [
        "#### Excersises"
      ]
    },
    {
      "cell_type": "code",
      "execution_count": null,
      "metadata": {
        "colab": {
          "base_uri": "https://localhost:8080/"
        },
        "id": "0DjXRErsiLOq",
        "outputId": "4ff7054d-928e-4bb4-ac1b-731fb3d2c188"
      },
      "outputs": [],
      "source": [
        "arr_2d = np.arange(27).reshape(3, -1)\n",
        "print(arr_2d)"
      ]
    },
    {
      "cell_type": "code",
      "execution_count": null,
      "metadata": {
        "id": "jVe5Uk74iGuj"
      },
      "outputs": [],
      "source": [
        "# task 1: center each column (subtract the mean of column from every element)\n",
        "\n",
        "# task 2: normalise each row to sum to 1\n",
        "\n",
        "# task 3: replace each element with its distance from the array's overall mean"
      ]
    },
    {
      "cell_type": "markdown",
      "metadata": {
        "id": "3mQOW6lq1zXJ"
      },
      "source": [
        "#### Simple Bivariate regression"
      ]
    },
    {
      "cell_type": "code",
      "execution_count": 92,
      "metadata": {
        "colab": {
          "base_uri": "https://localhost:8080/"
        },
        "id": "7r1TmXe4OZLR",
        "outputId": "055aa9eb-2317-47b4-b8a5-06035ae74342"
      },
      "outputs": [
        {
          "name": "stdout",
          "output_type": "stream",
          "text": [
            "2.251433485493874 7.091283290110243\n"
          ]
        }
      ],
      "source": [
        "np.random.seed(42)\n",
        "x = np.random.uniform(2, 5, size=100)\n",
        "alpha = np.random.uniform(2, 10)\n",
        "beta = np.random.uniform(2, 10)\n",
        "print(alpha, beta)"
      ]
    },
    {
      "cell_type": "code",
      "execution_count": 93,
      "metadata": {
        "colab": {
          "base_uri": "https://localhost:8080/"
        },
        "id": "VHtbyS7JO4iz",
        "outputId": "b18e234b-d55c-4da6-8872-c2b44e642e38"
      },
      "outputs": [
        {
          "data": {
            "text/plain": [
              "array([24.58543188, 32.68421566, 31.56698551, 29.88399593, 22.70890529,\n",
              "       18.71606364, 16.05267491, 33.85738727, 31.05283482, 32.154932  ,\n",
              "       15.8123911 , 38.09425151, 34.33741493, 22.88856041, 18.89801093,\n",
              "       19.68039578, 22.12218756, 24.67055971, 26.2153741 , 23.15167562,\n",
              "       29.4606936 , 18.93239725, 19.81829997, 23.38663627, 25.45093541,\n",
              "       31.53316105, 20.35925871, 28.18184802, 32.80931047, 17.7713348 ,\n",
              "       29.87391882, 19.91281284, 13.98035546, 36.56742078, 37.09717139,\n",
              "       38.55820811, 22.52958573, 19.11495664, 30.92084721, 23.46038206,\n",
              "       21.31586878, 28.47218538, 18.7476402 , 33.95997087, 24.74483517,\n",
              "       27.72469755, 24.23900889, 31.87876032, 26.08355982, 19.23397054,\n",
              "       37.2601006 , 31.91710807, 33.31943264, 35.60754873, 27.02902702,\n",
              "       36.992999  , 16.4777278 , 23.70317887, 15.82965204, 22.71090565,\n",
              "       26.32969681, 19.74491   , 34.51935729, 26.63780229, 19.19559218,\n",
              "       28.34850278, 19.95176646, 35.06346394, 15.54607785, 34.78797137,\n",
              "       33.90650248, 21.25541699, 17.05246246, 34.47490049, 30.11152764,\n",
              "       32.40729651, 33.42803458, 16.58051203, 27.79149518, 19.84664688,\n",
              "       32.41292578, 31.00705806, 21.52411163, 19.36030008, 25.36698245,\n",
              "       21.7105366 , 33.88228463, 30.82286385, 36.95255107, 30.27341546,\n",
              "       18.48745387, 30.09999026, 30.83979811, 26.74290633, 32.68123669,\n",
              "       27.6212374 , 28.1079214 , 27.18381   , 17.00076654, 21.63633424])"
            ]
          },
          "execution_count": 93,
          "metadata": {},
          "output_type": "execute_result"
        }
      ],
      "source": [
        "noise = np.random.normal(0, 2, size=100)\n",
        "y = alpha + x * beta + noise\n",
        "y"
      ]
    },
    {
      "cell_type": "code",
      "execution_count": 95,
      "metadata": {
        "id": "U3e96lQxRo-X"
      },
      "outputs": [
        {
          "name": "stderr",
          "output_type": "stream",
          "text": [
            "6243.42s - pydevd: Sending message related to process being replaced timed-out after 5 seconds\n"
          ]
        },
        {
          "name": "stdout",
          "output_type": "stream",
          "text": [
            "Defaulting to user installation because normal site-packages is not writeable\n",
            "Collecting matplotlib\n",
            "  Downloading matplotlib-3.9.4-cp39-cp39-macosx_11_0_arm64.whl.metadata (11 kB)\n",
            "Collecting contourpy>=1.0.1 (from matplotlib)\n",
            "  Downloading contourpy-1.3.0-cp39-cp39-macosx_11_0_arm64.whl.metadata (5.4 kB)\n",
            "Collecting cycler>=0.10 (from matplotlib)\n",
            "  Downloading cycler-0.12.1-py3-none-any.whl.metadata (3.8 kB)\n",
            "Collecting fonttools>=4.22.0 (from matplotlib)\n",
            "  Downloading fonttools-4.55.7-cp39-cp39-macosx_10_9_universal2.whl.metadata (100 kB)\n",
            "Collecting kiwisolver>=1.3.1 (from matplotlib)\n",
            "  Downloading kiwisolver-1.4.7-cp39-cp39-macosx_11_0_arm64.whl.metadata (6.3 kB)\n",
            "Requirement already satisfied: numpy>=1.23 in /Users/edwardanders/Library/Python/3.9/lib/python/site-packages (from matplotlib) (2.0.2)\n",
            "Requirement already satisfied: packaging>=20.0 in /Users/edwardanders/Library/Python/3.9/lib/python/site-packages (from matplotlib) (24.1)\n",
            "Collecting pillow>=8 (from matplotlib)\n",
            "  Downloading pillow-11.1.0-cp39-cp39-macosx_11_0_arm64.whl.metadata (9.1 kB)\n",
            "Collecting pyparsing>=2.3.1 (from matplotlib)\n",
            "  Downloading pyparsing-3.2.1-py3-none-any.whl.metadata (5.0 kB)\n",
            "Requirement already satisfied: python-dateutil>=2.7 in /Users/edwardanders/Library/Python/3.9/lib/python/site-packages (from matplotlib) (2.9.0.post0)\n",
            "Collecting importlib-resources>=3.2.0 (from matplotlib)\n",
            "  Downloading importlib_resources-6.5.2-py3-none-any.whl.metadata (3.9 kB)\n",
            "Requirement already satisfied: zipp>=3.1.0 in /Users/edwardanders/Library/Python/3.9/lib/python/site-packages (from importlib-resources>=3.2.0->matplotlib) (3.21.0)\n",
            "Requirement already satisfied: six>=1.5 in /Library/Developer/CommandLineTools/Library/Frameworks/Python3.framework/Versions/3.9/lib/python3.9/site-packages (from python-dateutil>=2.7->matplotlib) (1.15.0)\n",
            "Downloading matplotlib-3.9.4-cp39-cp39-macosx_11_0_arm64.whl (7.8 MB)\n",
            "\u001b[2K   \u001b[90m━━━━━━━━━━━━━━━━━━━━━━━━━━━━━━━━━━━━━━━━\u001b[0m \u001b[32m7.8/7.8 MB\u001b[0m \u001b[31m25.3 MB/s\u001b[0m eta \u001b[36m0:00:00\u001b[0ma \u001b[36m0:00:01\u001b[0m\n",
            "\u001b[?25hDownloading contourpy-1.3.0-cp39-cp39-macosx_11_0_arm64.whl (249 kB)\n",
            "Downloading cycler-0.12.1-py3-none-any.whl (8.3 kB)\n",
            "Downloading fonttools-4.55.7-cp39-cp39-macosx_10_9_universal2.whl (2.8 MB)\n",
            "\u001b[2K   \u001b[90m━━━━━━━━━━━━━━━━━━━━━━━━━━━━━━━━━━━━━━━━\u001b[0m \u001b[32m2.8/2.8 MB\u001b[0m \u001b[31m20.2 MB/s\u001b[0m eta \u001b[36m0:00:00\u001b[0m\n",
            "\u001b[?25hDownloading importlib_resources-6.5.2-py3-none-any.whl (37 kB)\n",
            "Downloading kiwisolver-1.4.7-cp39-cp39-macosx_11_0_arm64.whl (64 kB)\n",
            "Downloading pillow-11.1.0-cp39-cp39-macosx_11_0_arm64.whl (3.1 MB)\n",
            "\u001b[2K   \u001b[90m━━━━━━━━━━━━━━━━━━━━━━━━━━━━━━━━━━━━━━━━\u001b[0m \u001b[32m3.1/3.1 MB\u001b[0m \u001b[31m23.9 MB/s\u001b[0m eta \u001b[36m0:00:00\u001b[0m\n",
            "\u001b[?25hDownloading pyparsing-3.2.1-py3-none-any.whl (107 kB)\n",
            "Installing collected packages: pyparsing, pillow, kiwisolver, importlib-resources, fonttools, cycler, contourpy, matplotlib\n",
            "Successfully installed contourpy-1.3.0 cycler-0.12.1 fonttools-4.55.7 importlib-resources-6.5.2 kiwisolver-1.4.7 matplotlib-3.9.4 pillow-11.1.0 pyparsing-3.2.1\n",
            "Note: you may need to restart the kernel to use updated packages.\n"
          ]
        },
        {
          "name": "stderr",
          "output_type": "stream",
          "text": [
            "Fontconfig warning: ignoring UTF-8: not a valid region tag\n",
            "Matplotlib is building the font cache; this may take a moment.\n"
          ]
        }
      ],
      "source": [
        "%pip install matplotlib\n",
        "import matplotlib.pyplot as plt"
      ]
    },
    {
      "cell_type": "code",
      "execution_count": 96,
      "metadata": {
        "colab": {
          "base_uri": "https://localhost:8080/",
          "height": 447
        },
        "id": "Bb1SilWXRujn",
        "outputId": "956a3d9f-b82e-41c8-ee9f-56a3c4f444f7"
      },
      "outputs": [
        {
          "data": {
            "text/plain": [
              "<matplotlib.collections.PathCollection at 0x10cc89e20>"
            ]
          },
          "execution_count": 96,
          "metadata": {},
          "output_type": "execute_result"
        },
        {
          "data": {
            "image/png": "[encoded data removed]",
            "text/plain": [
              "<Figure size 640x480 with 1 Axes>"
            ]
          },
          "metadata": {},
          "output_type": "display_data"
        }
      ],
      "source": [
        "plt.scatter(x, y)"
      ]
    },
    {
      "cell_type": "code",
      "execution_count": 97,
      "metadata": {
        "id": "lRQW7ZNCSbJ4"
      },
      "outputs": [],
      "source": [
        "def biv_regression(x, y_true):\n",
        "    epochs = 50\n",
        "    alpha = np.random.uniform(0, 1)\n",
        "    beta = np.random.uniform(0, 1)\n",
        "\n",
        "    learning_rate = 5e-3\n",
        "    loss_history = []\n",
        "    for i in range(epochs):\n",
        "        y_pred = alpha + beta * x\n",
        "        errors = y_true - y_pred\n",
        "        mse = (errors ** 2).sum() / len(x)\n",
        "\n",
        "        da = -2 * errors.sum() / len(x)\n",
        "        db = -2 * (errors * x).sum() / len(x)\n",
        "\n",
        "        alpha -= learning_rate * da\n",
        "        beta -= learning_rate * db\n",
        "        loss_history.append(mse)\n",
        "        if i % 10 == 0:\n",
        "            print(f\"Epoch {i}: Loss = {mse}\")\n",
        "\n",
        "    return alpha, beta, y_pred, loss_history"
      ]
    },
    {
      "cell_type": "code",
      "execution_count": 98,
      "metadata": {
        "colab": {
          "base_uri": "https://localhost:8080/"
        },
        "id": "lG3ReELQUVCW",
        "outputId": "87d35505-e333-4ffe-ad1b-510012075c8c"
      },
      "outputs": [
        {
          "name": "stdout",
          "output_type": "stream",
          "text": [
            "Epoch 0: Loss = 623.0834089348981\n",
            "Epoch 10: Loss = 38.56715685500535\n",
            "Epoch 20: Loss = 5.37513487092967\n",
            "Epoch 30: Loss = 3.4902935191354745\n",
            "Epoch 40: Loss = 3.3832439225814035\n",
            "2.3915850684914663 7.051203068219012\n"
          ]
        }
      ],
      "source": [
        "alpha_pred, beta_pred, y_pred, losses = biv_regression(x, y)\n",
        "print(alpha_pred, beta_pred)"
      ]
    },
    {
      "cell_type": "code",
      "execution_count": 99,
      "metadata": {
        "colab": {
          "base_uri": "https://localhost:8080/",
          "height": 507
        },
        "id": "w5CysihTzMsb",
        "outputId": "1154dad8-2b56-4eb6-ee3a-6c99b2a846ed"
      },
      "outputs": [
        {
          "data": {
            "image/png": "[encoded data removed]",
            "text/plain": [
              "<Figure size 1000x500 with 1 Axes>"
            ]
          },
          "metadata": {},
          "output_type": "display_data"
        }
      ],
      "source": [
        "plt.figure(figsize=(10, 5))\n",
        "plt.plot(losses)\n",
        "plt.title('Loss History during Gradient Descent')\n",
        "plt.xlabel('Iteration')\n",
        "plt.ylabel('Sum of Squares')\n",
        "plt.tight_layout()\n",
        "plt.show()"
      ]
    },
    {
      "cell_type": "markdown",
      "metadata": {
        "id": "5LspUwIa137L"
      },
      "source": [
        "#### Multivariate regression"
      ]
    },
    {
      "cell_type": "code",
      "execution_count": null,
      "metadata": {
        "colab": {
          "base_uri": "https://localhost:8080/"
        },
        "id": "_arzacML159O",
        "outputId": "03e6b098-7d71-40d8-c458-ac0df86b2570"
      },
      "outputs": [],
      "source": [
        "np.random.seed(42)\n",
        "X = np.random.uniform(2, 5, size=1000).reshape(100, 10)\n",
        "alpha = np.random.uniform(-2, 2)\n",
        "betas = np.random.uniform(-5, 5, size=X.shape[1])\n",
        "print(f\"Alpha is {alpha} \\n Betas are {betas} \\n X is of shape{X.shape}\")"
      ]
    },
    {
      "cell_type": "code",
      "execution_count": null,
      "metadata": {
        "colab": {
          "base_uri": "https://localhost:8080/"
        },
        "id": "ALMc-g0V2U3b",
        "outputId": "54d4326e-3893-443f-b982-e40be16c266a"
      },
      "outputs": [],
      "source": [
        "noise = np.random.normal(0, 2, size=X.shape[0])\n",
        "y = alpha + X @ betas + noise\n",
        "y"
      ]
    },
    {
      "cell_type": "code",
      "execution_count": null,
      "metadata": {
        "colab": {
          "base_uri": "https://localhost:8080/"
        },
        "id": "6wNdzX9f62Ba",
        "outputId": "f72aab97-c389-4fc4-b4e0-56cac56dc0cc"
      },
      "outputs": [],
      "source": [
        "len(X)"
      ]
    },
    {
      "cell_type": "code",
      "execution_count": null,
      "metadata": {
        "colab": {
          "base_uri": "https://localhost:8080/"
        },
        "id": "kzqUi9ubo2V5",
        "outputId": "4e2f716b-2160-4888-df65-315a8f7f06de"
      },
      "outputs": [],
      "source": [
        "X_b = np.hstack((np.ones((X.shape[0], 1)), X))  # [n_samples, n_features + 1]\n",
        "X_b.shape"
      ]
    },
    {
      "cell_type": "code",
      "execution_count": null,
      "metadata": {
        "id": "mbZCmmde5wmW"
      },
      "outputs": [],
      "source": [
        "def regression(X, y_true):\n",
        "    epochs = 500\n",
        "    X_b = np.hstack((np.ones((X.shape[0], 1)), X))  # [n_samples, n_features + 1]\n",
        "    betas = np.random.uniform(-1, 1, size=X_b.shape[1])\n",
        "\n",
        "    learning_rate = 0.008\n",
        "    loss_history = []\n",
        "    for i in range(epochs):\n",
        "        y_pred = X_b @ betas # ([100, 10] x [10,]) + [100,] = [100,]\n",
        "        errors = y_true - y_pred # [100,]\n",
        "        mse = (errors ** 2).mean() # [1,]\n",
        "\n",
        "        db = -2 * (X_b.T @ errors) / len(X_b) # ([10, 100] x [100,]).sum() / [100,]\n",
        "\n",
        "        betas -= learning_rate * db # [10,]\n",
        "        loss_history.append(mse)\n",
        "        if i % 10 == 0:\n",
        "            print(f\"Epoch {i}: Loss = {mse}\")\n",
        "\n",
        "    alpha = betas[0]\n",
        "    betas = betas[1:]\n",
        "\n",
        "    return alpha, betas, y_pred, loss_history"
      ]
    },
    {
      "cell_type": "code",
      "execution_count": null,
      "metadata": {
        "colab": {
          "base_uri": "https://localhost:8080/"
        },
        "id": "I6qt0Ih47fjH",
        "outputId": "8f20afe8-0fae-4c8a-8f63-da8fb6c86d8b"
      },
      "outputs": [],
      "source": [
        "alpha, betas, y_pred, losses = regression(X, y)\n",
        "print(alpha, \"\\n\", betas)"
      ]
    },
    {
      "cell_type": "code",
      "execution_count": null,
      "metadata": {
        "colab": {
          "base_uri": "https://localhost:8080/",
          "height": 507
        },
        "id": "9V6rki70oSWl",
        "outputId": "518d3a26-e6f7-4901-e054-00d86c03daed"
      },
      "outputs": [],
      "source": [
        "plt.figure(figsize=(10, 5))\n",
        "plt.plot(losses[50:])\n",
        "plt.title('Loss History during Gradient Descent')\n",
        "plt.xlabel('Iteration')\n",
        "plt.ylabel('Sum of Squares')\n",
        "plt.tight_layout()\n",
        "plt.show()"
      ]
    }
  ],
  "metadata": {
    "colab": {
      "authorship_tag": "ABX9TyMyEWue2kDtcBbDF4UPAdL9",
      "collapsed_sections": [
        "3mQOW6lq1zXJ",
        "5LspUwIa137L"
      ],
      "include_colab_link": true,
      "provenance": [],
      "toc_visible": true
    },
    "kernelspec": {
      "display_name": "Python 3",
      "name": "python3"
    },
    "language_info": {
      "codemirror_mode": {
        "name": "ipython",
        "version": 3
      },
      "file_extension": ".py",
      "mimetype": "text/x-python",
      "name": "python",
      "nbconvert_exporter": "python",
      "pygments_lexer": "ipython3",
      "version": "3.9.6"
    }
  },
  "nbformat": 4,
  "nbformat_minor": 0
}
